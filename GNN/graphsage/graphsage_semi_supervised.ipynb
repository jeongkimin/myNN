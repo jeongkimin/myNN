{
  "nbformat": 4,
  "nbformat_minor": 0,
  "metadata": {
    "colab": {
      "name": "ssaaggee.ipynb",
      "provenance": [],
      "collapsed_sections": []
    },
    "kernelspec": {
      "name": "python3",
      "display_name": "Python 3"
    }
  },
  "cells": [
    {
      "cell_type": "code",
      "metadata": {
        "colab": {
          "base_uri": "https://localhost:8080/"
        },
        "id": "QVXHvvNoiKp-",
        "outputId": "3745c316-8543-421c-9566-41206c943144"
      },
      "source": [
        "import torch\r\n",
        "import torch.nn as nn\r\n",
        "import torch.nn.functional as F\r\n",
        "import torch.optim as optim\r\n",
        "import torch.nn.init as init\r\n",
        "import numpy as np\r\n",
        "import matplotlib.pyplot as plt\r\n",
        "from torchvision import transforms\r\n",
        "from torch.utils.data import DataLoader\r\n",
        "from google.colab import drive\r\n",
        "import networkx as nx\r\n",
        "import copy\r\n",
        "import random\r\n",
        "\r\n",
        "\r\n",
        "device = 'cuda' if torch.cuda.is_available() else 'cpu'\r\n",
        "if device == 'cuda':\r\n",
        "    gpu_info = !nvidia-smi\r\n",
        "    gpu_info = '\\n'.join(gpu_info)\r\n",
        "    if gpu_info.find('failed') >= 0:\r\n",
        "        print('Select the Runtime > \"Change runtime type\" menu to enable a GPU accelerator, ')\r\n",
        "        print('and then re-execute this cell.')\r\n",
        "    else:\r\n",
        "        print(gpu_info)\r\n",
        "print('device :',device)\r\n",
        "print('torch.version :',torch.__version__)"
      ],
      "execution_count": 192,
      "outputs": [
        {
          "output_type": "stream",
          "text": [
            "device : cpu\n",
            "torch.version : 1.7.0+cu101\n"
          ],
          "name": "stdout"
        }
      ]
    },
    {
      "cell_type": "code",
      "metadata": {
        "colab": {
          "base_uri": "https://localhost:8080/"
        },
        "id": "TtR9jKjoi0ZB",
        "outputId": "2a4ea435-9b94-4409-e4f7-077d042c7a96"
      },
      "source": [
        "drive.mount('/content/drive')\r\n",
        "folder_dir = '/content/drive/My Drive/cora'"
      ],
      "execution_count": 193,
      "outputs": [
        {
          "output_type": "stream",
          "text": [
            "Drive already mounted at /content/drive; to attempt to forcibly remount, call drive.mount(\"/content/drive\", force_remount=True).\n"
          ],
          "name": "stdout"
        }
      ]
    },
    {
      "cell_type": "code",
      "metadata": {
        "id": "PaFx5Gb-i230"
      },
      "source": [
        "class Cora(object):\r\n",
        "    \r\n",
        "    def __init__(self, base_dir):\r\n",
        "        data = np.genfromtxt(base_dir + '/cora/cora.content', dtype=np.str)\r\n",
        "        \r\n",
        "\r\n",
        "        self.category_list = list(set(data[:, -1]))\r\n",
        "        self.cat2lab = {category:label for label, category in enumerate(self.category_list)}\r\n",
        "        self.lab2cat = {label:category for label, category in enumerate(self.category_list)}\r\n",
        "        \r\n",
        "        self.paper_list = np.array(data[:, 0], dtype=np.int)\r\n",
        "        self.paper2node = {paper_id:node_id for node_id, paper_id in enumerate(self.paper_list)}\r\n",
        "        self.node2paper = {node_id:paper_id for node_id, paper_id in enumerate(self.paper_list)}\r\n",
        "\r\n",
        "\r\n",
        "        self.node_feature = np.array(data[:, 1:-1], dtype=int)\r\n",
        "        self.node_label = [self.cat2lab[category] for category in data[:, -1]]\r\n",
        "        \r\n",
        "        self.edge = np.genfromtxt(base_dir + '/cora/cora.cites',   dtype=np.int)\r\n",
        "        \r\n",
        "        self.node_connection_list = [[] for _ in range(data.shape[0])]\r\n",
        "\r\n",
        "        for i, (cited, citing) in enumerate(self.edge):\r\n",
        "            cited_node = self.paper2node[cited]\r\n",
        "            citing_node = self.paper2node[citing]\r\n",
        "            self.node_connection_list[cited_node].append(citing_node)\r\n",
        "            \r\n",
        "\r\n",
        "    def get_data(self):\r\n",
        "        node_feature = np.copy(self.node_feature)\r\n",
        "        node_label = np.copy(self.node_label)\r\n",
        "        node_connection_list = [node_list for node_list in self.node_connection_list]\r\n",
        "        return node_feature, node_label, node_connection_list\r\n",
        "\r\n",
        "\r\n",
        "\r\n",
        "def to_undirected_connection_list(src):\r\n",
        "    tar = copy.deepcopy(src)\r\n",
        "    for i, node_list in enumerate(src):\r\n",
        "        for node in node_list:\r\n",
        "            tar[node].append(i)\r\n",
        "        tar[i].append(i) # self loof\r\n",
        "       \r\n",
        "    for i in range(len(src)):\r\n",
        "        tar[i] = sorted(list(set(tar[i])))\r\n",
        "        \r\n",
        "    return tar\r\n",
        "\r\n",
        "cora = Cora(base_dir='/content/drive/My Drive')\r\n",
        "node_feature, node_label, node_connection_list = cora.get_data()\r\n",
        "undirected_connection_list = to_undirected_connection_list(node_connection_list)"
      ],
      "execution_count": 194,
      "outputs": []
    },
    {
      "cell_type": "code",
      "metadata": {
        "id": "0XEL5orRoeGv"
      },
      "source": [
        "def choice(neighbor_list, num_samples):\r\n",
        "    neighbor_list = copy.deepcopy(neighbor_list)\r\n",
        "    if len(neighbor_list) < num_samples:\r\n",
        "        return neighbor_list\r\n",
        "        \r\n",
        "    choiced = []\r\n",
        "    for _ in range(num_samples):\r\n",
        "        if len(neighbor_list) == 0:\r\n",
        "            break\r\n",
        "        v = random.choice(neighbor_list)\r\n",
        "        choiced.append(v)\r\n",
        "        neighbor_list.remove(v)\r\n",
        "    return choiced\r\n",
        "\r\n",
        "\r\n",
        "def sample(target_nodes, edges, num_samples):\r\n",
        "\r\n",
        "    layer_nodes = [copy.deepcopy(target_nodes)]\r\n",
        "    next_mapping_list = []\r\n",
        "\r\n",
        "    for k, n_k in enumerate(num_samples):    \r\n",
        "\r\n",
        "        src_nodes = layer_nodes[-1]\r\n",
        "        \r\n",
        "        tar_nodes = copy.deepcopy(src_nodes)\r\n",
        "        \r\n",
        "        for u in src_nodes:\r\n",
        "            tar_nodes += choice(edges[u], n_k)\r\n",
        "\r\n",
        "        tar_nodes = list(set(tar_nodes))\r\n",
        "\r\n",
        "        src2tar_map = [[] for _ in src_nodes]\r\n",
        "\r\n",
        "        for src_idx, u in enumerate(src_nodes):\r\n",
        "            for tar_idx, v in enumerate(tar_nodes):\r\n",
        "                if u in edges[v]:\r\n",
        "                    src2tar_map[src_idx].append(tar_idx)\r\n",
        "        \r\n",
        "        layer_nodes.append(tar_nodes)\r\n",
        "        next_mapping_list.append(src2tar_map)\r\n",
        "\r\n",
        "\r\n",
        "    first_layer_nodes = layer_nodes.pop()\r\n",
        "    \r\n",
        "    layer_nodes.reverse()\r\n",
        "    next_mapping_list.reverse()\r\n",
        "        \r\n",
        "    return first_layer_nodes, layer_nodes, next_mapping_list\r\n"
      ],
      "execution_count": 195,
      "outputs": []
    },
    {
      "cell_type": "code",
      "metadata": {
        "colab": {
          "base_uri": "https://localhost:8080/"
        },
        "id": "UzaZVdOEomyR",
        "outputId": "df2a0806-795f-46da-9aad-b2dcb871d54a"
      },
      "source": [
        "B0, Bn, ptrs = sample([4, 3], undirected_connection_list, [25, 25])\r\n",
        "print(B0)\r\n",
        "print(Bn)\r\n",
        "print(ptrs[0])\r\n",
        "print(ptrs[1])"
      ],
      "execution_count": 196,
      "outputs": [
        {
          "output_type": "stream",
          "text": [
            "[3, 4, 197, 483, 295, 552, 611, 170, 749, 333, 463, 1741, 633, 564, 565, 601, 250, 477]\n",
            "[[3, 4, 197, 170, 463, 601], [4, 3]]\n",
            "[[0, 2, 10, 15], [1, 7], [0, 2, 4, 8, 12], [1, 7, 16], [0, 3, 9, 10, 13, 17], [0, 5, 6, 11, 14, 15]]\n",
            "[[1, 3], [0, 2, 4, 5]]\n"
          ],
          "name": "stdout"
        }
      ]
    },
    {
      "cell_type": "code",
      "metadata": {
        "id": "cLK45F1Fbdxe"
      },
      "source": [
        "class GraphSAGE(nn.Module):\r\n",
        "\r\n",
        "    def __init__(self):\r\n",
        "        super().__init__()\r\n",
        "\r\n",
        "        self.net = nn.ModuleList([\r\n",
        "            nn.Sequential(nn.Linear(in_features=2866, out_features=16, bias=False),\r\n",
        "                          nn.ReLU(),\r\n",
        "                          nn.BatchNorm1d(16),\r\n",
        "                          nn.Dropout(0.5)),\r\n",
        "            nn.Linear(in_features=32, out_features=7, bias=False)\r\n",
        "        ])\r\n",
        "\r\n",
        "\r\n",
        "    def forward(self, feature, B, ptrs):\r\n",
        "        # B는 len(B[k]) 때문에 필요 \r\n",
        "        x = feature\r\n",
        "        for k in range(len(ptrs)):\r\n",
        "\r\n",
        "            next_x = []\r\n",
        "\r\n",
        "            for i in range(len(B[k])):\r\n",
        "                h_u = x[i]\r\n",
        "                h_nu = self.aggregate(x[ptrs[k][i], :])\r\n",
        "                next_x.append(torch.cat([h_u, h_nu], dim=0))\r\n",
        "    \r\n",
        "            x = torch.stack(next_x, dim=0)\r\n",
        "            x = self.net[k](x)\r\n",
        "            if k < len(ptrs) - 1:\r\n",
        "                x = x / (x.norm(dim=1, keepdim=True) + 1e-6)\r\n",
        "\r\n",
        "        return x\r\n",
        "\r\n",
        "\r\n",
        "    def aggregate(self, x):\r\n",
        "        return x.mean(dim=0)\r\n",
        "\r\n",
        "\r\n",
        "\r\n",
        "X = torch.Tensor(node_feature.astype(np.float))\r\n",
        "X = X / X.norm(dim=1, keepdim=True)\r\n",
        "Y = torch.LongTensor(node_label)\r\n",
        "model = GraphSAGE()\r\n",
        "solver = optim.Adam(model.parameters(),  lr=1e-3)\r\n"
      ],
      "execution_count": 197,
      "outputs": []
    },
    {
      "cell_type": "code",
      "metadata": {
        "colab": {
          "base_uri": "https://localhost:8080/"
        },
        "id": "9a-8j_m0yiQ_",
        "outputId": "eae3d948-a70e-4537-addd-501aaff24068"
      },
      "source": [
        "batch_size = 16\r\n",
        "\r\n",
        "idx_train = np.arange(0, 140)\r\n",
        "\r\n",
        "for epoch in range(10000):\r\n",
        "    batch_index = np.random.choice(idx_train, batch_size, replace=False).tolist()\r\n",
        "\r\n",
        "\r\n",
        "    first_layer_nodes, layer_nodes, next_mapping_list = sample(batch_index, undirected_connection_list, [10, 25])\r\n",
        "\r\n",
        "\r\n",
        "    solver.zero_grad()\r\n",
        "    pred = model(X[first_layer_nodes], layer_nodes, next_mapping_list)\r\n",
        "\r\n",
        "    loss = F.cross_entropy(pred, Y[batch_index], reduction='mean')\r\n",
        "\r\n",
        "    loss.backward()\r\n",
        "\r\n",
        "    solver.step()\r\n",
        "    if epoch % 1000 == 999:\r\n",
        "        print(loss.item())"
      ],
      "execution_count": 198,
      "outputs": [
        {
          "output_type": "stream",
          "text": [
            "0.5760753154754639\n",
            "0.22811304032802582\n",
            "0.11270955950021744\n",
            "0.07461027055978775\n",
            "0.059563785791397095\n",
            "0.05269928649067879\n",
            "0.03213858604431152\n",
            "0.017506344243884087\n",
            "0.006018992979079485\n",
            "0.005394180305302143\n"
          ],
          "name": "stdout"
        }
      ]
    },
    {
      "cell_type": "code",
      "metadata": {
        "colab": {
          "base_uri": "https://localhost:8080/"
        },
        "id": "rqRVKuxmA_G2",
        "outputId": "02ecaa8d-b028-42be-89bb-538d06931e16"
      },
      "source": [
        "\r\n",
        "model.eval()\r\n",
        "\r\n",
        "acc = 0.0\r\n",
        "for i in range(140):\r\n",
        "    first_layer_nodes, layer_nodes, next_mapping_list = sample([i], undirected_connection_list, [25, 25])\r\n",
        "    pred = model(X[first_layer_nodes], layer_nodes, next_mapping_list)\r\n",
        "    acc += (torch.argmax(pred, dim=1) == Y[i]).item()\r\n",
        "print('train accuracy : ', acc/140)\r\n",
        "\r\n",
        "acc = 0.0\r\n",
        "for i in range(140, 2708):\r\n",
        "    first_layer_nodes, layer_nodes, next_mapping_list = sample([i], undirected_connection_list, [25, 25])\r\n",
        "    pred = model(X[first_layer_nodes], layer_nodes, next_mapping_list)\r\n",
        "    acc += (torch.argmax(pred, dim=1) == Y[i]).item()\r\n",
        "print('test accuracy : ', acc/(2708 - 140))\r\n",
        "\r\n",
        "\r\n",
        "\r\n"
      ],
      "execution_count": 199,
      "outputs": [
        {
          "output_type": "stream",
          "text": [
            "train accuracy :  1.0\n",
            "test accuracy :  0.7348130841121495\n"
          ],
          "name": "stdout"
        }
      ]
    }
  ]
}