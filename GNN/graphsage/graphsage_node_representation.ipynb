{
  "nbformat": 4,
  "nbformat_minor": 0,
  "metadata": {
    "colab": {
      "name": "graphsage_unsup.ipynb",
      "provenance": [],
      "collapsed_sections": []
    },
    "kernelspec": {
      "name": "python3",
      "display_name": "Python 3"
    }
  },
  "cells": [
    {
      "cell_type": "code",
      "metadata": {
        "colab": {
          "base_uri": "https://localhost:8080/"
        },
        "id": "zMDSEdX1Wx73",
        "outputId": "f2d01e83-59b2-4423-c9d1-84dba52926df"
      },
      "source": [
        "import torch\r\n",
        "import torch.nn as nn\r\n",
        "import torch.nn.functional as F\r\n",
        "import torch.optim as optim\r\n",
        "import torch.nn.init as init\r\n",
        "import numpy as np\r\n",
        "import matplotlib.pyplot as plt\r\n",
        "from torchvision import transforms\r\n",
        "from torch.utils.data import DataLoader\r\n",
        "from google.colab import drive\r\n",
        "import networkx as nx\r\n",
        "import copy\r\n",
        "import random\r\n",
        "\r\n",
        "\r\n",
        "device = 'cuda' if torch.cuda.is_available() else 'cpu'\r\n",
        "if device == 'cuda':\r\n",
        "    gpu_info = !nvidia-smi\r\n",
        "    gpu_info = '\\n'.join(gpu_info)\r\n",
        "    if gpu_info.find('failed') >= 0:\r\n",
        "        print('Select the Runtime > \"Change runtime type\" menu to enable a GPU accelerator, ')\r\n",
        "        print('and then re-execute this cell.')\r\n",
        "    else:\r\n",
        "        print(gpu_info)\r\n",
        "print('device :',device)\r\n",
        "print('torch.version :',torch.__version__)"
      ],
      "execution_count": 119,
      "outputs": [
        {
          "output_type": "stream",
          "text": [
            "device : cpu\n",
            "torch.version : 1.7.0+cu101\n"
          ],
          "name": "stdout"
        }
      ]
    },
    {
      "cell_type": "code",
      "metadata": {
        "colab": {
          "base_uri": "https://localhost:8080/"
        },
        "id": "HtyKLcvxW2h2",
        "outputId": "3d69fe6a-93ad-4c97-948b-26a35dfd4675"
      },
      "source": [
        "drive.mount('/content/drive')\r\n",
        "folder_dir = '/content/drive/My Drive/cora'"
      ],
      "execution_count": 120,
      "outputs": [
        {
          "output_type": "stream",
          "text": [
            "Drive already mounted at /content/drive; to attempt to forcibly remount, call drive.mount(\"/content/drive\", force_remount=True).\n"
          ],
          "name": "stdout"
        }
      ]
    },
    {
      "cell_type": "code",
      "metadata": {
        "id": "cvDK9YGFW5RH"
      },
      "source": [
        "class Cora(object):\r\n",
        "    \r\n",
        "    def __init__(self, base_dir):\r\n",
        "        data = np.genfromtxt(base_dir + '/cora/cora.content', dtype=np.str)\r\n",
        "        \r\n",
        "\r\n",
        "        self.category_list = list(set(data[:, -1]))\r\n",
        "        self.cat2lab = {category:label for label, category in enumerate(self.category_list)}\r\n",
        "        self.lab2cat = {label:category for label, category in enumerate(self.category_list)}\r\n",
        "        \r\n",
        "        self.paper_list = np.array(data[:, 0], dtype=np.int)\r\n",
        "        self.paper2node = {paper_id:node_id for node_id, paper_id in enumerate(self.paper_list)}\r\n",
        "        self.node2paper = {node_id:paper_id for node_id, paper_id in enumerate(self.paper_list)}\r\n",
        "\r\n",
        "\r\n",
        "        self.node_feature = np.array(data[:, 1:-1], dtype=int)\r\n",
        "        self.node_label = [self.cat2lab[category] for category in data[:, -1]]\r\n",
        "        \r\n",
        "        self.edge = np.genfromtxt(base_dir + '/cora/cora.cites',   dtype=np.int)\r\n",
        "        \r\n",
        "        self.node_connection_list = [[] for _ in range(data.shape[0])]\r\n",
        "\r\n",
        "        for i, (cited, citing) in enumerate(self.edge):\r\n",
        "            cited_node = self.paper2node[cited]\r\n",
        "            citing_node = self.paper2node[citing]\r\n",
        "            self.node_connection_list[cited_node].append(citing_node)\r\n",
        "            \r\n",
        "\r\n",
        "    def get_data(self):\r\n",
        "        node_feature = np.copy(self.node_feature)\r\n",
        "        node_label = np.copy(self.node_label)\r\n",
        "        node_connection_list = [node_list for node_list in self.node_connection_list]\r\n",
        "        return node_feature, node_label, node_connection_list\r\n",
        "\r\n",
        "\r\n",
        "\r\n",
        "def to_undirected_connection_list(src):\r\n",
        "    tar = copy.deepcopy(src)\r\n",
        "    for i, node_list in enumerate(src):\r\n",
        "        for node in node_list:\r\n",
        "            tar[node].append(i)\r\n",
        "        tar[i].append(i) # self loof\r\n",
        "       \r\n",
        "    for i in range(len(src)):\r\n",
        "        tar[i] = sorted(list(set(tar[i])))\r\n",
        "        \r\n",
        "    return tar\r\n",
        "\r\n",
        "cora = Cora(base_dir='/content/drive/My Drive')\r\n",
        "node_feature, node_label, node_connection_list = cora.get_data()\r\n",
        "undirected_connection_list = to_undirected_connection_list(node_connection_list)"
      ],
      "execution_count": 121,
      "outputs": []
    },
    {
      "cell_type": "code",
      "metadata": {
        "id": "I-CAdxVNW8qP"
      },
      "source": [
        "def choice(neighbor_list, num_samples):\r\n",
        "    neighbor_list = copy.deepcopy(neighbor_list)\r\n",
        "    if len(neighbor_list) < num_samples:\r\n",
        "        return neighbor_list\r\n",
        "        \r\n",
        "    choiced = []\r\n",
        "    for _ in range(num_samples):\r\n",
        "        if len(neighbor_list) == 0:\r\n",
        "            break\r\n",
        "        v = random.choice(neighbor_list)\r\n",
        "        choiced.append(v)\r\n",
        "        neighbor_list.remove(v)\r\n",
        "    return choiced\r\n",
        "\r\n",
        "\r\n",
        "def sample(target_nodes, edges, num_samples):\r\n",
        "\r\n",
        "    layer_nodes = [copy.deepcopy(target_nodes)]\r\n",
        "    next_mapping_list = []\r\n",
        "\r\n",
        "    for k, n_k in enumerate(num_samples):    \r\n",
        "\r\n",
        "        src_nodes = layer_nodes[-1]\r\n",
        "        \r\n",
        "        tar_nodes = copy.deepcopy(src_nodes)\r\n",
        "        \r\n",
        "        for u in src_nodes:\r\n",
        "            tar_nodes += choice(edges[u], n_k)\r\n",
        "\r\n",
        "        tar_nodes = list(set(tar_nodes))\r\n",
        "\r\n",
        "        src2tar_map = [[] for _ in src_nodes]\r\n",
        "\r\n",
        "        for src_idx, u in enumerate(src_nodes):\r\n",
        "            for tar_idx, v in enumerate(tar_nodes):\r\n",
        "                if u in edges[v]:\r\n",
        "                    src2tar_map[src_idx].append(tar_idx)\r\n",
        "        \r\n",
        "        layer_nodes.append(tar_nodes)\r\n",
        "        next_mapping_list.append(src2tar_map)\r\n",
        "\r\n",
        "\r\n",
        "    first_layer_nodes = layer_nodes.pop()\r\n",
        "    \r\n",
        "    layer_nodes.reverse()\r\n",
        "    next_mapping_list.reverse()\r\n",
        "        \r\n",
        "    return first_layer_nodes, layer_nodes, next_mapping_list\r\n"
      ],
      "execution_count": 122,
      "outputs": []
    },
    {
      "cell_type": "code",
      "metadata": {
        "id": "4c-fBThgW9Y6"
      },
      "source": [
        "\r\n",
        "def generate_pos_neg_pairs(edges, num_walks, walk_length, window_size, Q):\r\n",
        "\r\n",
        "\r\n",
        "\r\n",
        "    num_nodes = len(edges)\r\n",
        "\r\n",
        "    pos_pair = []\r\n",
        "    \r\n",
        "    for _ in range(num_walks):\r\n",
        "\r\n",
        "        walk = np.random.randint(0, num_nodes, size=(1)).tolist()\r\n",
        "        for t in range(walk_length):\r\n",
        "            curr_node = walk[-1]\r\n",
        "            curr_node_neigbhors = copy.deepcopy(edges[curr_node])\r\n",
        "\r\n",
        "            if curr_node in curr_node_neigbhors:\r\n",
        "                curr_node_neigbhors.remove(curr_node)\r\n",
        "\r\n",
        "\r\n",
        "            selected_next_node = np.random.choice(curr_node_neigbhors, 1)[0]\r\n",
        "            walk.append(selected_next_node)\r\n",
        "\r\n",
        "\r\n",
        "\r\n",
        "        for t in range(walk_length):\r\n",
        "            for k in range(t - window_size, t + window_size + 1):\r\n",
        "                if k >= 0 and k < walk_length:\r\n",
        "                    if k != t:\r\n",
        "                        pos_pair.append([walk[t], walk[k]])\r\n",
        "\r\n",
        "    \r\n",
        "    neg_pair = np.random.randint(0, num_nodes, size=(Q * len(pos_pair), 2)).tolist()\r\n",
        "\r\n",
        "\r\n",
        "    pair = pos_pair + neg_pair\r\n",
        "\r\n",
        "    label = [1 for _ in pos_pair] + [0 for _ in neg_pair]\r\n",
        "\r\n",
        "\r\n",
        "    return pair, label\r\n",
        "\r\n",
        "\r\n",
        "pair, label = generate_pos_neg_pairs(undirected_connection_list, 4, 20, 2, 8)\r\n",
        "\r\n"
      ],
      "execution_count": 123,
      "outputs": []
    },
    {
      "cell_type": "code",
      "metadata": {
        "id": "CWTpcwu8iZi2"
      },
      "source": [
        "class GraphSAGE(nn.Module):\r\n",
        "\r\n",
        "    def __init__(self):\r\n",
        "        super().__init__()\r\n",
        "\r\n",
        "        self.net = nn.ModuleList([\r\n",
        "            nn.Sequential(nn.Linear(in_features=2866, out_features=16, bias=False),\r\n",
        "                          nn.ReLU(),\r\n",
        "                          nn.BatchNorm1d(16),\r\n",
        "                          nn.Dropout(0.5)),\r\n",
        "            nn.Linear(in_features=32, out_features=2, bias=False)\r\n",
        "        ])\r\n",
        "\r\n",
        "\r\n",
        "    def forward(self, feature, B, ptrs):\r\n",
        "        x = feature\r\n",
        "        for k in range(len(ptrs)):\r\n",
        "\r\n",
        "            next_x = []\r\n",
        "\r\n",
        "            for i in range(len(B[k])):\r\n",
        "                h_u = x[i]\r\n",
        "                h_nu = self.aggregate(x[ptrs[k][i], :])\r\n",
        "                next_x.append(torch.cat([h_u, h_nu], dim=0))\r\n",
        "    \r\n",
        "            x = torch.stack(next_x, dim=0)\r\n",
        "            x = self.net[k](x)\r\n",
        "            if k < len(ptrs) - 1:\r\n",
        "                x = x / (x.norm(dim=1, keepdim=True) + 1e-6)\r\n",
        "\r\n",
        "        return x\r\n",
        "\r\n",
        "\r\n",
        "    def aggregate(self, x):\r\n",
        "        return x.mean(dim=0)\r\n",
        "\r\n",
        "\r\n",
        "X = torch.Tensor(node_feature.astype(np.float))\r\n",
        "model = GraphSAGE()\r\n",
        "solver = optim.Adam(model.parameters(),  lr=1e-3)"
      ],
      "execution_count": 124,
      "outputs": []
    },
    {
      "cell_type": "code",
      "metadata": {
        "colab": {
          "base_uri": "https://localhost:8080/"
        },
        "id": "M9HeaNr0oYDZ",
        "outputId": "ca432e38-959d-4113-cc4c-8786fb762419"
      },
      "source": [
        "LOSS = 0.0\r\n",
        "for epoch in range(100):\r\n",
        "\r\n",
        "\r\n",
        "    pair, label = generate_pos_neg_pairs(undirected_connection_list, 4, 30, 2, 7)\r\n",
        "    \r\n",
        "    order = [i for i in range(len(pair))]\r\n",
        "    random.shuffle(order)\r\n",
        "    for i in order:\r\n",
        "\r\n",
        "\r\n",
        "        solver.zero_grad()\r\n",
        "\r\n",
        "\r\n",
        "        first_layer_nodes, layer_nodes, next_mapping_list = sample(pair[i], undirected_connection_list, [25, 25])\r\n",
        "        pred = model(X[first_layer_nodes], layer_nodes, next_mapping_list)\r\n",
        "        \r\n",
        "        inner_product = (pred[0] * pred[1]).sum()\r\n",
        "\r\n",
        "        loss = 0.0\r\n",
        "\r\n",
        "        if label[i] == 1:\r\n",
        "            loss = torch.log(1.0 + torch.exp(-inner_product))\r\n",
        "        else :\r\n",
        "            loss = torch.log(1.0 + torch.exp(inner_product))\r\n",
        "\r\n",
        "\r\n",
        "\r\n",
        "        loss.backward()\r\n",
        "        solver.step()\r\n",
        "        LOSS += loss.item()\r\n",
        "    LOSS /= len(pair)\r\n",
        "    if epoch % 10 == 9:\r\n",
        "        print(LOSS)\r\n",
        "\r\n"
      ],
      "execution_count": 125,
      "outputs": [
        {
          "output_type": "stream",
          "text": [
            "0.22812751932385888\n",
            "0.15733497990366221\n",
            "0.1473321903391196\n",
            "0.16316056587817102\n",
            "0.1548859539831284\n",
            "0.14233345193654212\n",
            "0.1648185493042448\n",
            "0.1360895664575642\n",
            "0.13808778175937075\n",
            "0.15960880040796954\n"
          ],
          "name": "stdout"
        }
      ]
    },
    {
      "cell_type": "code",
      "metadata": {
        "colab": {
          "base_uri": "https://localhost:8080/",
          "height": 591
        },
        "id": "YMtjFw2KsjxD",
        "outputId": "d5e88913-7c5d-4281-f77b-842c288b37ab"
      },
      "source": [
        "model.eval()\r\n",
        "labels = np.array(cora.node_label)\r\n",
        "representation = []\r\n",
        "for i in range(len(labels)):\r\n",
        "    first_layer_nodes, layer_nodes, next_mapping_list = sample([i], undirected_connection_list, [10, 25])\r\n",
        "    z = model(X[first_layer_nodes], layer_nodes, next_mapping_list)\r\n",
        "    representation.append(z)\r\n",
        "    \r\n",
        "representation = torch.cat(representation, dim=0).detach().numpy()\r\n",
        "\r\n",
        "plt.figure(figsize=(10, 10))\r\n",
        "\r\n",
        "for i in range(7):\r\n",
        "    node_list = labels == i\r\n",
        "    plt.scatter(representation[node_list, 0], representation[node_list, 1], s=2)\r\n",
        "\r\n",
        "plt.show()\r\n"
      ],
      "execution_count": 126,
      "outputs": [
        {
          "output_type": "display_data",
          "data": {
            "image/png": "[encoded data removed]",
            "text/plain": [
              "<Figure size 720x720 with 1 Axes>"
            ]
          },
          "metadata": {
            "tags": [],
            "needs_background": "light"
          }
        }
      ]
    }
  ]
}