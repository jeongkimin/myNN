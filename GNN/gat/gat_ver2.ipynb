{
  "nbformat": 4,
  "nbformat_minor": 0,
  "metadata": {
    "colab": {
      "name": "gat.ipynb",
      "provenance": [],
      "collapsed_sections": []
    },
    "kernelspec": {
      "name": "python3",
      "display_name": "Python 3"
    }
  },
  "cells": [
    {
      "cell_type": "code",
      "metadata": {
        "colab": {
          "base_uri": "https://localhost:8080/"
        },
        "id": "UQTD04FqQQze",
        "outputId": "01dbed5a-90d3-4afa-9a59-b599c25da42f"
      },
      "source": [
        "import torch\r\n",
        "import torch.nn as nn\r\n",
        "import torch.nn.functional as F\r\n",
        "import torch.optim as optim\r\n",
        "import torch.nn.init as init\r\n",
        "import numpy as np\r\n",
        "import matplotlib.pyplot as plt\r\n",
        "from torchvision import transforms\r\n",
        "from torch.utils.data import DataLoader\r\n",
        "from google.colab import drive\r\n",
        "import networkx as nx\r\n",
        "\r\n",
        "\r\n",
        "\r\n",
        "device = 'cuda' if torch.cuda.is_available() else 'cpu'\r\n",
        "if device == 'cuda':\r\n",
        "    gpu_info = !nvidia-smi\r\n",
        "    gpu_info = '\\n'.join(gpu_info)\r\n",
        "    if gpu_info.find('failed') >= 0:\r\n",
        "        print('Select the Runtime > \"Change runtime type\" menu to enable a GPU accelerator, ')\r\n",
        "        print('and then re-execute this cell.')\r\n",
        "    else:\r\n",
        "        print(gpu_info)\r\n",
        "print('device :',device)\r\n",
        "print('torch.version :',torch.__version__)"
      ],
      "execution_count": 1,
      "outputs": [
        {
          "output_type": "stream",
          "text": [
            "device : cpu\n",
            "torch.version : 1.7.0+cu101\n"
          ],
          "name": "stdout"
        }
      ]
    },
    {
      "cell_type": "code",
      "metadata": {
        "colab": {
          "base_uri": "https://localhost:8080/"
        },
        "id": "Xv-nUJj-b63n",
        "outputId": "8c68497a-df0d-4262-ee48-eb5d98ac6674"
      },
      "source": [
        "drive.mount('/content/drive')\r\n",
        "folder_dir = '/content/drive/My Drive/cora'"
      ],
      "execution_count": 2,
      "outputs": [
        {
          "output_type": "stream",
          "text": [
            "Mounted at /content/drive\n"
          ],
          "name": "stdout"
        }
      ]
    },
    {
      "cell_type": "code",
      "metadata": {
        "id": "4vC8XNYvb8wi"
      },
      "source": [
        "class Cora(object):\r\n",
        "    \r\n",
        "    def __init__(self, base_dir):\r\n",
        "        data = np.genfromtxt(base_dir + '/cora/cora.content', dtype=np.str)\r\n",
        "        \r\n",
        "\r\n",
        "        self.category_list = list(set(data[:, -1]))\r\n",
        "        self.cat2lab = {category:label for label, category in enumerate(self.category_list)}\r\n",
        "        self.lab2cat = {label:category for label, category in enumerate(self.category_list)}\r\n",
        "        \r\n",
        "        self.paper_list = np.array(data[:, 0], dtype=np.int)\r\n",
        "        self.paper2node = {paper_id:node_id for node_id, paper_id in enumerate(self.paper_list)}\r\n",
        "        self.node2paper = {node_id:paper_id for node_id, paper_id in enumerate(self.paper_list)}\r\n",
        "\r\n",
        "\r\n",
        "        self.node_feature = np.array(data[:, 1:-1], dtype=int)\r\n",
        "        self.node_label = [self.cat2lab[category] for category in data[:, -1]]\r\n",
        "        \r\n",
        "        edge = np.genfromtxt(base_dir + '/cora/cora.cites',   dtype=np.int)\r\n",
        "        \r\n",
        "        node_connection = np.empty_like(edge)\r\n",
        "        self.node_adj = np.zeros((data.shape[0], data.shape[0]), dtype=np.bool)\r\n",
        "\r\n",
        "        for i, (cited, citing) in enumerate(edge):\r\n",
        "            node_connection[i] = (self.paper2node[cited], self.paper2node[citing])\r\n",
        "            self.node_adj[node_connection[i][0]][node_connection[i][1]] = True\r\n",
        "            self.node_adj[node_connection[i][1]][node_connection[i][0]] = True\r\n",
        "            self.node_adj[node_connection[i][0]][node_connection[i][0]] = True # A + I\r\n",
        "            self.node_adj[node_connection[i][1]][node_connection[i][1]] = True\r\n",
        "\r\n",
        "\r\n",
        "\r\n",
        "    def get_dataset(self):\r\n",
        "\r\n",
        "        node_x = np.array(self.node_feature, dtype=np.int32)\r\n",
        "        node_y = np.array(self.node_label, dtype=np.int32)\r\n",
        "        adjmat = np.array(self.node_adj, dtype=np.bool)\r\n",
        "        return node_x, node_y, adjmat\r\n",
        "        \r\n",
        "\r\n",
        "cora = Cora(base_dir='/content/drive/My Drive')\r\n",
        "\r\n",
        "\r\n",
        "\r\n",
        "node_x, node_y, adjmat = cora.get_dataset()\r\n"
      ],
      "execution_count": 7,
      "outputs": []
    },
    {
      "cell_type": "code",
      "metadata": {
        "id": "x74wwdE564pV"
      },
      "source": [
        "def xavier_weight(*size):\r\n",
        "    return torch.nn.init.xavier_uniform_(torch.empty(*size))\r\n",
        "\r\n",
        "\r\n",
        "\r\n",
        "\r\n",
        "\r\n",
        "class GraphAttentionLayer(nn.Module):\r\n",
        "    def __init__(self, n_in, n_head, n_feature):\r\n",
        "        super().__init__()\r\n",
        "\r\n",
        "        self.n_head = n_head\r\n",
        "        self.n_feature = n_feature\r\n",
        "        self.weight = nn.Parameter(xavier_weight(n_in, n_head * n_feature))\r\n",
        "        self.a_proj = nn.Parameter(xavier_weight(n_head, 2 * n_feature))\r\n",
        "\r\n",
        "    def forward(self, x, mask):\r\n",
        "        n_node = x.size(0)\r\n",
        "        x = (x @ self.weight).view(n_node, self.n_head, self.n_feature)\r\n",
        "\r\n",
        "        out = []\r\n",
        "        for i in range(self.n_head):\r\n",
        "            x_i = x[:, i, :] # [N, F']\r\n",
        "            \r\n",
        "            x_i_vals = x_i.unsqueeze(dim=0).expand(n_node, -1, -1) # [N, N, F']\r\n",
        "            a = torch.cat([ x_i.unsqueeze(dim=1).expand(-1, n_node, -1),  x_i_vals], dim=2) * self.a_proj[i] # [N, N, 2 * F']\r\n",
        "            a = a.sum(dim=2) # [N, N]\r\n",
        "\r\n",
        "            a = F.leaky_relu(a, negative_slope=0.2)\r\n",
        "\r\n",
        "\r\n",
        "\r\n",
        "            a = a.masked_fill(mask, -np.inf)\r\n",
        "            a = torch.softmax(a, dim=1)\r\n",
        "            a = a.unsqueeze(dim=2) * x_i_vals # [N, N, F']\r\n",
        "            a = a.sum(dim=1) # [N, F']\r\n",
        "            out.append(a)\r\n",
        "        \r\n",
        "\r\n",
        "        out = torch.cat(out, dim=1)\r\n",
        "        return out\r\n",
        "\r\n",
        "\r\n",
        "\r\n",
        "\r\n",
        "\r\n",
        "class GATBlock(nn.Module):\r\n",
        "    def __init__(self, n_in, n_head, n_feature, p):\r\n",
        "        super().__init__()\r\n",
        "        self.gat = GraphAttentionLayer(n_in, n_head, n_feature)\r\n",
        "        self.act = nn.ELU()\r\n",
        "        self.dropout = nn.Dropout(p) \r\n",
        "        \r\n",
        "    def forward(self, x, mask):\r\n",
        "        x = self.gat(x, mask)\r\n",
        "        x = self.dropout(x)\r\n",
        "        x = self.act(x)\r\n",
        "        return x\r\n",
        "\r\n",
        "\r\n",
        "class GAT(nn.Module):\r\n",
        "    def __init__(self, n_in, n_head, n_feature, n_out):\r\n",
        "        super().__init__()\r\n",
        "\r\n",
        "        self.n_head = n_head\r\n",
        "        n_hid = n_head * n_feature\r\n",
        "        self.layer_in = nn.Sequential(nn.Linear(n_in, n_hid), nn.ELU(), nn.Dropout(0.6))\r\n",
        "        self.layer = nn.ModuleList([\r\n",
        "            GATBlock(n_hid, n_head, n_feature, 0.6),\r\n",
        "            GATBlock(n_hid, n_head, n_feature, 0.6)\r\n",
        "        ])        \r\n",
        "        self.layer_out = nn.Linear(n_hid, n_out)\r\n",
        "\r\n",
        "    \r\n",
        "    def forward(self, x, mask):\r\n",
        "\r\n",
        "        x = self.layer_in(x)\r\n",
        "        for gat in self.layer:\r\n",
        "            x = gat(x, mask)\r\n",
        "        x = self.layer_out(x)\r\n",
        "        return x\r\n",
        "\r\n"
      ],
      "execution_count": 8,
      "outputs": []
    },
    {
      "cell_type": "code",
      "metadata": {
        "id": "vFcHL5aRdf9n"
      },
      "source": [
        "adj = torch.from_numpy(adjmat).bool()\r\n",
        "X = torch.Tensor(node_x.astype(np.float))\r\n",
        "X = X / X.sum(dim=1, keepdim=True)\r\n",
        "target = torch.LongTensor(node_y)"
      ],
      "execution_count": 9,
      "outputs": []
    },
    {
      "cell_type": "code",
      "metadata": {
        "id": "Zdb0YwlfUnXI"
      },
      "source": [
        "idx_train = range(200)\r\n",
        "idx_test = range(200, len(X))\r\n",
        "idx_train = torch.LongTensor(idx_train)\r\n",
        "idx_test = torch.LongTensor(idx_test)\r\n",
        "mask = adj == False\r\n",
        "model = GAT(n_in=len(node_x[0]), n_head=8, n_feature=8, n_out=7)\r\n",
        "solver = optim.Adam(model.parameters(),  lr=1e-2, weight_decay=1e-6)"
      ],
      "execution_count": 11,
      "outputs": []
    },
    {
      "cell_type": "code",
      "metadata": {
        "colab": {
          "base_uri": "https://localhost:8080/"
        },
        "id": "F5mXyg26zMc5",
        "outputId": "8c9a007a-a7cb-48f9-def3-0d384e104d04"
      },
      "source": [
        "train_loss = []\r\n",
        "train_acc = []\r\n",
        "test_loss = []\r\n",
        "test_acc = []\r\n",
        "for epoch in range(100):\r\n",
        "    solver.zero_grad()\r\n",
        "    Y = model(X, mask)\r\n",
        "    loss = F.cross_entropy(Y[idx_train], target[idx_train], reduction='mean')\r\n",
        "    loss.backward()\r\n",
        "    solver.step()\r\n",
        "    print(loss.item())\r\n",
        "    with torch.no_grad():\r\n",
        "        model.eval()\r\n",
        "        Y = model(X, mask)\r\n",
        "        train_loss.append(F.cross_entropy(Y[idx_train], target[idx_train], reduction='mean').item())\r\n",
        "        test_loss.append(F.cross_entropy(Y[idx_test], target[idx_test], reduction='mean').item())\r\n",
        "        train_acc.append((Y[idx_train].argmax(dim=1) == target[idx_train]).sum().item() / len(idx_train))\r\n",
        "        test_acc.append((Y[idx_test].argmax(dim=1) == target[idx_test]).sum().item() / len(idx_test))\r\n",
        "        model.train()\r\n"
      ],
      "execution_count": 12,
      "outputs": [
        {
          "output_type": "stream",
          "text": [
            "1.9622470140457153\n",
            "1.9367356300354004\n",
            "1.9005725383758545\n",
            "1.8324172496795654\n",
            "1.798205852508545\n",
            "1.8370709419250488\n",
            "1.745457410812378\n",
            "1.7191226482391357\n",
            "1.666614055633545\n",
            "1.6067843437194824\n",
            "1.5345088243484497\n",
            "1.4435648918151855\n",
            "1.2743308544158936\n",
            "1.1513431072235107\n",
            "1.0096487998962402\n",
            "0.9214087128639221\n",
            "0.8203809261322021\n",
            "0.7468747496604919\n",
            "0.6719173192977905\n",
            "0.5513262152671814\n",
            "0.507213830947876\n",
            "0.4455849528312683\n",
            "0.4162493944168091\n",
            "0.35937708616256714\n",
            "0.3172731399536133\n",
            "0.26851990818977356\n",
            "0.20154811441898346\n",
            "0.16079990565776825\n",
            "0.13341321051120758\n",
            "0.16430039703845978\n",
            "0.19558319449424744\n",
            "0.09364596009254456\n",
            "0.12285379320383072\n",
            "0.12565991282463074\n",
            "0.1194232776761055\n",
            "0.11284711956977844\n",
            "0.09416471421718597\n",
            "0.12093751132488251\n",
            "0.10553696751594543\n",
            "0.05500449612736702\n",
            "0.04638848826289177\n",
            "0.09226837754249573\n",
            "0.060659050941467285\n",
            "0.06075068563222885\n",
            "0.05874185636639595\n",
            "0.04907122254371643\n",
            "0.07077507674694061\n",
            "0.09299281984567642\n",
            "0.06071482226252556\n",
            "0.04932575300335884\n",
            "0.026793222874403\n",
            "0.05236838012933731\n",
            "0.043348945677280426\n",
            "0.021512817591428757\n",
            "0.01651673950254917\n",
            "0.018019216135144234\n",
            "0.032136157155036926\n",
            "0.06906203925609589\n",
            "0.04081927612423897\n",
            "0.02653893642127514\n",
            "0.014141388237476349\n",
            "0.028561286628246307\n",
            "0.048331718891859055\n",
            "0.024866973981261253\n",
            "0.020870517939329147\n",
            "0.02562347613275051\n",
            "0.029009826481342316\n",
            "0.012854584492743015\n",
            "0.03125398978590965\n",
            "0.012100317515432835\n",
            "0.016672104597091675\n",
            "0.01738458126783371\n",
            "0.02807903103530407\n",
            "0.010252386331558228\n",
            "0.006911700591444969\n",
            "0.021283049136400223\n",
            "0.011598394252359867\n",
            "0.018858203664422035\n",
            "0.006557014770805836\n",
            "0.014264310710132122\n",
            "0.0053993030451238155\n",
            "0.010779258795082569\n",
            "0.005727178417146206\n",
            "0.011439617723226547\n",
            "0.002484719268977642\n",
            "0.014775668270885944\n",
            "0.0044103264808654785\n",
            "0.006313490215688944\n",
            "0.010445138439536095\n",
            "0.006617746315896511\n",
            "0.0066013578325510025\n",
            "0.01677922159433365\n",
            "0.00495162233710289\n",
            "0.007631500251591206\n",
            "0.004503877367824316\n",
            "0.023792622610926628\n",
            "0.01769259013235569\n",
            "0.007862714119255543\n",
            "0.006843630690127611\n",
            "0.02630850300192833\n"
          ],
          "name": "stdout"
        }
      ]
    },
    {
      "cell_type": "code",
      "metadata": {
        "colab": {
          "base_uri": "https://localhost:8080/",
          "height": 579
        },
        "id": "oIaJLw9_ArMD",
        "outputId": "95945327-3896-492d-9f64-02f25d049d12"
      },
      "source": [
        "f = plt.figure(figsize=(16,8))\r\n",
        "ax = f.add_subplot(1,2,1)\r\n",
        "ax.plot(range(1, len(train_loss) + 1), train_loss, label='train')\r\n",
        "ax.plot(range(1, len(test_acc) + 1), test_loss, label='test')\r\n",
        "\r\n",
        "ax.set_title('Loss')\r\n",
        "ax.set_xlabel('epoch')\r\n",
        "ax.legend()\r\n",
        "\r\n",
        "ax = f.add_subplot(1,2,2)\r\n",
        "ax.plot(range(1, len(train_acc) + 1), train_acc, label='train')\r\n",
        "ax.plot(range(1, len(test_acc) + 1), test_acc, label='test')\r\n",
        "ax.set_title('Accuracy')\r\n",
        "ax.set_xlabel('epoch')\r\n",
        "\r\n",
        "ax.legend()\r\n",
        "plt.show()\r\n",
        "print('train loss : ', train_loss[-1])\r\n",
        "print('test loss : ', test_loss[-1])\r\n",
        "print('train accuracy : ', train_acc[-1])\r\n",
        "print('test accuracy : ', test_acc[-1])"
      ],
      "execution_count": 14,
      "outputs": [
        {
          "output_type": "display_data",
          "data": {
            "image/png": "[encoded data removed]",
            "text/plain": [
              "<Figure size 1152x576 with 2 Axes>"
            ]
          },
          "metadata": {
            "tags": [],
            "needs_background": "light"
          }
        },
        {
          "output_type": "stream",
          "text": [
            "train loss :  2.1829646357218735e-05\n",
            "test loss :  2.0697968006134033\n",
            "train accuracy :  1.0\n",
            "test accuracy :  0.759170653907496\n"
          ],
          "name": "stdout"
        }
      ]
    }
  ]
}