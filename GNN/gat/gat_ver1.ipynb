{
  "nbformat": 4,
  "nbformat_minor": 0,
  "metadata": {
    "colab": {
      "name": "gat.ipynb",
      "provenance": []
    },
    "kernelspec": {
      "name": "python3",
      "display_name": "Python 3"
    }
  },
  "cells": [
    {
      "cell_type": "code",
      "metadata": {
        "colab": {
          "base_uri": "https://localhost:8080/"
        },
        "id": "UQTD04FqQQze",
        "outputId": "d67a1e0a-34fa-4975-fb3a-a43d5da92169"
      },
      "source": [
        "import torch\r\n",
        "import torch.nn as nn\r\n",
        "import torch.nn.functional as F\r\n",
        "import torch.optim as optim\r\n",
        "import torch.nn.init as init\r\n",
        "import numpy as np\r\n",
        "import matplotlib.pyplot as plt\r\n",
        "from torchvision import transforms\r\n",
        "from torch.utils.data import DataLoader\r\n",
        "from google.colab import drive\r\n",
        "import networkx as nx\r\n",
        "\r\n",
        "\r\n",
        "\r\n",
        "device = 'cuda' if torch.cuda.is_available() else 'cpu'\r\n",
        "if device == 'cuda':\r\n",
        "    gpu_info = !nvidia-smi\r\n",
        "    gpu_info = '\\n'.join(gpu_info)\r\n",
        "    if gpu_info.find('failed') >= 0:\r\n",
        "        print('Select the Runtime > \"Change runtime type\" menu to enable a GPU accelerator, ')\r\n",
        "        print('and then re-execute this cell.')\r\n",
        "    else:\r\n",
        "        print(gpu_info)\r\n",
        "print('device :',device)\r\n",
        "print('torch.version :',torch.__version__)"
      ],
      "execution_count": 1,
      "outputs": [
        {
          "output_type": "stream",
          "text": [
            "device : cpu\n",
            "torch.version : 1.7.0+cu101\n"
          ],
          "name": "stdout"
        }
      ]
    },
    {
      "cell_type": "code",
      "metadata": {
        "colab": {
          "base_uri": "https://localhost:8080/"
        },
        "id": "Xv-nUJj-b63n",
        "outputId": "009d20d5-5755-441c-ce38-c15c1a5001db"
      },
      "source": [
        "drive.mount('/content/drive')\r\n",
        "folder_dir = '/content/drive/My Drive/cora'"
      ],
      "execution_count": 2,
      "outputs": [
        {
          "output_type": "stream",
          "text": [
            "Drive already mounted at /content/drive; to attempt to forcibly remount, call drive.mount(\"/content/drive\", force_remount=True).\n"
          ],
          "name": "stdout"
        }
      ]
    },
    {
      "cell_type": "code",
      "metadata": {
        "id": "4vC8XNYvb8wi"
      },
      "source": [
        "class Cora(object):\r\n",
        "    \r\n",
        "    def __init__(self, base_dir):\r\n",
        "        data = np.genfromtxt(base_dir + '/cora/cora.content', dtype=np.str)\r\n",
        "        \r\n",
        "\r\n",
        "        self.category_list = list(set(data[:, -1]))\r\n",
        "        self.cat2lab = {category:label for label, category in enumerate(self.category_list)}\r\n",
        "        self.lab2cat = {label:category for label, category in enumerate(self.category_list)}\r\n",
        "        \r\n",
        "        self.paper_list = np.array(data[:, 0], dtype=np.int)\r\n",
        "        self.paper2node = {paper_id:node_id for node_id, paper_id in enumerate(self.paper_list)}\r\n",
        "        self.node2paper = {node_id:paper_id for node_id, paper_id in enumerate(self.paper_list)}\r\n",
        "\r\n",
        "\r\n",
        "        self.node_feature = np.array(data[:, 1:-1], dtype=int)\r\n",
        "        self.node_label = [self.cat2lab[category] for category in data[:, -1]]\r\n",
        "        \r\n",
        "        edge = np.genfromtxt(base_dir + '/cora/cora.cites',   dtype=np.int)\r\n",
        "        \r\n",
        "        node_connection = np.empty_like(edge)\r\n",
        "        self.node_adj = np.zeros((data.shape[0], data.shape[0]), dtype=np.bool)\r\n",
        "\r\n",
        "        for i, (cited, citing) in enumerate(edge):\r\n",
        "            node_connection[i] = (self.paper2node[cited], self.paper2node[citing])\r\n",
        "            self.node_adj[node_connection[i][0]][node_connection[i][1]] = True\r\n",
        "            self.node_adj[node_connection[i][1]][node_connection[i][0]] = True\r\n",
        "            self.node_adj[node_connection[i][0]][node_connection[i][0]] = True\r\n",
        "            self.node_adj[node_connection[i][1]][node_connection[i][1]] = True\r\n",
        "\r\n",
        "\r\n",
        "\r\n",
        "    def get_dataset(self):\r\n",
        "\r\n",
        "        node_x = np.array(self.node_feature, dtype=np.int32)\r\n",
        "        node_y = np.array(self.node_label, dtype=np.int32)\r\n",
        "        adjmat = np.array(self.node_adj, dtype=np.bool)\r\n",
        "        return node_x, node_y, adjmat\r\n",
        "        \r\n",
        "\r\n",
        "cora = Cora(base_dir='/content/drive/My Drive')\r\n",
        "\r\n",
        "\r\n",
        "\r\n",
        "node_x, node_y, adjmat = cora.get_dataset()\r\n"
      ],
      "execution_count": 3,
      "outputs": []
    },
    {
      "cell_type": "code",
      "metadata": {
        "id": "x74wwdE564pV"
      },
      "source": [
        "def xavier_weight(*size):\r\n",
        "    return torch.nn.init.xavier_uniform_(torch.empty(*size))\r\n",
        "\r\n",
        "\r\n",
        "\r\n",
        "class GraphAttentionLayer(nn.Module):\r\n",
        "    def __init__(self, n_in, n_head, n_feature):\r\n",
        "        super().__init__()\r\n",
        "\r\n",
        "        self.n_head = n_head\r\n",
        "        self.n_feature = n_feature\r\n",
        "\r\n",
        "        self.weight = nn.Parameter(xavier_weight(n_in, n_head * n_feature))\r\n",
        "\r\n",
        "        self.a_proj = nn.Parameter(xavier_weight(n_head, 2 * n_feature))\r\n",
        "\r\n",
        "    def forward(self, x, mask):\r\n",
        "        n_node = x.size(0)\r\n",
        "\r\n",
        "        x = (x @ self.weight).view(n_node, self.n_head, self.n_feature)\r\n",
        "        \r\n",
        "\r\n",
        "        x_keys = x.unsqueeze(dim=0).expand(n_node, -1, -1, -1).view(n_node, n_node, self.n_head, self.n_feature)\r\n",
        "\r\n",
        "\r\n",
        "\r\n",
        "\r\n",
        "        x = torch.cat([x.unsqueeze(dim=1).expand(-1, n_node, -1, -1).view(n_node, n_node, self.n_head, self.n_feature), \r\n",
        "                       x_keys], dim=3) * self.a_proj # [N, N, H, 2*F']\r\n",
        "    \r\n",
        "        x = x.sum(dim=3) # [N, N, H]\r\n",
        "\r\n",
        "\r\n",
        "        x = F.leaky_relu(x, 0.2)\r\n",
        "\r\n",
        "        x = x.masked_fill(mask, -np.inf)\r\n",
        "\r\n",
        "\r\n",
        "        x = torch.softmax(x, dim=1).unsqueeze(dim=3) # [N, N, H, 1]\r\n",
        "        \r\n",
        "        x = x * x_keys # [N, N, H, F']\r\n",
        "\r\n",
        "        x = x.sum(dim=1) # [N, H, F']\r\n",
        "\r\n",
        "        x = x.flatten(1, 2)\r\n",
        "\r\n",
        "        return x\r\n",
        "\r\n",
        "\r\n",
        "\r\n",
        "class GATBlock(nn.Module):\r\n",
        "    def __init__(self, n_in, n_head, n_feature, p):\r\n",
        "        super().__init__()\r\n",
        "        self.gat = GraphAttentionLayer(n_in, n_head, n_feature)\r\n",
        "        self.act = nn.ELU()\r\n",
        "        self.dropout = nn.Dropout(p) \r\n",
        "        \r\n",
        "    def forward(self, x, mask):\r\n",
        "        x = self.gat(x, mask)\r\n",
        "        x = self.dropout(x)\r\n",
        "        x = self.act(x)\r\n",
        "        return x\r\n",
        "\r\n",
        "\r\n",
        "class GAT(nn.Module):\r\n",
        "    def __init__(self, n_in, n_head, n_feature, n_out):\r\n",
        "        super().__init__()\r\n",
        "\r\n",
        "        self.n_head = n_head\r\n",
        "        n_hid = n_head * n_feature\r\n",
        "        self.layer_in = nn.Sequential(nn.Linear(n_in, n_hid), nn.ELU(), nn.Dropout(0.6))\r\n",
        "        self.layer = nn.ModuleList([\r\n",
        "            GATBlock(n_hid, n_head, n_feature, 0.6),\r\n",
        "            GATBlock(n_hid, n_head, n_feature, 0.6)\r\n",
        "        ])        \r\n",
        "        self.layer_out = nn.Linear(n_hid, n_out)\r\n",
        "\r\n",
        "    \r\n",
        "    def forward(self, x, mask):\r\n",
        "\r\n",
        "        mask = mask.unsqueeze(2).expand(-1, -1, self.n_head)\r\n",
        "        x = self.layer_in(x)\r\n",
        "        for gat in self.layer:\r\n",
        "            x = gat(x, mask)\r\n",
        "        x = self.layer_out(x)\r\n",
        "        return x\r\n",
        "\r\n"
      ],
      "execution_count": 4,
      "outputs": []
    },
    {
      "cell_type": "code",
      "metadata": {
        "id": "vFcHL5aRdf9n"
      },
      "source": [
        "adj = torch.from_numpy(adjmat).bool()\r\n",
        "X = torch.Tensor(node_x.astype(np.float))\r\n",
        "X = X / X.sum(dim=1, keepdim=True)\r\n",
        "target = torch.LongTensor(node_y)"
      ],
      "execution_count": 5,
      "outputs": []
    },
    {
      "cell_type": "code",
      "metadata": {
        "id": "Zdb0YwlfUnXI"
      },
      "source": [
        "idx_train = range(200)\r\n",
        "idx_test = range(200, len(X))\r\n",
        "idx_train = torch.LongTensor(idx_train)\r\n",
        "idx_test = torch.LongTensor(idx_test)\r\n",
        "mask = adj == False\r\n",
        "model = GAT(n_in=len(node_x[0]), n_head=5, n_feature=8, n_out=7) # n_head > 5 exceeds my available RAM size (about 12GB)\r\n",
        "solver = optim.Adam(model.parameters(),  lr=1e-2, weight_decay=1e-6)"
      ],
      "execution_count": 7,
      "outputs": []
    },
    {
      "cell_type": "code",
      "metadata": {
        "colab": {
          "base_uri": "https://localhost:8080/"
        },
        "id": "F5mXyg26zMc5",
        "outputId": "85fbc3e3-90ad-4a50-db72-3e9e508e196b"
      },
      "source": [
        "train_loss = []\r\n",
        "train_acc = []\r\n",
        "test_loss = []\r\n",
        "test_acc = []\r\n",
        "for epoch in range(100):\r\n",
        "    solver.zero_grad()\r\n",
        "    Y = model(X, mask)\r\n",
        "    loss = F.cross_entropy(Y[idx_train], target[idx_train], reduction='mean')\r\n",
        "    loss.backward()\r\n",
        "    solver.step()\r\n",
        "    print(loss.item())\r\n",
        "    with torch.no_grad():\r\n",
        "        model.eval()\r\n",
        "        Y = model(X, mask)\r\n",
        "        train_loss.append(F.cross_entropy(Y[idx_train], target[idx_train], reduction='mean').item())\r\n",
        "        test_loss.append(F.cross_entropy(Y[idx_test], target[idx_test], reduction='mean').item())\r\n",
        "        train_acc.append((Y[idx_train].argmax(dim=1) == target[idx_train]).sum().item() / len(idx_train))\r\n",
        "        test_acc.append((Y[idx_test].argmax(dim=1) == target[idx_test]).sum().item() / len(idx_test))\r\n",
        "        model.train()\r\n"
      ],
      "execution_count": 8,
      "outputs": [
        {
          "output_type": "stream",
          "text": [
            "1.9234570264816284\n",
            "1.9038276672363281\n",
            "1.890452265739441\n",
            "1.8576158285140991\n",
            "1.8286089897155762\n",
            "1.8060928583145142\n",
            "1.782339334487915\n",
            "1.7804276943206787\n",
            "1.7763632535934448\n",
            "1.7107021808624268\n",
            "1.6636043787002563\n",
            "1.6095263957977295\n",
            "1.5606110095977783\n",
            "1.4912405014038086\n",
            "1.4103056192398071\n",
            "1.3255218267440796\n",
            "1.2193539142608643\n",
            "1.1291145086288452\n",
            "1.053485631942749\n",
            "1.019580364227295\n",
            "0.9293005466461182\n",
            "0.8792071342468262\n",
            "0.8053147196769714\n",
            "0.7733323574066162\n",
            "0.6608118414878845\n",
            "0.6192256808280945\n",
            "0.651113748550415\n",
            "0.5340316295623779\n",
            "0.5295085310935974\n",
            "0.5159075260162354\n",
            "0.39954012632369995\n",
            "0.4008359909057617\n",
            "0.39324474334716797\n",
            "0.3795172870159149\n",
            "0.3830912411212921\n",
            "0.302001029253006\n",
            "0.24494893848896027\n",
            "0.28336724638938904\n",
            "0.2418772578239441\n",
            "0.21270713210105896\n",
            "0.22270384430885315\n",
            "0.20055101811885834\n",
            "0.1635507196187973\n",
            "0.16730457544326782\n",
            "0.18453535437583923\n",
            "0.19255061447620392\n",
            "0.1331862211227417\n",
            "0.11976546049118042\n",
            "0.13953574001789093\n",
            "0.15311342477798462\n",
            "0.14390897750854492\n",
            "0.08643842488527298\n",
            "0.12724310159683228\n",
            "0.1319347620010376\n",
            "0.15272599458694458\n",
            "0.0828876793384552\n",
            "0.10632757842540741\n",
            "0.06632179021835327\n",
            "0.07829652726650238\n",
            "0.09089415520429611\n",
            "0.13815666735172272\n",
            "0.11445572227239609\n",
            "0.08317777514457703\n",
            "0.0711168721318245\n",
            "0.09715951234102249\n",
            "0.06180319935083389\n",
            "0.09384512156248093\n",
            "0.07452921569347382\n",
            "0.04499762877821922\n",
            "0.06443396210670471\n",
            "0.06505364179611206\n",
            "0.06564131379127502\n",
            "0.07334818691015244\n",
            "0.045074839144945145\n",
            "0.06442200392484665\n",
            "0.05322789028286934\n",
            "0.0809221938252449\n",
            "0.05693219229578972\n",
            "0.047531820833683014\n",
            "0.07061579823493958\n",
            "0.046761684119701385\n",
            "0.06689617782831192\n",
            "0.0716603621840477\n",
            "0.09178157895803452\n",
            "0.04271329566836357\n",
            "0.07568509876728058\n",
            "0.03776876628398895\n",
            "0.0736500695347786\n",
            "0.0537138432264328\n",
            "0.06919204443693161\n",
            "0.01828845776617527\n",
            "0.05487874522805214\n",
            "0.026755105704069138\n",
            "0.05812251567840576\n",
            "0.03512921184301376\n",
            "0.023374857380986214\n",
            "0.04081802815198898\n",
            "0.040590621531009674\n",
            "0.04929673299193382\n",
            "0.09549234062433243\n"
          ],
          "name": "stdout"
        }
      ]
    },
    {
      "cell_type": "code",
      "metadata": {
        "colab": {
          "base_uri": "https://localhost:8080/",
          "height": 579
        },
        "id": "oIaJLw9_ArMD",
        "outputId": "c3cd1a84-2d9f-49ea-d256-502a348d8c35"
      },
      "source": [
        "f = plt.figure(figsize=(16,8))\r\n",
        "ax = f.add_subplot(1,2,1)\r\n",
        "ax.plot(range(1, len(train_loss) + 1), train_loss, label='train')\r\n",
        "ax.plot(range(1, len(test_acc) + 1), test_loss, label='test')\r\n",
        "\r\n",
        "ax.set_title('Loss')\r\n",
        "ax.set_xlabel('epoch')\r\n",
        "ax.legend()\r\n",
        "\r\n",
        "ax = f.add_subplot(1,2,2)\r\n",
        "ax.plot(range(1, len(train_acc) + 1), train_acc, label='train')\r\n",
        "ax.plot(range(1, len(test_acc) + 1), test_acc, label='test')\r\n",
        "ax.set_title('Accuracy')\r\n",
        "ax.set_xlabel('epoch')\r\n",
        "\r\n",
        "ax.legend()\r\n",
        "plt.show()\r\n",
        "print('train loss : ', train_loss[-1])\r\n",
        "print('test loss : ', test_loss[-1])\r\n",
        "print('train accuracy : ', train_acc[-1])\r\n",
        "print('test accuracy : ', test_acc[-1])"
      ],
      "execution_count": 9,
      "outputs": [
        {
          "output_type": "display_data",
          "data": {
            "image/png": "[encoded data removed]",
            "text/plain": [
              "<Figure size 1152x576 with 2 Axes>"
            ]
          },
          "metadata": {
            "tags": [],
            "needs_background": "light"
          }
        },
        {
          "output_type": "stream",
          "text": [
            "train loss :  0.0009334198548458517\n",
            "test loss :  1.6873364448547363\n",
            "train accuracy :  1.0\n",
            "test accuracy :  0.7627591706539075\n"
          ],
          "name": "stdout"
        }
      ]
    }
  ]
}