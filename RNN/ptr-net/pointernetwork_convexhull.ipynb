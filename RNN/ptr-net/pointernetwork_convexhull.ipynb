{
  "nbformat": 4,
  "nbformat_minor": 0,
  "metadata": {
    "colab": {
      "name": "ptr2.ipynb",
      "provenance": [],
      "collapsed_sections": []
    },
    "kernelspec": {
      "name": "python3",
      "display_name": "Python 3"
    },
    "accelerator": "GPU"
  },
  "cells": [
    {
      "cell_type": "code",
      "metadata": {
        "colab": {
          "base_uri": "https://localhost:8080/"
        },
        "id": "jQ3GO-623X91",
        "outputId": "357a59b1-e232-4561-ecec-210077d00e80"
      },
      "source": [
        "import torch\r\n",
        "import torch.nn as nn\r\n",
        "import torch.nn.functional as F\r\n",
        "import numpy as np\r\n",
        "import os\r\n",
        "from torch.utils.data import DataLoader, Dataset\r\n",
        "\r\n",
        "from google.colab import drive\r\n",
        "\r\n",
        "\r\n",
        "\r\n",
        "device = 'cuda' if torch.cuda.is_available() else 'cpu'\r\n",
        "if device == 'cuda':\r\n",
        "    gpu_info = !nvidia-smi\r\n",
        "    gpu_info = '\\n'.join(gpu_info)\r\n",
        "    if gpu_info.find('failed') >= 0:\r\n",
        "        print('Select the Runtime > \"Change runtime type\" menu to enable a GPU accelerator, ')\r\n",
        "        print('and then re-execute this cell.')\r\n",
        "    else:\r\n",
        "        print(gpu_info)\r\n",
        "print('device :',device)\r\n",
        "print('torch.version :',torch.__version__)\r\n",
        "\r\n",
        "\r\n",
        "def xavier_weight(*size):\r\n",
        "    return torch.nn.init.xavier_uniform_(torch.empty(*size))"
      ],
      "execution_count": 1,
      "outputs": [
        {
          "output_type": "stream",
          "text": [
            "Mon Jan 18 08:11:40 2021       \n",
            "+-----------------------------------------------------------------------------+\n",
            "| NVIDIA-SMI 460.27.04    Driver Version: 418.67       CUDA Version: 10.1     |\n",
            "|-------------------------------+----------------------+----------------------+\n",
            "| GPU  Name        Persistence-M| Bus-Id        Disp.A | Volatile Uncorr. ECC |\n",
            "| Fan  Temp  Perf  Pwr:Usage/Cap|         Memory-Usage | GPU-Util  Compute M. |\n",
            "|                               |                      |               MIG M. |\n",
            "|===============================+======================+======================|\n",
            "|   0  Tesla T4            Off  | 00000000:00:04.0 Off |                    0 |\n",
            "| N/A   43C    P8    13W /  70W |     10MiB / 15079MiB |      0%      Default |\n",
            "|                               |                      |                 ERR! |\n",
            "+-------------------------------+----------------------+----------------------+\n",
            "                                                                               \n",
            "+-----------------------------------------------------------------------------+\n",
            "| Processes:                                                                  |\n",
            "|  GPU   GI   CI        PID   Type   Process name                  GPU Memory |\n",
            "|        ID   ID                                                   Usage      |\n",
            "|=============================================================================|\n",
            "|  No running processes found                                                 |\n",
            "+-----------------------------------------------------------------------------+\n",
            "device : cuda\n",
            "torch.version : 1.7.0+cu101\n"
          ],
          "name": "stdout"
        }
      ]
    },
    {
      "cell_type": "code",
      "metadata": {
        "colab": {
          "base_uri": "https://localhost:8080/"
        },
        "id": "PKfKRPsU3nEe",
        "outputId": "5090551e-e39d-48fe-8478-59bdf7b48cc2"
      },
      "source": [
        "def get_convex_hull_txt(txt_file_dir):\r\n",
        "    x = []\r\n",
        "    y = []\r\n",
        "    with open(txt_file_dir, 'r') as file:\r\n",
        "        for line in file:\r\n",
        "            data, target = line.split(\" output \")\r\n",
        "            data = data.split(' ')\r\n",
        "            target = target.split(' ')[:-1]\r\n",
        "            data = np.array(data).astype(np.float32) \r\n",
        "            target = np.array(target).astype(np.long)\r\n",
        "            data = data.reshape(-1, 2)\r\n",
        "            x.append(data)\r\n",
        "            y.append(target)\r\n",
        "        \r\n",
        "    return x, y\r\n",
        "\r\n",
        "class Dataset(Dataset):\r\n",
        "    def __init__(self, data, label):\r\n",
        "        self.data = data\r\n",
        "        self.label = label\r\n",
        "\r\n",
        "    def __len__(self):\r\n",
        "        return len(self.data)\r\n",
        "    \r\n",
        "    def __getitem__(self, idx):\r\n",
        "        return self.data[idx], self.label[idx]\r\n",
        "\r\n",
        "\r\n",
        "drive.mount('/content/drive')\r\n",
        "file_dir = '/content/drive/My Drive/'\r\n",
        "\r\n",
        "# Data is from https://drive.google.com/drive/folders/0B2fg8yPGn2TCMzBtS0o4Q2RJaEU\r\n",
        "train_set = Dataset(*get_convex_hull_txt(file_dir + 'convex_hull_50_train.txt'))\r\n",
        "test_set =  Dataset(*get_convex_hull_txt(file_dir + 'convex_hull_50_test.txt'))"
      ],
      "execution_count": 2,
      "outputs": [
        {
          "output_type": "stream",
          "text": [
            "Mounted at /content/drive\n"
          ],
          "name": "stdout"
        }
      ]
    },
    {
      "cell_type": "code",
      "metadata": {
        "id": "eC8RJqFp3nGr"
      },
      "source": [
        "def pad_and_pack(batch): \r\n",
        "    max_len = len(batch[0][1])\r\n",
        "    for i in range(1, len(batch)):\r\n",
        "        if max_len < len(batch[i][1]):\r\n",
        "            max_len = len(batch[i][1])\r\n",
        "    \r\n",
        "    for i in range(len(batch)):\r\n",
        "        if len(batch[i][1]) < max_len:\r\n",
        "            label = batch[i][1]\r\n",
        "            label = np.concatenate((label, np.zeros(max_len - len(label)).astype(np.int32)), axis=0)\r\n",
        "            batch[i] = (batch[i][0], label)\r\n",
        "        \r\n",
        "    return torch.utils.data.dataloader.default_collate(batch)\r\n",
        "    "
      ],
      "execution_count": 3,
      "outputs": []
    },
    {
      "cell_type": "code",
      "metadata": {
        "colab": {
          "base_uri": "https://localhost:8080/",
          "height": 482
        },
        "id": "G8JQNt_l3nI-",
        "outputId": "cb1023bb-ba59-4dd3-c5d7-7720d11a0319"
      },
      "source": [
        "import matplotlib.pyplot as plt\r\n",
        "\r\n",
        "data, label = train_set.__getitem__(10)\r\n",
        "plt.figure(figsize=(8, 8))\r\n",
        "plt.scatter(data[:, 0], data[:, 1], s=5)\r\n",
        "for i in range(len(label) - 1):\r\n",
        "    idx1, idx2 = label[i] - 1, label[i + 1] - 1\r\n",
        "    plt.plot([data[idx1][0], data[idx2][0]], [data[idx1][1], data[idx2][1]], c='tab:red', linewidth=2, alpha=0.5)\r\n",
        "    plt.scatter(data[idx1][0], data[idx1][1], s=20, c='#000000')\r\n",
        "    plt.text(data[idx1][0], data[idx1][1], str(i + 1), fontsize=15)\r\n",
        "\r\n",
        "plt.title('data example')\r\n",
        "plt.xlim(-0.2, 1.2)\r\n",
        "plt.ylim(-0.2, 1.2)\r\n",
        "plt.axis('off')\r\n",
        "plt.show()"
      ],
      "execution_count": 4,
      "outputs": [
        {
          "output_type": "display_data",
          "data": {
            "image/png": "[encoded data removed]",
            "text/plain": [
              "<Figure size 576x576 with 1 Axes>"
            ]
          },
          "metadata": {
            "tags": [],
            "needs_background": "light"
          }
        }
      ]
    },
    {
      "cell_type": "code",
      "metadata": {
        "id": "d_qEx7q33nLI"
      },
      "source": [
        "class Encoder(nn.Module):\r\n",
        "    def __init__(self, embedding_size):\r\n",
        "        super().__init__()\r\n",
        "        self.rnns = nn.LSTM(input_size=embedding_size, hidden_size=embedding_size, num_layers=3, bias=True, batch_first=True, dropout=0, bidirectional=False)\r\n",
        "        self.k_proj = nn.Parameter(xavier_weight(embedding_size, embedding_size), requires_grad=True)\r\n",
        "        self.v_proj = nn.Parameter(xavier_weight(embedding_size, embedding_size), requires_grad=True)\r\n",
        "        self.key_norm = 1 / np.sqrt(embedding_size)\r\n",
        "\r\n",
        "    def forward(self, x):\r\n",
        "        o, (h, c) = self.rnns(x)\r\n",
        "        key = (o @ self.k_proj) * self.key_norm\r\n",
        "        value = o @ self.v_proj\r\n",
        "        return key, value, (h, c)\r\n",
        "\r\n",
        "\r\n",
        "class Decoder(nn.Module):\r\n",
        "    def __init__(self, embedding_size):\r\n",
        "        super().__init__()\r\n",
        "        self.block = nn.ModuleList([ # Encoder.rnns.num_layers랑 같은 개수\r\n",
        "            nn.LSTMCell(embedding_size, embedding_size, bias=True),\r\n",
        "            nn.LSTMCell(embedding_size, embedding_size, bias=True),\r\n",
        "            nn.LSTMCell(embedding_size, embedding_size, bias=True)\r\n",
        "        ])\r\n",
        "        self.xstart = nn.Parameter(xavier_weight(1, embedding_size), requires_grad=True)\r\n",
        "        self.q_proj = nn.Linear(embedding_size, embedding_size, bias=False)\r\n",
        "        self.l_proj = nn.Parameter(xavier_weight(embedding_size, 1), requires_grad=True)\r\n",
        "\r\n",
        "        self.auxstart = nn.Parameter(xavier_weight(1, embedding_size), requires_grad=True)\r\n",
        "\r\n",
        "    def forward(self, key, val, h, c, points, max_iter):\r\n",
        "        nb, num_key, _ = key.size()\r\n",
        "        batch_index = torch.arange(0, nb)\r\n",
        "        prob_vec_cache = torch.zeros((nb, max_iter, num_key), dtype=torch.float).to(device)\r\n",
        "        x = self.xstart.expand(nb, -1)\r\n",
        "        mask_selected = torch.zeros((nb, num_key)).bool().to(device)\r\n",
        "\r\n",
        "        aux = self.auxstart.expand(nb, -1)\r\n",
        "        for s in range(max_iter):\r\n",
        "            o, h, c = self.forward_rnn(x, aux, h, c)\r\n",
        "            query = self.q_proj(o)\r\n",
        "            atten_input = torch.tanh(query.unsqueeze(dim=1).expand_as(key) + key)\r\n",
        "            atten = (atten_input @ self.l_proj).squeeze(dim=2) #[nb, num_key]\r\n",
        "            atten = atten.masked_fill(mask_selected==True, -np.inf)\r\n",
        "            atten = torch.softmax(atten, dim=1)\r\n",
        "            prob_vec_cache[:, s, :] = atten\r\n",
        "            aux = (atten_input.squeeze(-1) * atten_input).sum(dim=1)\r\n",
        "            selected = torch.argmax(atten, dim=1)\r\n",
        "            x = points[batch_index, selected, :]\r\n",
        "            if s > 0 :\r\n",
        "                mask_selected[batch_index, selected] = True\r\n",
        "\r\n",
        "        return prob_vec_cache\r\n",
        "\r\n",
        "    \r\n",
        "    def forward_rnn(self, x, aux, h_prev, c_prev):\r\n",
        "        h_curr = []\r\n",
        "        c_curr = []\r\n",
        "        h = x\r\n",
        "        for i, block in enumerate(self.block):\r\n",
        "            h, c = block(h + aux, (h_prev[i], c_prev[i]))\r\n",
        "            h_curr.append(h)\r\n",
        "            c_curr.append(c)\r\n",
        "        return h, h_curr, c_curr\r\n",
        "\r\n",
        "        \r\n",
        "\r\n",
        "class ConvexHullSolver(nn.Module):\r\n",
        "    def __init__(self, embedding_size):\r\n",
        "        super().__init__()\r\n",
        "        self.embedding = nn.Parameter(xavier_weight(2, embedding_size), requires_grad=True)\r\n",
        "        self.drop = nn.Dropout(0.5)\r\n",
        "        self.enc = Encoder(embedding_size)\r\n",
        "        self.dec = Decoder(embedding_size)\r\n",
        "\r\n",
        "    def forward(self, x, max_iter):\r\n",
        "        x = x @ self.embedding\r\n",
        "        x = self.drop(x)\r\n",
        "        key, val, (h_enc, c_enc) = self.enc(x)\r\n",
        "        prob_vec = self.dec(key, val, h_enc, c_enc, x, max_iter)\r\n",
        "        return prob_vec\r\n",
        "\r\n"
      ],
      "execution_count": 32,
      "outputs": []
    },
    {
      "cell_type": "code",
      "metadata": {
        "id": "KAsPR4wk3ywq"
      },
      "source": [
        "import torch.optim as optim\r\n",
        "\r\n",
        "n_emb = 256\r\n",
        "model = ConvexHullSolver(n_emb).to(device)\r\n",
        "solver = optim.Adam(model.parameters(), 1e-3)\r\n",
        "loader = DataLoader(dataset=train_set, batch_size=128, shuffle=True, drop_last=True, collate_fn=pad_and_pack)\r\n",
        "# criterion = nn.CrossEntropyLoss()\r\n",
        "\r\n",
        "def cross_entropy_for_softmax(prob_vec, tar_idx):\r\n",
        "    tar_idx = tar_idx.unsqueeze(-1)\r\n",
        "    one_hot = torch.zeros_like(prob_vec).scatter_(-1, tar_idx, 1)\r\n",
        "    log_prob = torch.log(prob_vec + 1e-3)\r\n",
        "    cross_entropy = -log_prob * one_hot\r\n",
        "    cross_entropy = cross_entropy.sum(dim=2)\r\n",
        "    return cross_entropy\r\n"
      ],
      "execution_count": 33,
      "outputs": []
    },
    {
      "cell_type": "code",
      "metadata": {
        "colab": {
          "base_uri": "https://localhost:8080/"
        },
        "id": "ALBpzJjeUZik",
        "outputId": "d65902a7-9659-43ba-b3c1-c9b66cc755d8"
      },
      "source": [
        "num_epochs = 5\r\n",
        "for epoch in range(num_epochs):\r\n",
        "    for (x, y) in loader:\r\n",
        "        solver.zero_grad()\r\n",
        "        x = x.to(device)\r\n",
        "        y = y.long().to(device)\r\n",
        "        prob = model(x, y.size(1))\r\n",
        "        prob = torch.cat([torch.zeros((y.size(0), y.size(1), 1), dtype=torch.float).to(device), prob], dim=2)\r\n",
        "\r\n",
        "        loss = F.cross_entropy(prob.transpose(1, 2).contiguous(), y, reduction='mean')\r\n",
        "        # loss = cross_entropy_for_softmax(prob, y).mean()\r\n",
        "\r\n",
        "\r\n",
        "        loss.backward()\r\n",
        "        solver.step()\r\n",
        "    print(loss.item())\r\n",
        "\r\n"
      ],
      "execution_count": 36,
      "outputs": [
        {
          "output_type": "stream",
          "text": [
            "3.850581169128418\n",
            "3.844451904296875\n",
            "3.8265786170959473\n",
            "3.828439235687256\n",
            "3.828747510910034\n"
          ],
          "name": "stdout"
        }
      ]
    },
    {
      "cell_type": "code",
      "metadata": {
        "id": "w_TzMPmcF0vR"
      },
      "source": [
        "def eval_show(x, max_iter=20):\r\n",
        "\r\n",
        "    model.eval()\r\n",
        "    logits = model(x, max_iter)\r\n",
        "    label = torch.argmax(logits, dim=2)\r\n",
        "    model.train()\r\n",
        "    plt.figure(figsize=(8, 8))\r\n",
        "    x = x.squeeze(0).detach().cpu()\r\n",
        "    label = label.squeeze(0).detach().cpu()\r\n",
        "    plt.scatter(x[:, 0], x[:, 1], s=5)\r\n",
        "    for i in range(max_iter - 1):\r\n",
        "        idx1, idx2 = label[i], label[i + 1]\r\n",
        "        plt.plot([x[idx1][0], x[idx2][0]], [x[idx1][1], x[idx2][1]], c='tab:red', linewidth=2, alpha=0.5)\r\n",
        "        plt.scatter(x[idx1][0], x[idx1][1], s=20, c='#000000')\r\n",
        "        plt.text(x[idx1][0], x[idx1][1], str(i + 1), fontsize=15)\r\n",
        "        if idx2 == label[0]:\r\n",
        "            break\r\n",
        "\r\n",
        "\r\n",
        "    plt.xlim(-0.2, 1.2)\r\n",
        "    plt.ylim(-0.2, 1.2)\r\n",
        "    plt.axis('off')\r\n",
        "    plt.show()\r\n"
      ],
      "execution_count": 37,
      "outputs": []
    },
    {
      "cell_type": "code",
      "metadata": {
        "colab": {
          "base_uri": "https://localhost:8080/",
          "height": 465
        },
        "id": "38ct0woTAicg",
        "outputId": "a6e41b7c-6eb1-4c25-e634-c4f448feeec1"
      },
      "source": [
        "data_index = 0\r\n",
        "x, _ = test_set.__getitem__(data_index)\r\n",
        "x = torch.from_numpy(x).unsqueeze(0).to(device)\r\n",
        "eval_show(x, 20)"
      ],
      "execution_count": 38,
      "outputs": [
        {
          "output_type": "display_data",
          "data": {
            "image/png": "[encoded data removed]",
            "text/plain": [
              "<Figure size 576x576 with 1 Axes>"
            ]
          },
          "metadata": {
            "tags": [],
            "needs_background": "light"
          }
        }
      ]
    },
    {
      "cell_type": "code",
      "metadata": {
        "id": "yKNCwz4KBnfu",
        "colab": {
          "base_uri": "https://localhost:8080/",
          "height": 465
        },
        "outputId": "d62c3bcc-88f0-43f0-9d1e-072d49c6f642"
      },
      "source": [
        "data_index = 50\r\n",
        "x, _ = test_set.__getitem__(data_index)\r\n",
        "x = torch.from_numpy(x).unsqueeze(0).to(device)\r\n",
        "\r\n",
        "eval_show(x, 20)"
      ],
      "execution_count": 39,
      "outputs": [
        {
          "output_type": "display_data",
          "data": {
            "image/png": "[encoded data removed]",
            "text/plain": [
              "<Figure size 576x576 with 1 Axes>"
            ]
          },
          "metadata": {
            "tags": [],
            "needs_background": "light"
          }
        }
      ]
    },
    {
      "cell_type": "code",
      "metadata": {
        "colab": {
          "base_uri": "https://localhost:8080/",
          "height": 465
        },
        "id": "bMuSjXI-USRw",
        "outputId": "b9639afa-b43b-4221-c854-7f65732aa33a"
      },
      "source": [
        "data_index = 500\r\n",
        "x, _ = test_set.__getitem__(data_index)\r\n",
        "x = torch.from_numpy(x).unsqueeze(0).to(device)\r\n",
        "\r\n",
        "eval_show(x, 20)"
      ],
      "execution_count": 40,
      "outputs": [
        {
          "output_type": "display_data",
          "data": {
            "image/png": "[encoded data removed]",
            "text/plain": [
              "<Figure size 576x576 with 1 Axes>"
            ]
          },
          "metadata": {
            "tags": [],
            "needs_background": "light"
          }
        }
      ]
    }
  ]
}