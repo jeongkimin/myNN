{
  "nbformat": 4,
  "nbformat_minor": 0,
  "metadata": {
    "colab": {
      "name": "pointnet_segmentation.ipynb",
      "provenance": []
    },
    "kernelspec": {
      "name": "python3",
      "display_name": "Python 3"
    },
    "accelerator": "GPU"
  },
  "cells": [
    {
      "cell_type": "code",
      "metadata": {
        "id": "PgmT2vpQ3_uG",
        "outputId": "5fffb11a-68d8-4d49-931b-0e1d51cc8a99",
        "colab": {
          "base_uri": "https://localhost:8080/"
        }
      },
      "source": [
        "import torch\n",
        "import torch.nn as nn\n",
        "import torch.nn.functional as F\n",
        "import torch.optim as optim\n",
        "import torch.nn.init as init\n",
        "from torchvision import datasets, transforms\n",
        "import numpy as np\n",
        "import matplotlib.pyplot as plt\n",
        "from torchvision import datasets, transforms\n",
        "from torch.utils.data import DataLoader\n",
        "from google.colab import drive\n",
        "from PIL import Image\n",
        "import random\n",
        "\n",
        "drive.mount('/content/drive')\n",
        "npzip = np.load('/content/drive/My Drive/point_cloud_mnist.npz')"
      ],
      "execution_count": null,
      "outputs": [
        {
          "output_type": "stream",
          "text": [
            "Mounted at /content/drive\n"
          ],
          "name": "stdout"
        }
      ]
    },
    {
      "cell_type": "code",
      "metadata": {
        "id": "2m3xQliQKgWW",
        "outputId": "ce52036a-c220-4fda-f378-d1d7b836c9d0",
        "colab": {
          "base_uri": "https://localhost:8080/"
        }
      },
      "source": [
        "device = 'cuda' if torch.cuda.is_available() else 'cpu'\n",
        "if device == 'cuda':\n",
        "    gpu_info = !nvidia-smi\n",
        "    gpu_info = '\\n'.join(gpu_info)\n",
        "    if gpu_info.find('failed') >= 0:\n",
        "        print('Select the Runtime > \"Change runtime type\" menu to enable a GPU accelerator, ')\n",
        "        print('and then re-execute this cell.')\n",
        "    else:\n",
        "        print(gpu_info)\n",
        "print('device :',device)\n",
        "print('torch.version :',torch.__version__)"
      ],
      "execution_count": null,
      "outputs": [
        {
          "output_type": "stream",
          "text": [
            "Fri Oct 30 15:35:35 2020       \n",
            "+-----------------------------------------------------------------------------+\n",
            "| NVIDIA-SMI 455.32.00    Driver Version: 418.67       CUDA Version: 10.1     |\n",
            "|-------------------------------+----------------------+----------------------+\n",
            "| GPU  Name        Persistence-M| Bus-Id        Disp.A | Volatile Uncorr. ECC |\n",
            "| Fan  Temp  Perf  Pwr:Usage/Cap|         Memory-Usage | GPU-Util  Compute M. |\n",
            "|                               |                      |               MIG M. |\n",
            "|===============================+======================+======================|\n",
            "|   0  Tesla T4            Off  | 00000000:00:04.0 Off |                    0 |\n",
            "| N/A   59C    P8    11W /  70W |     10MiB / 15079MiB |      0%      Default |\n",
            "|                               |                      |                 ERR! |\n",
            "+-------------------------------+----------------------+----------------------+\n",
            "                                                                               \n",
            "+-----------------------------------------------------------------------------+\n",
            "| Processes:                                                                  |\n",
            "|  GPU   GI   CI        PID   Type   Process name                  GPU Memory |\n",
            "|        ID   ID                                                   Usage      |\n",
            "|=============================================================================|\n",
            "|  No running processes found                                                 |\n",
            "+-----------------------------------------------------------------------------+\n",
            "device : cuda\n",
            "torch.version : 1.6.0+cu101\n"
          ],
          "name": "stdout"
        }
      ]
    },
    {
      "cell_type": "code",
      "metadata": {
        "id": "UjHNFWiSC-nf"
      },
      "source": [
        "class DataSet(torch.utils.data.Dataset):\n",
        "    def __init__(self):\n",
        "        self.data = (torch.from_numpy(npzip['X']).float() - 48.) / 48.\n",
        "        self.targets = torch.from_numpy(npzip['Y']).long()\n",
        "\n",
        "    def __len__(self):\n",
        "        return len(self.data)\n",
        "    \n",
        "    def __getitem__(self, idx):\n",
        "        return self.data[idx], self.targets[idx]\n",
        "\n",
        "\n",
        "mb_size = 64\n",
        "dataset = DataSet()\n",
        "loader = torch.utils.data.DataLoader(dataset=dataset, batch_size=mb_size, shuffle=True, drop_last=True)"
      ],
      "execution_count": null,
      "outputs": []
    },
    {
      "cell_type": "code",
      "metadata": {
        "id": "HHg12oY64zCW"
      },
      "source": [
        "class Aggregater(nn.Module):\n",
        "    def __init__(self, kernel_size):\n",
        "        super(Aggregater, self).__init__()\n",
        "        self.kernel_size = kernel_size\n",
        "        self.maxpooler = nn.AdaptiveMaxPool2d((self.kernel_size, 1))\n",
        "\n",
        "    def forward(self, x):\n",
        "        return self.maxpooler(x.reshape(x.size(0), 1, -1, self.kernel_size)).reshape(x.size(0), self.kernel_size)\n",
        "\n",
        "\n",
        "class PointNetVanllia(nn.Module):\n",
        "\n",
        "    def __init__(self):\n",
        "        super(PointNetVanllia, self).__init__()\n",
        "\n",
        "        self.H1 = nn.Sequential(\n",
        "            nn.Conv2d(1, 64, kernel_size=(1, 2)),\n",
        "            nn.ReLU(),\n",
        "            nn.Conv2d(64, 64, 1),\n",
        "            nn.ReLU(),\n",
        "            nn.Conv2d(64, 64, 1),\n",
        "            nn.ReLU()\n",
        "        ).to(device)\n",
        "\n",
        "        self.H2 = nn.Sequential(\n",
        "            nn.Conv2d(64, 128, 1),\n",
        "            nn.ReLU(),\n",
        "            nn.Conv2d(128, 512, 1)\n",
        "        ).to(device)\n",
        "\n",
        "        self.G = Aggregater(512).to(device)\n",
        "\n",
        "        self.H3 = nn.Sequential(\n",
        "            nn.Conv2d(512 + 64, 128, 1),\n",
        "            nn.ReLU(),\n",
        "            nn.Conv2d(128, 64, 1),\n",
        "            nn.ReLU(),\n",
        "            nn.Conv2d(64, 10, 1)\n",
        "        ).to(device)\n",
        "\n",
        "    def forward(self, x):\n",
        "        x = x.unsqueeze(1)\n",
        "        points = self.H1(x)\n",
        "        global_feature = self.G(self.H2(points))\n",
        "        global_feature = global_feature.unsqueeze(-1)\n",
        "        global_feature = global_feature.expand(-1, -1, points.size(2))\n",
        "        points = points.squeeze(-1)\n",
        "        points_code = torch.cat([points, global_feature], dim=1).unsqueeze(-1)\n",
        "        return self.H3(points_code).squeeze(-1)\n",
        "\n",
        "\n",
        "\n",
        "\n",
        "model = PointNetVanllia()\n",
        "solver = optim.Adam(model.parameters(), lr=1e-5)"
      ],
      "execution_count": null,
      "outputs": []
    },
    {
      "cell_type": "code",
      "metadata": {
        "id": "uM5-W2x7YJCv",
        "outputId": "924a6450-564d-4ce6-c9ac-c764f609a81d",
        "colab": {
          "base_uri": "https://localhost:8080/"
        }
      },
      "source": [
        "def merge(left, right):\n",
        "    right_most, _ = torch.max(left[:, :, 0], dim=0)\n",
        "    left[:, :, 0] -= right_most + 0.05\n",
        "    left_most, _ = torch.min(right[:, :, 0], dim=0)\n",
        "    right[:, :, 0] -= left_most - 0.05\n",
        "    return torch.cat([left, right], dim=1) \n",
        "\n",
        "num_epochs = 1\n",
        "for epoch in range(num_epochs):\n",
        "    epoch_loss = 0.0\n",
        "    for _, (X, Y) in enumerate(loader):\n",
        "\n",
        "        Y = Y.unsqueeze(1).expand(-1, X.size(1))\n",
        "        Y = torch.cat([Y[:32, :], Y[32:, :]], dim=1).to(device)\n",
        "        X = merge(X[:32], X[32:]).to(device)\n",
        "\n",
        "        # plt.scatter(X[0][:, 0].cpu().numpy(), X[0][:, 1].cpu().numpy())\n",
        "        # plt.show()\n",
        "        # break\n",
        "        solver.zero_grad()\n",
        "        logit = model(X)\n",
        "        loss = F.cross_entropy(logit, Y, reduction='mean') * X.size(1)\n",
        "        loss.backward()\n",
        "        solver.step()\n",
        "        epoch_loss += loss.item()\n",
        "    print(epoch_loss/len(loader))\n"
      ],
      "execution_count": null,
      "outputs": [
        {
          "output_type": "stream",
          "text": [
            "159.70961921064932\n"
          ],
          "name": "stdout"
        }
      ]
    },
    {
      "cell_type": "code",
      "metadata": {
        "id": "rur9q9_-e_uI"
      },
      "source": [
        "def merge2(left, right):\n",
        "    right_most, _ = torch.max(left[:, :, 0], dim=1)\n",
        "    left[:, :, 0] -= right_most + 0.05\n",
        "    left_most, _ = torch.min(right[:, :, 0], dim=1)\n",
        "    right[:, :, 0] -= left_most - 0.05\n",
        "    return torch.cat([left, right], dim=1)"
      ],
      "execution_count": null,
      "outputs": []
    },
    {
      "cell_type": "code",
      "metadata": {
        "id": "AjC52-FaZfcn",
        "outputId": "bf64d8ed-4748-43bf-d166-de0cdf96a0ad",
        "colab": {
          "base_uri": "https://localhost:8080/",
          "height": 486
        }
      },
      "source": [
        "data_index1 = random.randint(0, 59999)\n",
        "data_index2 = random.randint(0, 59999)\n",
        "X = merge2(dataset.data[data_index1].unsqueeze(0), dataset.data[data_index2].unsqueeze(0))\n",
        "Y = model(X.to(device)).detach().cpu()\n",
        "Y = torch.argmax(Y, dim=1).squeeze(0)\n",
        "X = X.numpy()\n",
        "Y = Y.numpy()\n",
        "plt.figure(figsize=(8, 8))\n",
        "plt.xlim(-2, 2)\n",
        "plt.ylim(-2, 2)\n",
        "\n",
        "for k in range(10):\n",
        "    k_index = (Y == k)\n",
        "    if k_index.sum() != 0:\n",
        "        plt.scatter(X[0][k_index, 0], X[0][k_index, 1], label=str(k))\n",
        "plt.legend()\n",
        "plt.show()"
      ],
      "execution_count": null,
      "outputs": [
        {
          "output_type": "display_data",
          "data": {
            "image/png": "[encoded data removed]",
            "text/plain": [
              "<Figure size 576x576 with 1 Axes>"
            ]
          },
          "metadata": {
            "tags": [],
            "needs_background": "light"
          }
        }
      ]
    }
  ]
}