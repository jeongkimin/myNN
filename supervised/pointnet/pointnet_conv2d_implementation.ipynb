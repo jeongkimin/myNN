{
  "nbformat": 4,
  "nbformat_minor": 0,
  "metadata": {
    "colab": {
      "name": "pointnet_conv2d_implementation.ipynb",
      "provenance": []
    },
    "kernelspec": {
      "name": "python3",
      "display_name": "Python 3"
    },
    "accelerator": "GPU"
  },
  "cells": [
    {
      "cell_type": "code",
      "metadata": {
        "id": "PgmT2vpQ3_uG",
        "outputId": "693a969f-7c50-4c65-a94a-0b9f9f1295b3",
        "colab": {
          "base_uri": "https://localhost:8080/"
        }
      },
      "source": [
        "import torch\n",
        "import torch.nn as nn\n",
        "import torch.nn.functional as F\n",
        "import torch.optim as optim\n",
        "import torch.nn.init as init\n",
        "from torchvision import datasets, transforms\n",
        "import numpy as np\n",
        "import matplotlib.pyplot as plt\n",
        "from torchvision import datasets, transforms\n",
        "from torch.utils.data import DataLoader\n",
        "from google.colab import drive\n",
        "from PIL import Image\n",
        "import random\n",
        "\n",
        "drive.mount('/content/drive')\n",
        "npzip = np.load('/content/drive/My Drive/point_cloud_mnist.npz')"
      ],
      "execution_count": 31,
      "outputs": [
        {
          "output_type": "stream",
          "text": [
            "Drive already mounted at /content/drive; to attempt to forcibly remount, call drive.mount(\"/content/drive\", force_remount=True).\n"
          ],
          "name": "stdout"
        }
      ]
    },
    {
      "cell_type": "code",
      "metadata": {
        "id": "2m3xQliQKgWW",
        "outputId": "9cf414c1-8b4e-4b1c-aa02-2e080391d4e9",
        "colab": {
          "base_uri": "https://localhost:8080/"
        }
      },
      "source": [
        "device = 'cuda' if torch.cuda.is_available() else 'cpu'\n",
        "if device == 'cuda':\n",
        "    gpu_info = !nvidia-smi\n",
        "    gpu_info = '\\n'.join(gpu_info)\n",
        "    if gpu_info.find('failed') >= 0:\n",
        "        print('Select the Runtime > \"Change runtime type\" menu to enable a GPU accelerator, ')\n",
        "        print('and then re-execute this cell.')\n",
        "    else:\n",
        "        print(gpu_info)\n",
        "print('device :',device)\n",
        "print('torch.version :',torch.__version__)"
      ],
      "execution_count": 32,
      "outputs": [
        {
          "output_type": "stream",
          "text": [
            "Fri Oct 30 11:29:39 2020       \n",
            "+-----------------------------------------------------------------------------+\n",
            "| NVIDIA-SMI 455.32.00    Driver Version: 418.67       CUDA Version: 10.1     |\n",
            "|-------------------------------+----------------------+----------------------+\n",
            "| GPU  Name        Persistence-M| Bus-Id        Disp.A | Volatile Uncorr. ECC |\n",
            "| Fan  Temp  Perf  Pwr:Usage/Cap|         Memory-Usage | GPU-Util  Compute M. |\n",
            "|                               |                      |               MIG M. |\n",
            "|===============================+======================+======================|\n",
            "|   0  Tesla T4            Off  | 00000000:00:04.0 Off |                    0 |\n",
            "| N/A   71C    P0    30W /  70W |    973MiB / 15079MiB |      0%      Default |\n",
            "|                               |                      |                 ERR! |\n",
            "+-------------------------------+----------------------+----------------------+\n",
            "                                                                               \n",
            "+-----------------------------------------------------------------------------+\n",
            "| Processes:                                                                  |\n",
            "|  GPU   GI   CI        PID   Type   Process name                  GPU Memory |\n",
            "|        ID   ID                                                   Usage      |\n",
            "|=============================================================================|\n",
            "|  No running processes found                                                 |\n",
            "+-----------------------------------------------------------------------------+\n",
            "device : cuda\n",
            "torch.version : 1.6.0+cu101\n"
          ],
          "name": "stdout"
        }
      ]
    },
    {
      "cell_type": "code",
      "metadata": {
        "id": "UjHNFWiSC-nf"
      },
      "source": [
        "class DataSet(torch.utils.data.Dataset):\n",
        "    def __init__(self):\n",
        "        self.data = (torch.from_numpy(npzip['X']).float() - 48.) / 48.\n",
        "        self.targets = torch.from_numpy(npzip['Y']).long()\n",
        "\n",
        "    def __len__(self):\n",
        "        return len(self.data)\n",
        "    \n",
        "    def __getitem__(self, idx):\n",
        "        return self.data[idx], self.targets[idx]\n",
        "\n",
        "\n",
        "mb_size = 64\n",
        "dataset = DataSet()\n",
        "loader = torch.utils.data.DataLoader(dataset=dataset, batch_size=mb_size, shuffle=True, drop_last=True)"
      ],
      "execution_count": 34,
      "outputs": []
    },
    {
      "cell_type": "code",
      "metadata": {
        "id": "HHg12oY64zCW"
      },
      "source": [
        "class Aggregater(nn.Module):\n",
        "    def __init__(self, kernel_size):\n",
        "        super(Aggregater, self).__init__()\n",
        "        self.kernel_size = kernel_size\n",
        "        self.maxpooler = nn.AdaptiveMaxPool2d((self.kernel_size, 1))\n",
        "\n",
        "    def forward(self, x):\n",
        "        return self.maxpooler(x.reshape(x.size(0), 1, -1, self.kernel_size)).reshape(x.size(0), self.kernel_size)\n",
        "\n",
        "\n",
        "class PointNetVanllia(nn.Module):\n",
        "\n",
        "    def __init__(self):\n",
        "        super(PointNetVanllia, self).__init__()\n",
        "        self.base = nn.Sequential(\n",
        "            nn.Conv2d(1, 64, kernel_size=(1, 2)),\n",
        "            nn.ReLU(),\n",
        "            nn.Conv2d(64, 64, 1),\n",
        "            nn.ReLU(),\n",
        "            nn.Conv2d(64, 128, 1),\n",
        "            nn.ReLU(),\n",
        "            nn.Conv2d(128, 512, 1),\n",
        "            Aggregater(512)\n",
        "        ).to(device)\n",
        "\n",
        "        self.classifier = nn.Sequential(\n",
        "            nn.Linear(512, 64),\n",
        "            nn.ReLU(),\n",
        "            nn.Linear(64, 32),\n",
        "            nn.ReLU(),\n",
        "            nn.Linear(32, 10)\n",
        "        ).to(device)\n",
        "\n",
        "    def forward(self, x):\n",
        "        x = x.unsqueeze(1)\n",
        "        f = self.base(x)\n",
        "        return self.classifier(f)\n",
        "\n",
        "\n",
        "\n",
        "\n",
        "model = PointNetVanllia()\n",
        "solver = optim.Adam(model.parameters(), lr=1e-5)"
      ],
      "execution_count": 51,
      "outputs": []
    },
    {
      "cell_type": "code",
      "metadata": {
        "id": "qYoNA2YMJD8b",
        "outputId": "95ce738f-c3a6-4779-ab6e-435dcf60747f",
        "colab": {
          "base_uri": "https://localhost:8080/",
          "height": 544
        }
      },
      "source": [
        "LOSS = []\n",
        "ACCURACY = []\n",
        "num_epochs = 200\n",
        "for epoch in range(num_epochs):\n",
        "    epoch_loss = 0.0\n",
        "    epoch_accuracy = 0\n",
        "    for _, (X, Y) in enumerate(loader):\n",
        "        X = X.to(device)\n",
        "        Y = Y.to(device)\n",
        "        solver.zero_grad()\n",
        "        logit = model(X)\n",
        "        loss = F.cross_entropy(logit, Y, reduction='mean')\n",
        "        loss.backward()\n",
        "        solver.step()\n",
        "        epoch_loss += loss.item()\n",
        "\n",
        "        epoch_accuracy += (torch.argmax(logit.detach(), dim=-1) == Y).sum().item() / mb_size\n",
        "    LOSS.append(epoch_loss / len(loader))\n",
        "    ACCURACY.append(epoch_accuracy / len(loader))\n",
        "\n",
        "\n",
        "plt.figure(figsize=(21, 4))\n",
        "plt.title('LOSS')\n",
        "plt.plot(np.arange(1, len(LOSS) + 1), LOSS, label='loss')\n",
        "plt.legend()\n",
        "plt.show()\n",
        "\n",
        "plt.figure(figsize=(21, 4))\n",
        "plt.title('ACCURACY')\n",
        "plt.plot(np.arange(1, len(ACCURACY) + 1), ACCURACY, label='accuracu')\n",
        "plt.legend()\n",
        "plt.show() "
      ],
      "execution_count": 52,
      "outputs": [
        {
          "output_type": "display_data",
          "data": {
            "image/png": "[encoded data removed]",
            "text/plain": [
              "<Figure size 1512x288 with 1 Axes>"
            ]
          },
          "metadata": {
            "tags": [],
            "needs_background": "light"
          }
        },
        {
          "output_type": "display_data",
          "data": {
            "image/png": "[encoded data removed]",
            "text/plain": [
              "<Figure size 1512x288 with 1 Axes>"
            ]
          },
          "metadata": {
            "tags": [],
            "needs_background": "light"
          }
        }
      ]
    },
    {
      "cell_type": "code",
      "metadata": {
        "id": "AjC52-FaZfcn",
        "outputId": "3ccf4a57-ba4f-42df-d2d8-dc946686b86c",
        "colab": {
          "base_uri": "https://localhost:8080/"
        }
      },
      "source": [
        "print('final loss:', LOSS[-1])\n",
        "print('final accuracy:', ACCURACY[-1])"
      ],
      "execution_count": 54,
      "outputs": [
        {
          "output_type": "stream",
          "text": [
            "final loss: 0.3660789547983076\n",
            "final accuracy: 0.880469583778015\n"
          ],
          "name": "stdout"
        }
      ]
    },
    {
      "cell_type": "code",
      "metadata": {
        "id": "S86RpYlILtAE",
        "outputId": "1f5535c8-55b8-4024-8418-1631e34ce812",
        "colab": {
          "base_uri": "https://localhost:8080/",
          "height": 506
        }
      },
      "source": [
        "test_index = 10000\n",
        "plt.figure(figsize=(5, 5))\n",
        "plt.xlim(-1, 1)\n",
        "plt.ylim(-1, 1)\n",
        "plt.scatter(dataset.data[test_index, :, 0], dataset.data[test_index, :, 1], s=30)\n",
        "plt.show()\n",
        "test_data = dataset.data[test_index].unsqueeze(0).to(device)\n",
        "logit = model(test_data)\n",
        "np.set_printoptions(precision=3, suppress=True)\n",
        "pred = F.softmax(logit[0], dim=-1).cpu().detach().numpy()\n",
        "for i in range(10):\n",
        "    print(i,': ', format(pred[i], '.3f'))"
      ],
      "execution_count": 59,
      "outputs": [
        {
          "output_type": "display_data",
          "data": {
            "image/png": "[encoded data removed]",
            "text/plain": [
              "<Figure size 360x360 with 1 Axes>"
            ]
          },
          "metadata": {
            "tags": [],
            "needs_background": "light"
          }
        },
        {
          "output_type": "stream",
          "text": [
            "0 :  0.000\n",
            "1 :  0.000\n",
            "2 :  0.000\n",
            "3 :  0.993\n",
            "4 :  0.000\n",
            "5 :  0.006\n",
            "6 :  0.000\n",
            "7 :  0.001\n",
            "8 :  0.000\n",
            "9 :  0.000\n"
          ],
          "name": "stdout"
        }
      ]
    }
  ]
}