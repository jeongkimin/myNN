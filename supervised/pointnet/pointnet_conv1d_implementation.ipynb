{
  "nbformat": 4,
  "nbformat_minor": 0,
  "metadata": {
    "colab": {
      "name": "pointnet_conv1d_implementation.ipynb",
      "provenance": [],
      "collapsed_sections": []
    },
    "kernelspec": {
      "name": "python3",
      "display_name": "Python 3"
    },
    "accelerator": "GPU"
  },
  "cells": [
    {
      "cell_type": "code",
      "metadata": {
        "id": "TqnXStbxUnjv",
        "outputId": "473af790-2843-43a3-e359-f42aa7a00028",
        "colab": {
          "base_uri": "https://localhost:8080/"
        }
      },
      "source": [
        "import torch\n",
        "import torch.nn as nn\n",
        "import torch.nn.functional as F\n",
        "import torch.optim as optim\n",
        "import torch.nn.init as init\n",
        "from torchvision import datasets, transforms\n",
        "import numpy as np\n",
        "import matplotlib.pyplot as plt\n",
        "from torchvision import datasets, transforms\n",
        "from torch.utils.data import DataLoader\n",
        "from google.colab import drive\n",
        "from PIL import Image\n",
        "import random\n",
        "\n",
        "drive.mount('/content/drive')\n",
        "npzip = np.load('/content/drive/My Drive/point_cloud_mnist.npz')"
      ],
      "execution_count": 1,
      "outputs": [
        {
          "output_type": "stream",
          "text": [
            "Mounted at /content/drive\n"
          ],
          "name": "stdout"
        }
      ]
    },
    {
      "cell_type": "code",
      "metadata": {
        "id": "7exc2-osaezp",
        "outputId": "b1790bfb-c1ba-4e6a-b655-5bb8f5ae575c",
        "colab": {
          "base_uri": "https://localhost:8080/"
        }
      },
      "source": [
        "device = 'cuda' if torch.cuda.is_available() else 'cpu'\n",
        "if device == 'cuda':\n",
        "    gpu_info = !nvidia-smi\n",
        "    gpu_info = '\\n'.join(gpu_info)\n",
        "    if gpu_info.find('failed') >= 0:\n",
        "        print('Select the Runtime > \"Change runtime type\" menu to enable a GPU accelerator, ')\n",
        "        print('and then re-execute this cell.')\n",
        "    else:\n",
        "        print(gpu_info)\n",
        "print('device :',device)\n",
        "print('torch.version :',torch.__version__)"
      ],
      "execution_count": 2,
      "outputs": [
        {
          "output_type": "stream",
          "text": [
            "Fri Oct 30 12:37:05 2020       \n",
            "+-----------------------------------------------------------------------------+\n",
            "| NVIDIA-SMI 455.32.00    Driver Version: 418.67       CUDA Version: 10.1     |\n",
            "|-------------------------------+----------------------+----------------------+\n",
            "| GPU  Name        Persistence-M| Bus-Id        Disp.A | Volatile Uncorr. ECC |\n",
            "| Fan  Temp  Perf  Pwr:Usage/Cap|         Memory-Usage | GPU-Util  Compute M. |\n",
            "|                               |                      |               MIG M. |\n",
            "|===============================+======================+======================|\n",
            "|   0  Tesla T4            Off  | 00000000:00:04.0 Off |                    0 |\n",
            "| N/A   52C    P8    10W /  70W |     10MiB / 15079MiB |      0%      Default |\n",
            "|                               |                      |                 ERR! |\n",
            "+-------------------------------+----------------------+----------------------+\n",
            "                                                                               \n",
            "+-----------------------------------------------------------------------------+\n",
            "| Processes:                                                                  |\n",
            "|  GPU   GI   CI        PID   Type   Process name                  GPU Memory |\n",
            "|        ID   ID                                                   Usage      |\n",
            "|=============================================================================|\n",
            "|  No running processes found                                                 |\n",
            "+-----------------------------------------------------------------------------+\n",
            "device : cuda\n",
            "torch.version : 1.6.0+cu101\n"
          ],
          "name": "stdout"
        }
      ]
    },
    {
      "cell_type": "code",
      "metadata": {
        "id": "iot8WjuqahXH"
      },
      "source": [
        "class DataSet(torch.utils.data.Dataset):\n",
        "    def __init__(self):\n",
        "        self.data = (torch.from_numpy(npzip['X']).float() - 48.) / 48.\n",
        "        self.targets = torch.from_numpy(npzip['Y']).long()\n",
        "\n",
        "    def __len__(self):\n",
        "        return len(self.data)\n",
        "    \n",
        "    def __getitem__(self, idx):\n",
        "        return self.data[idx], self.targets[idx]\n",
        "\n",
        "\n",
        "mb_size = 64\n",
        "dataset = DataSet()\n",
        "loader = torch.utils.data.DataLoader(dataset=dataset, batch_size=mb_size, shuffle=True, drop_last=True)"
      ],
      "execution_count": 3,
      "outputs": []
    },
    {
      "cell_type": "code",
      "metadata": {
        "id": "8QDDKLMiahYr"
      },
      "source": [
        "class View(nn.Module):\n",
        "    def __init__(self, size):\n",
        "        super(View, self).__init__()\n",
        "        self.size = size\n",
        "\n",
        "    def forward(self, tensor):\n",
        "        return tensor.view(self.size)\n",
        "\n",
        "\n",
        "\n",
        "class PointNetVanllia(nn.Module):\n",
        "\n",
        "    def __init__(self):\n",
        "        super(PointNetVanllia, self).__init__()\n",
        "        self.H = nn.Sequential(\n",
        "            nn.Conv1d(2, 64, 1), #(B, 2, N) -> (B, 64, N)\n",
        "            nn.ReLU(),\n",
        "            nn.Conv1d(64, 64, 1), #(B, 64, N) -> (B, 64, N)\n",
        "            nn.ReLU(),\n",
        "            nn.Conv1d(64, 128, 1), #(B, 64, N) -> (B, 128, N),\n",
        "            nn.ReLU(),\n",
        "            nn.Conv1d(128, 512, 1), #(B, 128, N) -> (B, 512, N)\n",
        "        ).to(device)\n",
        "\n",
        "        self.G = nn.Sequential(\n",
        "            nn.AdaptiveMaxPool1d((1)), #(B, 512, N) -> (B, 512, 1)\n",
        "            View((-1, 512)) #(B, 512, N) -> (B, 512)\n",
        "        ).to(device)\n",
        "\n",
        "        self.classifier = nn.Sequential(\n",
        "            nn.Linear(512, 64),\n",
        "            nn.ReLU(),\n",
        "            nn.Linear(64, 32),\n",
        "            nn.ReLU(),\n",
        "            nn.Linear(32, 10)\n",
        "        ).to(device)\n",
        "\n",
        "    def forward(self, x):\n",
        "        x = x.transpose(1, 2) #(B, N, 2) -> (B, 2, N)\n",
        "        h = self.H(x) #(B, 2, N) -> (B, 512, N)\n",
        "        g = self.G(h) #(B, 512, N) -> (B, 10)\n",
        "        return self.classifier(g)\n",
        "\n",
        "\n",
        "model = PointNetVanllia()\n",
        "solver = optim.Adam(model.parameters(), lr=1e-5)"
      ],
      "execution_count": 4,
      "outputs": []
    },
    {
      "cell_type": "code",
      "metadata": {
        "id": "7SkjRJmIahcO",
        "outputId": "c19b4ed1-a359-4956-d6eb-22c5c8846717",
        "colab": {
          "base_uri": "https://localhost:8080/",
          "height": 544
        }
      },
      "source": [
        "LOSS = []\n",
        "ACCURACY = []\n",
        "num_epochs = 200\n",
        "for epoch in range(num_epochs):\n",
        "    epoch_loss = 0.0\n",
        "    epoch_accuracy = 0\n",
        "    for _, (X, Y) in enumerate(loader):\n",
        "        X = X.to(device)\n",
        "        Y = Y.to(device)\n",
        "        solver.zero_grad()\n",
        "        logit = model(X)\n",
        "        loss = F.cross_entropy(logit, Y, reduction='mean')\n",
        "        loss.backward()\n",
        "        solver.step()\n",
        "        epoch_loss += loss.item()\n",
        "        batch_accuracy = (torch.argmax(logit.detach(), dim=-1) == Y).sum().item() / mb_size\n",
        "        epoch_accuracy += batch_accuracy\n",
        "    LOSS.append(epoch_loss / len(loader))\n",
        "    ACCURACY.append(epoch_accuracy / len(loader))\n",
        "\n",
        "\n",
        "plt.figure(figsize=(21, 4))\n",
        "plt.title('LOSS')\n",
        "plt.plot(np.arange(1, len(LOSS) + 1), LOSS, label='loss')\n",
        "plt.legend()\n",
        "plt.show()\n",
        "\n",
        "plt.figure(figsize=(21, 4))\n",
        "plt.title('ACCURACY')\n",
        "plt.plot(np.arange(1, len(ACCURACY) + 1), ACCURACY, label='accuracu')\n",
        "plt.legend()\n",
        "plt.show() "
      ],
      "execution_count": 5,
      "outputs": [
        {
          "output_type": "display_data",
          "data": {
            "image/png": "[encoded data removed]",
            "text/plain": [
              "<Figure size 1512x288 with 1 Axes>"
            ]
          },
          "metadata": {
            "tags": [],
            "needs_background": "light"
          }
        },
        {
          "output_type": "display_data",
          "data": {
            "image/png": "[encoded data removed]",
            "text/plain": [
              "<Figure size 1512x288 with 1 Axes>"
            ]
          },
          "metadata": {
            "tags": [],
            "needs_background": "light"
          }
        }
      ]
    },
    {
      "cell_type": "code",
      "metadata": {
        "id": "QDrJTl3JahfI",
        "outputId": "1d550d8f-36cf-48f8-b41d-9a31e9b3f2e9",
        "colab": {
          "base_uri": "https://localhost:8080/"
        }
      },
      "source": [
        "print('final loss:', LOSS[-1])\n",
        "print('final accuracy:', ACCURACY[-1])"
      ],
      "execution_count": 6,
      "outputs": [
        {
          "output_type": "stream",
          "text": [
            "final loss: 0.29134702622858666\n",
            "final accuracy: 0.9080342849519744\n"
          ],
          "name": "stdout"
        }
      ]
    },
    {
      "cell_type": "code",
      "metadata": {
        "id": "tz4g35Viao5d",
        "outputId": "5099afc4-3275-42a9-de7f-8c223a26adc4",
        "colab": {
          "base_uri": "https://localhost:8080/",
          "height": 506
        }
      },
      "source": [
        "test_index = 10000\n",
        "plt.figure(figsize=(5, 5))\n",
        "plt.xlim(-1, 1)\n",
        "plt.ylim(-1, 1)\n",
        "plt.scatter(dataset.data[test_index, :, 0], dataset.data[test_index, :, 1], s=30)\n",
        "plt.show()\n",
        "test_data = dataset.data[test_index].unsqueeze(0).to(device)\n",
        "logit = model(test_data)\n",
        "np.set_printoptions(precision=3, suppress=True)\n",
        "pred = F.softmax(logit[0], dim=-1).cpu().detach().numpy()\n",
        "for i in range(10):\n",
        "    print(i,': ', format(pred[i], '.3f'))"
      ],
      "execution_count": 8,
      "outputs": [
        {
          "output_type": "display_data",
          "data": {
            "image/png": "[encoded data removed]",
            "text/plain": [
              "<Figure size 360x360 with 1 Axes>"
            ]
          },
          "metadata": {
            "tags": [],
            "needs_background": "light"
          }
        },
        {
          "output_type": "stream",
          "text": [
            "0 :  0.000\n",
            "1 :  0.000\n",
            "2 :  0.000\n",
            "3 :  0.994\n",
            "4 :  0.000\n",
            "5 :  0.003\n",
            "6 :  0.000\n",
            "7 :  0.001\n",
            "8 :  0.002\n",
            "9 :  0.000\n"
          ],
          "name": "stdout"
        }
      ]
    }
  ]
}