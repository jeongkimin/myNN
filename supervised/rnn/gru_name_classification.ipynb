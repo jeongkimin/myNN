{
  "nbformat": 4,
  "nbformat_minor": 0,
  "metadata": {
    "colab": {
      "name": "GRU.ipynb",
      "provenance": [],
      "collapsed_sections": []
    },
    "kernelspec": {
      "name": "python3",
      "display_name": "Python 3"
    }
  },
  "cells": [
    {
      "cell_type": "code",
      "metadata": {
        "id": "Nta_05oz6SM3",
        "outputId": "23a53e61-ffbe-4674-9b33-a0dfb8a98242",
        "colab": {
          "base_uri": "https://localhost:8080/"
        }
      },
      "source": [
        "import torch\n",
        "import torch.nn as nn\n",
        "import torch.nn.functional as F\n",
        "import torch.optim as optim\n",
        "import torch.nn.init as init\n",
        "from torchvision import datasets, transforms\n",
        "import numpy as np\n",
        "import matplotlib.pyplot as plt\n",
        "from torchvision import datasets, transforms\n",
        "from torch.utils.data import DataLoader\n",
        "from google.colab import drive\n",
        "import random\n",
        "import pickle\n",
        "drive.mount('/content/drive')\n",
        "file_dir = \"/content/drive/My Drive/names.npz\"\n",
        "zip_data = np.load(file_dir, allow_pickle=True)\n",
        "label_dic = zip_data['label_dic'].item()\n",
        "index_dic = zip_data['idx_dic'].item()\n",
        "X = zip_data['x']\n",
        "Y = zip_data['y']\n"
      ],
      "execution_count": null,
      "outputs": [
        {
          "output_type": "stream",
          "text": [
            "Mounted at /content/drive\n"
          ],
          "name": "stdout"
        }
      ]
    },
    {
      "cell_type": "code",
      "metadata": {
        "id": "F1EU92t96u1c"
      },
      "source": [
        "def cut(x):\n",
        "    for i, k in enumerate(x):\n",
        "        if k == 26:\n",
        "            return x[:i]\n",
        "    return x\n",
        "\n",
        "def index2Onehot(x):\n",
        "    one_hot = torch.zeros((len(x), 27), dtype=torch.float32)\n",
        "    for i in range(len(x)):\n",
        "        one_hot[i][x[i]] = 1.0\n",
        "    return one_hot"
      ],
      "execution_count": null,
      "outputs": []
    },
    {
      "cell_type": "code",
      "metadata": {
        "id": "qepYjtn-vQtS"
      },
      "source": [
        "class GRU(nn.Module):\n",
        "    def __init__(self, input_size, hidden_size):\n",
        "        super(GRU, self).__init__()\n",
        "        self.hidden_size = hidden_size\n",
        "        self.Wreset = nn.Linear(input_size + hidden_size, hidden_size)\n",
        "        self.r_sig = nn.Sigmoid()\n",
        "        self.Wgate = nn.Linear(input_size + hidden_size, hidden_size)\n",
        "        self.g_sig = nn.Sigmoid()\n",
        "        self.Wmain = nn.Linear(input_size + hidden_size, hidden_size)\n",
        "        self.tanh = nn.Tanh()\n",
        "        \n",
        "    def forward(self, x, h):\n",
        "        combined = torch.cat((x, h), dim=1)\n",
        "        r = self.r_sig(self.Wreset(combined))\n",
        "        g = self.g_sig(self.Wgate(combined))\n",
        "        hidden = (1.0 - g) * h + g * self.tanh(self.Wmain(torch.cat((x, r * h), dim=1))) \n",
        "        return hidden\n",
        "\n",
        "    def initHidden(self):\n",
        "        return torch.zeros(1, self.hidden_size)\n",
        "\n",
        "\n",
        "\n",
        "\n",
        "learning_rate = 0.000005\n",
        "n_hidden = 128\n",
        "rnn = GRU(len(index_dic), n_hidden)\n",
        "Wout = nn.Linear(n_hidden, len(label_dic))\n",
        "solver = optim.Adam(list(rnn.parameters()) + list(Wout.parameters()) , learning_rate)"
      ],
      "execution_count": null,
      "outputs": []
    },
    {
      "cell_type": "code",
      "metadata": {
        "id": "q5_ozPn1vVey",
        "outputId": "d30c467e-63c8-4164-9c65-df8a1431e6b4",
        "colab": {
          "base_uri": "https://localhost:8080/"
        }
      },
      "source": [
        "LOSS = []\n",
        "for _ in range(50):\n",
        "    LOSS_AVG = 0.0\n",
        "    for nb_batch in range(10000):\n",
        "        solver.zero_grad()\n",
        "        data_index = random.randint(0, len(X) - 1)\n",
        "        x = cut(X[data_index])\n",
        "        y = torch.LongTensor([Y[data_index]])\n",
        "        x = index2Onehot(x).unsqueeze(1)\n",
        "        h = rnn.initHidden()\n",
        "        for c in x:\n",
        "            h = rnn(c, h)\n",
        "        loss = F.cross_entropy(Wout(h), y)\n",
        "        loss.backward()\n",
        "        solver.step()\n",
        "        LOSS_AVG += loss.item()\n",
        "    LOSS.append(LOSS_AVG/10000)\n",
        "    print(LOSS[-1])"
      ],
      "execution_count": null,
      "outputs": [
        {
          "output_type": "stream",
          "text": [
            "2.338953101875633\n",
            "1.7714777745455503\n",
            "1.7657751948311924\n",
            "1.748272775313258\n",
            "1.6862693977966905\n",
            "1.675343518768251\n",
            "1.6416441442504526\n",
            "1.634166139997542\n",
            "1.5976516233228146\n",
            "1.5482249634757639\n",
            "1.5586765725523233\n",
            "1.5269293113794178\n",
            "1.5132762709645555\n",
            "1.4926789885465055\n",
            "1.4527268543692307\n",
            "1.4504867309953087\n",
            "1.4269173806855455\n",
            "1.4088780532192904\n",
            "1.3885045915607828\n",
            "1.3920122014126741\n",
            "1.3626884498510043\n",
            "1.3748641417323844\n",
            "1.3154190194854745\n",
            "1.3352682693523588\n",
            "1.3048364709859481\n",
            "1.273043364491593\n",
            "1.284202341177105\n",
            "1.2678458415752043\n",
            "1.247566565852496\n",
            "1.2522942110972712\n",
            "1.2415892422691686\n",
            "1.232085894786514\n",
            "1.2101468723064288\n",
            "1.2105063887330587\n",
            "1.2117966852081008\n",
            "1.167469615905988\n",
            "1.1771684767425643\n",
            "1.1708159161901917\n",
            "1.1656248611835267\n",
            "1.1587991381741827\n",
            "1.1267914911335422\n",
            "1.1323509803072316\n",
            "1.119522267336308\n",
            "1.1232862381993736\n",
            "1.1310113543853046\n",
            "1.0947913295638632\n",
            "1.123441936986451\n",
            "1.0981649311677901\n",
            "1.102229119870407\n",
            "1.077189615956656\n"
          ],
          "name": "stdout"
        }
      ]
    },
    {
      "cell_type": "code",
      "metadata": {
        "id": "J-1TOo30zs4j",
        "outputId": "3641e559-5130-419c-caa8-55eb026cad16",
        "colab": {
          "base_uri": "https://localhost:8080/",
          "height": 268
        }
      },
      "source": [
        "plt.plot(np.arange(1, len(LOSS)+1), LOSS)\n",
        "plt.show()\n"
      ],
      "execution_count": null,
      "outputs": [
        {
          "output_type": "display_data",
          "data": {
            "image/png": "[encoded data removed]",
            "text/plain": [
              "<Figure size 432x288 with 1 Axes>"
            ]
          },
          "metadata": {
            "tags": [],
            "needs_background": "light"
          }
        }
      ]
    },
    {
      "cell_type": "code",
      "metadata": {
        "id": "k43-k-kCz0Yh",
        "outputId": "770d57f1-49f9-4fd4-f78c-cae4bc9a31ce",
        "colab": {
          "base_uri": "https://localhost:8080/"
        }
      },
      "source": [
        "with torch.no_grad():\n",
        "    correct = 0\n",
        "    for iter in range(10000):\n",
        "        data_index = random.randint(0, len(X) - 1)\n",
        "        x = cut(X[data_index])\n",
        "        y = torch.LongTensor([Y[data_index]])\n",
        "        x = index2Onehot(x).unsqueeze(1)\n",
        "        h = rnn.initHidden()\n",
        "        for c in x:\n",
        "            h = rnn(c, h)\n",
        "        o = Wout(h)\n",
        "        if torch.argmax(o).item() == y.item():\n",
        "            correct += 1\n",
        "    print('accuracy : ', correct/10000)\n"
      ],
      "execution_count": null,
      "outputs": [
        {
          "output_type": "stream",
          "text": [
            "accuracy :  0.6841\n"
          ],
          "name": "stdout"
        }
      ]
    },
    {
      "cell_type": "code",
      "metadata": {
        "id": "U-3OeOlf86bo",
        "outputId": "0136d866-2b60-457a-a7c2-970d31b3f6d7",
        "colab": {
          "base_uri": "https://localhost:8080/"
        }
      },
      "source": [
        "with torch.no_grad():\n",
        "\n",
        "    data_index = random.randint(0, len(X) - 1)\n",
        "    x = cut(X[data_index])\n",
        "    y = torch.LongTensor([Y[data_index]])\n",
        "    x = index2Onehot(x).unsqueeze(1)\n",
        "    h = rnn.initHidden()\n",
        "    name = []\n",
        "    for c in x:\n",
        "        h = rnn(c, h)\n",
        "        name.append(chr(torch.argmax(c).item() + ord('a')))\n",
        "    o = Wout(h)\n",
        "    print('name : ', ''.join(name))\n",
        "    print('answ : ', label_dic[y.item()])\n",
        "    prob = F.softmax(o, dim=-1).squeeze()\n",
        "    prob, idx = torch.topk(prob, 3)\n",
        "    for k in range(len(prob)):\n",
        "        print(k + 1,':', label_dic[idx[k].item()], 'prob:',prob[k].item())\n"
      ],
      "execution_count": null,
      "outputs": [
        {
          "output_type": "stream",
          "text": [
            "name :  handal\n",
            "answ :  Arabic\n",
            "1 : Arabic prob: 0.46576735377311707\n",
            "2 : English prob: 0.2028008997440338\n",
            "3 : Russian prob: 0.1846141219139099\n"
          ],
          "name": "stdout"
        }
      ]
    }
  ]
}