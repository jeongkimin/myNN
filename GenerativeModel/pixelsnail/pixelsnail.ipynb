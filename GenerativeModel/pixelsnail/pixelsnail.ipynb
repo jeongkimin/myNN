{
  "nbformat": 4,
  "nbformat_minor": 0,
  "metadata": {
    "colab": {
      "name": "pixelsnail.ipynb",
      "provenance": []
    },
    "kernelspec": {
      "name": "python3",
      "display_name": "Python 3"
    },
    "accelerator": "GPU",
    "widgets": {
      "application/vnd.jupyter.widget-state+json": {
        "5e92a96098c748549614f69a3f790cb4": {
          "model_module": "@jupyter-widgets/controls",
          "model_name": "HBoxModel",
          "state": {
            "_view_name": "HBoxView",
            "_dom_classes": [],
            "_model_name": "HBoxModel",
            "_view_module": "@jupyter-widgets/controls",
            "_model_module_version": "1.5.0",
            "_view_count": null,
            "_view_module_version": "1.5.0",
            "box_style": "",
            "layout": "IPY_MODEL_71e6ca8cbf9847a28e952aa830645b1f",
            "_model_module": "@jupyter-widgets/controls",
            "children": [
              "IPY_MODEL_940a2b6cc4cb4e929e2dec20f82d3b44",
              "IPY_MODEL_af401633abe140fb83da1397829947b9"
            ]
          }
        },
        "71e6ca8cbf9847a28e952aa830645b1f": {
          "model_module": "@jupyter-widgets/base",
          "model_name": "LayoutModel",
          "state": {
            "_view_name": "LayoutView",
            "grid_template_rows": null,
            "right": null,
            "justify_content": null,
            "_view_module": "@jupyter-widgets/base",
            "overflow": null,
            "_model_module_version": "1.2.0",
            "_view_count": null,
            "flex_flow": null,
            "width": null,
            "min_width": null,
            "border": null,
            "align_items": null,
            "bottom": null,
            "_model_module": "@jupyter-widgets/base",
            "top": null,
            "grid_column": null,
            "overflow_y": null,
            "overflow_x": null,
            "grid_auto_flow": null,
            "grid_area": null,
            "grid_template_columns": null,
            "flex": null,
            "_model_name": "LayoutModel",
            "justify_items": null,
            "grid_row": null,
            "max_height": null,
            "align_content": null,
            "visibility": null,
            "align_self": null,
            "height": null,
            "min_height": null,
            "padding": null,
            "grid_auto_rows": null,
            "grid_gap": null,
            "max_width": null,
            "order": null,
            "_view_module_version": "1.2.0",
            "grid_template_areas": null,
            "object_position": null,
            "object_fit": null,
            "grid_auto_columns": null,
            "margin": null,
            "display": null,
            "left": null
          }
        },
        "940a2b6cc4cb4e929e2dec20f82d3b44": {
          "model_module": "@jupyter-widgets/controls",
          "model_name": "FloatProgressModel",
          "state": {
            "_view_name": "ProgressView",
            "style": "IPY_MODEL_9428b1888f4f4b4a908d5ebbc2d1ebc4",
            "_dom_classes": [],
            "description": "",
            "_model_name": "FloatProgressModel",
            "bar_style": "success",
            "max": 1,
            "_view_module": "@jupyter-widgets/controls",
            "_model_module_version": "1.5.0",
            "value": 1,
            "_view_count": null,
            "_view_module_version": "1.5.0",
            "orientation": "horizontal",
            "min": 0,
            "description_tooltip": null,
            "_model_module": "@jupyter-widgets/controls",
            "layout": "IPY_MODEL_a571e143cd3b4c4dac24f055a8c7080e"
          }
        },
        "af401633abe140fb83da1397829947b9": {
          "model_module": "@jupyter-widgets/controls",
          "model_name": "HTMLModel",
          "state": {
            "_view_name": "HTMLView",
            "style": "IPY_MODEL_b118653a7d72414f98a252a5f9ad6572",
            "_dom_classes": [],
            "description": "",
            "_model_name": "HTMLModel",
            "placeholder": "​",
            "_view_module": "@jupyter-widgets/controls",
            "_model_module_version": "1.5.0",
            "value": " 9920512/? [00:02&lt;00:00, 4785880.69it/s]",
            "_view_count": null,
            "_view_module_version": "1.5.0",
            "description_tooltip": null,
            "_model_module": "@jupyter-widgets/controls",
            "layout": "IPY_MODEL_46268ef992604e848106fcfbe4c8f1e2"
          }
        },
        "9428b1888f4f4b4a908d5ebbc2d1ebc4": {
          "model_module": "@jupyter-widgets/controls",
          "model_name": "ProgressStyleModel",
          "state": {
            "_view_name": "StyleView",
            "_model_name": "ProgressStyleModel",
            "description_width": "initial",
            "_view_module": "@jupyter-widgets/base",
            "_model_module_version": "1.5.0",
            "_view_count": null,
            "_view_module_version": "1.2.0",
            "bar_color": null,
            "_model_module": "@jupyter-widgets/controls"
          }
        },
        "a571e143cd3b4c4dac24f055a8c7080e": {
          "model_module": "@jupyter-widgets/base",
          "model_name": "LayoutModel",
          "state": {
            "_view_name": "LayoutView",
            "grid_template_rows": null,
            "right": null,
            "justify_content": null,
            "_view_module": "@jupyter-widgets/base",
            "overflow": null,
            "_model_module_version": "1.2.0",
            "_view_count": null,
            "flex_flow": null,
            "width": null,
            "min_width": null,
            "border": null,
            "align_items": null,
            "bottom": null,
            "_model_module": "@jupyter-widgets/base",
            "top": null,
            "grid_column": null,
            "overflow_y": null,
            "overflow_x": null,
            "grid_auto_flow": null,
            "grid_area": null,
            "grid_template_columns": null,
            "flex": null,
            "_model_name": "LayoutModel",
            "justify_items": null,
            "grid_row": null,
            "max_height": null,
            "align_content": null,
            "visibility": null,
            "align_self": null,
            "height": null,
            "min_height": null,
            "padding": null,
            "grid_auto_rows": null,
            "grid_gap": null,
            "max_width": null,
            "order": null,
            "_view_module_version": "1.2.0",
            "grid_template_areas": null,
            "object_position": null,
            "object_fit": null,
            "grid_auto_columns": null,
            "margin": null,
            "display": null,
            "left": null
          }
        },
        "b118653a7d72414f98a252a5f9ad6572": {
          "model_module": "@jupyter-widgets/controls",
          "model_name": "DescriptionStyleModel",
          "state": {
            "_view_name": "StyleView",
            "_model_name": "DescriptionStyleModel",
            "description_width": "",
            "_view_module": "@jupyter-widgets/base",
            "_model_module_version": "1.5.0",
            "_view_count": null,
            "_view_module_version": "1.2.0",
            "_model_module": "@jupyter-widgets/controls"
          }
        },
        "46268ef992604e848106fcfbe4c8f1e2": {
          "model_module": "@jupyter-widgets/base",
          "model_name": "LayoutModel",
          "state": {
            "_view_name": "LayoutView",
            "grid_template_rows": null,
            "right": null,
            "justify_content": null,
            "_view_module": "@jupyter-widgets/base",
            "overflow": null,
            "_model_module_version": "1.2.0",
            "_view_count": null,
            "flex_flow": null,
            "width": null,
            "min_width": null,
            "border": null,
            "align_items": null,
            "bottom": null,
            "_model_module": "@jupyter-widgets/base",
            "top": null,
            "grid_column": null,
            "overflow_y": null,
            "overflow_x": null,
            "grid_auto_flow": null,
            "grid_area": null,
            "grid_template_columns": null,
            "flex": null,
            "_model_name": "LayoutModel",
            "justify_items": null,
            "grid_row": null,
            "max_height": null,
            "align_content": null,
            "visibility": null,
            "align_self": null,
            "height": null,
            "min_height": null,
            "padding": null,
            "grid_auto_rows": null,
            "grid_gap": null,
            "max_width": null,
            "order": null,
            "_view_module_version": "1.2.0",
            "grid_template_areas": null,
            "object_position": null,
            "object_fit": null,
            "grid_auto_columns": null,
            "margin": null,
            "display": null,
            "left": null
          }
        },
        "d79b82bb19704811aa2694f93beb84f8": {
          "model_module": "@jupyter-widgets/controls",
          "model_name": "HBoxModel",
          "state": {
            "_view_name": "HBoxView",
            "_dom_classes": [],
            "_model_name": "HBoxModel",
            "_view_module": "@jupyter-widgets/controls",
            "_model_module_version": "1.5.0",
            "_view_count": null,
            "_view_module_version": "1.5.0",
            "box_style": "",
            "layout": "IPY_MODEL_141b0cff770042fa8b7950e772fcec04",
            "_model_module": "@jupyter-widgets/controls",
            "children": [
              "IPY_MODEL_8e088a3bb980498eb4d1250111e67dc5",
              "IPY_MODEL_4d4ac8a9ffad4b3f951690415c71c106"
            ]
          }
        },
        "141b0cff770042fa8b7950e772fcec04": {
          "model_module": "@jupyter-widgets/base",
          "model_name": "LayoutModel",
          "state": {
            "_view_name": "LayoutView",
            "grid_template_rows": null,
            "right": null,
            "justify_content": null,
            "_view_module": "@jupyter-widgets/base",
            "overflow": null,
            "_model_module_version": "1.2.0",
            "_view_count": null,
            "flex_flow": null,
            "width": null,
            "min_width": null,
            "border": null,
            "align_items": null,
            "bottom": null,
            "_model_module": "@jupyter-widgets/base",
            "top": null,
            "grid_column": null,
            "overflow_y": null,
            "overflow_x": null,
            "grid_auto_flow": null,
            "grid_area": null,
            "grid_template_columns": null,
            "flex": null,
            "_model_name": "LayoutModel",
            "justify_items": null,
            "grid_row": null,
            "max_height": null,
            "align_content": null,
            "visibility": null,
            "align_self": null,
            "height": null,
            "min_height": null,
            "padding": null,
            "grid_auto_rows": null,
            "grid_gap": null,
            "max_width": null,
            "order": null,
            "_view_module_version": "1.2.0",
            "grid_template_areas": null,
            "object_position": null,
            "object_fit": null,
            "grid_auto_columns": null,
            "margin": null,
            "display": null,
            "left": null
          }
        },
        "8e088a3bb980498eb4d1250111e67dc5": {
          "model_module": "@jupyter-widgets/controls",
          "model_name": "FloatProgressModel",
          "state": {
            "_view_name": "ProgressView",
            "style": "IPY_MODEL_75e21788934c4db8b494482737604135",
            "_dom_classes": [],
            "description": "",
            "_model_name": "FloatProgressModel",
            "bar_style": "success",
            "max": 1,
            "_view_module": "@jupyter-widgets/controls",
            "_model_module_version": "1.5.0",
            "value": 1,
            "_view_count": null,
            "_view_module_version": "1.5.0",
            "orientation": "horizontal",
            "min": 0,
            "description_tooltip": null,
            "_model_module": "@jupyter-widgets/controls",
            "layout": "IPY_MODEL_0c022ff7ad204583a06f3d8d1be4e119"
          }
        },
        "4d4ac8a9ffad4b3f951690415c71c106": {
          "model_module": "@jupyter-widgets/controls",
          "model_name": "HTMLModel",
          "state": {
            "_view_name": "HTMLView",
            "style": "IPY_MODEL_71cc22a7f29e48d0ba45de932a076768",
            "_dom_classes": [],
            "description": "",
            "_model_name": "HTMLModel",
            "placeholder": "​",
            "_view_module": "@jupyter-widgets/controls",
            "_model_module_version": "1.5.0",
            "value": " 32768/? [00:01&lt;00:00, 22615.41it/s]",
            "_view_count": null,
            "_view_module_version": "1.5.0",
            "description_tooltip": null,
            "_model_module": "@jupyter-widgets/controls",
            "layout": "IPY_MODEL_c70ca19b84ac4c60996c97dada38a281"
          }
        },
        "75e21788934c4db8b494482737604135": {
          "model_module": "@jupyter-widgets/controls",
          "model_name": "ProgressStyleModel",
          "state": {
            "_view_name": "StyleView",
            "_model_name": "ProgressStyleModel",
            "description_width": "initial",
            "_view_module": "@jupyter-widgets/base",
            "_model_module_version": "1.5.0",
            "_view_count": null,
            "_view_module_version": "1.2.0",
            "bar_color": null,
            "_model_module": "@jupyter-widgets/controls"
          }
        },
        "0c022ff7ad204583a06f3d8d1be4e119": {
          "model_module": "@jupyter-widgets/base",
          "model_name": "LayoutModel",
          "state": {
            "_view_name": "LayoutView",
            "grid_template_rows": null,
            "right": null,
            "justify_content": null,
            "_view_module": "@jupyter-widgets/base",
            "overflow": null,
            "_model_module_version": "1.2.0",
            "_view_count": null,
            "flex_flow": null,
            "width": null,
            "min_width": null,
            "border": null,
            "align_items": null,
            "bottom": null,
            "_model_module": "@jupyter-widgets/base",
            "top": null,
            "grid_column": null,
            "overflow_y": null,
            "overflow_x": null,
            "grid_auto_flow": null,
            "grid_area": null,
            "grid_template_columns": null,
            "flex": null,
            "_model_name": "LayoutModel",
            "justify_items": null,
            "grid_row": null,
            "max_height": null,
            "align_content": null,
            "visibility": null,
            "align_self": null,
            "height": null,
            "min_height": null,
            "padding": null,
            "grid_auto_rows": null,
            "grid_gap": null,
            "max_width": null,
            "order": null,
            "_view_module_version": "1.2.0",
            "grid_template_areas": null,
            "object_position": null,
            "object_fit": null,
            "grid_auto_columns": null,
            "margin": null,
            "display": null,
            "left": null
          }
        },
        "71cc22a7f29e48d0ba45de932a076768": {
          "model_module": "@jupyter-widgets/controls",
          "model_name": "DescriptionStyleModel",
          "state": {
            "_view_name": "StyleView",
            "_model_name": "DescriptionStyleModel",
            "description_width": "",
            "_view_module": "@jupyter-widgets/base",
            "_model_module_version": "1.5.0",
            "_view_count": null,
            "_view_module_version": "1.2.0",
            "_model_module": "@jupyter-widgets/controls"
          }
        },
        "c70ca19b84ac4c60996c97dada38a281": {
          "model_module": "@jupyter-widgets/base",
          "model_name": "LayoutModel",
          "state": {
            "_view_name": "LayoutView",
            "grid_template_rows": null,
            "right": null,
            "justify_content": null,
            "_view_module": "@jupyter-widgets/base",
            "overflow": null,
            "_model_module_version": "1.2.0",
            "_view_count": null,
            "flex_flow": null,
            "width": null,
            "min_width": null,
            "border": null,
            "align_items": null,
            "bottom": null,
            "_model_module": "@jupyter-widgets/base",
            "top": null,
            "grid_column": null,
            "overflow_y": null,
            "overflow_x": null,
            "grid_auto_flow": null,
            "grid_area": null,
            "grid_template_columns": null,
            "flex": null,
            "_model_name": "LayoutModel",
            "justify_items": null,
            "grid_row": null,
            "max_height": null,
            "align_content": null,
            "visibility": null,
            "align_self": null,
            "height": null,
            "min_height": null,
            "padding": null,
            "grid_auto_rows": null,
            "grid_gap": null,
            "max_width": null,
            "order": null,
            "_view_module_version": "1.2.0",
            "grid_template_areas": null,
            "object_position": null,
            "object_fit": null,
            "grid_auto_columns": null,
            "margin": null,
            "display": null,
            "left": null
          }
        },
        "2862b78ec634496db1f76c15cd3195bf": {
          "model_module": "@jupyter-widgets/controls",
          "model_name": "HBoxModel",
          "state": {
            "_view_name": "HBoxView",
            "_dom_classes": [],
            "_model_name": "HBoxModel",
            "_view_module": "@jupyter-widgets/controls",
            "_model_module_version": "1.5.0",
            "_view_count": null,
            "_view_module_version": "1.5.0",
            "box_style": "",
            "layout": "IPY_MODEL_5be91f6657b24864b6db896e5c6d5763",
            "_model_module": "@jupyter-widgets/controls",
            "children": [
              "IPY_MODEL_5d20012f44844ec5a582dab256de7b4f",
              "IPY_MODEL_491cfc39751344eabeeb3e674ec2ea1a"
            ]
          }
        },
        "5be91f6657b24864b6db896e5c6d5763": {
          "model_module": "@jupyter-widgets/base",
          "model_name": "LayoutModel",
          "state": {
            "_view_name": "LayoutView",
            "grid_template_rows": null,
            "right": null,
            "justify_content": null,
            "_view_module": "@jupyter-widgets/base",
            "overflow": null,
            "_model_module_version": "1.2.0",
            "_view_count": null,
            "flex_flow": null,
            "width": null,
            "min_width": null,
            "border": null,
            "align_items": null,
            "bottom": null,
            "_model_module": "@jupyter-widgets/base",
            "top": null,
            "grid_column": null,
            "overflow_y": null,
            "overflow_x": null,
            "grid_auto_flow": null,
            "grid_area": null,
            "grid_template_columns": null,
            "flex": null,
            "_model_name": "LayoutModel",
            "justify_items": null,
            "grid_row": null,
            "max_height": null,
            "align_content": null,
            "visibility": null,
            "align_self": null,
            "height": null,
            "min_height": null,
            "padding": null,
            "grid_auto_rows": null,
            "grid_gap": null,
            "max_width": null,
            "order": null,
            "_view_module_version": "1.2.0",
            "grid_template_areas": null,
            "object_position": null,
            "object_fit": null,
            "grid_auto_columns": null,
            "margin": null,
            "display": null,
            "left": null
          }
        },
        "5d20012f44844ec5a582dab256de7b4f": {
          "model_module": "@jupyter-widgets/controls",
          "model_name": "FloatProgressModel",
          "state": {
            "_view_name": "ProgressView",
            "style": "IPY_MODEL_2a2f196afb9d445d9394ee9c7ba4a16e",
            "_dom_classes": [],
            "description": "",
            "_model_name": "FloatProgressModel",
            "bar_style": "success",
            "max": 1,
            "_view_module": "@jupyter-widgets/controls",
            "_model_module_version": "1.5.0",
            "value": 1,
            "_view_count": null,
            "_view_module_version": "1.5.0",
            "orientation": "horizontal",
            "min": 0,
            "description_tooltip": null,
            "_model_module": "@jupyter-widgets/controls",
            "layout": "IPY_MODEL_559e116b43de43c191033052093d0e8d"
          }
        },
        "491cfc39751344eabeeb3e674ec2ea1a": {
          "model_module": "@jupyter-widgets/controls",
          "model_name": "HTMLModel",
          "state": {
            "_view_name": "HTMLView",
            "style": "IPY_MODEL_da4c180a0c024406bf461150829e5555",
            "_dom_classes": [],
            "description": "",
            "_model_name": "HTMLModel",
            "placeholder": "​",
            "_view_module": "@jupyter-widgets/controls",
            "_model_module_version": "1.5.0",
            "value": " 1654784/? [00:01&lt;00:00, 1206170.75it/s]",
            "_view_count": null,
            "_view_module_version": "1.5.0",
            "description_tooltip": null,
            "_model_module": "@jupyter-widgets/controls",
            "layout": "IPY_MODEL_777f5b7b3b60429abe9d894889068454"
          }
        },
        "2a2f196afb9d445d9394ee9c7ba4a16e": {
          "model_module": "@jupyter-widgets/controls",
          "model_name": "ProgressStyleModel",
          "state": {
            "_view_name": "StyleView",
            "_model_name": "ProgressStyleModel",
            "description_width": "initial",
            "_view_module": "@jupyter-widgets/base",
            "_model_module_version": "1.5.0",
            "_view_count": null,
            "_view_module_version": "1.2.0",
            "bar_color": null,
            "_model_module": "@jupyter-widgets/controls"
          }
        },
        "559e116b43de43c191033052093d0e8d": {
          "model_module": "@jupyter-widgets/base",
          "model_name": "LayoutModel",
          "state": {
            "_view_name": "LayoutView",
            "grid_template_rows": null,
            "right": null,
            "justify_content": null,
            "_view_module": "@jupyter-widgets/base",
            "overflow": null,
            "_model_module_version": "1.2.0",
            "_view_count": null,
            "flex_flow": null,
            "width": null,
            "min_width": null,
            "border": null,
            "align_items": null,
            "bottom": null,
            "_model_module": "@jupyter-widgets/base",
            "top": null,
            "grid_column": null,
            "overflow_y": null,
            "overflow_x": null,
            "grid_auto_flow": null,
            "grid_area": null,
            "grid_template_columns": null,
            "flex": null,
            "_model_name": "LayoutModel",
            "justify_items": null,
            "grid_row": null,
            "max_height": null,
            "align_content": null,
            "visibility": null,
            "align_self": null,
            "height": null,
            "min_height": null,
            "padding": null,
            "grid_auto_rows": null,
            "grid_gap": null,
            "max_width": null,
            "order": null,
            "_view_module_version": "1.2.0",
            "grid_template_areas": null,
            "object_position": null,
            "object_fit": null,
            "grid_auto_columns": null,
            "margin": null,
            "display": null,
            "left": null
          }
        },
        "da4c180a0c024406bf461150829e5555": {
          "model_module": "@jupyter-widgets/controls",
          "model_name": "DescriptionStyleModel",
          "state": {
            "_view_name": "StyleView",
            "_model_name": "DescriptionStyleModel",
            "description_width": "",
            "_view_module": "@jupyter-widgets/base",
            "_model_module_version": "1.5.0",
            "_view_count": null,
            "_view_module_version": "1.2.0",
            "_model_module": "@jupyter-widgets/controls"
          }
        },
        "777f5b7b3b60429abe9d894889068454": {
          "model_module": "@jupyter-widgets/base",
          "model_name": "LayoutModel",
          "state": {
            "_view_name": "LayoutView",
            "grid_template_rows": null,
            "right": null,
            "justify_content": null,
            "_view_module": "@jupyter-widgets/base",
            "overflow": null,
            "_model_module_version": "1.2.0",
            "_view_count": null,
            "flex_flow": null,
            "width": null,
            "min_width": null,
            "border": null,
            "align_items": null,
            "bottom": null,
            "_model_module": "@jupyter-widgets/base",
            "top": null,
            "grid_column": null,
            "overflow_y": null,
            "overflow_x": null,
            "grid_auto_flow": null,
            "grid_area": null,
            "grid_template_columns": null,
            "flex": null,
            "_model_name": "LayoutModel",
            "justify_items": null,
            "grid_row": null,
            "max_height": null,
            "align_content": null,
            "visibility": null,
            "align_self": null,
            "height": null,
            "min_height": null,
            "padding": null,
            "grid_auto_rows": null,
            "grid_gap": null,
            "max_width": null,
            "order": null,
            "_view_module_version": "1.2.0",
            "grid_template_areas": null,
            "object_position": null,
            "object_fit": null,
            "grid_auto_columns": null,
            "margin": null,
            "display": null,
            "left": null
          }
        },
        "9e4f9f08f6a94b0598bf1e76b0a77755": {
          "model_module": "@jupyter-widgets/controls",
          "model_name": "HBoxModel",
          "state": {
            "_view_name": "HBoxView",
            "_dom_classes": [],
            "_model_name": "HBoxModel",
            "_view_module": "@jupyter-widgets/controls",
            "_model_module_version": "1.5.0",
            "_view_count": null,
            "_view_module_version": "1.5.0",
            "box_style": "",
            "layout": "IPY_MODEL_d624c81a5c9d4613bcaddfa484e7db24",
            "_model_module": "@jupyter-widgets/controls",
            "children": [
              "IPY_MODEL_9f68f877a2094f6ebfdb71945eb47fd2",
              "IPY_MODEL_45d279b305914ac4ae98f46ef566a179"
            ]
          }
        },
        "d624c81a5c9d4613bcaddfa484e7db24": {
          "model_module": "@jupyter-widgets/base",
          "model_name": "LayoutModel",
          "state": {
            "_view_name": "LayoutView",
            "grid_template_rows": null,
            "right": null,
            "justify_content": null,
            "_view_module": "@jupyter-widgets/base",
            "overflow": null,
            "_model_module_version": "1.2.0",
            "_view_count": null,
            "flex_flow": null,
            "width": null,
            "min_width": null,
            "border": null,
            "align_items": null,
            "bottom": null,
            "_model_module": "@jupyter-widgets/base",
            "top": null,
            "grid_column": null,
            "overflow_y": null,
            "overflow_x": null,
            "grid_auto_flow": null,
            "grid_area": null,
            "grid_template_columns": null,
            "flex": null,
            "_model_name": "LayoutModel",
            "justify_items": null,
            "grid_row": null,
            "max_height": null,
            "align_content": null,
            "visibility": null,
            "align_self": null,
            "height": null,
            "min_height": null,
            "padding": null,
            "grid_auto_rows": null,
            "grid_gap": null,
            "max_width": null,
            "order": null,
            "_view_module_version": "1.2.0",
            "grid_template_areas": null,
            "object_position": null,
            "object_fit": null,
            "grid_auto_columns": null,
            "margin": null,
            "display": null,
            "left": null
          }
        },
        "9f68f877a2094f6ebfdb71945eb47fd2": {
          "model_module": "@jupyter-widgets/controls",
          "model_name": "FloatProgressModel",
          "state": {
            "_view_name": "ProgressView",
            "style": "IPY_MODEL_4ec871514c734f7d8828ad1aa9de4d40",
            "_dom_classes": [],
            "description": "",
            "_model_name": "FloatProgressModel",
            "bar_style": "success",
            "max": 1,
            "_view_module": "@jupyter-widgets/controls",
            "_model_module_version": "1.5.0",
            "value": 1,
            "_view_count": null,
            "_view_module_version": "1.5.0",
            "orientation": "horizontal",
            "min": 0,
            "description_tooltip": null,
            "_model_module": "@jupyter-widgets/controls",
            "layout": "IPY_MODEL_dda1da81daaa4925af8c531ef5d4b494"
          }
        },
        "45d279b305914ac4ae98f46ef566a179": {
          "model_module": "@jupyter-widgets/controls",
          "model_name": "HTMLModel",
          "state": {
            "_view_name": "HTMLView",
            "style": "IPY_MODEL_27d767100c4e41c5ad2c0a5c69b93faf",
            "_dom_classes": [],
            "description": "",
            "_model_name": "HTMLModel",
            "placeholder": "​",
            "_view_module": "@jupyter-widgets/controls",
            "_model_module_version": "1.5.0",
            "value": " 8192/? [00:01&lt;00:00, 7153.11it/s]",
            "_view_count": null,
            "_view_module_version": "1.5.0",
            "description_tooltip": null,
            "_model_module": "@jupyter-widgets/controls",
            "layout": "IPY_MODEL_56c46ad3afb046eeb5344aea115bd2e4"
          }
        },
        "4ec871514c734f7d8828ad1aa9de4d40": {
          "model_module": "@jupyter-widgets/controls",
          "model_name": "ProgressStyleModel",
          "state": {
            "_view_name": "StyleView",
            "_model_name": "ProgressStyleModel",
            "description_width": "initial",
            "_view_module": "@jupyter-widgets/base",
            "_model_module_version": "1.5.0",
            "_view_count": null,
            "_view_module_version": "1.2.0",
            "bar_color": null,
            "_model_module": "@jupyter-widgets/controls"
          }
        },
        "dda1da81daaa4925af8c531ef5d4b494": {
          "model_module": "@jupyter-widgets/base",
          "model_name": "LayoutModel",
          "state": {
            "_view_name": "LayoutView",
            "grid_template_rows": null,
            "right": null,
            "justify_content": null,
            "_view_module": "@jupyter-widgets/base",
            "overflow": null,
            "_model_module_version": "1.2.0",
            "_view_count": null,
            "flex_flow": null,
            "width": null,
            "min_width": null,
            "border": null,
            "align_items": null,
            "bottom": null,
            "_model_module": "@jupyter-widgets/base",
            "top": null,
            "grid_column": null,
            "overflow_y": null,
            "overflow_x": null,
            "grid_auto_flow": null,
            "grid_area": null,
            "grid_template_columns": null,
            "flex": null,
            "_model_name": "LayoutModel",
            "justify_items": null,
            "grid_row": null,
            "max_height": null,
            "align_content": null,
            "visibility": null,
            "align_self": null,
            "height": null,
            "min_height": null,
            "padding": null,
            "grid_auto_rows": null,
            "grid_gap": null,
            "max_width": null,
            "order": null,
            "_view_module_version": "1.2.0",
            "grid_template_areas": null,
            "object_position": null,
            "object_fit": null,
            "grid_auto_columns": null,
            "margin": null,
            "display": null,
            "left": null
          }
        },
        "27d767100c4e41c5ad2c0a5c69b93faf": {
          "model_module": "@jupyter-widgets/controls",
          "model_name": "DescriptionStyleModel",
          "state": {
            "_view_name": "StyleView",
            "_model_name": "DescriptionStyleModel",
            "description_width": "",
            "_view_module": "@jupyter-widgets/base",
            "_model_module_version": "1.5.0",
            "_view_count": null,
            "_view_module_version": "1.2.0",
            "_model_module": "@jupyter-widgets/controls"
          }
        },
        "56c46ad3afb046eeb5344aea115bd2e4": {
          "model_module": "@jupyter-widgets/base",
          "model_name": "LayoutModel",
          "state": {
            "_view_name": "LayoutView",
            "grid_template_rows": null,
            "right": null,
            "justify_content": null,
            "_view_module": "@jupyter-widgets/base",
            "overflow": null,
            "_model_module_version": "1.2.0",
            "_view_count": null,
            "flex_flow": null,
            "width": null,
            "min_width": null,
            "border": null,
            "align_items": null,
            "bottom": null,
            "_model_module": "@jupyter-widgets/base",
            "top": null,
            "grid_column": null,
            "overflow_y": null,
            "overflow_x": null,
            "grid_auto_flow": null,
            "grid_area": null,
            "grid_template_columns": null,
            "flex": null,
            "_model_name": "LayoutModel",
            "justify_items": null,
            "grid_row": null,
            "max_height": null,
            "align_content": null,
            "visibility": null,
            "align_self": null,
            "height": null,
            "min_height": null,
            "padding": null,
            "grid_auto_rows": null,
            "grid_gap": null,
            "max_width": null,
            "order": null,
            "_view_module_version": "1.2.0",
            "grid_template_areas": null,
            "object_position": null,
            "object_fit": null,
            "grid_auto_columns": null,
            "margin": null,
            "display": null,
            "left": null
          }
        }
      }
    }
  },
  "cells": [
    {
      "cell_type": "code",
      "metadata": {
        "colab": {
          "base_uri": "https://localhost:8080/",
          "height": 895,
          "referenced_widgets": [
            "5e92a96098c748549614f69a3f790cb4",
            "71e6ca8cbf9847a28e952aa830645b1f",
            "940a2b6cc4cb4e929e2dec20f82d3b44",
            "af401633abe140fb83da1397829947b9",
            "9428b1888f4f4b4a908d5ebbc2d1ebc4",
            "a571e143cd3b4c4dac24f055a8c7080e",
            "b118653a7d72414f98a252a5f9ad6572",
            "46268ef992604e848106fcfbe4c8f1e2",
            "d79b82bb19704811aa2694f93beb84f8",
            "141b0cff770042fa8b7950e772fcec04",
            "8e088a3bb980498eb4d1250111e67dc5",
            "4d4ac8a9ffad4b3f951690415c71c106",
            "75e21788934c4db8b494482737604135",
            "0c022ff7ad204583a06f3d8d1be4e119",
            "71cc22a7f29e48d0ba45de932a076768",
            "c70ca19b84ac4c60996c97dada38a281",
            "2862b78ec634496db1f76c15cd3195bf",
            "5be91f6657b24864b6db896e5c6d5763",
            "5d20012f44844ec5a582dab256de7b4f",
            "491cfc39751344eabeeb3e674ec2ea1a",
            "2a2f196afb9d445d9394ee9c7ba4a16e",
            "559e116b43de43c191033052093d0e8d",
            "da4c180a0c024406bf461150829e5555",
            "777f5b7b3b60429abe9d894889068454",
            "9e4f9f08f6a94b0598bf1e76b0a77755",
            "d624c81a5c9d4613bcaddfa484e7db24",
            "9f68f877a2094f6ebfdb71945eb47fd2",
            "45d279b305914ac4ae98f46ef566a179",
            "4ec871514c734f7d8828ad1aa9de4d40",
            "dda1da81daaa4925af8c531ef5d4b494",
            "27d767100c4e41c5ad2c0a5c69b93faf",
            "56c46ad3afb046eeb5344aea115bd2e4"
          ]
        },
        "id": "FqAraNUsJ3Yz",
        "outputId": "ddb88fa0-426a-42f6-cd17-05b6cbc70e10"
      },
      "source": [
        "import torch\r\n",
        "import torch.nn as nn\r\n",
        "import torch.nn.functional as F\r\n",
        "import torch.optim as optim\r\n",
        "import torch.nn.init as init\r\n",
        "from torchvision import datasets, transforms\r\n",
        "import numpy as np\r\n",
        "import matplotlib.pyplot as plt\r\n",
        "from torchvision import datasets, transforms\r\n",
        "from torch.utils.data import DataLoader\r\n",
        "\r\n",
        "class MnistDataSet(torch.utils.data.Dataset):\r\n",
        "    def __init__(self):\r\n",
        "        mnist_train = datasets.MNIST(root='./mnist_data/', train=True, download=True)\r\n",
        "        self.data = mnist_train.data.reshape(-1, 1, 28, 28).float() / 255.0\r\n",
        "        self.data = 1 * (self.data > 0.5)\r\n",
        "\r\n",
        "    def __len__(self):\r\n",
        "        return len(self.data)\r\n",
        "    \r\n",
        "    def __getitem__(self, idx):\r\n",
        "        return self.data[idx]\r\n",
        "\r\n",
        "dataset = MnistDataSet()\r\n",
        "\r\n",
        "device = 'cuda' if torch.cuda.is_available() else 'cpu'\r\n",
        "if device == 'cuda':\r\n",
        "    gpu_info = !nvidia-smi\r\n",
        "    gpu_info = '\\n'.join(gpu_info)\r\n",
        "    if gpu_info.find('failed') >= 0:\r\n",
        "        print('Select the Runtime > \"Change runtime type\" menu to enable a GPU accelerator, ')\r\n",
        "        print('and then re-execute this cell.')\r\n",
        "    else:\r\n",
        "        print(gpu_info)\r\n",
        "print('device :',device)\r\n",
        "print('torch.version :',torch.__version__)"
      ],
      "execution_count": 1,
      "outputs": [
        {
          "output_type": "stream",
          "text": [
            "Downloading http://yann.lecun.com/exdb/mnist/train-images-idx3-ubyte.gz to ./mnist_data/MNIST/raw/train-images-idx3-ubyte.gz\n"
          ],
          "name": "stdout"
        },
        {
          "output_type": "display_data",
          "data": {
            "application/vnd.jupyter.widget-view+json": {
              "model_id": "5e92a96098c748549614f69a3f790cb4",
              "version_minor": 0,
              "version_major": 2
            },
            "text/plain": [
              "HBox(children=(FloatProgress(value=1.0, bar_style='info', max=1.0), HTML(value='')))"
            ]
          },
          "metadata": {
            "tags": []
          }
        },
        {
          "output_type": "stream",
          "text": [
            "Extracting ./mnist_data/MNIST/raw/train-images-idx3-ubyte.gz to ./mnist_data/MNIST/raw\n",
            "Downloading http://yann.lecun.com/exdb/mnist/train-labels-idx1-ubyte.gz to ./mnist_data/MNIST/raw/train-labels-idx1-ubyte.gz\n"
          ],
          "name": "stdout"
        },
        {
          "output_type": "display_data",
          "data": {
            "application/vnd.jupyter.widget-view+json": {
              "model_id": "d79b82bb19704811aa2694f93beb84f8",
              "version_minor": 0,
              "version_major": 2
            },
            "text/plain": [
              "HBox(children=(FloatProgress(value=1.0, bar_style='info', max=1.0), HTML(value='')))"
            ]
          },
          "metadata": {
            "tags": []
          }
        },
        {
          "output_type": "stream",
          "text": [
            "Extracting ./mnist_data/MNIST/raw/train-labels-idx1-ubyte.gz to ./mnist_data/MNIST/raw\n",
            "Downloading http://yann.lecun.com/exdb/mnist/t10k-images-idx3-ubyte.gz to ./mnist_data/MNIST/raw/t10k-images-idx3-ubyte.gz\n"
          ],
          "name": "stdout"
        },
        {
          "output_type": "display_data",
          "data": {
            "application/vnd.jupyter.widget-view+json": {
              "model_id": "2862b78ec634496db1f76c15cd3195bf",
              "version_minor": 0,
              "version_major": 2
            },
            "text/plain": [
              "HBox(children=(FloatProgress(value=1.0, bar_style='info', max=1.0), HTML(value='')))"
            ]
          },
          "metadata": {
            "tags": []
          }
        },
        {
          "output_type": "stream",
          "text": [
            "Extracting ./mnist_data/MNIST/raw/t10k-images-idx3-ubyte.gz to ./mnist_data/MNIST/raw\n",
            "Downloading http://yann.lecun.com/exdb/mnist/t10k-labels-idx1-ubyte.gz to ./mnist_data/MNIST/raw/t10k-labels-idx1-ubyte.gz\n"
          ],
          "name": "stdout"
        },
        {
          "output_type": "display_data",
          "data": {
            "application/vnd.jupyter.widget-view+json": {
              "model_id": "9e4f9f08f6a94b0598bf1e76b0a77755",
              "version_minor": 0,
              "version_major": 2
            },
            "text/plain": [
              "HBox(children=(FloatProgress(value=1.0, bar_style='info', max=1.0), HTML(value='')))"
            ]
          },
          "metadata": {
            "tags": []
          }
        },
        {
          "output_type": "stream",
          "text": [
            "Extracting ./mnist_data/MNIST/raw/t10k-labels-idx1-ubyte.gz to ./mnist_data/MNIST/raw\n",
            "Processing...\n",
            "Done!\n"
          ],
          "name": "stdout"
        },
        {
          "output_type": "stream",
          "text": [
            "/usr/local/lib/python3.6/dist-packages/torchvision/datasets/mnist.py:480: UserWarning: The given NumPy array is not writeable, and PyTorch does not support non-writeable tensors. This means you can write to the underlying (supposedly non-writeable) NumPy array using the tensor. You may want to copy the array to protect its data or make it writeable before converting it to a tensor. This type of warning will be suppressed for the rest of this program. (Triggered internally at  /pytorch/torch/csrc/utils/tensor_numpy.cpp:141.)\n",
            "  return torch.from_numpy(parsed.astype(m[2], copy=False)).view(*s)\n"
          ],
          "name": "stderr"
        },
        {
          "output_type": "stream",
          "text": [
            "Thu Dec 31 14:27:27 2020       \n",
            "+-----------------------------------------------------------------------------+\n",
            "| NVIDIA-SMI 460.27.04    Driver Version: 418.67       CUDA Version: 10.1     |\n",
            "|-------------------------------+----------------------+----------------------+\n",
            "| GPU  Name        Persistence-M| Bus-Id        Disp.A | Volatile Uncorr. ECC |\n",
            "| Fan  Temp  Perf  Pwr:Usage/Cap|         Memory-Usage | GPU-Util  Compute M. |\n",
            "|                               |                      |               MIG M. |\n",
            "|===============================+======================+======================|\n",
            "|   0  Tesla T4            Off  | 00000000:00:04.0 Off |                    0 |\n",
            "| N/A   53C    P8    10W /  70W |     10MiB / 15079MiB |      0%      Default |\n",
            "|                               |                      |                 ERR! |\n",
            "+-------------------------------+----------------------+----------------------+\n",
            "                                                                               \n",
            "+-----------------------------------------------------------------------------+\n",
            "| Processes:                                                                  |\n",
            "|  GPU   GI   CI        PID   Type   Process name                  GPU Memory |\n",
            "|        ID   ID                                                   Usage      |\n",
            "|=============================================================================|\n",
            "|  No running processes found                                                 |\n",
            "+-----------------------------------------------------------------------------+\n",
            "device : cuda\n",
            "torch.version : 1.7.0+cu101\n",
            "\n",
            "\n",
            "\n",
            "\n"
          ],
          "name": "stdout"
        }
      ]
    },
    {
      "cell_type": "code",
      "metadata": {
        "id": "f0lvNRzEKyBr"
      },
      "source": [
        "class CausalConv_A(nn.Module):\r\n",
        "    def __init__(self, channels, v_kernel_size=(3, 5), h_kernal_size=(1, 5)):\r\n",
        "        super().__init__()\r\n",
        "        self.channels = channels\r\n",
        "        self.v_init_padding = (v_kernel_size[1]//2, v_kernel_size[1]//2, v_kernel_size[0], 0)\r\n",
        "        self.h_init_padding = (h_kernal_size[1], 0, 0, 0)\r\n",
        "        self.v_conv = nn.Conv2d(channels, 2 * channels, v_kernel_size, (1, 1), (0, 0))\r\n",
        "        self.h_conv = nn.Conv2d(channels, 2 * channels, h_kernal_size, (1, 1), (0, 0))\r\n",
        "        self.v2h = nn.Conv2d(2 * channels, 2 * channels, (1, 1), (1, 1), (0, 0))\r\n",
        "        self.hout = nn.Sequential(nn.Conv2d(channels, channels, (1, 1), (1, 1), (0, 0)), nn.LeakyReLU())\r\n",
        "\r\n",
        "    def forward(self, v, h):\r\n",
        "        v = self.v_conv(F.pad(v, self.v_init_padding)[:,:,:-1,:])\r\n",
        "        h = F.pad(h, self.h_init_padding)[:, :, :, :-1]\r\n",
        "        h = self.h_conv(h) + self.v2h(v)\r\n",
        "        v = torch.sigmoid(v[:, :self.channels, :, :]) * torch.tanh(v[:, self.channels:, :, :])\r\n",
        "        h = torch.sigmoid(h[:, :self.channels, :, :]) * torch.tanh(h[:, self.channels:, :, :])\r\n",
        "        return v, self.hout(h)\r\n",
        "\r\n",
        "\r\n",
        "class CausalConv_B(nn.Module):\r\n",
        "    def __init__(self, cin, cout, kernel_size=(3, 3)):\r\n",
        "        super().__init__()\r\n",
        "        self.init_padding = (kernel_size[1] - 1, 0, kernel_size[0] - 1, 0)\r\n",
        "        self.conv = nn.Conv2d(cin, cout, kernel_size, (1, 1), (0, 0))\r\n",
        "\r\n",
        "    def forward(self, x):\r\n",
        "        return self.conv(F.pad(x, self.init_padding))\r\n",
        "\r\n",
        "class ResidualBlock(nn.Module):\r\n",
        "    def __init__(self, channels, kernel_size):\r\n",
        "        super().__init__()\r\n",
        "        self.net = nn.Sequential(nn.ELU(), CausalConv_B(channels, channels, kernel_size), nn.ELU(), CausalConv_B(channels, 2 * channels, kernel_size))\r\n",
        "    \r\n",
        "    def forward(self, x):\r\n",
        "        a, b = self.net(x).chunk(2, dim=1)\r\n",
        "        return x + torch.sigmoid(a) * b\r\n",
        "\r\n",
        "# i refered to https://github.com/kamenbliznashki/pixel_models for this attention block implementation\r\n",
        "class CausalAttention2d(nn.Module):\r\n",
        "    def __init__(self, num_heads, value_size, key_size, input_shape):\r\n",
        "        super().__init__()\r\n",
        "        self.num_heads = num_heads\r\n",
        "        self.value_size = value_size\r\n",
        "        self.key_size = key_size\r\n",
        "        self.height = input_shape[1]\r\n",
        "        self.width = input_shape[2]\r\n",
        "        self.hw = self.height * self.width\r\n",
        "        self.q_norm = 1 / np.sqrt(key_size)\r\n",
        "        self.K = nn.Parameter((torch.rand(num_heads * key_size, input_shape[0]) - 0.5) / key_size)\r\n",
        "        self.Q = nn.Parameter((torch.rand(num_heads * key_size, input_shape[0]) - 0.5) / key_size)\r\n",
        "        self.V = nn.Parameter((torch.rand(num_heads * value_size, input_shape[0]) - 0.5) / value_size)\r\n",
        "        self.mask = torch.BoolTensor(np.array([[True if h < w else False for w in range(self.width)] for h in range(self.height)], np.bool)).reshape(-1).to(device)\r\n",
        "\r\n",
        "    \r\n",
        "    def forward(self, x):\r\n",
        "        x = x.reshape(-1, x.shape[1], x.shape[2] * x.shape[3])\r\n",
        "        q = (self.K @ x).reshape(-1, self.num_heads, self.key_size, self.hw)\r\n",
        "        k = (self.Q @ x).reshape(-1, self.num_heads, self.key_size, self.hw)\r\n",
        "        v = (self.V @ x).reshape(-1, self.num_heads, self.value_size, self.hw)\r\n",
        "        w = F.softmax((k.transpose(2, 3).contiguous() @ (self.q_norm * q)).masked_fill(self.mask, value=-np.inf), dim=-1)\r\n",
        "        output = w @ v.transpose(2, 3)\r\n",
        "        return output.permute(0, 1, 3, 2).contiguous().reshape(-1,self.num_heads * self.value_size, self.height, self.width)\r\n",
        "\r\n",
        "class PixelSNAILBlock(nn.Module):\r\n",
        "    def __init__(self, height, width, cin, cout, num_heads, value_size, key_size, kernel_size, num_resblock):\r\n",
        "        super().__init__()\r\n",
        "        self.resblock = nn.Sequential(*[ResidualBlock(cin, kernel_size) for _ in range(num_resblock)])\r\n",
        "        self.res_out = nn.Conv2d(cin, cin, (1, 1), (1, 1), (0, 0))\r\n",
        "        self.attention = CausalAttention2d(num_heads, value_size, key_size, (2 * cin + 2, height, width))\r\n",
        "        self.aten_out = nn.Conv2d(num_heads * value_size, cin, (1, 1), (1, 1), (0, 0))\r\n",
        "        self.block_out =  nn.Conv2d(cin, cout, (1, 1), (1, 1), (0, 0))\r\n",
        "\r\n",
        "\r\n",
        "        self.background_aggregate = nn.Conv2d(cin + 2, cin, (1, 1), (1, 1), (0, 0))\r\n",
        "\r\n",
        "\r\n",
        "        coord_x = (torch.arange(height).float() - height / 2) / height\r\n",
        "        coord_x = coord_x.view(1, 1, height, 1).expand(1, 1, height, width)\r\n",
        "        coord_y = (torch.arange(width).float() - width / 2) / width\r\n",
        "        coord_y = coord_y.view(1, 1, 1, width).expand(1, 1, height, width)\r\n",
        "        self.background =  torch.cat([coord_x, coord_y], dim=1).reshape(1, 2, height, width).to(device)\r\n",
        "\r\n",
        "    def forward(self, x):\r\n",
        "        res = self.resblock(x)\r\n",
        "        return F.elu(self.block_out(F.elu(self.res_out(res)) + F.elu(self.aten_out(self.attention(torch.cat([res, x, self.background.repeat(x.shape[0], 1, 1, 1)], dim=1))))))\r\n",
        "\r\n"
      ],
      "execution_count": 10,
      "outputs": []
    },
    {
      "cell_type": "code",
      "metadata": {
        "id": "q2GouaaFKyEH"
      },
      "source": [
        "class PixelSNAIL(nn.Module):\r\n",
        "    def __init__(self):\r\n",
        "        super().__init__()\r\n",
        "        self.fromRGB = nn.Sequential(nn.Conv2d(1, 32, (1, 1), (1, 1), (0, 0)), nn.ReLU())\r\n",
        "        self.causal_conv = CausalConv_A(32, v_kernel_size=(3, 5), h_kernal_size=(1, 3))\r\n",
        "        self.net = nn.Sequential(\r\n",
        "            PixelSNAILBlock(28, 28, 64, 32, 8, 64, 16, (2, 2), 2),\r\n",
        "            PixelSNAILBlock(28, 28, 32, 32, 8, 64, 16, (2, 2), 2),\r\n",
        "            PixelSNAILBlock(28, 28, 32, 64, 8, 64, 16, (2, 2), 2)\r\n",
        "        )\r\n",
        "        toRGB_kernel_size = 2\r\n",
        "        self.toRGB_padding = (toRGB_kernel_size - 1, 0, toRGB_kernel_size - 1, 0)\r\n",
        "        self.toRGB = nn.Sequential(nn.Conv2d(64, 1, (2, 2), (1, 1), (0, 0)), nn.Sigmoid())\r\n",
        "    \r\n",
        "    def forward(self, x):\r\n",
        "        x = self.fromRGB(x)\r\n",
        "        v, h = self.causal_conv(x, x)\r\n",
        "        x = torch.cat([v, h], dim=1)\r\n",
        "        x = self.net(x)\r\n",
        "        return self.toRGB(F.pad(x, self.toRGB_padding))"
      ],
      "execution_count": 11,
      "outputs": []
    },
    {
      "cell_type": "code",
      "metadata": {
        "id": "2H_oAU4cKyG_"
      },
      "source": [
        "mbsz = 32\r\n",
        "model = PixelSNAIL().to(device)\r\n",
        "solver = optim.Adam(model.parameters(), lr=1e-4)\r\n",
        "loader = DataLoader(dataset=dataset, batch_size=mbsz, shuffle=True, drop_last=True)"
      ],
      "execution_count": 12,
      "outputs": []
    },
    {
      "cell_type": "code",
      "metadata": {
        "colab": {
          "base_uri": "https://localhost:8080/"
        },
        "id": "pR-uTkjfKyJb",
        "outputId": "d19d80b5-b5c6-4d21-f3dd-aef5dcb0b1d9"
      },
      "source": [
        "num_epochs = 5\r\n",
        "NLL = []\r\n",
        "for epoch in range(num_epochs):\r\n",
        "    NLL.append(0.0)\r\n",
        "    for x_q in loader:\r\n",
        "        solver.zero_grad()\r\n",
        "        x_q = x_q.to(device).float()\r\n",
        "        x_p = model(x_q)\r\n",
        "        loss = F.binary_cross_entropy(x_p, x_q, reduction='mean') * 784.\r\n",
        "        loss.backward()\r\n",
        "        solver.step()\r\n",
        "        NLL[-1] += loss.item()\r\n",
        "    NLL[-1] /= len(loader)\r\n",
        "    print(epoch, NLL[-1]/784.)"
      ],
      "execution_count": 13,
      "outputs": [
        {
          "output_type": "stream",
          "text": [
            "0 0.16336278218379638\n",
            "1 0.09529780686047613\n",
            "2 0.09188606649904835\n",
            "3 0.0894468312814933\n",
            "4 0.08703128447500216\n"
          ],
          "name": "stdout"
        }
      ]
    },
    {
      "cell_type": "code",
      "metadata": {
        "id": "TFzD2gzhKyLu"
      },
      "source": [
        "testdataset = datasets.MNIST(root='./mnist_data/', train=False, download=True).data.float() / 255.0\r\n",
        "testdataset = 1 * (testdataset > 0.5)"
      ],
      "execution_count": 14,
      "outputs": []
    },
    {
      "cell_type": "code",
      "metadata": {
        "colab": {
          "base_uri": "https://localhost:8080/",
          "height": 179
        },
        "id": "My2-1RVFKyOb",
        "outputId": "4510ad88-9a5e-4d67-965a-80dd80676314"
      },
      "source": [
        "num_image = 30\r\n",
        "\r\n",
        "fig = plt.figure(figsize=(20, 2))\r\n",
        "\r\n",
        "n = 0\r\n",
        "for i in range(num_image):\r\n",
        "    _fig = fig.add_subplot(2, num_image, n + 1, xticks=[], yticks=[])\r\n",
        "    _fig.imshow(testdataset[n])\r\n",
        "    n += 1\r\n",
        "fig.suptitle('test data', y=1.01, fontsize=15)\r\n",
        "plt.subplots_adjust(hspace=0, wspace=0)\r\n",
        "plt.show()\r\n",
        "fig = plt.figure(figsize=(20, 2))\r\n",
        "\r\n",
        "model.eval()\r\n",
        "n = 0\r\n",
        "for i in range(num_image):\r\n",
        "    x_q = testdataset[n].reshape(1, 1, 28, 28).float().to(device)\r\n",
        "    x_p = model(x_q)\r\n",
        "    x_p = 1 * (x_p > 0.5)\r\n",
        "    _fig = fig.add_subplot(2, num_image, n + 1, xticks=[], yticks=[])\r\n",
        "    _fig.imshow(x_p.cpu().data.numpy().reshape(28, 28))\r\n",
        "    n += 1\r\n",
        "model.train()\r\n",
        "fig.suptitle('output', y=1.01, fontsize=15)\r\n",
        "plt.subplots_adjust(hspace=0, wspace=0)\r\n",
        "plt.show()\r\n",
        "fig = plt.figure(figsize=(20, 2))\r\n",
        "\r\n",
        "model.eval()\r\n",
        "print('_')"
      ],
      "execution_count": 15,
      "outputs": [
        {
          "output_type": "display_data",
          "data": {
            "image/png": "[encoded data removed]",
            "text/plain": [
              "<Figure size 1440x144 with 30 Axes>"
            ]
          },
          "metadata": {
            "tags": []
          }
        },
        {
          "output_type": "display_data",
          "data": {
            "image/png": "[encoded data removed]",
            "text/plain": [
              "<Figure size 1440x144 with 30 Axes>"
            ]
          },
          "metadata": {
            "tags": []
          }
        },
        {
          "output_type": "stream",
          "text": [
            "_\n"
          ],
          "name": "stdout"
        },
        {
          "output_type": "display_data",
          "data": {
            "text/plain": [
              "<Figure size 1440x144 with 0 Axes>"
            ]
          },
          "metadata": {
            "tags": []
          }
        }
      ]
    },
    {
      "cell_type": "code",
      "metadata": {
        "colab": {
          "base_uri": "https://localhost:8080/",
          "height": 184
        },
        "id": "BhEu_Ew-K8Hn",
        "outputId": "ff602b6e-52cf-42b8-f5e4-9cbf1e083e3f"
      },
      "source": [
        "\r\n",
        "f = plt.figure(figsize=(4,2))\r\n",
        "ax = f.add_subplot(1,2,1)\r\n",
        "\r\n",
        "\r\n",
        "input = dataset.data[550].reshape(1, 1, 28, 28).float()\r\n",
        "\r\n",
        "input[0, 0, 14:28, :] = 0.0\r\n",
        "ax.imshow(input.reshape(28, 28))\r\n",
        "ax.set_title('source')\r\n",
        "\r\n",
        "model.eval()\r\n",
        "x_q = input.to(device)\r\n",
        "with torch.no_grad():\r\n",
        "    for h in range(14, 28):\r\n",
        "        for w in range(28):\r\n",
        "            x_p = model(x_q)\r\n",
        "            x_q[0][0][h][w] = 1.0 * (x_p[0][0][h][w] > 0.5) \r\n",
        "            # x_q[0][0][h][w] = x_p[0][0][h][w] \r\n",
        "\r\n",
        "\r\n",
        "\r\n",
        "model.train()\r\n",
        "\r\n",
        "\r\n",
        "ax = f.add_subplot(1,2,2)\r\n",
        "ax.imshow(x_q.cpu().data.numpy().reshape(28, 28))\r\n",
        "ax.set_title('output')\r\n",
        "plt.show()\r\n",
        "\r\n",
        "\r\n",
        "print('_')"
      ],
      "execution_count": 16,
      "outputs": [
        {
          "output_type": "display_data",
          "data": {
            "image/png": "[encoded data removed]",
            "text/plain": [
              "<Figure size 288x144 with 2 Axes>"
            ]
          },
          "metadata": {
            "tags": [],
            "needs_background": "light"
          }
        },
        {
          "output_type": "stream",
          "text": [
            "_\n"
          ],
          "name": "stdout"
        }
      ]
    },
    {
      "cell_type": "code",
      "metadata": {
        "colab": {
          "base_uri": "https://localhost:8080/",
          "height": 184
        },
        "id": "6Warx5yMK8KM",
        "outputId": "9776f249-0d5d-4161-ead9-5d5aea80ad46"
      },
      "source": [
        "f = plt.figure(figsize=(4,2))\r\n",
        "ax = f.add_subplot(1,2,1)\r\n",
        "\r\n",
        "\r\n",
        "input = dataset.data[550].reshape(1, 1, 28, 28).float()\r\n",
        "\r\n",
        "input[0, 0, 17:28, :] = 0.0\r\n",
        "ax.imshow(input.reshape(28, 28))\r\n",
        "ax.set_title('source')\r\n",
        "\r\n",
        "model.eval()\r\n",
        "x_q = input.to(device)\r\n",
        "with torch.no_grad():\r\n",
        "    for h in range(17, 28):\r\n",
        "        for w in range(28):\r\n",
        "            x_p = model(x_q)\r\n",
        "            x_q[0][0][h][w] = 1.0 * (x_p[0][0][h][w] > 0.5) \r\n",
        "\r\n",
        "\r\n",
        "model.train()\r\n",
        "\r\n",
        "\r\n",
        "ax = f.add_subplot(1,2,2)\r\n",
        "ax.imshow(x_q.cpu().data.numpy().reshape(28, 28))\r\n",
        "ax.set_title('output')\r\n",
        "plt.show()\r\n",
        "\r\n",
        "\r\n",
        "print('_')"
      ],
      "execution_count": 17,
      "outputs": [
        {
          "output_type": "display_data",
          "data": {
            "image/png": "[encoded data removed]",
            "text/plain": [
              "<Figure size 288x144 with 2 Axes>"
            ]
          },
          "metadata": {
            "tags": [],
            "needs_background": "light"
          }
        },
        {
          "output_type": "stream",
          "text": [
            "_\n"
          ],
          "name": "stdout"
        }
      ]
    },
    {
      "cell_type": "code",
      "metadata": {
        "colab": {
          "base_uri": "https://localhost:8080/",
          "height": 184
        },
        "id": "3iRr69jTLB1v",
        "outputId": "ab6be070-98b9-40b6-981c-f2438489f814"
      },
      "source": [
        "f = plt.figure(figsize=(4,2))\r\n",
        "ax = f.add_subplot(1,2,1)\r\n",
        "\r\n",
        "\r\n",
        "input = dataset.data[20].reshape(1, 1, 28, 28).float()\r\n",
        "\r\n",
        "input[0, 0, 20:28, :] = 0.0\r\n",
        "ax.imshow(input.reshape(28, 28))\r\n",
        "ax.set_title('source')\r\n",
        "\r\n",
        "model.eval()\r\n",
        "x_q = input.to(device)\r\n",
        "with torch.no_grad():\r\n",
        "    for h in range(20, 28):\r\n",
        "        for w in range(28):\r\n",
        "            x_p = model(x_q)\r\n",
        "            x_q[0][0][h][w] = 1.0 * (x_p[0][0][h][w] > 0.5) \r\n",
        "\r\n",
        "\r\n",
        "model.train()\r\n",
        "\r\n",
        "\r\n",
        "ax = f.add_subplot(1,2,2)\r\n",
        "ax.imshow(x_q.cpu().data.numpy().reshape(28, 28))\r\n",
        "ax.set_title('output')\r\n",
        "plt.show()\r\n",
        "\r\n",
        "\r\n",
        "print('_')"
      ],
      "execution_count": 19,
      "outputs": [
        {
          "output_type": "display_data",
          "data": {
            "image/png": "[encoded data removed]",
            "text/plain": [
              "<Figure size 288x144 with 2 Axes>"
            ]
          },
          "metadata": {
            "tags": [],
            "needs_background": "light"
          }
        },
        {
          "output_type": "stream",
          "text": [
            "_\n"
          ],
          "name": "stdout"
        }
      ]
    }
  ]
}