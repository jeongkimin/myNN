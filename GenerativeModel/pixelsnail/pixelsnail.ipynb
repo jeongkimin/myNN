{
  "nbformat": 4,
  "nbformat_minor": 0,
  "metadata": {
    "colab": {
      "name": "psnl.ipynb",
      "provenance": [],
      "collapsed_sections": []
    },
    "kernelspec": {
      "name": "python3",
      "display_name": "Python 3"
    },
    "accelerator": "GPU",
    "widgets": {
      "application/vnd.jupyter.widget-state+json": {
        "331051c2e4fd44449c647400ee7596a7": {
          "model_module": "@jupyter-widgets/controls",
          "model_name": "HBoxModel",
          "state": {
            "_view_name": "HBoxView",
            "_dom_classes": [],
            "_model_name": "HBoxModel",
            "_view_module": "@jupyter-widgets/controls",
            "_model_module_version": "1.5.0",
            "_view_count": null,
            "_view_module_version": "1.5.0",
            "box_style": "",
            "layout": "IPY_MODEL_5cc05d709edc4d33b8d4b8c35f925ea3",
            "_model_module": "@jupyter-widgets/controls",
            "children": [
              "IPY_MODEL_6a9159c5451f42648a9bb423938a2c9d",
              "IPY_MODEL_9985601303fb450d941d8585b26eef87"
            ]
          }
        },
        "5cc05d709edc4d33b8d4b8c35f925ea3": {
          "model_module": "@jupyter-widgets/base",
          "model_name": "LayoutModel",
          "state": {
            "_view_name": "LayoutView",
            "grid_template_rows": null,
            "right": null,
            "justify_content": null,
            "_view_module": "@jupyter-widgets/base",
            "overflow": null,
            "_model_module_version": "1.2.0",
            "_view_count": null,
            "flex_flow": null,
            "width": null,
            "min_width": null,
            "border": null,
            "align_items": null,
            "bottom": null,
            "_model_module": "@jupyter-widgets/base",
            "top": null,
            "grid_column": null,
            "overflow_y": null,
            "overflow_x": null,
            "grid_auto_flow": null,
            "grid_area": null,
            "grid_template_columns": null,
            "flex": null,
            "_model_name": "LayoutModel",
            "justify_items": null,
            "grid_row": null,
            "max_height": null,
            "align_content": null,
            "visibility": null,
            "align_self": null,
            "height": null,
            "min_height": null,
            "padding": null,
            "grid_auto_rows": null,
            "grid_gap": null,
            "max_width": null,
            "order": null,
            "_view_module_version": "1.2.0",
            "grid_template_areas": null,
            "object_position": null,
            "object_fit": null,
            "grid_auto_columns": null,
            "margin": null,
            "display": null,
            "left": null
          }
        },
        "6a9159c5451f42648a9bb423938a2c9d": {
          "model_module": "@jupyter-widgets/controls",
          "model_name": "FloatProgressModel",
          "state": {
            "_view_name": "ProgressView",
            "style": "IPY_MODEL_ee492c7e8f6148a08e0e8e20c0c6419d",
            "_dom_classes": [],
            "description": "",
            "_model_name": "FloatProgressModel",
            "bar_style": "success",
            "max": 1,
            "_view_module": "@jupyter-widgets/controls",
            "_model_module_version": "1.5.0",
            "value": 1,
            "_view_count": null,
            "_view_module_version": "1.5.0",
            "orientation": "horizontal",
            "min": 0,
            "description_tooltip": null,
            "_model_module": "@jupyter-widgets/controls",
            "layout": "IPY_MODEL_3b27d4a397974e7791ab1fdc96b71fd2"
          }
        },
        "9985601303fb450d941d8585b26eef87": {
          "model_module": "@jupyter-widgets/controls",
          "model_name": "HTMLModel",
          "state": {
            "_view_name": "HTMLView",
            "style": "IPY_MODEL_4efc5ae91235453aadb2146307f0d657",
            "_dom_classes": [],
            "description": "",
            "_model_name": "HTMLModel",
            "placeholder": "​",
            "_view_module": "@jupyter-widgets/controls",
            "_model_module_version": "1.5.0",
            "value": " 9920512/? [00:03&lt;00:00, 2769327.62it/s]",
            "_view_count": null,
            "_view_module_version": "1.5.0",
            "description_tooltip": null,
            "_model_module": "@jupyter-widgets/controls",
            "layout": "IPY_MODEL_3f5108ea222249768797850c1496f223"
          }
        },
        "ee492c7e8f6148a08e0e8e20c0c6419d": {
          "model_module": "@jupyter-widgets/controls",
          "model_name": "ProgressStyleModel",
          "state": {
            "_view_name": "StyleView",
            "_model_name": "ProgressStyleModel",
            "description_width": "initial",
            "_view_module": "@jupyter-widgets/base",
            "_model_module_version": "1.5.0",
            "_view_count": null,
            "_view_module_version": "1.2.0",
            "bar_color": null,
            "_model_module": "@jupyter-widgets/controls"
          }
        },
        "3b27d4a397974e7791ab1fdc96b71fd2": {
          "model_module": "@jupyter-widgets/base",
          "model_name": "LayoutModel",
          "state": {
            "_view_name": "LayoutView",
            "grid_template_rows": null,
            "right": null,
            "justify_content": null,
            "_view_module": "@jupyter-widgets/base",
            "overflow": null,
            "_model_module_version": "1.2.0",
            "_view_count": null,
            "flex_flow": null,
            "width": null,
            "min_width": null,
            "border": null,
            "align_items": null,
            "bottom": null,
            "_model_module": "@jupyter-widgets/base",
            "top": null,
            "grid_column": null,
            "overflow_y": null,
            "overflow_x": null,
            "grid_auto_flow": null,
            "grid_area": null,
            "grid_template_columns": null,
            "flex": null,
            "_model_name": "LayoutModel",
            "justify_items": null,
            "grid_row": null,
            "max_height": null,
            "align_content": null,
            "visibility": null,
            "align_self": null,
            "height": null,
            "min_height": null,
            "padding": null,
            "grid_auto_rows": null,
            "grid_gap": null,
            "max_width": null,
            "order": null,
            "_view_module_version": "1.2.0",
            "grid_template_areas": null,
            "object_position": null,
            "object_fit": null,
            "grid_auto_columns": null,
            "margin": null,
            "display": null,
            "left": null
          }
        },
        "4efc5ae91235453aadb2146307f0d657": {
          "model_module": "@jupyter-widgets/controls",
          "model_name": "DescriptionStyleModel",
          "state": {
            "_view_name": "StyleView",
            "_model_name": "DescriptionStyleModel",
            "description_width": "",
            "_view_module": "@jupyter-widgets/base",
            "_model_module_version": "1.5.0",
            "_view_count": null,
            "_view_module_version": "1.2.0",
            "_model_module": "@jupyter-widgets/controls"
          }
        },
        "3f5108ea222249768797850c1496f223": {
          "model_module": "@jupyter-widgets/base",
          "model_name": "LayoutModel",
          "state": {
            "_view_name": "LayoutView",
            "grid_template_rows": null,
            "right": null,
            "justify_content": null,
            "_view_module": "@jupyter-widgets/base",
            "overflow": null,
            "_model_module_version": "1.2.0",
            "_view_count": null,
            "flex_flow": null,
            "width": null,
            "min_width": null,
            "border": null,
            "align_items": null,
            "bottom": null,
            "_model_module": "@jupyter-widgets/base",
            "top": null,
            "grid_column": null,
            "overflow_y": null,
            "overflow_x": null,
            "grid_auto_flow": null,
            "grid_area": null,
            "grid_template_columns": null,
            "flex": null,
            "_model_name": "LayoutModel",
            "justify_items": null,
            "grid_row": null,
            "max_height": null,
            "align_content": null,
            "visibility": null,
            "align_self": null,
            "height": null,
            "min_height": null,
            "padding": null,
            "grid_auto_rows": null,
            "grid_gap": null,
            "max_width": null,
            "order": null,
            "_view_module_version": "1.2.0",
            "grid_template_areas": null,
            "object_position": null,
            "object_fit": null,
            "grid_auto_columns": null,
            "margin": null,
            "display": null,
            "left": null
          }
        },
        "b326bfa2a77e49c2b3eb56b57ac04a16": {
          "model_module": "@jupyter-widgets/controls",
          "model_name": "HBoxModel",
          "state": {
            "_view_name": "HBoxView",
            "_dom_classes": [],
            "_model_name": "HBoxModel",
            "_view_module": "@jupyter-widgets/controls",
            "_model_module_version": "1.5.0",
            "_view_count": null,
            "_view_module_version": "1.5.0",
            "box_style": "",
            "layout": "IPY_MODEL_1d895fecaee34cbf82ed7d6322fe46d4",
            "_model_module": "@jupyter-widgets/controls",
            "children": [
              "IPY_MODEL_1a1327abe8cf41d384a3a52796a0ffcc",
              "IPY_MODEL_1069a794c56c457bbaf9c0350fb61c7f"
            ]
          }
        },
        "1d895fecaee34cbf82ed7d6322fe46d4": {
          "model_module": "@jupyter-widgets/base",
          "model_name": "LayoutModel",
          "state": {
            "_view_name": "LayoutView",
            "grid_template_rows": null,
            "right": null,
            "justify_content": null,
            "_view_module": "@jupyter-widgets/base",
            "overflow": null,
            "_model_module_version": "1.2.0",
            "_view_count": null,
            "flex_flow": null,
            "width": null,
            "min_width": null,
            "border": null,
            "align_items": null,
            "bottom": null,
            "_model_module": "@jupyter-widgets/base",
            "top": null,
            "grid_column": null,
            "overflow_y": null,
            "overflow_x": null,
            "grid_auto_flow": null,
            "grid_area": null,
            "grid_template_columns": null,
            "flex": null,
            "_model_name": "LayoutModel",
            "justify_items": null,
            "grid_row": null,
            "max_height": null,
            "align_content": null,
            "visibility": null,
            "align_self": null,
            "height": null,
            "min_height": null,
            "padding": null,
            "grid_auto_rows": null,
            "grid_gap": null,
            "max_width": null,
            "order": null,
            "_view_module_version": "1.2.0",
            "grid_template_areas": null,
            "object_position": null,
            "object_fit": null,
            "grid_auto_columns": null,
            "margin": null,
            "display": null,
            "left": null
          }
        },
        "1a1327abe8cf41d384a3a52796a0ffcc": {
          "model_module": "@jupyter-widgets/controls",
          "model_name": "FloatProgressModel",
          "state": {
            "_view_name": "ProgressView",
            "style": "IPY_MODEL_891af0caf4c44d778b68c0385db370da",
            "_dom_classes": [],
            "description": "",
            "_model_name": "FloatProgressModel",
            "bar_style": "success",
            "max": 1,
            "_view_module": "@jupyter-widgets/controls",
            "_model_module_version": "1.5.0",
            "value": 1,
            "_view_count": null,
            "_view_module_version": "1.5.0",
            "orientation": "horizontal",
            "min": 0,
            "description_tooltip": null,
            "_model_module": "@jupyter-widgets/controls",
            "layout": "IPY_MODEL_304cfa5cc7a642e287f5b5d1f18d3ff7"
          }
        },
        "1069a794c56c457bbaf9c0350fb61c7f": {
          "model_module": "@jupyter-widgets/controls",
          "model_name": "HTMLModel",
          "state": {
            "_view_name": "HTMLView",
            "style": "IPY_MODEL_20a61587c6564c1a84112a2964c49824",
            "_dom_classes": [],
            "description": "",
            "_model_name": "HTMLModel",
            "placeholder": "​",
            "_view_module": "@jupyter-widgets/controls",
            "_model_module_version": "1.5.0",
            "value": " 32768/? [00:02&lt;00:00, 14760.52it/s]",
            "_view_count": null,
            "_view_module_version": "1.5.0",
            "description_tooltip": null,
            "_model_module": "@jupyter-widgets/controls",
            "layout": "IPY_MODEL_cb262a9e186a49a1bac0d3ba4db26dba"
          }
        },
        "891af0caf4c44d778b68c0385db370da": {
          "model_module": "@jupyter-widgets/controls",
          "model_name": "ProgressStyleModel",
          "state": {
            "_view_name": "StyleView",
            "_model_name": "ProgressStyleModel",
            "description_width": "initial",
            "_view_module": "@jupyter-widgets/base",
            "_model_module_version": "1.5.0",
            "_view_count": null,
            "_view_module_version": "1.2.0",
            "bar_color": null,
            "_model_module": "@jupyter-widgets/controls"
          }
        },
        "304cfa5cc7a642e287f5b5d1f18d3ff7": {
          "model_module": "@jupyter-widgets/base",
          "model_name": "LayoutModel",
          "state": {
            "_view_name": "LayoutView",
            "grid_template_rows": null,
            "right": null,
            "justify_content": null,
            "_view_module": "@jupyter-widgets/base",
            "overflow": null,
            "_model_module_version": "1.2.0",
            "_view_count": null,
            "flex_flow": null,
            "width": null,
            "min_width": null,
            "border": null,
            "align_items": null,
            "bottom": null,
            "_model_module": "@jupyter-widgets/base",
            "top": null,
            "grid_column": null,
            "overflow_y": null,
            "overflow_x": null,
            "grid_auto_flow": null,
            "grid_area": null,
            "grid_template_columns": null,
            "flex": null,
            "_model_name": "LayoutModel",
            "justify_items": null,
            "grid_row": null,
            "max_height": null,
            "align_content": null,
            "visibility": null,
            "align_self": null,
            "height": null,
            "min_height": null,
            "padding": null,
            "grid_auto_rows": null,
            "grid_gap": null,
            "max_width": null,
            "order": null,
            "_view_module_version": "1.2.0",
            "grid_template_areas": null,
            "object_position": null,
            "object_fit": null,
            "grid_auto_columns": null,
            "margin": null,
            "display": null,
            "left": null
          }
        },
        "20a61587c6564c1a84112a2964c49824": {
          "model_module": "@jupyter-widgets/controls",
          "model_name": "DescriptionStyleModel",
          "state": {
            "_view_name": "StyleView",
            "_model_name": "DescriptionStyleModel",
            "description_width": "",
            "_view_module": "@jupyter-widgets/base",
            "_model_module_version": "1.5.0",
            "_view_count": null,
            "_view_module_version": "1.2.0",
            "_model_module": "@jupyter-widgets/controls"
          }
        },
        "cb262a9e186a49a1bac0d3ba4db26dba": {
          "model_module": "@jupyter-widgets/base",
          "model_name": "LayoutModel",
          "state": {
            "_view_name": "LayoutView",
            "grid_template_rows": null,
            "right": null,
            "justify_content": null,
            "_view_module": "@jupyter-widgets/base",
            "overflow": null,
            "_model_module_version": "1.2.0",
            "_view_count": null,
            "flex_flow": null,
            "width": null,
            "min_width": null,
            "border": null,
            "align_items": null,
            "bottom": null,
            "_model_module": "@jupyter-widgets/base",
            "top": null,
            "grid_column": null,
            "overflow_y": null,
            "overflow_x": null,
            "grid_auto_flow": null,
            "grid_area": null,
            "grid_template_columns": null,
            "flex": null,
            "_model_name": "LayoutModel",
            "justify_items": null,
            "grid_row": null,
            "max_height": null,
            "align_content": null,
            "visibility": null,
            "align_self": null,
            "height": null,
            "min_height": null,
            "padding": null,
            "grid_auto_rows": null,
            "grid_gap": null,
            "max_width": null,
            "order": null,
            "_view_module_version": "1.2.0",
            "grid_template_areas": null,
            "object_position": null,
            "object_fit": null,
            "grid_auto_columns": null,
            "margin": null,
            "display": null,
            "left": null
          }
        },
        "25b9200a1e614888bd69a9e99d5b7f8a": {
          "model_module": "@jupyter-widgets/controls",
          "model_name": "HBoxModel",
          "state": {
            "_view_name": "HBoxView",
            "_dom_classes": [],
            "_model_name": "HBoxModel",
            "_view_module": "@jupyter-widgets/controls",
            "_model_module_version": "1.5.0",
            "_view_count": null,
            "_view_module_version": "1.5.0",
            "box_style": "",
            "layout": "IPY_MODEL_2930544596e94c16b1de92653b05b45f",
            "_model_module": "@jupyter-widgets/controls",
            "children": [
              "IPY_MODEL_669c494d2f3e42deaa2b895d5a352d56",
              "IPY_MODEL_169afbeff55c465799b5cf1ba4915e32"
            ]
          }
        },
        "2930544596e94c16b1de92653b05b45f": {
          "model_module": "@jupyter-widgets/base",
          "model_name": "LayoutModel",
          "state": {
            "_view_name": "LayoutView",
            "grid_template_rows": null,
            "right": null,
            "justify_content": null,
            "_view_module": "@jupyter-widgets/base",
            "overflow": null,
            "_model_module_version": "1.2.0",
            "_view_count": null,
            "flex_flow": null,
            "width": null,
            "min_width": null,
            "border": null,
            "align_items": null,
            "bottom": null,
            "_model_module": "@jupyter-widgets/base",
            "top": null,
            "grid_column": null,
            "overflow_y": null,
            "overflow_x": null,
            "grid_auto_flow": null,
            "grid_area": null,
            "grid_template_columns": null,
            "flex": null,
            "_model_name": "LayoutModel",
            "justify_items": null,
            "grid_row": null,
            "max_height": null,
            "align_content": null,
            "visibility": null,
            "align_self": null,
            "height": null,
            "min_height": null,
            "padding": null,
            "grid_auto_rows": null,
            "grid_gap": null,
            "max_width": null,
            "order": null,
            "_view_module_version": "1.2.0",
            "grid_template_areas": null,
            "object_position": null,
            "object_fit": null,
            "grid_auto_columns": null,
            "margin": null,
            "display": null,
            "left": null
          }
        },
        "669c494d2f3e42deaa2b895d5a352d56": {
          "model_module": "@jupyter-widgets/controls",
          "model_name": "FloatProgressModel",
          "state": {
            "_view_name": "ProgressView",
            "style": "IPY_MODEL_71656d54fcff4a45bd6eaef7d590df1c",
            "_dom_classes": [],
            "description": "",
            "_model_name": "FloatProgressModel",
            "bar_style": "success",
            "max": 1,
            "_view_module": "@jupyter-widgets/controls",
            "_model_module_version": "1.5.0",
            "value": 1,
            "_view_count": null,
            "_view_module_version": "1.5.0",
            "orientation": "horizontal",
            "min": 0,
            "description_tooltip": null,
            "_model_module": "@jupyter-widgets/controls",
            "layout": "IPY_MODEL_2c4abda4c6984fa98174ac1cf31f1c5e"
          }
        },
        "169afbeff55c465799b5cf1ba4915e32": {
          "model_module": "@jupyter-widgets/controls",
          "model_name": "HTMLModel",
          "state": {
            "_view_name": "HTMLView",
            "style": "IPY_MODEL_d3285ff302dc487180724e0786fdfe6d",
            "_dom_classes": [],
            "description": "",
            "_model_name": "HTMLModel",
            "placeholder": "​",
            "_view_module": "@jupyter-widgets/controls",
            "_model_module_version": "1.5.0",
            "value": " 1654784/? [00:01&lt;00:00, 850770.88it/s]",
            "_view_count": null,
            "_view_module_version": "1.5.0",
            "description_tooltip": null,
            "_model_module": "@jupyter-widgets/controls",
            "layout": "IPY_MODEL_e67c58e230d247dabc9063662c30fc04"
          }
        },
        "71656d54fcff4a45bd6eaef7d590df1c": {
          "model_module": "@jupyter-widgets/controls",
          "model_name": "ProgressStyleModel",
          "state": {
            "_view_name": "StyleView",
            "_model_name": "ProgressStyleModel",
            "description_width": "initial",
            "_view_module": "@jupyter-widgets/base",
            "_model_module_version": "1.5.0",
            "_view_count": null,
            "_view_module_version": "1.2.0",
            "bar_color": null,
            "_model_module": "@jupyter-widgets/controls"
          }
        },
        "2c4abda4c6984fa98174ac1cf31f1c5e": {
          "model_module": "@jupyter-widgets/base",
          "model_name": "LayoutModel",
          "state": {
            "_view_name": "LayoutView",
            "grid_template_rows": null,
            "right": null,
            "justify_content": null,
            "_view_module": "@jupyter-widgets/base",
            "overflow": null,
            "_model_module_version": "1.2.0",
            "_view_count": null,
            "flex_flow": null,
            "width": null,
            "min_width": null,
            "border": null,
            "align_items": null,
            "bottom": null,
            "_model_module": "@jupyter-widgets/base",
            "top": null,
            "grid_column": null,
            "overflow_y": null,
            "overflow_x": null,
            "grid_auto_flow": null,
            "grid_area": null,
            "grid_template_columns": null,
            "flex": null,
            "_model_name": "LayoutModel",
            "justify_items": null,
            "grid_row": null,
            "max_height": null,
            "align_content": null,
            "visibility": null,
            "align_self": null,
            "height": null,
            "min_height": null,
            "padding": null,
            "grid_auto_rows": null,
            "grid_gap": null,
            "max_width": null,
            "order": null,
            "_view_module_version": "1.2.0",
            "grid_template_areas": null,
            "object_position": null,
            "object_fit": null,
            "grid_auto_columns": null,
            "margin": null,
            "display": null,
            "left": null
          }
        },
        "d3285ff302dc487180724e0786fdfe6d": {
          "model_module": "@jupyter-widgets/controls",
          "model_name": "DescriptionStyleModel",
          "state": {
            "_view_name": "StyleView",
            "_model_name": "DescriptionStyleModel",
            "description_width": "",
            "_view_module": "@jupyter-widgets/base",
            "_model_module_version": "1.5.0",
            "_view_count": null,
            "_view_module_version": "1.2.0",
            "_model_module": "@jupyter-widgets/controls"
          }
        },
        "e67c58e230d247dabc9063662c30fc04": {
          "model_module": "@jupyter-widgets/base",
          "model_name": "LayoutModel",
          "state": {
            "_view_name": "LayoutView",
            "grid_template_rows": null,
            "right": null,
            "justify_content": null,
            "_view_module": "@jupyter-widgets/base",
            "overflow": null,
            "_model_module_version": "1.2.0",
            "_view_count": null,
            "flex_flow": null,
            "width": null,
            "min_width": null,
            "border": null,
            "align_items": null,
            "bottom": null,
            "_model_module": "@jupyter-widgets/base",
            "top": null,
            "grid_column": null,
            "overflow_y": null,
            "overflow_x": null,
            "grid_auto_flow": null,
            "grid_area": null,
            "grid_template_columns": null,
            "flex": null,
            "_model_name": "LayoutModel",
            "justify_items": null,
            "grid_row": null,
            "max_height": null,
            "align_content": null,
            "visibility": null,
            "align_self": null,
            "height": null,
            "min_height": null,
            "padding": null,
            "grid_auto_rows": null,
            "grid_gap": null,
            "max_width": null,
            "order": null,
            "_view_module_version": "1.2.0",
            "grid_template_areas": null,
            "object_position": null,
            "object_fit": null,
            "grid_auto_columns": null,
            "margin": null,
            "display": null,
            "left": null
          }
        },
        "11025a0abf0849e9908f21f457abaaf1": {
          "model_module": "@jupyter-widgets/controls",
          "model_name": "HBoxModel",
          "state": {
            "_view_name": "HBoxView",
            "_dom_classes": [],
            "_model_name": "HBoxModel",
            "_view_module": "@jupyter-widgets/controls",
            "_model_module_version": "1.5.0",
            "_view_count": null,
            "_view_module_version": "1.5.0",
            "box_style": "",
            "layout": "IPY_MODEL_9081bde9823a4e1595558d2c4414286c",
            "_model_module": "@jupyter-widgets/controls",
            "children": [
              "IPY_MODEL_0f905ea0757245208defdc022e2104e8",
              "IPY_MODEL_437844afde95446c959dacfe37224364"
            ]
          }
        },
        "9081bde9823a4e1595558d2c4414286c": {
          "model_module": "@jupyter-widgets/base",
          "model_name": "LayoutModel",
          "state": {
            "_view_name": "LayoutView",
            "grid_template_rows": null,
            "right": null,
            "justify_content": null,
            "_view_module": "@jupyter-widgets/base",
            "overflow": null,
            "_model_module_version": "1.2.0",
            "_view_count": null,
            "flex_flow": null,
            "width": null,
            "min_width": null,
            "border": null,
            "align_items": null,
            "bottom": null,
            "_model_module": "@jupyter-widgets/base",
            "top": null,
            "grid_column": null,
            "overflow_y": null,
            "overflow_x": null,
            "grid_auto_flow": null,
            "grid_area": null,
            "grid_template_columns": null,
            "flex": null,
            "_model_name": "LayoutModel",
            "justify_items": null,
            "grid_row": null,
            "max_height": null,
            "align_content": null,
            "visibility": null,
            "align_self": null,
            "height": null,
            "min_height": null,
            "padding": null,
            "grid_auto_rows": null,
            "grid_gap": null,
            "max_width": null,
            "order": null,
            "_view_module_version": "1.2.0",
            "grid_template_areas": null,
            "object_position": null,
            "object_fit": null,
            "grid_auto_columns": null,
            "margin": null,
            "display": null,
            "left": null
          }
        },
        "0f905ea0757245208defdc022e2104e8": {
          "model_module": "@jupyter-widgets/controls",
          "model_name": "FloatProgressModel",
          "state": {
            "_view_name": "ProgressView",
            "style": "IPY_MODEL_423c86265af249da8959a9ffdfad5884",
            "_dom_classes": [],
            "description": "",
            "_model_name": "FloatProgressModel",
            "bar_style": "success",
            "max": 1,
            "_view_module": "@jupyter-widgets/controls",
            "_model_module_version": "1.5.0",
            "value": 1,
            "_view_count": null,
            "_view_module_version": "1.5.0",
            "orientation": "horizontal",
            "min": 0,
            "description_tooltip": null,
            "_model_module": "@jupyter-widgets/controls",
            "layout": "IPY_MODEL_4dbc424bb4274c88b6e5eb63e04124f3"
          }
        },
        "437844afde95446c959dacfe37224364": {
          "model_module": "@jupyter-widgets/controls",
          "model_name": "HTMLModel",
          "state": {
            "_view_name": "HTMLView",
            "style": "IPY_MODEL_81e32f7283d04e0d84728e38b85ec52d",
            "_dom_classes": [],
            "description": "",
            "_model_name": "HTMLModel",
            "placeholder": "​",
            "_view_module": "@jupyter-widgets/controls",
            "_model_module_version": "1.5.0",
            "value": " 8192/? [00:01&lt;00:00, 6709.29it/s]",
            "_view_count": null,
            "_view_module_version": "1.5.0",
            "description_tooltip": null,
            "_model_module": "@jupyter-widgets/controls",
            "layout": "IPY_MODEL_463818b4de834c3d807a43a6c9c80dfc"
          }
        },
        "423c86265af249da8959a9ffdfad5884": {
          "model_module": "@jupyter-widgets/controls",
          "model_name": "ProgressStyleModel",
          "state": {
            "_view_name": "StyleView",
            "_model_name": "ProgressStyleModel",
            "description_width": "initial",
            "_view_module": "@jupyter-widgets/base",
            "_model_module_version": "1.5.0",
            "_view_count": null,
            "_view_module_version": "1.2.0",
            "bar_color": null,
            "_model_module": "@jupyter-widgets/controls"
          }
        },
        "4dbc424bb4274c88b6e5eb63e04124f3": {
          "model_module": "@jupyter-widgets/base",
          "model_name": "LayoutModel",
          "state": {
            "_view_name": "LayoutView",
            "grid_template_rows": null,
            "right": null,
            "justify_content": null,
            "_view_module": "@jupyter-widgets/base",
            "overflow": null,
            "_model_module_version": "1.2.0",
            "_view_count": null,
            "flex_flow": null,
            "width": null,
            "min_width": null,
            "border": null,
            "align_items": null,
            "bottom": null,
            "_model_module": "@jupyter-widgets/base",
            "top": null,
            "grid_column": null,
            "overflow_y": null,
            "overflow_x": null,
            "grid_auto_flow": null,
            "grid_area": null,
            "grid_template_columns": null,
            "flex": null,
            "_model_name": "LayoutModel",
            "justify_items": null,
            "grid_row": null,
            "max_height": null,
            "align_content": null,
            "visibility": null,
            "align_self": null,
            "height": null,
            "min_height": null,
            "padding": null,
            "grid_auto_rows": null,
            "grid_gap": null,
            "max_width": null,
            "order": null,
            "_view_module_version": "1.2.0",
            "grid_template_areas": null,
            "object_position": null,
            "object_fit": null,
            "grid_auto_columns": null,
            "margin": null,
            "display": null,
            "left": null
          }
        },
        "81e32f7283d04e0d84728e38b85ec52d": {
          "model_module": "@jupyter-widgets/controls",
          "model_name": "DescriptionStyleModel",
          "state": {
            "_view_name": "StyleView",
            "_model_name": "DescriptionStyleModel",
            "description_width": "",
            "_view_module": "@jupyter-widgets/base",
            "_model_module_version": "1.5.0",
            "_view_count": null,
            "_view_module_version": "1.2.0",
            "_model_module": "@jupyter-widgets/controls"
          }
        },
        "463818b4de834c3d807a43a6c9c80dfc": {
          "model_module": "@jupyter-widgets/base",
          "model_name": "LayoutModel",
          "state": {
            "_view_name": "LayoutView",
            "grid_template_rows": null,
            "right": null,
            "justify_content": null,
            "_view_module": "@jupyter-widgets/base",
            "overflow": null,
            "_model_module_version": "1.2.0",
            "_view_count": null,
            "flex_flow": null,
            "width": null,
            "min_width": null,
            "border": null,
            "align_items": null,
            "bottom": null,
            "_model_module": "@jupyter-widgets/base",
            "top": null,
            "grid_column": null,
            "overflow_y": null,
            "overflow_x": null,
            "grid_auto_flow": null,
            "grid_area": null,
            "grid_template_columns": null,
            "flex": null,
            "_model_name": "LayoutModel",
            "justify_items": null,
            "grid_row": null,
            "max_height": null,
            "align_content": null,
            "visibility": null,
            "align_self": null,
            "height": null,
            "min_height": null,
            "padding": null,
            "grid_auto_rows": null,
            "grid_gap": null,
            "max_width": null,
            "order": null,
            "_view_module_version": "1.2.0",
            "grid_template_areas": null,
            "object_position": null,
            "object_fit": null,
            "grid_auto_columns": null,
            "margin": null,
            "display": null,
            "left": null
          }
        }
      }
    }
  },
  "cells": [
    {
      "cell_type": "code",
      "metadata": {
        "id": "Rsm9ITrEPSWM",
        "colab": {
          "base_uri": "https://localhost:8080/",
          "height": 842,
          "referenced_widgets": [
            "331051c2e4fd44449c647400ee7596a7",
            "5cc05d709edc4d33b8d4b8c35f925ea3",
            "6a9159c5451f42648a9bb423938a2c9d",
            "9985601303fb450d941d8585b26eef87",
            "ee492c7e8f6148a08e0e8e20c0c6419d",
            "3b27d4a397974e7791ab1fdc96b71fd2",
            "4efc5ae91235453aadb2146307f0d657",
            "3f5108ea222249768797850c1496f223",
            "b326bfa2a77e49c2b3eb56b57ac04a16",
            "1d895fecaee34cbf82ed7d6322fe46d4",
            "1a1327abe8cf41d384a3a52796a0ffcc",
            "1069a794c56c457bbaf9c0350fb61c7f",
            "891af0caf4c44d778b68c0385db370da",
            "304cfa5cc7a642e287f5b5d1f18d3ff7",
            "20a61587c6564c1a84112a2964c49824",
            "cb262a9e186a49a1bac0d3ba4db26dba",
            "25b9200a1e614888bd69a9e99d5b7f8a",
            "2930544596e94c16b1de92653b05b45f",
            "669c494d2f3e42deaa2b895d5a352d56",
            "169afbeff55c465799b5cf1ba4915e32",
            "71656d54fcff4a45bd6eaef7d590df1c",
            "2c4abda4c6984fa98174ac1cf31f1c5e",
            "d3285ff302dc487180724e0786fdfe6d",
            "e67c58e230d247dabc9063662c30fc04",
            "11025a0abf0849e9908f21f457abaaf1",
            "9081bde9823a4e1595558d2c4414286c",
            "0f905ea0757245208defdc022e2104e8",
            "437844afde95446c959dacfe37224364",
            "423c86265af249da8959a9ffdfad5884",
            "4dbc424bb4274c88b6e5eb63e04124f3",
            "81e32f7283d04e0d84728e38b85ec52d",
            "463818b4de834c3d807a43a6c9c80dfc"
          ]
        },
        "outputId": "106f7002-3526-4ee7-b103-b81c6414e8ef"
      },
      "source": [
        "import torch\r\n",
        "import torch.nn as nn\r\n",
        "import torch.nn.functional as F\r\n",
        "import torch.optim as optim\r\n",
        "import torch.nn.init as init\r\n",
        "from torchvision import datasets, transforms\r\n",
        "import numpy as np\r\n",
        "import matplotlib.pyplot as plt\r\n",
        "from torchvision import datasets, transforms\r\n",
        "from torch.utils.data import DataLoader\r\n",
        "\r\n",
        "class MnistDataSet(torch.utils.data.Dataset):\r\n",
        "    def __init__(self):\r\n",
        "        mnist_train = datasets.MNIST(root='./mnist_data/', train=True, download=True)\r\n",
        "        self.data = mnist_train.data.reshape(-1, 1, 28, 28).float() / 255.0\r\n",
        "        self.data = 1 * (self.data > 0.5)\r\n",
        "\r\n",
        "    def __len__(self):\r\n",
        "        return len(self.data)\r\n",
        "    \r\n",
        "    def __getitem__(self, idx):\r\n",
        "        return self.data[idx]\r\n",
        "\r\n",
        "dataset = MnistDataSet()\r\n",
        "\r\n",
        "device = 'cuda' if torch.cuda.is_available() else 'cpu'\r\n",
        "if device == 'cuda':\r\n",
        "    gpu_info = !nvidia-smi\r\n",
        "    gpu_info = '\\n'.join(gpu_info)\r\n",
        "    if gpu_info.find('failed') >= 0:\r\n",
        "        print('Select the Runtime > \"Change runtime type\" menu to enable a GPU accelerator, ')\r\n",
        "        print('and then re-execute this cell.')\r\n",
        "    else:\r\n",
        "        print(gpu_info)\r\n",
        "print('device :',device)\r\n",
        "print('torch.version :',torch.__version__)"
      ],
      "execution_count": 1,
      "outputs": [
        {
          "output_type": "stream",
          "text": [
            "Downloading http://yann.lecun.com/exdb/mnist/train-images-idx3-ubyte.gz to ./mnist_data/MNIST/raw/train-images-idx3-ubyte.gz\n"
          ],
          "name": "stdout"
        },
        {
          "output_type": "display_data",
          "data": {
            "application/vnd.jupyter.widget-view+json": {
              "model_id": "331051c2e4fd44449c647400ee7596a7",
              "version_minor": 0,
              "version_major": 2
            },
            "text/plain": [
              "HBox(children=(FloatProgress(value=1.0, bar_style='info', max=1.0), HTML(value='')))"
            ]
          },
          "metadata": {
            "tags": []
          }
        },
        {
          "output_type": "stream",
          "text": [
            "Extracting ./mnist_data/MNIST/raw/train-images-idx3-ubyte.gz to ./mnist_data/MNIST/raw\n",
            "Downloading http://yann.lecun.com/exdb/mnist/train-labels-idx1-ubyte.gz to ./mnist_data/MNIST/raw/train-labels-idx1-ubyte.gz\n"
          ],
          "name": "stdout"
        },
        {
          "output_type": "display_data",
          "data": {
            "application/vnd.jupyter.widget-view+json": {
              "model_id": "b326bfa2a77e49c2b3eb56b57ac04a16",
              "version_minor": 0,
              "version_major": 2
            },
            "text/plain": [
              "HBox(children=(FloatProgress(value=1.0, bar_style='info', max=1.0), HTML(value='')))"
            ]
          },
          "metadata": {
            "tags": []
          }
        },
        {
          "output_type": "stream",
          "text": [
            "Extracting ./mnist_data/MNIST/raw/train-labels-idx1-ubyte.gz to ./mnist_data/MNIST/raw\n",
            "Downloading http://yann.lecun.com/exdb/mnist/t10k-images-idx3-ubyte.gz to ./mnist_data/MNIST/raw/t10k-images-idx3-ubyte.gz\n"
          ],
          "name": "stdout"
        },
        {
          "output_type": "display_data",
          "data": {
            "application/vnd.jupyter.widget-view+json": {
              "model_id": "25b9200a1e614888bd69a9e99d5b7f8a",
              "version_minor": 0,
              "version_major": 2
            },
            "text/plain": [
              "HBox(children=(FloatProgress(value=1.0, bar_style='info', max=1.0), HTML(value='')))"
            ]
          },
          "metadata": {
            "tags": []
          }
        },
        {
          "output_type": "stream",
          "text": [
            "Extracting ./mnist_data/MNIST/raw/t10k-images-idx3-ubyte.gz to ./mnist_data/MNIST/raw\n",
            "Downloading http://yann.lecun.com/exdb/mnist/t10k-labels-idx1-ubyte.gz to ./mnist_data/MNIST/raw/t10k-labels-idx1-ubyte.gz\n"
          ],
          "name": "stdout"
        },
        {
          "output_type": "display_data",
          "data": {
            "application/vnd.jupyter.widget-view+json": {
              "model_id": "11025a0abf0849e9908f21f457abaaf1",
              "version_minor": 0,
              "version_major": 2
            },
            "text/plain": [
              "HBox(children=(FloatProgress(value=1.0, bar_style='info', max=1.0), HTML(value='')))"
            ]
          },
          "metadata": {
            "tags": []
          }
        },
        {
          "output_type": "stream",
          "text": [
            "Extracting ./mnist_data/MNIST/raw/t10k-labels-idx1-ubyte.gz to ./mnist_data/MNIST/raw\n",
            "Processing...\n",
            "Done!\n"
          ],
          "name": "stdout"
        },
        {
          "output_type": "stream",
          "text": [
            "/usr/local/lib/python3.6/dist-packages/torchvision/datasets/mnist.py:480: UserWarning: The given NumPy array is not writeable, and PyTorch does not support non-writeable tensors. This means you can write to the underlying (supposedly non-writeable) NumPy array using the tensor. You may want to copy the array to protect its data or make it writeable before converting it to a tensor. This type of warning will be suppressed for the rest of this program. (Triggered internally at  /pytorch/torch/csrc/utils/tensor_numpy.cpp:141.)\n",
            "  return torch.from_numpy(parsed.astype(m[2], copy=False)).view(*s)\n"
          ],
          "name": "stderr"
        },
        {
          "output_type": "stream",
          "text": [
            "Tue Jan 12 11:27:08 2021       \n",
            "+-----------------------------------------------------------------------------+\n",
            "| NVIDIA-SMI 460.27.04    Driver Version: 418.67       CUDA Version: 10.1     |\n",
            "|-------------------------------+----------------------+----------------------+\n",
            "| GPU  Name        Persistence-M| Bus-Id        Disp.A | Volatile Uncorr. ECC |\n",
            "| Fan  Temp  Perf  Pwr:Usage/Cap|         Memory-Usage | GPU-Util  Compute M. |\n",
            "|                               |                      |               MIG M. |\n",
            "|===============================+======================+======================|\n",
            "|   0  Tesla T4            Off  | 00000000:00:04.0 Off |                    0 |\n",
            "| N/A   57C    P8    13W /  70W |     10MiB / 15079MiB |      0%      Default |\n",
            "|                               |                      |                 ERR! |\n",
            "+-------------------------------+----------------------+----------------------+\n",
            "                                                                               \n",
            "+-----------------------------------------------------------------------------+\n",
            "| Processes:                                                                  |\n",
            "|  GPU   GI   CI        PID   Type   Process name                  GPU Memory |\n",
            "|        ID   ID                                                   Usage      |\n",
            "|=============================================================================|\n",
            "|  No running processes found                                                 |\n",
            "+-----------------------------------------------------------------------------+\n",
            "device : cuda\n",
            "torch.version : 1.7.0+cu101\n",
            "\n",
            "\n",
            "\n",
            "\n"
          ],
          "name": "stdout"
        }
      ]
    },
    {
      "cell_type": "code",
      "metadata": {
        "id": "uyeSxIe1PsUW"
      },
      "source": [
        "def norm(t, dim):\r\n",
        "    return torch.sqrt(torch.sum(t * t, dim))\r\n",
        "\r\n",
        "\r\n",
        "def normalize_weight_jit(log_w_norm, w):\r\n",
        "    return torch.exp(log_w_norm) * w / (norm(w, dim=[1,2,3]).view(-1, 1, 1, 1) + 1e-5)\r\n",
        "    \r\n",
        "\r\n",
        "\r\n",
        "class WnConv2d(nn.Module):\r\n",
        "    def __init__(self, c_in, c_out, kernel_size, stride=1, padding=0, bias=False):\r\n",
        "        super().__init__()\r\n",
        "        self.weight = torch.randn(c_out, c_in, kernel_size[0], kernel_size[1])\r\n",
        "        torch.nn.init.xavier_uniform_(self.weight)\r\n",
        "        self.weight = nn.Parameter(self.weight, requires_grad=True)\r\n",
        "        self.bias = torch.zeros((c_out), requires_grad=True)\r\n",
        "        self.stride = stride\r\n",
        "        self.padding = padding\r\n",
        "        init = norm(self.weight, dim=[1, 2, 3]).view(-1, 1, 1, 1)\r\n",
        "        self.log_weight_norm = nn.Parameter(torch.log(init + 1e-2), requires_grad=True)\r\n",
        "        self.init_done = False\r\n",
        "        self.weight_normalized = self.normalize_weight()\r\n",
        "\r\n",
        "    def forward(self, x):\r\n",
        "        if not self.init_done:\r\n",
        "            with torch.no_grad():\r\n",
        "                weight = self.weight / (norm(self.weight, dim=[1, 2, 3]).view(-1, 1, 1, 1) + 1e-5)\r\n",
        "                bias = None\r\n",
        "                out = F.conv2d(x, weight, bias, self.stride, self.padding)\r\n",
        "                mn = torch.mean(out, dim=[0, 2, 3])\r\n",
        "                st = 5 * torch.std(out, dim=[0, 2, 3])\r\n",
        "                if self.bias is not None:\r\n",
        "                    self.bias.data = - mn / (st + 1e-5)\r\n",
        "                self.log_weight_norm.data = -torch.log((st.view(-1, 1, 1, 1) + 1e-5))\r\n",
        "                self.init_done = True\r\n",
        "        self.weight_normalized = self.normalize_weight()\r\n",
        "        bias = self.bias\r\n",
        "        return F.conv2d(x, self.weight_normalized, bias, 1, self.padding)\r\n",
        "\r\n",
        "    def normalize_weight(self):\r\n",
        "        return normalize_weight_jit(self.log_weight_norm, self.weight)\r\n",
        "\r\n"
      ],
      "execution_count": 2,
      "outputs": []
    },
    {
      "cell_type": "code",
      "metadata": {
        "id": "731K95Pcxm6n"
      },
      "source": [
        "class CausalConvA(nn.Module):\r\n",
        "    def __init__(self, cin, cout, vertical_kernel_size, horizontal_kernel_size):\r\n",
        "        super().__init__()\r\n",
        "        vk_h, vk_w = vertical_kernel_size\r\n",
        "        hk_h, hk_w = horizontal_kernel_size\r\n",
        "        self.v_conv = WnConv2d(cin, cout, (vk_h, vk_w), stride=1, padding=0, bias=True)\r\n",
        "        self.h_conv = WnConv2d(cin, cout, (hk_h, hk_w), stride=1, padding=0, bias=True)\r\n",
        "        self.v_pad = (vk_w // 2, vk_w // 2, vk_h, 0)\r\n",
        "        self.h_pad = (hk_w, 0, hk_h - 1, 0)\r\n",
        "        if vk_w % 2 == 0:\r\n",
        "            self.v_pad[1] = self.v_pad[1] - 1\r\n",
        "\r\n",
        "    def forward(self, x):\r\n",
        "        v_out = self.v_conv(F.pad(x, pad=self.v_pad))[:, :, :-1, :]\r\n",
        "        h_out = self.h_conv(F.pad(x, pad=self.h_pad))[:, :, :, :-1]\r\n",
        "        return v_out + h_out\r\n",
        "\r\n",
        "\r\n",
        "class CausalConvB(nn.Module):\r\n",
        "    def __init__(self, cin, cout, kernel_size):\r\n",
        "        super().__init__()\r\n",
        "        k_h, k_w = kernel_size\r\n",
        "        self.conv = WnConv2d(cin, cout, (k_h, k_w), stride=1, padding=0, bias=True)\r\n",
        "        self.pad = (k_w - 1, 0, k_h - 1, 0)\r\n",
        "\r\n",
        "    def forward(self, x):\r\n",
        "        return self.conv(F.pad(x, pad=self.pad))"
      ],
      "execution_count": 3,
      "outputs": []
    },
    {
      "cell_type": "code",
      "metadata": {
        "id": "JpL_pXn9Aj3P"
      },
      "source": [
        "class GatedResBlock(nn.Module):\r\n",
        "    def __init__(self, cin, c_hid, kernel_size, dropout=0.1, c_aux=0, cond_dim=0):\r\n",
        "        super().__init__()\r\n",
        "        self.conv1 = CausalConvB(cin, c_hid, kernel_size)\r\n",
        "        self.dropout = nn.Dropout(dropout)\r\n",
        "        self.conv2 = CausalConvB(c_hid, cin * 2, kernel_size)\r\n",
        "        self.gate = nn.GLU(1) \r\n",
        "        self.aux_conv = WnConv2d(c_aux, c_hid, (1, 1), stride=1, padding=0, bias=True) if c_aux > 0 else None\r\n",
        "        self.cond_conv = WnConv2d(cond_dim, cin * 2, (1, 1), stride=1, padding=0, bias=True) if cond_dim > 0 else None        \r\n",
        "\r\n",
        "    def forward(self, input, aux_input=None, condition=None):\r\n",
        "        out = self.conv1(F.elu(input))\r\n",
        "        out = out + F.elu(self.aux_conv(aux_input)) if aux_input is not None else out\r\n",
        "        out = self.conv2(self.dropout(F.elu(out)))\r\n",
        "        out = out + self.cond_conv(condition) if condition is not None else out\r\n",
        "        return self.gate(out) + input"
      ],
      "execution_count": 4,
      "outputs": []
    },
    {
      "cell_type": "code",
      "metadata": {
        "id": "FYa1IqhM7i9P"
      },
      "source": [
        "def causal_mask_a_(n_h, n_w):\r\n",
        "    len = n_h * n_w\r\n",
        "    mask = np.array([[True if j >= i else False for j in range(len)] for i in range(len)], np.bool)\r\n",
        "    mask[0][0] = False # first pixel see itself to avoid all attention logits become -inf  \r\n",
        "    return torch.from_numpy(mask).to(device) \r\n",
        "\r\n",
        "def causal_mask_b(n_h, n_w):\r\n",
        "    len = n_h * n_w\r\n",
        "    mask = np.array([[True if j > i else False for j in range(len)] for i in range(len)], np.bool)\r\n",
        "    return torch.from_numpy(mask).to(device)\r\n",
        "\r\n",
        "\r\n",
        "\r\n",
        "\r\n",
        "class CausalAttention(nn.Module): #multi head \r\n",
        "    def __init__(self, c_query, c_key, c_out, n_head=4, dropout=0.1):\r\n",
        "        super().__init__()\r\n",
        "        self.query = WnConv2d(c_query, c_out, (1, 1), stride=1, padding=0, bias=False)\r\n",
        "        self.key = WnConv2d(c_key, c_out, (1, 1), stride=1, padding=0, bias=False)\r\n",
        "        self.value = WnConv2d(c_key, c_out, (1, 1), stride=1, padding=0, bias=False)\r\n",
        "        self.dim_head = c_out // n_head\r\n",
        "        self.n_head = n_head\r\n",
        "        self.c_out = c_out\r\n",
        "        self.drop = nn.Dropout(dropout)\r\n",
        "\r\n",
        "    def forward(self, q, k):\r\n",
        "        n_b, _, n_h, n_w = k.shape\r\n",
        "        query = self.query(q).view(n_b, self.n_head, self.dim_head, n_h * n_w)\r\n",
        "        value = self.value(k).view(n_b, self.n_head, self.dim_head, n_h * n_w)\r\n",
        "        key =   self.key(k).view(n_b, self.n_head, self.dim_head, n_h * n_w)\r\n",
        "\r\n",
        "        query = query.transpose(2, 3) / np.sqrt(self.dim_head)\r\n",
        "        value = value.transpose(2, 3)\r\n",
        "\r\n",
        "        attn = torch.matmul(query, key)\r\n",
        "        mask = causal_mask_a_(n_h, n_w) # mask a shows better result\r\n",
        "        attn = attn.masked_fill(mask, -np.inf)\r\n",
        "        attn = torch.softmax(attn, dim=-1)\r\n",
        "        attn = self.drop(attn)\r\n",
        "        out = attn @ value\r\n",
        "        out = out.transpose(1, 2).reshape(n_b, n_h, n_w, self.dim_head * self.n_head)\r\n",
        "        out = out.permute(0, 3, 1, 2).contiguous()\r\n",
        "        return out\r\n",
        "\r\n"
      ],
      "execution_count": 5,
      "outputs": []
    },
    {
      "cell_type": "code",
      "metadata": {
        "id": "Ie1MwrezGv5B"
      },
      "source": [
        "class PixelResBlock(nn.Module):\r\n",
        "    def __init__(self, c_in, c_hid, kernel_size, n_res_block, dropout=0.1, cond_dim=0):\r\n",
        "        \r\n",
        "        super().__init__()\r\n",
        "        self.resblocks = nn.ModuleList([\r\n",
        "            GatedResBlock(c_in, c_hid, kernel_size, dropout=dropout, c_aux=0, cond_dim=cond_dim) for _ in range(n_res_block)                                        \r\n",
        "        ])\r\n",
        "        self.key_resblock = GatedResBlock(c_in * 2 + 2, c_in, (1, 1), dropout=dropout, c_aux=0, cond_dim=0)\r\n",
        "        self.query_resblock = GatedResBlock(c_in + 2, c_in, (1, 1), dropout=dropout, c_aux=0, cond_dim=0)\r\n",
        "        self.out_resblock = GatedResBlock(c_in, c_in, (1, 1), dropout=dropout, c_aux=c_in//2, cond_dim=0)\r\n",
        "        self.causal_attention = CausalAttention(c_query=c_in + 2, c_key=c_in * 2 + 2, c_out=(c_in // 2), dropout=dropout)\r\n",
        "\r\n",
        "\r\n",
        "    def forward(self, input, background=None, condition=None):\r\n",
        "        out = input\r\n",
        "        for resblock in self.resblocks:\r\n",
        "            out = resblock(input=input, aux_input=None, condition=condition)\r\n",
        "        key = self.key_resblock(torch.cat([input, out, background], 1)) #c_in + c_in + 2\r\n",
        "        query = self.query_resblock(torch.cat([out, background], 1)) #c_out + 2\r\n",
        "        attn_out = self.causal_attention(query, key)\r\n",
        "        out = self.out_resblock(out, attn_out)\r\n",
        "        return out\r\n"
      ],
      "execution_count": 13,
      "outputs": []
    },
    {
      "cell_type": "code",
      "metadata": {
        "id": "rZ__vSiPg9dr"
      },
      "source": [
        "class PixelSNAIL(nn.Module):\r\n",
        "    def __init__(self):\r\n",
        "        super().__init__()\r\n",
        "\r\n",
        "        self.input_shape = (1, 28, 28) \r\n",
        "        \r\n",
        "        self.causal_conv = CausalConvA(self.input_shape[0], 64, (2, 1), (1, 3))\r\n",
        "        self.blocks = nn.ModuleList([\r\n",
        "            PixelResBlock(64, 64, (2, 2), 2) for _ in range(3)       \r\n",
        "        ])\r\n",
        "        self.out = nn.ModuleList([\r\n",
        "            GatedResBlock(64, 64, (2, 2)), \r\n",
        "            WnConv2d(64, 1, (1, 1), 1, 0, False)\r\n",
        "        ])\r\n",
        "\r\n",
        "        height, width = self.input_shape[1], self.input_shape[2]\r\n",
        "        coord_x = (torch.arange(height).float() - height / 2) / height\r\n",
        "        coord_x = coord_x.view(1, 1, height, 1).expand(1, 1, height, width)\r\n",
        "        coord_y = (torch.arange(width).float() - width / 2) / width\r\n",
        "        coord_y = coord_y.view(1, 1, 1, width).expand(1, 1, height, width)\r\n",
        "        self.background = torch.cat([coord_x, coord_y], dim=1).to(device)\r\n",
        "        \r\n",
        "\r\n",
        "    def forward(self, x, condition=None):\r\n",
        "        x = self.causal_conv(x)\r\n",
        "        background = self.background.expand(x.size(0), -1, -1, -1)\r\n",
        "        for block in self.blocks:\r\n",
        "            x = block(x, background, condition=condition)\r\n",
        "        for out in self.out:\r\n",
        "            x = out(x)\r\n",
        "        return torch.sigmoid(x)"
      ],
      "execution_count": 14,
      "outputs": []
    },
    {
      "cell_type": "code",
      "metadata": {
        "id": "bf2QTFQP3fMG"
      },
      "source": [
        "model = PixelSNAIL().to(device)\r\n",
        "mbsz = 16\r\n",
        "solver = optim.Adam(model.parameters(), lr=1e-4)\r\n",
        "loader = DataLoader(dataset=dataset, batch_size=mbsz, shuffle=True, drop_last=True)"
      ],
      "execution_count": 15,
      "outputs": []
    },
    {
      "cell_type": "code",
      "metadata": {
        "colab": {
          "base_uri": "https://localhost:8080/"
        },
        "id": "Dc61lGtJOF3z",
        "outputId": "bc830604-76bf-49cd-9861-f86d9e285157"
      },
      "source": [
        "num_epochs = 10\r\n",
        "NLL = []\r\n",
        "for epoch in range(num_epochs):\r\n",
        "    NLL.append(0.0)\r\n",
        "    for x_q in loader:\r\n",
        "        solver.zero_grad()\r\n",
        "        x_q = x_q.to(device).float()\r\n",
        "        x_p = model(x_q)\r\n",
        "        loss = F.binary_cross_entropy(x_p, x_q, reduction='mean') * 784.\r\n",
        "        loss.backward()\r\n",
        "        solver.step()\r\n",
        "        NLL[-1] += loss.item()\r\n",
        "    NLL[-1] /= len(loader)\r\n",
        "    print(epoch, NLL[-1]/784.)"
      ],
      "execution_count": 16,
      "outputs": [
        {
          "output_type": "stream",
          "text": [
            "0 0.11474962985499376\n",
            "1 0.08824370148327886\n",
            "2 0.08201021308120417\n",
            "3 0.07946686520868418\n",
            "4 0.07808168431366383\n",
            "5 0.07705071837107341\n",
            "6 0.0763210041331596\n",
            "7 0.07573777138327255\n",
            "8 0.07523199217011328\n",
            "9 0.07485674189483228\n"
          ],
          "name": "stdout"
        }
      ]
    },
    {
      "cell_type": "code",
      "metadata": {
        "id": "65TfnxXfFFqP"
      },
      "source": [
        "testdataset = datasets.MNIST(root='./mnist_data/', train=False, download=True).data.float() / 255.0\r\n",
        "testdataset = 1 * (testdataset > 0.5)"
      ],
      "execution_count": 19,
      "outputs": []
    },
    {
      "cell_type": "code",
      "metadata": {
        "id": "eagF78Hnv1k2",
        "colab": {
          "base_uri": "https://localhost:8080/",
          "height": 216
        },
        "outputId": "9fdae3ad-9894-4b40-c874-604eaa988630"
      },
      "source": [
        "num_image = 30\r\n",
        "\r\n",
        "fig = plt.figure(figsize=(20, 2))\r\n",
        "\r\n",
        "n = 0\r\n",
        "for i in range(num_image):\r\n",
        "    _fig = fig.add_subplot(2, num_image, n + 1, xticks=[], yticks=[])\r\n",
        "    _fig.imshow(testdataset[n])\r\n",
        "    n += 1\r\n",
        "fig.suptitle('test data', y=1.01, fontsize=15)\r\n",
        "plt.subplots_adjust(hspace=0, wspace=0)\r\n",
        "plt.show()\r\n",
        "fig = plt.figure(figsize=(20, 2))\r\n",
        "\r\n",
        "model.eval()\r\n",
        "n = 0\r\n",
        "for i in range(num_image):\r\n",
        "    x_q = testdataset[n].reshape(1, 1, 28, 28).float().to(device)\r\n",
        "    x_p = model(x_q)\r\n",
        "    _fig = fig.add_subplot(2, num_image, n + 1, xticks=[], yticks=[])\r\n",
        "    _fig.imshow(x_p.cpu().data.numpy().reshape(28, 28))\r\n",
        "    n += 1\r\n",
        "model.train()\r\n",
        "fig.suptitle('output', y=1.01, fontsize=15)\r\n",
        "plt.subplots_adjust(hspace=0, wspace=0)\r\n",
        "plt.show()\r\n",
        "fig = plt.figure(figsize=(20, 2))\r\n",
        "\r\n",
        "model.eval()\r\n",
        "print('_')"
      ],
      "execution_count": 20,
      "outputs": [
        {
          "output_type": "display_data",
          "data": {
            "image/png": "[encoded data removed]",
            "text/plain": [
              "<Figure size 1440x144 with 30 Axes>"
            ]
          },
          "metadata": {
            "tags": []
          }
        },
        {
          "output_type": "display_data",
          "data": {
            "image/png": "[encoded data removed]",
            "text/plain": [
              "<Figure size 1440x144 with 30 Axes>"
            ]
          },
          "metadata": {
            "tags": []
          }
        },
        {
          "output_type": "stream",
          "text": [
            "_\n"
          ],
          "name": "stdout"
        },
        {
          "output_type": "display_data",
          "data": {
            "text/plain": [
              "<Figure size 1440x144 with 0 Axes>"
            ]
          },
          "metadata": {
            "tags": []
          }
        }
      ]
    },
    {
      "cell_type": "code",
      "metadata": {
        "id": "PoYsI-A1WN_G",
        "colab": {
          "base_uri": "https://localhost:8080/",
          "height": 182
        },
        "outputId": "fed29346-4a91-4e5d-c6d4-246d612086ac"
      },
      "source": [
        "f = plt.figure(figsize=(4,2))\r\n",
        "ax = f.add_subplot(1,2,1)\r\n",
        "\r\n",
        "\r\n",
        "input = testdataset[45].reshape(1, 1, 28, 28).float()\r\n",
        "input[0, 0, 14:28, :] = 0.0\r\n",
        "ax.imshow(input.reshape(28, 28))\r\n",
        "ax.set_title('source')\r\n",
        "\r\n",
        "model.eval()\r\n",
        "x_q = input.to(device)\r\n",
        "with torch.no_grad():\r\n",
        "    for h in range(14, 28):\r\n",
        "        for w in range(28):\r\n",
        "            x_p = model(x_q)\r\n",
        "            x_q[0][0][h][w] = 1.0 * (x_p[0][0][h][w] > 0.5) \r\n",
        "            # x_q[0][0][h][w] = x_p[0][0][h][w] \r\n",
        "\r\n",
        "\r\n",
        "\r\n",
        "model.train()\r\n",
        "\r\n",
        "\r\n",
        "ax = f.add_subplot(1,2,2)\r\n",
        "ax.imshow(x_q.cpu().data.numpy().reshape(28, 28))\r\n",
        "ax.set_title('output')\r\n",
        "plt.show()\r\n",
        "\r\n",
        "\r\n",
        "print('_')"
      ],
      "execution_count": 21,
      "outputs": [
        {
          "output_type": "display_data",
          "data": {
            "image/png": "[encoded data removed]",
            "text/plain": [
              "<Figure size 288x144 with 2 Axes>"
            ]
          },
          "metadata": {
            "tags": [],
            "needs_background": "light"
          }
        },
        {
          "output_type": "stream",
          "text": [
            "_\n"
          ],
          "name": "stdout"
        }
      ]
    },
    {
      "cell_type": "code",
      "metadata": {
        "colab": {
          "base_uri": "https://localhost:8080/",
          "height": 182
        },
        "id": "PsDl23aw8t4H",
        "outputId": "93b67495-7c45-42bb-87f6-62403ac27239"
      },
      "source": [
        "f = plt.figure(figsize=(4,2))\r\n",
        "ax = f.add_subplot(1,2,1)\r\n",
        "\r\n",
        "\r\n",
        "input = testdataset[11].reshape(1, 1, 28, 28).float()\r\n",
        "input[0, 0, 12:28, :] = 0.0\r\n",
        "ax.imshow(input.reshape(28, 28))\r\n",
        "ax.set_title('source')\r\n",
        "\r\n",
        "model.eval()\r\n",
        "x_q = input.to(device)\r\n",
        "with torch.no_grad():\r\n",
        "    for h in range(12, 28):\r\n",
        "        for w in range(28):\r\n",
        "            x_p = model(x_q)\r\n",
        "            x_q[0][0][h][w] = 1.0 * (x_p[0][0][h][w] > 0.5) \r\n",
        "            # x_q[0][0][h][w] = x_p[0][0][h][w] \r\n",
        "\r\n",
        "\r\n",
        "\r\n",
        "model.train()\r\n",
        "\r\n",
        "\r\n",
        "ax = f.add_subplot(1,2,2)\r\n",
        "ax.imshow(x_q.cpu().data.numpy().reshape(28, 28))\r\n",
        "ax.set_title('output')\r\n",
        "plt.show()\r\n",
        "\r\n",
        "\r\n",
        "print('_')"
      ],
      "execution_count": 22,
      "outputs": [
        {
          "output_type": "display_data",
          "data": {
            "image/png": "[encoded data removed]",
            "text/plain": [
              "<Figure size 288x144 with 2 Axes>"
            ]
          },
          "metadata": {
            "tags": [],
            "needs_background": "light"
          }
        },
        {
          "output_type": "stream",
          "text": [
            "_\n"
          ],
          "name": "stdout"
        }
      ]
    }
  ]
}