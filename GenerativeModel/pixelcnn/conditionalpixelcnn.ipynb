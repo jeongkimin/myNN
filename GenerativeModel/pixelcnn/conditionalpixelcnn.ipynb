{
  "nbformat": 4,
  "nbformat_minor": 0,
  "metadata": {
    "colab": {
      "name": "conditionalpixelcnn.ipynb",
      "provenance": []
    },
    "kernelspec": {
      "name": "python3",
      "display_name": "Python 3"
    },
    "accelerator": "GPU",
    "widgets": {
      "application/vnd.jupyter.widget-state+json": {
        "176fa31e676540119154865e7cba72b8": {
          "model_module": "@jupyter-widgets/controls",
          "model_name": "HBoxModel",
          "state": {
            "_view_name": "HBoxView",
            "_dom_classes": [],
            "_model_name": "HBoxModel",
            "_view_module": "@jupyter-widgets/controls",
            "_model_module_version": "1.5.0",
            "_view_count": null,
            "_view_module_version": "1.5.0",
            "box_style": "",
            "layout": "IPY_MODEL_c93ad6247b004e44b2184e72c1618c8f",
            "_model_module": "@jupyter-widgets/controls",
            "children": [
              "IPY_MODEL_f4b0acb1b0974ccd9d4ef95cc2120ab7",
              "IPY_MODEL_04c04e45e6864964a1e3476f50f0e514"
            ]
          }
        },
        "c93ad6247b004e44b2184e72c1618c8f": {
          "model_module": "@jupyter-widgets/base",
          "model_name": "LayoutModel",
          "state": {
            "_view_name": "LayoutView",
            "grid_template_rows": null,
            "right": null,
            "justify_content": null,
            "_view_module": "@jupyter-widgets/base",
            "overflow": null,
            "_model_module_version": "1.2.0",
            "_view_count": null,
            "flex_flow": null,
            "width": null,
            "min_width": null,
            "border": null,
            "align_items": null,
            "bottom": null,
            "_model_module": "@jupyter-widgets/base",
            "top": null,
            "grid_column": null,
            "overflow_y": null,
            "overflow_x": null,
            "grid_auto_flow": null,
            "grid_area": null,
            "grid_template_columns": null,
            "flex": null,
            "_model_name": "LayoutModel",
            "justify_items": null,
            "grid_row": null,
            "max_height": null,
            "align_content": null,
            "visibility": null,
            "align_self": null,
            "height": null,
            "min_height": null,
            "padding": null,
            "grid_auto_rows": null,
            "grid_gap": null,
            "max_width": null,
            "order": null,
            "_view_module_version": "1.2.0",
            "grid_template_areas": null,
            "object_position": null,
            "object_fit": null,
            "grid_auto_columns": null,
            "margin": null,
            "display": null,
            "left": null
          }
        },
        "f4b0acb1b0974ccd9d4ef95cc2120ab7": {
          "model_module": "@jupyter-widgets/controls",
          "model_name": "FloatProgressModel",
          "state": {
            "_view_name": "ProgressView",
            "style": "IPY_MODEL_abb0b8dea4bd4516a539ecd135e73335",
            "_dom_classes": [],
            "description": "",
            "_model_name": "FloatProgressModel",
            "bar_style": "info",
            "max": 1,
            "_view_module": "@jupyter-widgets/controls",
            "_model_module_version": "1.5.0",
            "value": 1,
            "_view_count": null,
            "_view_module_version": "1.5.0",
            "orientation": "horizontal",
            "min": 0,
            "description_tooltip": null,
            "_model_module": "@jupyter-widgets/controls",
            "layout": "IPY_MODEL_8fe1e53cc5d647bb9c9f9927c84d35ae"
          }
        },
        "04c04e45e6864964a1e3476f50f0e514": {
          "model_module": "@jupyter-widgets/controls",
          "model_name": "HTMLModel",
          "state": {
            "_view_name": "HTMLView",
            "style": "IPY_MODEL_112c1d415db04c5fa35fe42f979a9e16",
            "_dom_classes": [],
            "description": "",
            "_model_name": "HTMLModel",
            "placeholder": "​",
            "_view_module": "@jupyter-widgets/controls",
            "_model_module_version": "1.5.0",
            "value": " 9920512/? [00:20&lt;00:00, 1552706.31it/s]",
            "_view_count": null,
            "_view_module_version": "1.5.0",
            "description_tooltip": null,
            "_model_module": "@jupyter-widgets/controls",
            "layout": "IPY_MODEL_98b1bc81d2594969baad821619c709b9"
          }
        },
        "abb0b8dea4bd4516a539ecd135e73335": {
          "model_module": "@jupyter-widgets/controls",
          "model_name": "ProgressStyleModel",
          "state": {
            "_view_name": "StyleView",
            "_model_name": "ProgressStyleModel",
            "description_width": "initial",
            "_view_module": "@jupyter-widgets/base",
            "_model_module_version": "1.5.0",
            "_view_count": null,
            "_view_module_version": "1.2.0",
            "bar_color": null,
            "_model_module": "@jupyter-widgets/controls"
          }
        },
        "8fe1e53cc5d647bb9c9f9927c84d35ae": {
          "model_module": "@jupyter-widgets/base",
          "model_name": "LayoutModel",
          "state": {
            "_view_name": "LayoutView",
            "grid_template_rows": null,
            "right": null,
            "justify_content": null,
            "_view_module": "@jupyter-widgets/base",
            "overflow": null,
            "_model_module_version": "1.2.0",
            "_view_count": null,
            "flex_flow": null,
            "width": null,
            "min_width": null,
            "border": null,
            "align_items": null,
            "bottom": null,
            "_model_module": "@jupyter-widgets/base",
            "top": null,
            "grid_column": null,
            "overflow_y": null,
            "overflow_x": null,
            "grid_auto_flow": null,
            "grid_area": null,
            "grid_template_columns": null,
            "flex": null,
            "_model_name": "LayoutModel",
            "justify_items": null,
            "grid_row": null,
            "max_height": null,
            "align_content": null,
            "visibility": null,
            "align_self": null,
            "height": null,
            "min_height": null,
            "padding": null,
            "grid_auto_rows": null,
            "grid_gap": null,
            "max_width": null,
            "order": null,
            "_view_module_version": "1.2.0",
            "grid_template_areas": null,
            "object_position": null,
            "object_fit": null,
            "grid_auto_columns": null,
            "margin": null,
            "display": null,
            "left": null
          }
        },
        "112c1d415db04c5fa35fe42f979a9e16": {
          "model_module": "@jupyter-widgets/controls",
          "model_name": "DescriptionStyleModel",
          "state": {
            "_view_name": "StyleView",
            "_model_name": "DescriptionStyleModel",
            "description_width": "",
            "_view_module": "@jupyter-widgets/base",
            "_model_module_version": "1.5.0",
            "_view_count": null,
            "_view_module_version": "1.2.0",
            "_model_module": "@jupyter-widgets/controls"
          }
        },
        "98b1bc81d2594969baad821619c709b9": {
          "model_module": "@jupyter-widgets/base",
          "model_name": "LayoutModel",
          "state": {
            "_view_name": "LayoutView",
            "grid_template_rows": null,
            "right": null,
            "justify_content": null,
            "_view_module": "@jupyter-widgets/base",
            "overflow": null,
            "_model_module_version": "1.2.0",
            "_view_count": null,
            "flex_flow": null,
            "width": null,
            "min_width": null,
            "border": null,
            "align_items": null,
            "bottom": null,
            "_model_module": "@jupyter-widgets/base",
            "top": null,
            "grid_column": null,
            "overflow_y": null,
            "overflow_x": null,
            "grid_auto_flow": null,
            "grid_area": null,
            "grid_template_columns": null,
            "flex": null,
            "_model_name": "LayoutModel",
            "justify_items": null,
            "grid_row": null,
            "max_height": null,
            "align_content": null,
            "visibility": null,
            "align_self": null,
            "height": null,
            "min_height": null,
            "padding": null,
            "grid_auto_rows": null,
            "grid_gap": null,
            "max_width": null,
            "order": null,
            "_view_module_version": "1.2.0",
            "grid_template_areas": null,
            "object_position": null,
            "object_fit": null,
            "grid_auto_columns": null,
            "margin": null,
            "display": null,
            "left": null
          }
        },
        "df0152338f1440a5ac954167230ed8f5": {
          "model_module": "@jupyter-widgets/controls",
          "model_name": "HBoxModel",
          "state": {
            "_view_name": "HBoxView",
            "_dom_classes": [],
            "_model_name": "HBoxModel",
            "_view_module": "@jupyter-widgets/controls",
            "_model_module_version": "1.5.0",
            "_view_count": null,
            "_view_module_version": "1.5.0",
            "box_style": "",
            "layout": "IPY_MODEL_dba6b2711065405d8c57b28248b09805",
            "_model_module": "@jupyter-widgets/controls",
            "children": [
              "IPY_MODEL_6c0eb95118544fdba3b4347ad95e96e2",
              "IPY_MODEL_8c11ef8f2f5d40e08695027a646cf896"
            ]
          }
        },
        "dba6b2711065405d8c57b28248b09805": {
          "model_module": "@jupyter-widgets/base",
          "model_name": "LayoutModel",
          "state": {
            "_view_name": "LayoutView",
            "grid_template_rows": null,
            "right": null,
            "justify_content": null,
            "_view_module": "@jupyter-widgets/base",
            "overflow": null,
            "_model_module_version": "1.2.0",
            "_view_count": null,
            "flex_flow": null,
            "width": null,
            "min_width": null,
            "border": null,
            "align_items": null,
            "bottom": null,
            "_model_module": "@jupyter-widgets/base",
            "top": null,
            "grid_column": null,
            "overflow_y": null,
            "overflow_x": null,
            "grid_auto_flow": null,
            "grid_area": null,
            "grid_template_columns": null,
            "flex": null,
            "_model_name": "LayoutModel",
            "justify_items": null,
            "grid_row": null,
            "max_height": null,
            "align_content": null,
            "visibility": null,
            "align_self": null,
            "height": null,
            "min_height": null,
            "padding": null,
            "grid_auto_rows": null,
            "grid_gap": null,
            "max_width": null,
            "order": null,
            "_view_module_version": "1.2.0",
            "grid_template_areas": null,
            "object_position": null,
            "object_fit": null,
            "grid_auto_columns": null,
            "margin": null,
            "display": null,
            "left": null
          }
        },
        "6c0eb95118544fdba3b4347ad95e96e2": {
          "model_module": "@jupyter-widgets/controls",
          "model_name": "FloatProgressModel",
          "state": {
            "_view_name": "ProgressView",
            "style": "IPY_MODEL_e23f1261f67b4e2db2786b9173b28b66",
            "_dom_classes": [],
            "description": "",
            "_model_name": "FloatProgressModel",
            "bar_style": "info",
            "max": 1,
            "_view_module": "@jupyter-widgets/controls",
            "_model_module_version": "1.5.0",
            "value": 1,
            "_view_count": null,
            "_view_module_version": "1.5.0",
            "orientation": "horizontal",
            "min": 0,
            "description_tooltip": null,
            "_model_module": "@jupyter-widgets/controls",
            "layout": "IPY_MODEL_337f7d2fa0aa4cfab0322421c341a546"
          }
        },
        "8c11ef8f2f5d40e08695027a646cf896": {
          "model_module": "@jupyter-widgets/controls",
          "model_name": "HTMLModel",
          "state": {
            "_view_name": "HTMLView",
            "style": "IPY_MODEL_3ad4c33780954d1d85949f80af9527db",
            "_dom_classes": [],
            "description": "",
            "_model_name": "HTMLModel",
            "placeholder": "​",
            "_view_module": "@jupyter-widgets/controls",
            "_model_module_version": "1.5.0",
            "value": " 32768/? [00:20&lt;00:00, 89695.95it/s]",
            "_view_count": null,
            "_view_module_version": "1.5.0",
            "description_tooltip": null,
            "_model_module": "@jupyter-widgets/controls",
            "layout": "IPY_MODEL_22dc95bdd9b64598a64febc8e459db5c"
          }
        },
        "e23f1261f67b4e2db2786b9173b28b66": {
          "model_module": "@jupyter-widgets/controls",
          "model_name": "ProgressStyleModel",
          "state": {
            "_view_name": "StyleView",
            "_model_name": "ProgressStyleModel",
            "description_width": "initial",
            "_view_module": "@jupyter-widgets/base",
            "_model_module_version": "1.5.0",
            "_view_count": null,
            "_view_module_version": "1.2.0",
            "bar_color": null,
            "_model_module": "@jupyter-widgets/controls"
          }
        },
        "337f7d2fa0aa4cfab0322421c341a546": {
          "model_module": "@jupyter-widgets/base",
          "model_name": "LayoutModel",
          "state": {
            "_view_name": "LayoutView",
            "grid_template_rows": null,
            "right": null,
            "justify_content": null,
            "_view_module": "@jupyter-widgets/base",
            "overflow": null,
            "_model_module_version": "1.2.0",
            "_view_count": null,
            "flex_flow": null,
            "width": null,
            "min_width": null,
            "border": null,
            "align_items": null,
            "bottom": null,
            "_model_module": "@jupyter-widgets/base",
            "top": null,
            "grid_column": null,
            "overflow_y": null,
            "overflow_x": null,
            "grid_auto_flow": null,
            "grid_area": null,
            "grid_template_columns": null,
            "flex": null,
            "_model_name": "LayoutModel",
            "justify_items": null,
            "grid_row": null,
            "max_height": null,
            "align_content": null,
            "visibility": null,
            "align_self": null,
            "height": null,
            "min_height": null,
            "padding": null,
            "grid_auto_rows": null,
            "grid_gap": null,
            "max_width": null,
            "order": null,
            "_view_module_version": "1.2.0",
            "grid_template_areas": null,
            "object_position": null,
            "object_fit": null,
            "grid_auto_columns": null,
            "margin": null,
            "display": null,
            "left": null
          }
        },
        "3ad4c33780954d1d85949f80af9527db": {
          "model_module": "@jupyter-widgets/controls",
          "model_name": "DescriptionStyleModel",
          "state": {
            "_view_name": "StyleView",
            "_model_name": "DescriptionStyleModel",
            "description_width": "",
            "_view_module": "@jupyter-widgets/base",
            "_model_module_version": "1.5.0",
            "_view_count": null,
            "_view_module_version": "1.2.0",
            "_model_module": "@jupyter-widgets/controls"
          }
        },
        "22dc95bdd9b64598a64febc8e459db5c": {
          "model_module": "@jupyter-widgets/base",
          "model_name": "LayoutModel",
          "state": {
            "_view_name": "LayoutView",
            "grid_template_rows": null,
            "right": null,
            "justify_content": null,
            "_view_module": "@jupyter-widgets/base",
            "overflow": null,
            "_model_module_version": "1.2.0",
            "_view_count": null,
            "flex_flow": null,
            "width": null,
            "min_width": null,
            "border": null,
            "align_items": null,
            "bottom": null,
            "_model_module": "@jupyter-widgets/base",
            "top": null,
            "grid_column": null,
            "overflow_y": null,
            "overflow_x": null,
            "grid_auto_flow": null,
            "grid_area": null,
            "grid_template_columns": null,
            "flex": null,
            "_model_name": "LayoutModel",
            "justify_items": null,
            "grid_row": null,
            "max_height": null,
            "align_content": null,
            "visibility": null,
            "align_self": null,
            "height": null,
            "min_height": null,
            "padding": null,
            "grid_auto_rows": null,
            "grid_gap": null,
            "max_width": null,
            "order": null,
            "_view_module_version": "1.2.0",
            "grid_template_areas": null,
            "object_position": null,
            "object_fit": null,
            "grid_auto_columns": null,
            "margin": null,
            "display": null,
            "left": null
          }
        },
        "79de2a46240e48b8ad12cf1423057241": {
          "model_module": "@jupyter-widgets/controls",
          "model_name": "HBoxModel",
          "state": {
            "_view_name": "HBoxView",
            "_dom_classes": [],
            "_model_name": "HBoxModel",
            "_view_module": "@jupyter-widgets/controls",
            "_model_module_version": "1.5.0",
            "_view_count": null,
            "_view_module_version": "1.5.0",
            "box_style": "",
            "layout": "IPY_MODEL_ed4dcc7ac2db473caa967cb2767f06bd",
            "_model_module": "@jupyter-widgets/controls",
            "children": [
              "IPY_MODEL_1406052f32dd4bc8b7bdf0d661121a08",
              "IPY_MODEL_2bbd56c703bc489b804973f059b4839a"
            ]
          }
        },
        "ed4dcc7ac2db473caa967cb2767f06bd": {
          "model_module": "@jupyter-widgets/base",
          "model_name": "LayoutModel",
          "state": {
            "_view_name": "LayoutView",
            "grid_template_rows": null,
            "right": null,
            "justify_content": null,
            "_view_module": "@jupyter-widgets/base",
            "overflow": null,
            "_model_module_version": "1.2.0",
            "_view_count": null,
            "flex_flow": null,
            "width": null,
            "min_width": null,
            "border": null,
            "align_items": null,
            "bottom": null,
            "_model_module": "@jupyter-widgets/base",
            "top": null,
            "grid_column": null,
            "overflow_y": null,
            "overflow_x": null,
            "grid_auto_flow": null,
            "grid_area": null,
            "grid_template_columns": null,
            "flex": null,
            "_model_name": "LayoutModel",
            "justify_items": null,
            "grid_row": null,
            "max_height": null,
            "align_content": null,
            "visibility": null,
            "align_self": null,
            "height": null,
            "min_height": null,
            "padding": null,
            "grid_auto_rows": null,
            "grid_gap": null,
            "max_width": null,
            "order": null,
            "_view_module_version": "1.2.0",
            "grid_template_areas": null,
            "object_position": null,
            "object_fit": null,
            "grid_auto_columns": null,
            "margin": null,
            "display": null,
            "left": null
          }
        },
        "1406052f32dd4bc8b7bdf0d661121a08": {
          "model_module": "@jupyter-widgets/controls",
          "model_name": "FloatProgressModel",
          "state": {
            "_view_name": "ProgressView",
            "style": "IPY_MODEL_8606df1d3cc142a9ac4b851f2b0f9546",
            "_dom_classes": [],
            "description": "",
            "_model_name": "FloatProgressModel",
            "bar_style": "success",
            "max": 1,
            "_view_module": "@jupyter-widgets/controls",
            "_model_module_version": "1.5.0",
            "value": 1,
            "_view_count": null,
            "_view_module_version": "1.5.0",
            "orientation": "horizontal",
            "min": 0,
            "description_tooltip": null,
            "_model_module": "@jupyter-widgets/controls",
            "layout": "IPY_MODEL_03c3592c27d94591825edaa89de0a108"
          }
        },
        "2bbd56c703bc489b804973f059b4839a": {
          "model_module": "@jupyter-widgets/controls",
          "model_name": "HTMLModel",
          "state": {
            "_view_name": "HTMLView",
            "style": "IPY_MODEL_b84c7608176f41ee85a5fdce8f5ccbf4",
            "_dom_classes": [],
            "description": "",
            "_model_name": "HTMLModel",
            "placeholder": "​",
            "_view_module": "@jupyter-widgets/controls",
            "_model_module_version": "1.5.0",
            "value": " 1654784/? [00:02&lt;00:00, 578301.61it/s]",
            "_view_count": null,
            "_view_module_version": "1.5.0",
            "description_tooltip": null,
            "_model_module": "@jupyter-widgets/controls",
            "layout": "IPY_MODEL_e20e2919653d4daa8e668748eadc6452"
          }
        },
        "8606df1d3cc142a9ac4b851f2b0f9546": {
          "model_module": "@jupyter-widgets/controls",
          "model_name": "ProgressStyleModel",
          "state": {
            "_view_name": "StyleView",
            "_model_name": "ProgressStyleModel",
            "description_width": "initial",
            "_view_module": "@jupyter-widgets/base",
            "_model_module_version": "1.5.0",
            "_view_count": null,
            "_view_module_version": "1.2.0",
            "bar_color": null,
            "_model_module": "@jupyter-widgets/controls"
          }
        },
        "03c3592c27d94591825edaa89de0a108": {
          "model_module": "@jupyter-widgets/base",
          "model_name": "LayoutModel",
          "state": {
            "_view_name": "LayoutView",
            "grid_template_rows": null,
            "right": null,
            "justify_content": null,
            "_view_module": "@jupyter-widgets/base",
            "overflow": null,
            "_model_module_version": "1.2.0",
            "_view_count": null,
            "flex_flow": null,
            "width": null,
            "min_width": null,
            "border": null,
            "align_items": null,
            "bottom": null,
            "_model_module": "@jupyter-widgets/base",
            "top": null,
            "grid_column": null,
            "overflow_y": null,
            "overflow_x": null,
            "grid_auto_flow": null,
            "grid_area": null,
            "grid_template_columns": null,
            "flex": null,
            "_model_name": "LayoutModel",
            "justify_items": null,
            "grid_row": null,
            "max_height": null,
            "align_content": null,
            "visibility": null,
            "align_self": null,
            "height": null,
            "min_height": null,
            "padding": null,
            "grid_auto_rows": null,
            "grid_gap": null,
            "max_width": null,
            "order": null,
            "_view_module_version": "1.2.0",
            "grid_template_areas": null,
            "object_position": null,
            "object_fit": null,
            "grid_auto_columns": null,
            "margin": null,
            "display": null,
            "left": null
          }
        },
        "b84c7608176f41ee85a5fdce8f5ccbf4": {
          "model_module": "@jupyter-widgets/controls",
          "model_name": "DescriptionStyleModel",
          "state": {
            "_view_name": "StyleView",
            "_model_name": "DescriptionStyleModel",
            "description_width": "",
            "_view_module": "@jupyter-widgets/base",
            "_model_module_version": "1.5.0",
            "_view_count": null,
            "_view_module_version": "1.2.0",
            "_model_module": "@jupyter-widgets/controls"
          }
        },
        "e20e2919653d4daa8e668748eadc6452": {
          "model_module": "@jupyter-widgets/base",
          "model_name": "LayoutModel",
          "state": {
            "_view_name": "LayoutView",
            "grid_template_rows": null,
            "right": null,
            "justify_content": null,
            "_view_module": "@jupyter-widgets/base",
            "overflow": null,
            "_model_module_version": "1.2.0",
            "_view_count": null,
            "flex_flow": null,
            "width": null,
            "min_width": null,
            "border": null,
            "align_items": null,
            "bottom": null,
            "_model_module": "@jupyter-widgets/base",
            "top": null,
            "grid_column": null,
            "overflow_y": null,
            "overflow_x": null,
            "grid_auto_flow": null,
            "grid_area": null,
            "grid_template_columns": null,
            "flex": null,
            "_model_name": "LayoutModel",
            "justify_items": null,
            "grid_row": null,
            "max_height": null,
            "align_content": null,
            "visibility": null,
            "align_self": null,
            "height": null,
            "min_height": null,
            "padding": null,
            "grid_auto_rows": null,
            "grid_gap": null,
            "max_width": null,
            "order": null,
            "_view_module_version": "1.2.0",
            "grid_template_areas": null,
            "object_position": null,
            "object_fit": null,
            "grid_auto_columns": null,
            "margin": null,
            "display": null,
            "left": null
          }
        },
        "7d317532caa049aaaa4e2b38feb86547": {
          "model_module": "@jupyter-widgets/controls",
          "model_name": "HBoxModel",
          "state": {
            "_view_name": "HBoxView",
            "_dom_classes": [],
            "_model_name": "HBoxModel",
            "_view_module": "@jupyter-widgets/controls",
            "_model_module_version": "1.5.0",
            "_view_count": null,
            "_view_module_version": "1.5.0",
            "box_style": "",
            "layout": "IPY_MODEL_3a683ca5bbc846dc97d582aaa05172e2",
            "_model_module": "@jupyter-widgets/controls",
            "children": [
              "IPY_MODEL_f668e4a9b47c41a1a1d9652a673aff9c",
              "IPY_MODEL_768b7b3203224aaf8002e35323991053"
            ]
          }
        },
        "3a683ca5bbc846dc97d582aaa05172e2": {
          "model_module": "@jupyter-widgets/base",
          "model_name": "LayoutModel",
          "state": {
            "_view_name": "LayoutView",
            "grid_template_rows": null,
            "right": null,
            "justify_content": null,
            "_view_module": "@jupyter-widgets/base",
            "overflow": null,
            "_model_module_version": "1.2.0",
            "_view_count": null,
            "flex_flow": null,
            "width": null,
            "min_width": null,
            "border": null,
            "align_items": null,
            "bottom": null,
            "_model_module": "@jupyter-widgets/base",
            "top": null,
            "grid_column": null,
            "overflow_y": null,
            "overflow_x": null,
            "grid_auto_flow": null,
            "grid_area": null,
            "grid_template_columns": null,
            "flex": null,
            "_model_name": "LayoutModel",
            "justify_items": null,
            "grid_row": null,
            "max_height": null,
            "align_content": null,
            "visibility": null,
            "align_self": null,
            "height": null,
            "min_height": null,
            "padding": null,
            "grid_auto_rows": null,
            "grid_gap": null,
            "max_width": null,
            "order": null,
            "_view_module_version": "1.2.0",
            "grid_template_areas": null,
            "object_position": null,
            "object_fit": null,
            "grid_auto_columns": null,
            "margin": null,
            "display": null,
            "left": null
          }
        },
        "f668e4a9b47c41a1a1d9652a673aff9c": {
          "model_module": "@jupyter-widgets/controls",
          "model_name": "FloatProgressModel",
          "state": {
            "_view_name": "ProgressView",
            "style": "IPY_MODEL_dcdbe6a6f6d14658978c06a1aaee44f9",
            "_dom_classes": [],
            "description": "",
            "_model_name": "FloatProgressModel",
            "bar_style": "success",
            "max": 1,
            "_view_module": "@jupyter-widgets/controls",
            "_model_module_version": "1.5.0",
            "value": 1,
            "_view_count": null,
            "_view_module_version": "1.5.0",
            "orientation": "horizontal",
            "min": 0,
            "description_tooltip": null,
            "_model_module": "@jupyter-widgets/controls",
            "layout": "IPY_MODEL_f43ad2a88b7f4387add2fc490b846c78"
          }
        },
        "768b7b3203224aaf8002e35323991053": {
          "model_module": "@jupyter-widgets/controls",
          "model_name": "HTMLModel",
          "state": {
            "_view_name": "HTMLView",
            "style": "IPY_MODEL_9739d62f8a3341e6bae10d677c209dc0",
            "_dom_classes": [],
            "description": "",
            "_model_name": "HTMLModel",
            "placeholder": "​",
            "_view_module": "@jupyter-widgets/controls",
            "_model_module_version": "1.5.0",
            "value": " 8192/? [00:01&lt;00:00, 7405.59it/s]",
            "_view_count": null,
            "_view_module_version": "1.5.0",
            "description_tooltip": null,
            "_model_module": "@jupyter-widgets/controls",
            "layout": "IPY_MODEL_6bea5984968d4758a5cef593b814824a"
          }
        },
        "dcdbe6a6f6d14658978c06a1aaee44f9": {
          "model_module": "@jupyter-widgets/controls",
          "model_name": "ProgressStyleModel",
          "state": {
            "_view_name": "StyleView",
            "_model_name": "ProgressStyleModel",
            "description_width": "initial",
            "_view_module": "@jupyter-widgets/base",
            "_model_module_version": "1.5.0",
            "_view_count": null,
            "_view_module_version": "1.2.0",
            "bar_color": null,
            "_model_module": "@jupyter-widgets/controls"
          }
        },
        "f43ad2a88b7f4387add2fc490b846c78": {
          "model_module": "@jupyter-widgets/base",
          "model_name": "LayoutModel",
          "state": {
            "_view_name": "LayoutView",
            "grid_template_rows": null,
            "right": null,
            "justify_content": null,
            "_view_module": "@jupyter-widgets/base",
            "overflow": null,
            "_model_module_version": "1.2.0",
            "_view_count": null,
            "flex_flow": null,
            "width": null,
            "min_width": null,
            "border": null,
            "align_items": null,
            "bottom": null,
            "_model_module": "@jupyter-widgets/base",
            "top": null,
            "grid_column": null,
            "overflow_y": null,
            "overflow_x": null,
            "grid_auto_flow": null,
            "grid_area": null,
            "grid_template_columns": null,
            "flex": null,
            "_model_name": "LayoutModel",
            "justify_items": null,
            "grid_row": null,
            "max_height": null,
            "align_content": null,
            "visibility": null,
            "align_self": null,
            "height": null,
            "min_height": null,
            "padding": null,
            "grid_auto_rows": null,
            "grid_gap": null,
            "max_width": null,
            "order": null,
            "_view_module_version": "1.2.0",
            "grid_template_areas": null,
            "object_position": null,
            "object_fit": null,
            "grid_auto_columns": null,
            "margin": null,
            "display": null,
            "left": null
          }
        },
        "9739d62f8a3341e6bae10d677c209dc0": {
          "model_module": "@jupyter-widgets/controls",
          "model_name": "DescriptionStyleModel",
          "state": {
            "_view_name": "StyleView",
            "_model_name": "DescriptionStyleModel",
            "description_width": "",
            "_view_module": "@jupyter-widgets/base",
            "_model_module_version": "1.5.0",
            "_view_count": null,
            "_view_module_version": "1.2.0",
            "_model_module": "@jupyter-widgets/controls"
          }
        },
        "6bea5984968d4758a5cef593b814824a": {
          "model_module": "@jupyter-widgets/base",
          "model_name": "LayoutModel",
          "state": {
            "_view_name": "LayoutView",
            "grid_template_rows": null,
            "right": null,
            "justify_content": null,
            "_view_module": "@jupyter-widgets/base",
            "overflow": null,
            "_model_module_version": "1.2.0",
            "_view_count": null,
            "flex_flow": null,
            "width": null,
            "min_width": null,
            "border": null,
            "align_items": null,
            "bottom": null,
            "_model_module": "@jupyter-widgets/base",
            "top": null,
            "grid_column": null,
            "overflow_y": null,
            "overflow_x": null,
            "grid_auto_flow": null,
            "grid_area": null,
            "grid_template_columns": null,
            "flex": null,
            "_model_name": "LayoutModel",
            "justify_items": null,
            "grid_row": null,
            "max_height": null,
            "align_content": null,
            "visibility": null,
            "align_self": null,
            "height": null,
            "min_height": null,
            "padding": null,
            "grid_auto_rows": null,
            "grid_gap": null,
            "max_width": null,
            "order": null,
            "_view_module_version": "1.2.0",
            "grid_template_areas": null,
            "object_position": null,
            "object_fit": null,
            "grid_auto_columns": null,
            "margin": null,
            "display": null,
            "left": null
          }
        }
      }
    }
  },
  "cells": [
    {
      "cell_type": "code",
      "metadata": {
        "id": "UT5EO-tJWs4F",
        "colab": {
          "base_uri": "https://localhost:8080/",
          "height": 806,
          "referenced_widgets": [
            "176fa31e676540119154865e7cba72b8",
            "c93ad6247b004e44b2184e72c1618c8f",
            "f4b0acb1b0974ccd9d4ef95cc2120ab7",
            "04c04e45e6864964a1e3476f50f0e514",
            "abb0b8dea4bd4516a539ecd135e73335",
            "8fe1e53cc5d647bb9c9f9927c84d35ae",
            "112c1d415db04c5fa35fe42f979a9e16",
            "98b1bc81d2594969baad821619c709b9",
            "df0152338f1440a5ac954167230ed8f5",
            "dba6b2711065405d8c57b28248b09805",
            "6c0eb95118544fdba3b4347ad95e96e2",
            "8c11ef8f2f5d40e08695027a646cf896",
            "e23f1261f67b4e2db2786b9173b28b66",
            "337f7d2fa0aa4cfab0322421c341a546",
            "3ad4c33780954d1d85949f80af9527db",
            "22dc95bdd9b64598a64febc8e459db5c",
            "79de2a46240e48b8ad12cf1423057241",
            "ed4dcc7ac2db473caa967cb2767f06bd",
            "1406052f32dd4bc8b7bdf0d661121a08",
            "2bbd56c703bc489b804973f059b4839a",
            "8606df1d3cc142a9ac4b851f2b0f9546",
            "03c3592c27d94591825edaa89de0a108",
            "b84c7608176f41ee85a5fdce8f5ccbf4",
            "e20e2919653d4daa8e668748eadc6452",
            "7d317532caa049aaaa4e2b38feb86547",
            "3a683ca5bbc846dc97d582aaa05172e2",
            "f668e4a9b47c41a1a1d9652a673aff9c",
            "768b7b3203224aaf8002e35323991053",
            "dcdbe6a6f6d14658978c06a1aaee44f9",
            "f43ad2a88b7f4387add2fc490b846c78",
            "9739d62f8a3341e6bae10d677c209dc0",
            "6bea5984968d4758a5cef593b814824a"
          ]
        },
        "outputId": "4600fcc3-a4b7-4a77-b0bc-34036ba4f347"
      },
      "source": [
        "import torch\r\n",
        "import torch.nn as nn\r\n",
        "import torch.nn.functional as F\r\n",
        "import torch.optim as optim\r\n",
        "import torch.nn.init as init\r\n",
        "from torchvision import datasets, transforms\r\n",
        "import numpy as np\r\n",
        "import matplotlib.pyplot as plt\r\n",
        "from torchvision import datasets, transforms\r\n",
        "from torch.utils.data import DataLoader\r\n",
        "from google.colab import drive\r\n",
        "\r\n",
        "\r\n",
        "class MnistDataSet(torch.utils.data.Dataset):\r\n",
        "    def __init__(self):\r\n",
        "        mnist_train = datasets.MNIST(root='./mnist_data/', train=True, download=True)\r\n",
        "        self.data = mnist_train.data.reshape(-1, 1, 28, 28).float() / 255.0\r\n",
        "\r\n",
        "    def __len__(self):\r\n",
        "        return len(self.data)\r\n",
        "    \r\n",
        "    def __getitem__(self, idx):\r\n",
        "        return self.data[idx]\r\n",
        "\r\n",
        "dataset = MnistDataSet()\r\n",
        "\r\n",
        "device = 'cuda' if torch.cuda.is_available() else 'cpu'\r\n",
        "if device == 'cuda':\r\n",
        "    gpu_info = !nvidia-smi\r\n",
        "    gpu_info = '\\n'.join(gpu_info)\r\n",
        "    if gpu_info.find('failed') >= 0:\r\n",
        "        print('Select the Runtime > \"Change runtime type\" menu to enable a GPU accelerator, ')\r\n",
        "        print('and then re-execute this cell.')\r\n",
        "    else:\r\n",
        "        print(gpu_info)\r\n",
        "print('device :',device)\r\n",
        "print('torch.version :',torch.__version__)"
      ],
      "execution_count": 1,
      "outputs": [
        {
          "output_type": "stream",
          "text": [
            "Downloading http://yann.lecun.com/exdb/mnist/train-images-idx3-ubyte.gz to ./mnist_data/MNIST/raw/train-images-idx3-ubyte.gz\n"
          ],
          "name": "stdout"
        },
        {
          "output_type": "display_data",
          "data": {
            "application/vnd.jupyter.widget-view+json": {
              "model_id": "176fa31e676540119154865e7cba72b8",
              "version_minor": 0,
              "version_major": 2
            },
            "text/plain": [
              "HBox(children=(FloatProgress(value=1.0, bar_style='info', max=1.0), HTML(value='')))"
            ]
          },
          "metadata": {
            "tags": []
          }
        },
        {
          "output_type": "stream",
          "text": [
            "Extracting ./mnist_data/MNIST/raw/train-images-idx3-ubyte.gz to ./mnist_data/MNIST/raw\n",
            "Downloading http://yann.lecun.com/exdb/mnist/train-labels-idx1-ubyte.gz to ./mnist_data/MNIST/raw/train-labels-idx1-ubyte.gz\n"
          ],
          "name": "stdout"
        },
        {
          "output_type": "display_data",
          "data": {
            "application/vnd.jupyter.widget-view+json": {
              "model_id": "df0152338f1440a5ac954167230ed8f5",
              "version_minor": 0,
              "version_major": 2
            },
            "text/plain": [
              "HBox(children=(FloatProgress(value=1.0, bar_style='info', max=1.0), HTML(value='')))"
            ]
          },
          "metadata": {
            "tags": []
          }
        },
        {
          "output_type": "stream",
          "text": [
            "Extracting ./mnist_data/MNIST/raw/train-labels-idx1-ubyte.gz to ./mnist_data/MNIST/raw\n",
            "Downloading http://yann.lecun.com/exdb/mnist/t10k-images-idx3-ubyte.gz to ./mnist_data/MNIST/raw/t10k-images-idx3-ubyte.gz\n"
          ],
          "name": "stdout"
        },
        {
          "output_type": "display_data",
          "data": {
            "application/vnd.jupyter.widget-view+json": {
              "model_id": "79de2a46240e48b8ad12cf1423057241",
              "version_minor": 0,
              "version_major": 2
            },
            "text/plain": [
              "HBox(children=(FloatProgress(value=1.0, bar_style='info', max=1.0), HTML(value='')))"
            ]
          },
          "metadata": {
            "tags": []
          }
        },
        {
          "output_type": "stream",
          "text": [
            "Extracting ./mnist_data/MNIST/raw/t10k-images-idx3-ubyte.gz to ./mnist_data/MNIST/raw\n",
            "Downloading http://yann.lecun.com/exdb/mnist/t10k-labels-idx1-ubyte.gz to ./mnist_data/MNIST/raw/t10k-labels-idx1-ubyte.gz\n"
          ],
          "name": "stdout"
        },
        {
          "output_type": "display_data",
          "data": {
            "application/vnd.jupyter.widget-view+json": {
              "model_id": "7d317532caa049aaaa4e2b38feb86547",
              "version_minor": 0,
              "version_major": 2
            },
            "text/plain": [
              "HBox(children=(FloatProgress(value=1.0, bar_style='info', max=1.0), HTML(value='')))"
            ]
          },
          "metadata": {
            "tags": []
          }
        },
        {
          "output_type": "stream",
          "text": [
            "Extracting ./mnist_data/MNIST/raw/t10k-labels-idx1-ubyte.gz to ./mnist_data/MNIST/raw\n",
            "Processing...\n",
            "Done!\n"
          ],
          "name": "stdout"
        },
        {
          "output_type": "stream",
          "text": [
            "/usr/local/lib/python3.6/dist-packages/torchvision/datasets/mnist.py:480: UserWarning: The given NumPy array is not writeable, and PyTorch does not support non-writeable tensors. This means you can write to the underlying (supposedly non-writeable) NumPy array using the tensor. You may want to copy the array to protect its data or make it writeable before converting it to a tensor. This type of warning will be suppressed for the rest of this program. (Triggered internally at  /pytorch/torch/csrc/utils/tensor_numpy.cpp:141.)\n",
            "  return torch.from_numpy(parsed.astype(m[2], copy=False)).view(*s)\n"
          ],
          "name": "stderr"
        },
        {
          "output_type": "stream",
          "text": [
            "Sat Dec 26 12:29:43 2020       \n",
            "+-----------------------------------------------------------------------------+\n",
            "| NVIDIA-SMI 460.27.04    Driver Version: 418.67       CUDA Version: 10.1     |\n",
            "|-------------------------------+----------------------+----------------------+\n",
            "| GPU  Name        Persistence-M| Bus-Id        Disp.A | Volatile Uncorr. ECC |\n",
            "| Fan  Temp  Perf  Pwr:Usage/Cap|         Memory-Usage | GPU-Util  Compute M. |\n",
            "|                               |                      |               MIG M. |\n",
            "|===============================+======================+======================|\n",
            "|   0  Tesla P100-PCIE...  Off  | 00000000:00:04.0 Off |                    0 |\n",
            "| N/A   35C    P0    26W / 250W |     10MiB / 16280MiB |      0%      Default |\n",
            "|                               |                      |                 ERR! |\n",
            "+-------------------------------+----------------------+----------------------+\n",
            "                                                                               \n",
            "+-----------------------------------------------------------------------------+\n",
            "| Processes:                                                                  |\n",
            "|  GPU   GI   CI        PID   Type   Process name                  GPU Memory |\n",
            "|        ID   ID                                                   Usage      |\n",
            "|=============================================================================|\n",
            "|  No running processes found                                                 |\n",
            "+-----------------------------------------------------------------------------+\n",
            "device : cuda\n",
            "torch.version : 1.7.0+cu101\n",
            "\n",
            "\n"
          ],
          "name": "stdout"
        }
      ]
    },
    {
      "cell_type": "code",
      "metadata": {
        "id": "EnHLdJDD1HsO"
      },
      "source": [
        "# my implementation is the simple version of https://github.com/kkleidal/GatedPixelCNNPyTorch (if i correctly implement)\r\n",
        "class MaskedConv2d(nn.Module):\r\n",
        "    def __init__(self, mask_type, vertical, Cin, Cout, kernal_size):\r\n",
        "        super().__init__()\r\n",
        "        assert mask_type in {'A', 'B'}\r\n",
        "        if vertical:\r\n",
        "            self.weight = nn.Parameter(torch.randn(Cout, Cin, kernal_size, kernal_size)).to(device)\r\n",
        "            self.padding = (kernal_size//2, kernal_size//2)\r\n",
        "            self.mask = torch.ones_like(self.weight)\r\n",
        "            self.mask[:, :, kernal_size//2:, :] = 0.0\r\n",
        "        else:\r\n",
        "            self.weight = nn.Parameter(torch.randn(Cout, Cin, 1, kernal_size)).to(device)\r\n",
        "            self.padding = (0, kernal_size // 2)\r\n",
        "            self.mask = torch.ones_like(self.weight)\r\n",
        "            if mask_type == 'A':\r\n",
        "                self.mask[:, :, 0, (kernal_size//2):] = 0.0 \r\n",
        "            else :\r\n",
        "                self.mask[:, :, 0, (kernal_size//2) + 1:] = 0.0 \r\n",
        "        torch.nn.init.xavier_uniform_(self.weight)\r\n",
        "\r\n",
        "    def forward(self, x):\r\n",
        "        self.weight.data *= self.mask\r\n",
        "        return F.conv2d(x, self.weight, stride=1, padding=self.padding)\r\n",
        "\r\n",
        "class GatedPixelCNN(nn.Module):\r\n",
        "    def __init__(self, mask_type, C, kernal_size):\r\n",
        "        super().__init__()\r\n",
        "        self.C = C\r\n",
        "        self.vertical = MaskedConv2d(mask_type, True,  C, 2 * C, kernal_size)\r\n",
        "        self.horizont = MaskedConv2d(mask_type, False, C, 2 * C, kernal_size)\r\n",
        "        self.v2c = nn.Conv2d(2*C, 2*C, (1, 1), (1, 1), (0, 0))\r\n",
        "        self.hor_end = nn.Conv2d(C, C, (1, 1), (1, 1), (0, 0))\r\n",
        "        self.vbn = nn.BatchNorm2d(C)\r\n",
        "        self.hbn = nn.BatchNorm2d(C)\r\n",
        "\r\n",
        "    def forward(self, v, h):\r\n",
        "        v = self.vertical(v)\r\n",
        "        h_new = self.horizont(h)\r\n",
        "        h_new = h_new + self.v2c(h_new)\r\n",
        "        v = torch.tanh(v[:, :self.C, :, :]) * torch.sigmoid(v[:, self.C:, :, :])\r\n",
        "        h_new = torch.tanh(h_new[:, :self.C, :, :]) * torch.sigmoid(h_new[:, self.C:, :, :])\r\n",
        "        h_new = self.hor_end(h_new)\r\n",
        "        return self.vbn(v), self.hbn(h + h_new)\r\n",
        "\r\n",
        "class PixelCNN(nn.Module):\r\n",
        "    def __init__(self):\r\n",
        "        super().__init__()\r\n",
        "        self.net = nn.ModuleList([\r\n",
        "            nn.Sequential(\r\n",
        "                nn.Conv2d(1, 16, 1, 1, 0),\r\n",
        "                nn.BatchNorm2d(16),\r\n",
        "                nn.LeakyReLU(),\r\n",
        "            ),\r\n",
        "            GatedPixelCNN('A', 16, 7),\r\n",
        "            GatedPixelCNN('B', 16, 7),\r\n",
        "            GatedPixelCNN('B', 16, 7),\r\n",
        "            GatedPixelCNN('B', 16, 7),\r\n",
        "            nn.Sequential(\r\n",
        "                nn.Conv2d(32, 16, 1, 1, 0),\r\n",
        "                nn.BatchNorm2d(16),\r\n",
        "                nn.LeakyReLU(),\r\n",
        "                nn.Conv2d(16, 1, 1, 1, 0),\r\n",
        "                nn.Sigmoid() # i didn't use softmax\r\n",
        "            )\r\n",
        "        ])\r\n",
        "    \r\n",
        "    def forward(self, x):\r\n",
        "        x = self.net[0](x)\r\n",
        "        v, h = self.net[1](x, x)\r\n",
        "        v, h = self.net[2](v, h)\r\n",
        "        v, h = self.net[3](v, h)\r\n",
        "        v, h = self.net[4](v, h)\r\n",
        "        x = self.net[5](torch.cat([v, h], dim=1))\r\n",
        "        return x"
      ],
      "execution_count": 6,
      "outputs": []
    },
    {
      "cell_type": "code",
      "metadata": {
        "id": "9ma4WMZ9AA-7"
      },
      "source": [
        "mbsz = 32\r\n",
        "model = PixelCNN().to(device)\r\n",
        "solver = optim.Adam(model.parameters(), lr=1e-4)\r\n",
        "loader = DataLoader(dataset=dataset, batch_size=mbsz, shuffle=True, drop_last=True)"
      ],
      "execution_count": 7,
      "outputs": []
    },
    {
      "cell_type": "code",
      "metadata": {
        "colab": {
          "base_uri": "https://localhost:8080/"
        },
        "id": "GQ8JP4FSBrHE",
        "outputId": "3c2fd4a8-3f1c-4702-d663-1151be404225"
      },
      "source": [
        "num_epochs = 10\r\n",
        "# NLL = []\r\n",
        "for epoch in range(num_epochs):\r\n",
        "    NLL.append(0.0)\r\n",
        "    for x_q in loader:\r\n",
        "        solver.zero_grad()\r\n",
        "        x_q = x_q.to(device)\r\n",
        "        x_p = model(x_q)\r\n",
        "        loss = F.binary_cross_entropy(x_p, x_q, reduction='mean') * 784.\r\n",
        "        loss.backward()\r\n",
        "        solver.step()\r\n",
        "        NLL[-1] += loss.item()\r\n",
        "    NLL[-1] /= len(loader)\r\n",
        "    print(epoch, NLL[-1]/784.)"
      ],
      "execution_count": 10,
      "outputs": [
        {
          "output_type": "stream",
          "text": [
            "0 0.05836866561214941\n",
            "1 0.05836906668734389\n",
            "2 0.05836862455095564\n",
            "3 0.05836880854911545\n",
            "4 0.05836895401364281\n",
            "5 0.058368775745313996\n",
            "6 0.05836865297174778\n",
            "7 0.05836901776060766\n",
            "8 0.058369058180828486\n",
            "9 0.058368459898760536\n"
          ],
          "name": "stdout"
        }
      ]
    },
    {
      "cell_type": "code",
      "metadata": {
        "colab": {
          "base_uri": "https://localhost:8080/",
          "height": 215
        },
        "id": "WOxXyydAgd5M",
        "outputId": "7c6b9964-bcf6-4715-a673-cfc773a67e99"
      },
      "source": [
        "plt.figure(figsize=(21, 3))\r\n",
        "plt.title('nll(bernoulli)')\r\n",
        "plt.plot(range(2, 2+len(NLL[1:])), NLL[1:])\r\n",
        "plt.show()"
      ],
      "execution_count": 16,
      "outputs": [
        {
          "output_type": "display_data",
          "data": {
            "image/png": "[encoded data removed]",
            "text/plain": [
              "<Figure size 1512x216 with 1 Axes>"
            ]
          },
          "metadata": {
            "tags": [],
            "needs_background": "light"
          }
        }
      ]
    },
    {
      "cell_type": "code",
      "metadata": {
        "id": "TqMV6HgJSAnJ"
      },
      "source": [
        "testdataset = datasets.MNIST(root='./mnist_data/', train=False, download=True).data"
      ],
      "execution_count": 17,
      "outputs": []
    },
    {
      "cell_type": "code",
      "metadata": {
        "colab": {
          "base_uri": "https://localhost:8080/",
          "height": 216
        },
        "id": "QREgReJqR7UV",
        "outputId": "a3f0c68e-6ed3-486c-d62c-6e41d6816bf2"
      },
      "source": [
        "\r\n",
        "num_image = 30\r\n",
        "\r\n",
        "fig = plt.figure(figsize=(20, 2))\r\n",
        "\r\n",
        "n = 0\r\n",
        "for i in range(num_image):\r\n",
        "    _fig = fig.add_subplot(2, num_image, n + 1, xticks=[], yticks=[])\r\n",
        "    _fig.imshow(testdataset[n])\r\n",
        "    n += 1\r\n",
        "fig.suptitle('test data', y=1.01, fontsize=15)\r\n",
        "plt.subplots_adjust(hspace=0, wspace=0)\r\n",
        "plt.show()\r\n",
        "fig = plt.figure(figsize=(20, 2))\r\n",
        "\r\n",
        "model.eval()\r\n",
        "n = 0\r\n",
        "for i in range(num_image):\r\n",
        "    x_q = testdataset[n].reshape(1, 1, 28, 28).float().to(device) /255.0\r\n",
        "    x_p = model(x_q)\r\n",
        "    _fig = fig.add_subplot(2, num_image, n + 1, xticks=[], yticks=[])\r\n",
        "    _fig.imshow(x_p.cpu().data.numpy().reshape(28, 28))\r\n",
        "    n += 1\r\n",
        "model.train()\r\n",
        "fig.suptitle('output', y=1.01, fontsize=15)\r\n",
        "plt.subplots_adjust(hspace=0, wspace=0)\r\n",
        "plt.show()\r\n",
        "fig = plt.figure(figsize=(20, 2))\r\n",
        "\r\n",
        "model.eval()\r\n",
        "print('_')"
      ],
      "execution_count": 21,
      "outputs": [
        {
          "output_type": "display_data",
          "data": {
            "image/png": "[encoded data removed]",
            "text/plain": [
              "<Figure size 1440x144 with 30 Axes>"
            ]
          },
          "metadata": {
            "tags": []
          }
        },
        {
          "output_type": "display_data",
          "data": {
            "image/png": "[encoded data removed]",
            "text/plain": [
              "<Figure size 1440x144 with 30 Axes>"
            ]
          },
          "metadata": {
            "tags": []
          }
        },
        {
          "output_type": "stream",
          "text": [
            "_\n"
          ],
          "name": "stdout"
        },
        {
          "output_type": "display_data",
          "data": {
            "text/plain": [
              "<Figure size 1440x144 with 0 Axes>"
            ]
          },
          "metadata": {
            "tags": []
          }
        }
      ]
    }
  ]
}