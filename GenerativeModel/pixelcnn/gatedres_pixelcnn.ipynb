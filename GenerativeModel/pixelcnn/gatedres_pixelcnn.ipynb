{
  "nbformat": 4,
  "nbformat_minor": 0,
  "metadata": {
    "colab": {
      "name": "gatedres_pixelcnn.ipynb",
      "provenance": []
    },
    "kernelspec": {
      "name": "python3",
      "display_name": "Python 3"
    },
    "accelerator": "GPU",
    "widgets": {
      "application/vnd.jupyter.widget-state+json": {
        "2ada41e756004679b2f1666b0a186677": {
          "model_module": "@jupyter-widgets/controls",
          "model_name": "HBoxModel",
          "state": {
            "_view_name": "HBoxView",
            "_dom_classes": [],
            "_model_name": "HBoxModel",
            "_view_module": "@jupyter-widgets/controls",
            "_model_module_version": "1.5.0",
            "_view_count": null,
            "_view_module_version": "1.5.0",
            "box_style": "",
            "layout": "IPY_MODEL_cba43e81393f4ef48d8785f4dc6d8562",
            "_model_module": "@jupyter-widgets/controls",
            "children": [
              "IPY_MODEL_c1ece4b9c77a41c5ba94bc0b52406dfd",
              "IPY_MODEL_cb52efd79ab24acaab7f088e0c7c6bf1"
            ]
          }
        },
        "cba43e81393f4ef48d8785f4dc6d8562": {
          "model_module": "@jupyter-widgets/base",
          "model_name": "LayoutModel",
          "state": {
            "_view_name": "LayoutView",
            "grid_template_rows": null,
            "right": null,
            "justify_content": null,
            "_view_module": "@jupyter-widgets/base",
            "overflow": null,
            "_model_module_version": "1.2.0",
            "_view_count": null,
            "flex_flow": null,
            "width": null,
            "min_width": null,
            "border": null,
            "align_items": null,
            "bottom": null,
            "_model_module": "@jupyter-widgets/base",
            "top": null,
            "grid_column": null,
            "overflow_y": null,
            "overflow_x": null,
            "grid_auto_flow": null,
            "grid_area": null,
            "grid_template_columns": null,
            "flex": null,
            "_model_name": "LayoutModel",
            "justify_items": null,
            "grid_row": null,
            "max_height": null,
            "align_content": null,
            "visibility": null,
            "align_self": null,
            "height": null,
            "min_height": null,
            "padding": null,
            "grid_auto_rows": null,
            "grid_gap": null,
            "max_width": null,
            "order": null,
            "_view_module_version": "1.2.0",
            "grid_template_areas": null,
            "object_position": null,
            "object_fit": null,
            "grid_auto_columns": null,
            "margin": null,
            "display": null,
            "left": null
          }
        },
        "c1ece4b9c77a41c5ba94bc0b52406dfd": {
          "model_module": "@jupyter-widgets/controls",
          "model_name": "FloatProgressModel",
          "state": {
            "_view_name": "ProgressView",
            "style": "IPY_MODEL_718d0e263db248e1b68c8214960b1b93",
            "_dom_classes": [],
            "description": "",
            "_model_name": "FloatProgressModel",
            "bar_style": "success",
            "max": 1,
            "_view_module": "@jupyter-widgets/controls",
            "_model_module_version": "1.5.0",
            "value": 1,
            "_view_count": null,
            "_view_module_version": "1.5.0",
            "orientation": "horizontal",
            "min": 0,
            "description_tooltip": null,
            "_model_module": "@jupyter-widgets/controls",
            "layout": "IPY_MODEL_f23a1acb68524788a5db0b00f99ae9b0"
          }
        },
        "cb52efd79ab24acaab7f088e0c7c6bf1": {
          "model_module": "@jupyter-widgets/controls",
          "model_name": "HTMLModel",
          "state": {
            "_view_name": "HTMLView",
            "style": "IPY_MODEL_395afd9fc4af4fb593f5519da31be0f2",
            "_dom_classes": [],
            "description": "",
            "_model_name": "HTMLModel",
            "placeholder": "​",
            "_view_module": "@jupyter-widgets/controls",
            "_model_module_version": "1.5.0",
            "value": " 9920512/? [00:02&lt;00:00, 4853559.49it/s]",
            "_view_count": null,
            "_view_module_version": "1.5.0",
            "description_tooltip": null,
            "_model_module": "@jupyter-widgets/controls",
            "layout": "IPY_MODEL_9f47cd6a938d4e548883a96b7ec5896f"
          }
        },
        "718d0e263db248e1b68c8214960b1b93": {
          "model_module": "@jupyter-widgets/controls",
          "model_name": "ProgressStyleModel",
          "state": {
            "_view_name": "StyleView",
            "_model_name": "ProgressStyleModel",
            "description_width": "initial",
            "_view_module": "@jupyter-widgets/base",
            "_model_module_version": "1.5.0",
            "_view_count": null,
            "_view_module_version": "1.2.0",
            "bar_color": null,
            "_model_module": "@jupyter-widgets/controls"
          }
        },
        "f23a1acb68524788a5db0b00f99ae9b0": {
          "model_module": "@jupyter-widgets/base",
          "model_name": "LayoutModel",
          "state": {
            "_view_name": "LayoutView",
            "grid_template_rows": null,
            "right": null,
            "justify_content": null,
            "_view_module": "@jupyter-widgets/base",
            "overflow": null,
            "_model_module_version": "1.2.0",
            "_view_count": null,
            "flex_flow": null,
            "width": null,
            "min_width": null,
            "border": null,
            "align_items": null,
            "bottom": null,
            "_model_module": "@jupyter-widgets/base",
            "top": null,
            "grid_column": null,
            "overflow_y": null,
            "overflow_x": null,
            "grid_auto_flow": null,
            "grid_area": null,
            "grid_template_columns": null,
            "flex": null,
            "_model_name": "LayoutModel",
            "justify_items": null,
            "grid_row": null,
            "max_height": null,
            "align_content": null,
            "visibility": null,
            "align_self": null,
            "height": null,
            "min_height": null,
            "padding": null,
            "grid_auto_rows": null,
            "grid_gap": null,
            "max_width": null,
            "order": null,
            "_view_module_version": "1.2.0",
            "grid_template_areas": null,
            "object_position": null,
            "object_fit": null,
            "grid_auto_columns": null,
            "margin": null,
            "display": null,
            "left": null
          }
        },
        "395afd9fc4af4fb593f5519da31be0f2": {
          "model_module": "@jupyter-widgets/controls",
          "model_name": "DescriptionStyleModel",
          "state": {
            "_view_name": "StyleView",
            "_model_name": "DescriptionStyleModel",
            "description_width": "",
            "_view_module": "@jupyter-widgets/base",
            "_model_module_version": "1.5.0",
            "_view_count": null,
            "_view_module_version": "1.2.0",
            "_model_module": "@jupyter-widgets/controls"
          }
        },
        "9f47cd6a938d4e548883a96b7ec5896f": {
          "model_module": "@jupyter-widgets/base",
          "model_name": "LayoutModel",
          "state": {
            "_view_name": "LayoutView",
            "grid_template_rows": null,
            "right": null,
            "justify_content": null,
            "_view_module": "@jupyter-widgets/base",
            "overflow": null,
            "_model_module_version": "1.2.0",
            "_view_count": null,
            "flex_flow": null,
            "width": null,
            "min_width": null,
            "border": null,
            "align_items": null,
            "bottom": null,
            "_model_module": "@jupyter-widgets/base",
            "top": null,
            "grid_column": null,
            "overflow_y": null,
            "overflow_x": null,
            "grid_auto_flow": null,
            "grid_area": null,
            "grid_template_columns": null,
            "flex": null,
            "_model_name": "LayoutModel",
            "justify_items": null,
            "grid_row": null,
            "max_height": null,
            "align_content": null,
            "visibility": null,
            "align_self": null,
            "height": null,
            "min_height": null,
            "padding": null,
            "grid_auto_rows": null,
            "grid_gap": null,
            "max_width": null,
            "order": null,
            "_view_module_version": "1.2.0",
            "grid_template_areas": null,
            "object_position": null,
            "object_fit": null,
            "grid_auto_columns": null,
            "margin": null,
            "display": null,
            "left": null
          }
        },
        "6d1f5e1947ad4a84890163fc8a530d6b": {
          "model_module": "@jupyter-widgets/controls",
          "model_name": "HBoxModel",
          "state": {
            "_view_name": "HBoxView",
            "_dom_classes": [],
            "_model_name": "HBoxModel",
            "_view_module": "@jupyter-widgets/controls",
            "_model_module_version": "1.5.0",
            "_view_count": null,
            "_view_module_version": "1.5.0",
            "box_style": "",
            "layout": "IPY_MODEL_e122028614454a91abb6c047ab6bc402",
            "_model_module": "@jupyter-widgets/controls",
            "children": [
              "IPY_MODEL_278ffae8b08e432c9618b7681b45e2ed",
              "IPY_MODEL_3040dddf121f4ce29188aeae1b35d731"
            ]
          }
        },
        "e122028614454a91abb6c047ab6bc402": {
          "model_module": "@jupyter-widgets/base",
          "model_name": "LayoutModel",
          "state": {
            "_view_name": "LayoutView",
            "grid_template_rows": null,
            "right": null,
            "justify_content": null,
            "_view_module": "@jupyter-widgets/base",
            "overflow": null,
            "_model_module_version": "1.2.0",
            "_view_count": null,
            "flex_flow": null,
            "width": null,
            "min_width": null,
            "border": null,
            "align_items": null,
            "bottom": null,
            "_model_module": "@jupyter-widgets/base",
            "top": null,
            "grid_column": null,
            "overflow_y": null,
            "overflow_x": null,
            "grid_auto_flow": null,
            "grid_area": null,
            "grid_template_columns": null,
            "flex": null,
            "_model_name": "LayoutModel",
            "justify_items": null,
            "grid_row": null,
            "max_height": null,
            "align_content": null,
            "visibility": null,
            "align_self": null,
            "height": null,
            "min_height": null,
            "padding": null,
            "grid_auto_rows": null,
            "grid_gap": null,
            "max_width": null,
            "order": null,
            "_view_module_version": "1.2.0",
            "grid_template_areas": null,
            "object_position": null,
            "object_fit": null,
            "grid_auto_columns": null,
            "margin": null,
            "display": null,
            "left": null
          }
        },
        "278ffae8b08e432c9618b7681b45e2ed": {
          "model_module": "@jupyter-widgets/controls",
          "model_name": "FloatProgressModel",
          "state": {
            "_view_name": "ProgressView",
            "style": "IPY_MODEL_30a2f116ddf04294bf243a8c594cdc18",
            "_dom_classes": [],
            "description": "",
            "_model_name": "FloatProgressModel",
            "bar_style": "success",
            "max": 1,
            "_view_module": "@jupyter-widgets/controls",
            "_model_module_version": "1.5.0",
            "value": 1,
            "_view_count": null,
            "_view_module_version": "1.5.0",
            "orientation": "horizontal",
            "min": 0,
            "description_tooltip": null,
            "_model_module": "@jupyter-widgets/controls",
            "layout": "IPY_MODEL_ecce640c60fd46c4b9e9b589212b78da"
          }
        },
        "3040dddf121f4ce29188aeae1b35d731": {
          "model_module": "@jupyter-widgets/controls",
          "model_name": "HTMLModel",
          "state": {
            "_view_name": "HTMLView",
            "style": "IPY_MODEL_a147c08887bb46979e98ac897103e226",
            "_dom_classes": [],
            "description": "",
            "_model_name": "HTMLModel",
            "placeholder": "​",
            "_view_module": "@jupyter-widgets/controls",
            "_model_module_version": "1.5.0",
            "value": " 32768/? [00:01&lt;00:00, 23050.47it/s]",
            "_view_count": null,
            "_view_module_version": "1.5.0",
            "description_tooltip": null,
            "_model_module": "@jupyter-widgets/controls",
            "layout": "IPY_MODEL_92cf5bf0de3f4c57b9f427cc1446d79d"
          }
        },
        "30a2f116ddf04294bf243a8c594cdc18": {
          "model_module": "@jupyter-widgets/controls",
          "model_name": "ProgressStyleModel",
          "state": {
            "_view_name": "StyleView",
            "_model_name": "ProgressStyleModel",
            "description_width": "initial",
            "_view_module": "@jupyter-widgets/base",
            "_model_module_version": "1.5.0",
            "_view_count": null,
            "_view_module_version": "1.2.0",
            "bar_color": null,
            "_model_module": "@jupyter-widgets/controls"
          }
        },
        "ecce640c60fd46c4b9e9b589212b78da": {
          "model_module": "@jupyter-widgets/base",
          "model_name": "LayoutModel",
          "state": {
            "_view_name": "LayoutView",
            "grid_template_rows": null,
            "right": null,
            "justify_content": null,
            "_view_module": "@jupyter-widgets/base",
            "overflow": null,
            "_model_module_version": "1.2.0",
            "_view_count": null,
            "flex_flow": null,
            "width": null,
            "min_width": null,
            "border": null,
            "align_items": null,
            "bottom": null,
            "_model_module": "@jupyter-widgets/base",
            "top": null,
            "grid_column": null,
            "overflow_y": null,
            "overflow_x": null,
            "grid_auto_flow": null,
            "grid_area": null,
            "grid_template_columns": null,
            "flex": null,
            "_model_name": "LayoutModel",
            "justify_items": null,
            "grid_row": null,
            "max_height": null,
            "align_content": null,
            "visibility": null,
            "align_self": null,
            "height": null,
            "min_height": null,
            "padding": null,
            "grid_auto_rows": null,
            "grid_gap": null,
            "max_width": null,
            "order": null,
            "_view_module_version": "1.2.0",
            "grid_template_areas": null,
            "object_position": null,
            "object_fit": null,
            "grid_auto_columns": null,
            "margin": null,
            "display": null,
            "left": null
          }
        },
        "a147c08887bb46979e98ac897103e226": {
          "model_module": "@jupyter-widgets/controls",
          "model_name": "DescriptionStyleModel",
          "state": {
            "_view_name": "StyleView",
            "_model_name": "DescriptionStyleModel",
            "description_width": "",
            "_view_module": "@jupyter-widgets/base",
            "_model_module_version": "1.5.0",
            "_view_count": null,
            "_view_module_version": "1.2.0",
            "_model_module": "@jupyter-widgets/controls"
          }
        },
        "92cf5bf0de3f4c57b9f427cc1446d79d": {
          "model_module": "@jupyter-widgets/base",
          "model_name": "LayoutModel",
          "state": {
            "_view_name": "LayoutView",
            "grid_template_rows": null,
            "right": null,
            "justify_content": null,
            "_view_module": "@jupyter-widgets/base",
            "overflow": null,
            "_model_module_version": "1.2.0",
            "_view_count": null,
            "flex_flow": null,
            "width": null,
            "min_width": null,
            "border": null,
            "align_items": null,
            "bottom": null,
            "_model_module": "@jupyter-widgets/base",
            "top": null,
            "grid_column": null,
            "overflow_y": null,
            "overflow_x": null,
            "grid_auto_flow": null,
            "grid_area": null,
            "grid_template_columns": null,
            "flex": null,
            "_model_name": "LayoutModel",
            "justify_items": null,
            "grid_row": null,
            "max_height": null,
            "align_content": null,
            "visibility": null,
            "align_self": null,
            "height": null,
            "min_height": null,
            "padding": null,
            "grid_auto_rows": null,
            "grid_gap": null,
            "max_width": null,
            "order": null,
            "_view_module_version": "1.2.0",
            "grid_template_areas": null,
            "object_position": null,
            "object_fit": null,
            "grid_auto_columns": null,
            "margin": null,
            "display": null,
            "left": null
          }
        },
        "e5493f632293403f8f6a54a419eeff69": {
          "model_module": "@jupyter-widgets/controls",
          "model_name": "HBoxModel",
          "state": {
            "_view_name": "HBoxView",
            "_dom_classes": [],
            "_model_name": "HBoxModel",
            "_view_module": "@jupyter-widgets/controls",
            "_model_module_version": "1.5.0",
            "_view_count": null,
            "_view_module_version": "1.5.0",
            "box_style": "",
            "layout": "IPY_MODEL_3e577b749b344412ba69487bc02a5636",
            "_model_module": "@jupyter-widgets/controls",
            "children": [
              "IPY_MODEL_e4bf3aa7404940068a582341bad0926d",
              "IPY_MODEL_a0b005557f36477695caba4596334321"
            ]
          }
        },
        "3e577b749b344412ba69487bc02a5636": {
          "model_module": "@jupyter-widgets/base",
          "model_name": "LayoutModel",
          "state": {
            "_view_name": "LayoutView",
            "grid_template_rows": null,
            "right": null,
            "justify_content": null,
            "_view_module": "@jupyter-widgets/base",
            "overflow": null,
            "_model_module_version": "1.2.0",
            "_view_count": null,
            "flex_flow": null,
            "width": null,
            "min_width": null,
            "border": null,
            "align_items": null,
            "bottom": null,
            "_model_module": "@jupyter-widgets/base",
            "top": null,
            "grid_column": null,
            "overflow_y": null,
            "overflow_x": null,
            "grid_auto_flow": null,
            "grid_area": null,
            "grid_template_columns": null,
            "flex": null,
            "_model_name": "LayoutModel",
            "justify_items": null,
            "grid_row": null,
            "max_height": null,
            "align_content": null,
            "visibility": null,
            "align_self": null,
            "height": null,
            "min_height": null,
            "padding": null,
            "grid_auto_rows": null,
            "grid_gap": null,
            "max_width": null,
            "order": null,
            "_view_module_version": "1.2.0",
            "grid_template_areas": null,
            "object_position": null,
            "object_fit": null,
            "grid_auto_columns": null,
            "margin": null,
            "display": null,
            "left": null
          }
        },
        "e4bf3aa7404940068a582341bad0926d": {
          "model_module": "@jupyter-widgets/controls",
          "model_name": "FloatProgressModel",
          "state": {
            "_view_name": "ProgressView",
            "style": "IPY_MODEL_b959176e9b4d4b5b9958657bb69ae62f",
            "_dom_classes": [],
            "description": "",
            "_model_name": "FloatProgressModel",
            "bar_style": "success",
            "max": 1,
            "_view_module": "@jupyter-widgets/controls",
            "_model_module_version": "1.5.0",
            "value": 1,
            "_view_count": null,
            "_view_module_version": "1.5.0",
            "orientation": "horizontal",
            "min": 0,
            "description_tooltip": null,
            "_model_module": "@jupyter-widgets/controls",
            "layout": "IPY_MODEL_8283df216ffe43788eea853a9adb41b1"
          }
        },
        "a0b005557f36477695caba4596334321": {
          "model_module": "@jupyter-widgets/controls",
          "model_name": "HTMLModel",
          "state": {
            "_view_name": "HTMLView",
            "style": "IPY_MODEL_a2e815b1126b4512b73e6bf1e92531b3",
            "_dom_classes": [],
            "description": "",
            "_model_name": "HTMLModel",
            "placeholder": "​",
            "_view_module": "@jupyter-widgets/controls",
            "_model_module_version": "1.5.0",
            "value": " 1654784/? [00:01&lt;00:00, 1233514.38it/s]",
            "_view_count": null,
            "_view_module_version": "1.5.0",
            "description_tooltip": null,
            "_model_module": "@jupyter-widgets/controls",
            "layout": "IPY_MODEL_a53d210106cf4cd2a926c48f1b16105c"
          }
        },
        "b959176e9b4d4b5b9958657bb69ae62f": {
          "model_module": "@jupyter-widgets/controls",
          "model_name": "ProgressStyleModel",
          "state": {
            "_view_name": "StyleView",
            "_model_name": "ProgressStyleModel",
            "description_width": "initial",
            "_view_module": "@jupyter-widgets/base",
            "_model_module_version": "1.5.0",
            "_view_count": null,
            "_view_module_version": "1.2.0",
            "bar_color": null,
            "_model_module": "@jupyter-widgets/controls"
          }
        },
        "8283df216ffe43788eea853a9adb41b1": {
          "model_module": "@jupyter-widgets/base",
          "model_name": "LayoutModel",
          "state": {
            "_view_name": "LayoutView",
            "grid_template_rows": null,
            "right": null,
            "justify_content": null,
            "_view_module": "@jupyter-widgets/base",
            "overflow": null,
            "_model_module_version": "1.2.0",
            "_view_count": null,
            "flex_flow": null,
            "width": null,
            "min_width": null,
            "border": null,
            "align_items": null,
            "bottom": null,
            "_model_module": "@jupyter-widgets/base",
            "top": null,
            "grid_column": null,
            "overflow_y": null,
            "overflow_x": null,
            "grid_auto_flow": null,
            "grid_area": null,
            "grid_template_columns": null,
            "flex": null,
            "_model_name": "LayoutModel",
            "justify_items": null,
            "grid_row": null,
            "max_height": null,
            "align_content": null,
            "visibility": null,
            "align_self": null,
            "height": null,
            "min_height": null,
            "padding": null,
            "grid_auto_rows": null,
            "grid_gap": null,
            "max_width": null,
            "order": null,
            "_view_module_version": "1.2.0",
            "grid_template_areas": null,
            "object_position": null,
            "object_fit": null,
            "grid_auto_columns": null,
            "margin": null,
            "display": null,
            "left": null
          }
        },
        "a2e815b1126b4512b73e6bf1e92531b3": {
          "model_module": "@jupyter-widgets/controls",
          "model_name": "DescriptionStyleModel",
          "state": {
            "_view_name": "StyleView",
            "_model_name": "DescriptionStyleModel",
            "description_width": "",
            "_view_module": "@jupyter-widgets/base",
            "_model_module_version": "1.5.0",
            "_view_count": null,
            "_view_module_version": "1.2.0",
            "_model_module": "@jupyter-widgets/controls"
          }
        },
        "a53d210106cf4cd2a926c48f1b16105c": {
          "model_module": "@jupyter-widgets/base",
          "model_name": "LayoutModel",
          "state": {
            "_view_name": "LayoutView",
            "grid_template_rows": null,
            "right": null,
            "justify_content": null,
            "_view_module": "@jupyter-widgets/base",
            "overflow": null,
            "_model_module_version": "1.2.0",
            "_view_count": null,
            "flex_flow": null,
            "width": null,
            "min_width": null,
            "border": null,
            "align_items": null,
            "bottom": null,
            "_model_module": "@jupyter-widgets/base",
            "top": null,
            "grid_column": null,
            "overflow_y": null,
            "overflow_x": null,
            "grid_auto_flow": null,
            "grid_area": null,
            "grid_template_columns": null,
            "flex": null,
            "_model_name": "LayoutModel",
            "justify_items": null,
            "grid_row": null,
            "max_height": null,
            "align_content": null,
            "visibility": null,
            "align_self": null,
            "height": null,
            "min_height": null,
            "padding": null,
            "grid_auto_rows": null,
            "grid_gap": null,
            "max_width": null,
            "order": null,
            "_view_module_version": "1.2.0",
            "grid_template_areas": null,
            "object_position": null,
            "object_fit": null,
            "grid_auto_columns": null,
            "margin": null,
            "display": null,
            "left": null
          }
        },
        "03305be581194edda49d6373d6ab3d48": {
          "model_module": "@jupyter-widgets/controls",
          "model_name": "HBoxModel",
          "state": {
            "_view_name": "HBoxView",
            "_dom_classes": [],
            "_model_name": "HBoxModel",
            "_view_module": "@jupyter-widgets/controls",
            "_model_module_version": "1.5.0",
            "_view_count": null,
            "_view_module_version": "1.5.0",
            "box_style": "",
            "layout": "IPY_MODEL_22f198e8030346e1be203a91565f0e19",
            "_model_module": "@jupyter-widgets/controls",
            "children": [
              "IPY_MODEL_c837678a53b7465d9a825e600feb61e0",
              "IPY_MODEL_1aa7ee3cb32d4035a0728c6d7b7e639a"
            ]
          }
        },
        "22f198e8030346e1be203a91565f0e19": {
          "model_module": "@jupyter-widgets/base",
          "model_name": "LayoutModel",
          "state": {
            "_view_name": "LayoutView",
            "grid_template_rows": null,
            "right": null,
            "justify_content": null,
            "_view_module": "@jupyter-widgets/base",
            "overflow": null,
            "_model_module_version": "1.2.0",
            "_view_count": null,
            "flex_flow": null,
            "width": null,
            "min_width": null,
            "border": null,
            "align_items": null,
            "bottom": null,
            "_model_module": "@jupyter-widgets/base",
            "top": null,
            "grid_column": null,
            "overflow_y": null,
            "overflow_x": null,
            "grid_auto_flow": null,
            "grid_area": null,
            "grid_template_columns": null,
            "flex": null,
            "_model_name": "LayoutModel",
            "justify_items": null,
            "grid_row": null,
            "max_height": null,
            "align_content": null,
            "visibility": null,
            "align_self": null,
            "height": null,
            "min_height": null,
            "padding": null,
            "grid_auto_rows": null,
            "grid_gap": null,
            "max_width": null,
            "order": null,
            "_view_module_version": "1.2.0",
            "grid_template_areas": null,
            "object_position": null,
            "object_fit": null,
            "grid_auto_columns": null,
            "margin": null,
            "display": null,
            "left": null
          }
        },
        "c837678a53b7465d9a825e600feb61e0": {
          "model_module": "@jupyter-widgets/controls",
          "model_name": "FloatProgressModel",
          "state": {
            "_view_name": "ProgressView",
            "style": "IPY_MODEL_8e36e20f9d3e492f88816754609c62eb",
            "_dom_classes": [],
            "description": "",
            "_model_name": "FloatProgressModel",
            "bar_style": "success",
            "max": 1,
            "_view_module": "@jupyter-widgets/controls",
            "_model_module_version": "1.5.0",
            "value": 1,
            "_view_count": null,
            "_view_module_version": "1.5.0",
            "orientation": "horizontal",
            "min": 0,
            "description_tooltip": null,
            "_model_module": "@jupyter-widgets/controls",
            "layout": "IPY_MODEL_b412afd57e524531940df72de4700d6d"
          }
        },
        "1aa7ee3cb32d4035a0728c6d7b7e639a": {
          "model_module": "@jupyter-widgets/controls",
          "model_name": "HTMLModel",
          "state": {
            "_view_name": "HTMLView",
            "style": "IPY_MODEL_0ce7a98b64414d1484eaaa0767cc9684",
            "_dom_classes": [],
            "description": "",
            "_model_name": "HTMLModel",
            "placeholder": "​",
            "_view_module": "@jupyter-widgets/controls",
            "_model_module_version": "1.5.0",
            "value": " 8192/? [00:01&lt;00:00, 7284.50it/s]",
            "_view_count": null,
            "_view_module_version": "1.5.0",
            "description_tooltip": null,
            "_model_module": "@jupyter-widgets/controls",
            "layout": "IPY_MODEL_1389f0714c1344daa2bab871f69a04ee"
          }
        },
        "8e36e20f9d3e492f88816754609c62eb": {
          "model_module": "@jupyter-widgets/controls",
          "model_name": "ProgressStyleModel",
          "state": {
            "_view_name": "StyleView",
            "_model_name": "ProgressStyleModel",
            "description_width": "initial",
            "_view_module": "@jupyter-widgets/base",
            "_model_module_version": "1.5.0",
            "_view_count": null,
            "_view_module_version": "1.2.0",
            "bar_color": null,
            "_model_module": "@jupyter-widgets/controls"
          }
        },
        "b412afd57e524531940df72de4700d6d": {
          "model_module": "@jupyter-widgets/base",
          "model_name": "LayoutModel",
          "state": {
            "_view_name": "LayoutView",
            "grid_template_rows": null,
            "right": null,
            "justify_content": null,
            "_view_module": "@jupyter-widgets/base",
            "overflow": null,
            "_model_module_version": "1.2.0",
            "_view_count": null,
            "flex_flow": null,
            "width": null,
            "min_width": null,
            "border": null,
            "align_items": null,
            "bottom": null,
            "_model_module": "@jupyter-widgets/base",
            "top": null,
            "grid_column": null,
            "overflow_y": null,
            "overflow_x": null,
            "grid_auto_flow": null,
            "grid_area": null,
            "grid_template_columns": null,
            "flex": null,
            "_model_name": "LayoutModel",
            "justify_items": null,
            "grid_row": null,
            "max_height": null,
            "align_content": null,
            "visibility": null,
            "align_self": null,
            "height": null,
            "min_height": null,
            "padding": null,
            "grid_auto_rows": null,
            "grid_gap": null,
            "max_width": null,
            "order": null,
            "_view_module_version": "1.2.0",
            "grid_template_areas": null,
            "object_position": null,
            "object_fit": null,
            "grid_auto_columns": null,
            "margin": null,
            "display": null,
            "left": null
          }
        },
        "0ce7a98b64414d1484eaaa0767cc9684": {
          "model_module": "@jupyter-widgets/controls",
          "model_name": "DescriptionStyleModel",
          "state": {
            "_view_name": "StyleView",
            "_model_name": "DescriptionStyleModel",
            "description_width": "",
            "_view_module": "@jupyter-widgets/base",
            "_model_module_version": "1.5.0",
            "_view_count": null,
            "_view_module_version": "1.2.0",
            "_model_module": "@jupyter-widgets/controls"
          }
        },
        "1389f0714c1344daa2bab871f69a04ee": {
          "model_module": "@jupyter-widgets/base",
          "model_name": "LayoutModel",
          "state": {
            "_view_name": "LayoutView",
            "grid_template_rows": null,
            "right": null,
            "justify_content": null,
            "_view_module": "@jupyter-widgets/base",
            "overflow": null,
            "_model_module_version": "1.2.0",
            "_view_count": null,
            "flex_flow": null,
            "width": null,
            "min_width": null,
            "border": null,
            "align_items": null,
            "bottom": null,
            "_model_module": "@jupyter-widgets/base",
            "top": null,
            "grid_column": null,
            "overflow_y": null,
            "overflow_x": null,
            "grid_auto_flow": null,
            "grid_area": null,
            "grid_template_columns": null,
            "flex": null,
            "_model_name": "LayoutModel",
            "justify_items": null,
            "grid_row": null,
            "max_height": null,
            "align_content": null,
            "visibility": null,
            "align_self": null,
            "height": null,
            "min_height": null,
            "padding": null,
            "grid_auto_rows": null,
            "grid_gap": null,
            "max_width": null,
            "order": null,
            "_view_module_version": "1.2.0",
            "grid_template_areas": null,
            "object_position": null,
            "object_fit": null,
            "grid_auto_columns": null,
            "margin": null,
            "display": null,
            "left": null
          }
        }
      }
    }
  },
  "cells": [
    {
      "cell_type": "code",
      "metadata": {
        "id": "NM0cww3XaFWn",
        "colab": {
          "base_uri": "https://localhost:8080/",
          "height": 838,
          "referenced_widgets": [
            "2ada41e756004679b2f1666b0a186677",
            "cba43e81393f4ef48d8785f4dc6d8562",
            "c1ece4b9c77a41c5ba94bc0b52406dfd",
            "cb52efd79ab24acaab7f088e0c7c6bf1",
            "718d0e263db248e1b68c8214960b1b93",
            "f23a1acb68524788a5db0b00f99ae9b0",
            "395afd9fc4af4fb593f5519da31be0f2",
            "9f47cd6a938d4e548883a96b7ec5896f",
            "6d1f5e1947ad4a84890163fc8a530d6b",
            "e122028614454a91abb6c047ab6bc402",
            "278ffae8b08e432c9618b7681b45e2ed",
            "3040dddf121f4ce29188aeae1b35d731",
            "30a2f116ddf04294bf243a8c594cdc18",
            "ecce640c60fd46c4b9e9b589212b78da",
            "a147c08887bb46979e98ac897103e226",
            "92cf5bf0de3f4c57b9f427cc1446d79d",
            "e5493f632293403f8f6a54a419eeff69",
            "3e577b749b344412ba69487bc02a5636",
            "e4bf3aa7404940068a582341bad0926d",
            "a0b005557f36477695caba4596334321",
            "b959176e9b4d4b5b9958657bb69ae62f",
            "8283df216ffe43788eea853a9adb41b1",
            "a2e815b1126b4512b73e6bf1e92531b3",
            "a53d210106cf4cd2a926c48f1b16105c",
            "03305be581194edda49d6373d6ab3d48",
            "22f198e8030346e1be203a91565f0e19",
            "c837678a53b7465d9a825e600feb61e0",
            "1aa7ee3cb32d4035a0728c6d7b7e639a",
            "8e36e20f9d3e492f88816754609c62eb",
            "b412afd57e524531940df72de4700d6d",
            "0ce7a98b64414d1484eaaa0767cc9684",
            "1389f0714c1344daa2bab871f69a04ee"
          ]
        },
        "outputId": "4e9d591c-b37b-405a-d8d8-f17880e52ec5"
      },
      "source": [
        "import torch\r\n",
        "import torch.nn as nn\r\n",
        "import torch.nn.functional as F\r\n",
        "import torch.optim as optim\r\n",
        "import torch.nn.init as init\r\n",
        "from torchvision import datasets, transforms\r\n",
        "import numpy as np\r\n",
        "import matplotlib.pyplot as plt\r\n",
        "from torchvision import datasets, transforms\r\n",
        "from torch.utils.data import DataLoader\r\n",
        "\r\n",
        "class MnistDataSet(torch.utils.data.Dataset):\r\n",
        "    def __init__(self):\r\n",
        "        mnist_train = datasets.MNIST(root='./mnist_data/', train=True, download=True)\r\n",
        "        self.data = mnist_train.data.reshape(-1, 1, 28, 28).float() / 255.0\r\n",
        "        self.data = 1 * (self.data > 0.5)\r\n",
        "\r\n",
        "    def __len__(self):\r\n",
        "        return len(self.data)\r\n",
        "    \r\n",
        "    def __getitem__(self, idx):\r\n",
        "        return self.data[idx]\r\n",
        "\r\n",
        "dataset = MnistDataSet()\r\n",
        "\r\n",
        "device = 'cuda' if torch.cuda.is_available() else 'cpu'\r\n",
        "if device == 'cuda':\r\n",
        "    gpu_info = !nvidia-smi\r\n",
        "    gpu_info = '\\n'.join(gpu_info)\r\n",
        "    if gpu_info.find('failed') >= 0:\r\n",
        "        print('Select the Runtime > \"Change runtime type\" menu to enable a GPU accelerator, ')\r\n",
        "        print('and then re-execute this cell.')\r\n",
        "    else:\r\n",
        "        print(gpu_info)\r\n",
        "print('device :',device)\r\n",
        "print('torch.version :',torch.__version__)"
      ],
      "execution_count": 1,
      "outputs": [
        {
          "output_type": "stream",
          "text": [
            "Downloading http://yann.lecun.com/exdb/mnist/train-images-idx3-ubyte.gz to ./mnist_data/MNIST/raw/train-images-idx3-ubyte.gz\n"
          ],
          "name": "stdout"
        },
        {
          "output_type": "display_data",
          "data": {
            "application/vnd.jupyter.widget-view+json": {
              "model_id": "2ada41e756004679b2f1666b0a186677",
              "version_minor": 0,
              "version_major": 2
            },
            "text/plain": [
              "HBox(children=(FloatProgress(value=1.0, bar_style='info', max=1.0), HTML(value='')))"
            ]
          },
          "metadata": {
            "tags": []
          }
        },
        {
          "output_type": "stream",
          "text": [
            "Extracting ./mnist_data/MNIST/raw/train-images-idx3-ubyte.gz to ./mnist_data/MNIST/raw\n",
            "Downloading http://yann.lecun.com/exdb/mnist/train-labels-idx1-ubyte.gz to ./mnist_data/MNIST/raw/train-labels-idx1-ubyte.gz\n"
          ],
          "name": "stdout"
        },
        {
          "output_type": "display_data",
          "data": {
            "application/vnd.jupyter.widget-view+json": {
              "model_id": "6d1f5e1947ad4a84890163fc8a530d6b",
              "version_minor": 0,
              "version_major": 2
            },
            "text/plain": [
              "HBox(children=(FloatProgress(value=1.0, bar_style='info', max=1.0), HTML(value='')))"
            ]
          },
          "metadata": {
            "tags": []
          }
        },
        {
          "output_type": "stream",
          "text": [
            "Extracting ./mnist_data/MNIST/raw/train-labels-idx1-ubyte.gz to ./mnist_data/MNIST/raw\n",
            "Downloading http://yann.lecun.com/exdb/mnist/t10k-images-idx3-ubyte.gz to ./mnist_data/MNIST/raw/t10k-images-idx3-ubyte.gz\n"
          ],
          "name": "stdout"
        },
        {
          "output_type": "display_data",
          "data": {
            "application/vnd.jupyter.widget-view+json": {
              "model_id": "e5493f632293403f8f6a54a419eeff69",
              "version_minor": 0,
              "version_major": 2
            },
            "text/plain": [
              "HBox(children=(FloatProgress(value=1.0, bar_style='info', max=1.0), HTML(value='')))"
            ]
          },
          "metadata": {
            "tags": []
          }
        },
        {
          "output_type": "stream",
          "text": [
            "Extracting ./mnist_data/MNIST/raw/t10k-images-idx3-ubyte.gz to ./mnist_data/MNIST/raw\n",
            "Downloading http://yann.lecun.com/exdb/mnist/t10k-labels-idx1-ubyte.gz to ./mnist_data/MNIST/raw/t10k-labels-idx1-ubyte.gz\n"
          ],
          "name": "stdout"
        },
        {
          "output_type": "display_data",
          "data": {
            "application/vnd.jupyter.widget-view+json": {
              "model_id": "03305be581194edda49d6373d6ab3d48",
              "version_minor": 0,
              "version_major": 2
            },
            "text/plain": [
              "HBox(children=(FloatProgress(value=1.0, bar_style='info', max=1.0), HTML(value='')))"
            ]
          },
          "metadata": {
            "tags": []
          }
        },
        {
          "output_type": "stream",
          "text": [
            "Extracting ./mnist_data/MNIST/raw/t10k-labels-idx1-ubyte.gz to ./mnist_data/MNIST/raw\n",
            "Processing...\n",
            "Done!\n"
          ],
          "name": "stdout"
        },
        {
          "output_type": "stream",
          "text": [
            "/usr/local/lib/python3.6/dist-packages/torchvision/datasets/mnist.py:480: UserWarning: The given NumPy array is not writeable, and PyTorch does not support non-writeable tensors. This means you can write to the underlying (supposedly non-writeable) NumPy array using the tensor. You may want to copy the array to protect its data or make it writeable before converting it to a tensor. This type of warning will be suppressed for the rest of this program. (Triggered internally at  /pytorch/torch/csrc/utils/tensor_numpy.cpp:141.)\n",
            "  return torch.from_numpy(parsed.astype(m[2], copy=False)).view(*s)\n"
          ],
          "name": "stderr"
        },
        {
          "output_type": "stream",
          "text": [
            "Wed Dec 30 14:51:55 2020       \n",
            "+-----------------------------------------------------------------------------+\n",
            "| NVIDIA-SMI 460.27.04    Driver Version: 418.67       CUDA Version: 10.1     |\n",
            "|-------------------------------+----------------------+----------------------+\n",
            "| GPU  Name        Persistence-M| Bus-Id        Disp.A | Volatile Uncorr. ECC |\n",
            "| Fan  Temp  Perf  Pwr:Usage/Cap|         Memory-Usage | GPU-Util  Compute M. |\n",
            "|                               |                      |               MIG M. |\n",
            "|===============================+======================+======================|\n",
            "|   0  Tesla T4            Off  | 00000000:00:04.0 Off |                    0 |\n",
            "| N/A   67C    P8    14W /  70W |     10MiB / 15079MiB |      0%      Default |\n",
            "|                               |                      |                 ERR! |\n",
            "+-------------------------------+----------------------+----------------------+\n",
            "                                                                               \n",
            "+-----------------------------------------------------------------------------+\n",
            "| Processes:                                                                  |\n",
            "|  GPU   GI   CI        PID   Type   Process name                  GPU Memory |\n",
            "|        ID   ID                                                   Usage      |\n",
            "|=============================================================================|\n",
            "|  No running processes found                                                 |\n",
            "+-----------------------------------------------------------------------------+\n",
            "device : cuda\n",
            "torch.version : 1.7.0+cu101\n",
            "\n",
            "\n",
            "\n",
            "\n"
          ],
          "name": "stdout"
        }
      ]
    },
    {
      "cell_type": "code",
      "metadata": {
        "id": "0hzTPP776nRy"
      },
      "source": [
        "class GatedBlock(nn.Module):\r\n",
        "    def __init__(self, channels, v_kernel_size=(3, 5), h_kernal_size=(1, 5), causal=False):\r\n",
        "        super().__init__()\r\n",
        "        self.channels = channels\r\n",
        "        self.causal = causal\r\n",
        "        self.v_init_padding = (v_kernel_size[1]//2, v_kernel_size[1]//2, v_kernel_size[0], 0)\r\n",
        "        self.h_init_padding = (h_kernal_size[1] - (self.causal==False), 0, 0, 0)\r\n",
        "        self.v_conv = nn.Conv2d(channels, 2 * channels, v_kernel_size, (1, 1), (0, 0))\r\n",
        "        self.h_conv = nn.Conv2d(channels, 2 * channels, h_kernal_size, (1, 1), (0, 0))\r\n",
        "        self.v2h = nn.Conv2d(2 * channels, 2 * channels, (1, 1), (1, 1), (0, 0))\r\n",
        "        self.hout = nn.Sequential(nn.Conv2d(channels, channels, (1, 1), (1, 1), (0, 0)), nn.LeakyReLU())\r\n",
        "\r\n",
        "    def forward(self, v, h):\r\n",
        "        v = self.v_conv(F.pad(v, self.v_init_padding)[:,:,:-1,:])\r\n",
        "        h = F.pad(h, self.h_init_padding)\r\n",
        "        if self.causal:\r\n",
        "            h = h[:, :, :, :-1]\r\n",
        "        h = self.h_conv(h) + self.v2h(v)\r\n",
        "        v = torch.sigmoid(v[:, :self.channels, :, :]) * torch.sigmoid(v[:, self.channels:, :, :])\r\n",
        "        h = torch.sigmoid(h[:, :self.channels, :, :]) * torch.sigmoid(h[:, self.channels:, :, :])\r\n",
        "        return v, self.hout(h)\r\n",
        "\r\n",
        "class Block(nn.Module):\r\n",
        "    def __init__(self, channels, num_gatedres, v_kernel_size=(3, 5), h_kernal_size=(1, 5)):\r\n",
        "        super().__init__()\r\n",
        "        self.gatedres = nn.ModuleList([GatedBlock(channels, v_kernel_size, h_kernal_size, causal=False) for _ in range(num_gatedres)])\r\n",
        "    \r\n",
        "    def forward(self, v, h):\r\n",
        "        for gr in self.gatedres:\r\n",
        "            v_new, h_new = gr(v, h)\r\n",
        "            v = v + v_new\r\n",
        "            h = h + h_new\r\n",
        "        return v, h\r\n",
        "\r\n",
        "class UpBlock(nn.Module):\r\n",
        "    def __init__(self, cin, cout, num_gatedres, v_kernel_size=(3, 5), h_kernal_size=(1, 5)):\r\n",
        "        super().__init__()\r\n",
        "        self.gatedres = nn.ModuleList([GatedBlock(cin, v_kernel_size, h_kernal_size, causal=False) for _ in range(num_gatedres)])\r\n",
        "        # self.v_up = nn.Sequential(nn.Conv2d(cin, cout, (2, 2), (2, 2), (0, 0)), nn.BatchNorm2d(cout), nn.LeakyReLU()) #2x2 up-downsampling not works (maybe causality breaks when upsampling)\r\n",
        "        # self.h_up = nn.Sequential(nn.Conv2d(cin, cout, (2, 2), (2, 2), (0, 0)), nn.BatchNorm2d(cout), nn.LeakyReLU())\r\n",
        "        self.v_up = nn.Sequential(nn.Conv2d(cin, cout, (1, 1), (1, 1), (0, 0)), nn.BatchNorm2d(cout), nn.LeakyReLU())\r\n",
        "        self.h_up = nn.Sequential(nn.Conv2d(cin, cout, (1, 1), (1, 1), (0, 0)), nn.BatchNorm2d(cout), nn.LeakyReLU())\r\n",
        "    \r\n",
        "    def forward(self, v, h):\r\n",
        "        for gr in self.gatedres:\r\n",
        "            v_new, h_new = gr(v, h)\r\n",
        "            v = v + v_new\r\n",
        "            h = h + h_new\r\n",
        "        return self.v_up(v), self.h_up(h)\r\n",
        "\r\n",
        "\r\n",
        "\r\n",
        "class DownBlock(nn.Module):\r\n",
        "    def __init__(self, cin, cout, num_gatedres, v_kernel_size=(3, 5), h_kernal_size=(1, 5)):\r\n",
        "        super().__init__()\r\n",
        "        # self.v_down = nn.Sequential(nn.ConvTranspose2d(cin, cout, (2, 2), (2, 2), (0, 0)), nn.BatchNorm2d(cout), nn.LeakyReLU())\r\n",
        "        # self.h_down = nn.Sequential(nn.ConvTranspose2d(cin, cout, (2, 2), (2, 2), (0, 0)), nn.BatchNorm2d(cout), nn.LeakyReLU())\r\n",
        "        self.v_down = nn.Sequential(nn.ConvTranspose2d(cin, cout, (1, 1), (1, 1), (0, 0)), nn.BatchNorm2d(cout), nn.LeakyReLU())\r\n",
        "        self.h_down = nn.Sequential(nn.ConvTranspose2d(cin, cout, (1, 1), (1, 1), (0, 0)), nn.BatchNorm2d(cout), nn.LeakyReLU())\r\n",
        "        self.gatedres = nn.ModuleList([GatedBlock(cout, v_kernel_size, h_kernal_size, causal=False) for _ in range(num_gatedres)])\r\n",
        "    \r\n",
        "    def forward(self, v, h):\r\n",
        "        v = self.v_down(v)\r\n",
        "        h = self.h_down(h)\r\n",
        "        for gr in self.gatedres:\r\n",
        "            v_new, h_new = gr(v, h)\r\n",
        "            v = v + v_new\r\n",
        "            h = h + h_new\r\n",
        "        return v, h\r\n",
        "\r\n",
        "\r\n",
        "class pixelcnn_plusplus(nn.Module):\r\n",
        "    def __init__(self):\r\n",
        "        super().__init__()\r\n",
        "        self.fromRGB = nn.Sequential(nn.Conv2d(1, 32, (1, 1), (1, 1), (0, 0)), nn.ReLU())\r\n",
        "        self.causal_conv = GatedBlock(32, v_kernel_size=(2, 3), h_kernal_size=(1, 3), causal=True)\r\n",
        "        self.up = nn.ModuleList([\r\n",
        "            UpBlock(cin=32, cout=64, num_gatedres=3, v_kernel_size=(2, 3), h_kernal_size=(1, 3)),\r\n",
        "            UpBlock(cin=64, cout=128, num_gatedres=3, v_kernel_size=(2, 3), h_kernal_size=(1, 3))\r\n",
        "        ])\r\n",
        "        self.down = nn.ModuleList([\r\n",
        "            DownBlock(cin=128, cout=32, num_gatedres=3, v_kernel_size=(2, 3), h_kernal_size=(1, 3)),\r\n",
        "            DownBlock(cin=128, cout=64, num_gatedres=3, v_kernel_size=(2, 3), h_kernal_size=(1, 3))\r\n",
        "        ])\r\n",
        "        self.down_end = Block(channels=64, num_gatedres=3, v_kernel_size=(2, 3), h_kernal_size=(1, 3))\r\n",
        "        self.toRGB = nn.Sequential(nn.Conv2d(64, 32, (1, 1), (1, 1), (0, 0)), nn.ReLU(), nn.Conv2d(32, 1, (1, 1), (1, 1), (0, 0)), nn.Sigmoid())\r\n",
        "    \r\n",
        "    def forward(self, x):\r\n",
        "        x = self.fromRGB(x)\r\n",
        "        v1, h1 = self.causal_conv(x, x)\r\n",
        "        v2, h2 = self.up[0](v1, h1)\r\n",
        "        v3, h3 = self.up[1](v2, h2)\r\n",
        "        \r\n",
        "        v_2, h_2 = self.down[1](v3, h3)\r\n",
        "        v_1, h_1 = self.down[0](torch.cat([v2, v_2], dim=1), torch.cat([h2, h_2], dim=1))\r\n",
        "        v_0, h_0 = self.down_end(torch.cat([v1, v_1], dim=1), torch.cat([h1, h_1], dim=1))\r\n",
        "        x = self.toRGB(v_0 + h_0)\r\n",
        "        return x"
      ],
      "execution_count": 77,
      "outputs": []
    },
    {
      "cell_type": "code",
      "metadata": {
        "id": "UGfh7eSI7x1f"
      },
      "source": [
        "mbsz = 32\r\n",
        "model = pixelcnn_plusplus().to(device)\r\n",
        "solver = optim.Adam(model.parameters(), lr=1e-4)\r\n",
        "loader = DataLoader(dataset=dataset, batch_size=mbsz, shuffle=True, drop_last=True)"
      ],
      "execution_count": 78,
      "outputs": []
    },
    {
      "cell_type": "code",
      "metadata": {
        "colab": {
          "base_uri": "https://localhost:8080/"
        },
        "id": "MyKTzVJAIdlo",
        "outputId": "a2f77637-a374-42d2-d957-41ea85d6a9f6"
      },
      "source": [
        "num_epochs = 5\r\n",
        "NLL = []\r\n",
        "for epoch in range(num_epochs):\r\n",
        "    NLL.append(0.0)\r\n",
        "    for x_q in loader:\r\n",
        "        solver.zero_grad()\r\n",
        "        x_q = x_q.to(device).float()\r\n",
        "        x_p = model(x_q)\r\n",
        "        loss = F.binary_cross_entropy(x_p, x_q, reduction='mean') * 784.\r\n",
        "        loss.backward()\r\n",
        "        solver.step()\r\n",
        "        NLL[-1] += loss.item()\r\n",
        "    NLL[-1] /= len(loader)\r\n",
        "    print(epoch, NLL[-1]/784.)"
      ],
      "execution_count": 79,
      "outputs": [
        {
          "output_type": "stream",
          "text": [
            "0 0.10260401095435732\n",
            "1 0.09181979233877999\n",
            "2 0.08922688280222368\n",
            "3 0.08698727710749826\n",
            "4 0.08564457509566327\n"
          ],
          "name": "stdout"
        }
      ]
    },
    {
      "cell_type": "code",
      "metadata": {
        "id": "ptAUlwZCLDnr"
      },
      "source": [
        "testdataset = datasets.MNIST(root='./mnist_data/', train=False, download=True).data.float() / 255.0\r\n",
        "testdataset = 1 * (testdataset > 0.5)"
      ],
      "execution_count": 80,
      "outputs": []
    },
    {
      "cell_type": "code",
      "metadata": {
        "colab": {
          "base_uri": "https://localhost:8080/",
          "height": 216
        },
        "id": "GdgXGPJ2Hx1q",
        "outputId": "c46becfc-da76-4610-f30a-997e85d13761"
      },
      "source": [
        "num_image = 30\r\n",
        "\r\n",
        "fig = plt.figure(figsize=(20, 2))\r\n",
        "\r\n",
        "n = 0\r\n",
        "for i in range(num_image):\r\n",
        "    _fig = fig.add_subplot(2, num_image, n + 1, xticks=[], yticks=[])\r\n",
        "    _fig.imshow(testdataset[n])\r\n",
        "    n += 1\r\n",
        "fig.suptitle('test data', y=1.01, fontsize=15)\r\n",
        "plt.subplots_adjust(hspace=0, wspace=0)\r\n",
        "plt.show()\r\n",
        "fig = plt.figure(figsize=(20, 2))\r\n",
        "\r\n",
        "model.eval()\r\n",
        "n = 0\r\n",
        "for i in range(num_image):\r\n",
        "    x_q = testdataset[n].reshape(1, 1, 28, 28).float().to(device)\r\n",
        "    x_p = model(x_q)\r\n",
        "    x_p = 1 * (x_p > 0.5)\r\n",
        "    _fig = fig.add_subplot(2, num_image, n + 1, xticks=[], yticks=[])\r\n",
        "    _fig.imshow(x_p.cpu().data.numpy().reshape(28, 28))\r\n",
        "    n += 1\r\n",
        "model.train()\r\n",
        "fig.suptitle('output', y=1.01, fontsize=15)\r\n",
        "plt.subplots_adjust(hspace=0, wspace=0)\r\n",
        "plt.show()\r\n",
        "fig = plt.figure(figsize=(20, 2))\r\n",
        "\r\n",
        "model.eval()\r\n",
        "print('_')"
      ],
      "execution_count": 81,
      "outputs": [
        {
          "output_type": "display_data",
          "data": {
            "image/png": "[encoded data removed]",
            "text/plain": [
              "<Figure size 1440x144 with 30 Axes>"
            ]
          },
          "metadata": {
            "tags": []
          }
        },
        {
          "output_type": "display_data",
          "data": {
            "image/png": "[encoded data removed]",
            "text/plain": [
              "<Figure size 1440x144 with 30 Axes>"
            ]
          },
          "metadata": {
            "tags": []
          }
        },
        {
          "output_type": "stream",
          "text": [
            "_\n"
          ],
          "name": "stdout"
        },
        {
          "output_type": "display_data",
          "data": {
            "text/plain": [
              "<Figure size 1440x144 with 0 Axes>"
            ]
          },
          "metadata": {
            "tags": []
          }
        }
      ]
    },
    {
      "cell_type": "code",
      "metadata": {
        "colab": {
          "base_uri": "https://localhost:8080/",
          "height": 182
        },
        "id": "Xae8T17efQBZ",
        "outputId": "e8a81e4b-e21e-4401-d8a2-3454488b02ce"
      },
      "source": [
        "f = plt.figure(figsize=(4,2))\r\n",
        "ax = f.add_subplot(1,2,1)\r\n",
        "\r\n",
        "\r\n",
        "input = testdataset[45].reshape(1, 1, 28, 28).float()\r\n",
        "input[0, 0, 14:28, :] = 0.0\r\n",
        "ax.imshow(input.reshape(28, 28))\r\n",
        "ax.set_title('source')\r\n",
        "\r\n",
        "model.eval()\r\n",
        "x_q = input.to(device)\r\n",
        "with torch.no_grad():\r\n",
        "    for h in range(14, 28):\r\n",
        "        for w in range(28):\r\n",
        "            x_p = model(x_q)\r\n",
        "            # x_q[0][0][h][w] = 1.0 * (x_p[0][0][h][w] > 0.5) \r\n",
        "            x_q[0][0][h][w] = x_p[0][0][h][w] \r\n",
        "\r\n",
        "\r\n",
        "\r\n",
        "model.train()\r\n",
        "\r\n",
        "\r\n",
        "ax = f.add_subplot(1,2,2)\r\n",
        "ax.imshow(x_q.cpu().data.numpy().reshape(28, 28))\r\n",
        "ax.set_title('output')\r\n",
        "plt.show()\r\n",
        "\r\n",
        "\r\n",
        "print('_')"
      ],
      "execution_count": 91,
      "outputs": [
        {
          "output_type": "display_data",
          "data": {
            "image/png": "[encoded data removed]",
            "text/plain": [
              "<Figure size 288x144 with 2 Axes>"
            ]
          },
          "metadata": {
            "tags": [],
            "needs_background": "light"
          }
        },
        {
          "output_type": "stream",
          "text": [
            "_\n"
          ],
          "name": "stdout"
        }
      ]
    },
    {
      "cell_type": "code",
      "metadata": {
        "colab": {
          "base_uri": "https://localhost:8080/",
          "height": 182
        },
        "id": "85qIqFSlOwsy",
        "outputId": "22403b75-1086-4fbd-b25f-2aaaec87ba78"
      },
      "source": [
        "f = plt.figure(figsize=(4,2))\r\n",
        "ax = f.add_subplot(1,2,1)\r\n",
        "\r\n",
        "\r\n",
        "input = testdataset[45].reshape(1, 1, 28, 28).float()\r\n",
        "input[0, 0, 17:28, :] = 0.0\r\n",
        "ax.imshow(input.reshape(28, 28))\r\n",
        "ax.set_title('source')\r\n",
        "\r\n",
        "model.eval()\r\n",
        "x_q = input.to(device)\r\n",
        "with torch.no_grad():\r\n",
        "    for h in range(17, 28):\r\n",
        "        for w in range(28):\r\n",
        "            x_p = model(x_q)\r\n",
        "            x_q[0][0][h][w] = 1.0 * (x_p[0][0][h][w] > 0.5)\r\n",
        "\r\n",
        "\r\n",
        "model.train()\r\n",
        "\r\n",
        "\r\n",
        "ax = f.add_subplot(1,2,2)\r\n",
        "ax.imshow(x_q.cpu().data.numpy().reshape(28, 28))\r\n",
        "ax.set_title('output')\r\n",
        "plt.show()\r\n",
        "\r\n",
        "\r\n",
        "print('_')"
      ],
      "execution_count": 92,
      "outputs": [
        {
          "output_type": "display_data",
          "data": {
            "image/png": "[encoded data removed]",
            "text/plain": [
              "<Figure size 288x144 with 2 Axes>"
            ]
          },
          "metadata": {
            "tags": [],
            "needs_background": "light"
          }
        },
        {
          "output_type": "stream",
          "text": [
            "_\n"
          ],
          "name": "stdout"
        }
      ]
    },
    {
      "cell_type": "code",
      "metadata": {
        "colab": {
          "base_uri": "https://localhost:8080/",
          "height": 182
        },
        "id": "5QTXfEiMg0SU",
        "outputId": "48602105-7398-4a7a-a3da-100093ac755a"
      },
      "source": [
        "f = plt.figure(figsize=(4,2))\r\n",
        "ax = f.add_subplot(1,2,1)\r\n",
        "\r\n",
        "\r\n",
        "input = testdataset[45].reshape(1, 1, 28, 28).float()\r\n",
        "input[0, 0, 20:28, :] = 0.0\r\n",
        "ax.imshow(input.reshape(28, 28))\r\n",
        "ax.set_title('source')\r\n",
        "\r\n",
        "model.eval()\r\n",
        "x_q = input.to(device)\r\n",
        "with torch.no_grad():\r\n",
        "    for h in range(20, 28):\r\n",
        "        for w in range(28):\r\n",
        "            x_p = model(x_q)\r\n",
        "            x_q[0][0][h][w] = x_p[0][0][h][w]\r\n",
        "\r\n",
        "\r\n",
        "model.train()\r\n",
        "\r\n",
        "\r\n",
        "ax = f.add_subplot(1,2,2)\r\n",
        "ax.imshow(x_q.cpu().data.numpy().reshape(28, 28))\r\n",
        "ax.set_title('output')\r\n",
        "plt.show()\r\n",
        "\r\n",
        "\r\n",
        "print('_')"
      ],
      "execution_count": 94,
      "outputs": [
        {
          "output_type": "display_data",
          "data": {
            "image/png": "[encoded data removed]",
            "text/plain": [
              "<Figure size 288x144 with 2 Axes>"
            ]
          },
          "metadata": {
            "tags": [],
            "needs_background": "light"
          }
        },
        {
          "output_type": "stream",
          "text": [
            "_\n"
          ],
          "name": "stdout"
        }
      ]
    }
  ]
}