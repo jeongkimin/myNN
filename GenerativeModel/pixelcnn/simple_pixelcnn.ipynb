{
  "nbformat": 4,
  "nbformat_minor": 0,
  "metadata": {
    "colab": {
      "name": "simple_pixelcnn.ipynb",
      "provenance": []
    },
    "kernelspec": {
      "name": "python3",
      "display_name": "Python 3"
    },
    "accelerator": "GPU",
    "widgets": {
      "application/vnd.jupyter.widget-state+json": {
        "e07f943f3c9743988a7ec40b06617af8": {
          "model_module": "@jupyter-widgets/controls",
          "model_name": "HBoxModel",
          "state": {
            "_view_name": "HBoxView",
            "_dom_classes": [],
            "_model_name": "HBoxModel",
            "_view_module": "@jupyter-widgets/controls",
            "_model_module_version": "1.5.0",
            "_view_count": null,
            "_view_module_version": "1.5.0",
            "box_style": "",
            "layout": "IPY_MODEL_9b797d84ae5e4e45abb5194f8f35f884",
            "_model_module": "@jupyter-widgets/controls",
            "children": [
              "IPY_MODEL_221424b4395547d48035af09f78ed751",
              "IPY_MODEL_1ba9caae5dcf416d99e6ae7ad83a8bdd"
            ]
          }
        },
        "9b797d84ae5e4e45abb5194f8f35f884": {
          "model_module": "@jupyter-widgets/base",
          "model_name": "LayoutModel",
          "state": {
            "_view_name": "LayoutView",
            "grid_template_rows": null,
            "right": null,
            "justify_content": null,
            "_view_module": "@jupyter-widgets/base",
            "overflow": null,
            "_model_module_version": "1.2.0",
            "_view_count": null,
            "flex_flow": null,
            "width": null,
            "min_width": null,
            "border": null,
            "align_items": null,
            "bottom": null,
            "_model_module": "@jupyter-widgets/base",
            "top": null,
            "grid_column": null,
            "overflow_y": null,
            "overflow_x": null,
            "grid_auto_flow": null,
            "grid_area": null,
            "grid_template_columns": null,
            "flex": null,
            "_model_name": "LayoutModel",
            "justify_items": null,
            "grid_row": null,
            "max_height": null,
            "align_content": null,
            "visibility": null,
            "align_self": null,
            "height": null,
            "min_height": null,
            "padding": null,
            "grid_auto_rows": null,
            "grid_gap": null,
            "max_width": null,
            "order": null,
            "_view_module_version": "1.2.0",
            "grid_template_areas": null,
            "object_position": null,
            "object_fit": null,
            "grid_auto_columns": null,
            "margin": null,
            "display": null,
            "left": null
          }
        },
        "221424b4395547d48035af09f78ed751": {
          "model_module": "@jupyter-widgets/controls",
          "model_name": "FloatProgressModel",
          "state": {
            "_view_name": "ProgressView",
            "style": "IPY_MODEL_4232c056ccd344ff8b073120cef59261",
            "_dom_classes": [],
            "description": "",
            "_model_name": "FloatProgressModel",
            "bar_style": "success",
            "max": 1,
            "_view_module": "@jupyter-widgets/controls",
            "_model_module_version": "1.5.0",
            "value": 1,
            "_view_count": null,
            "_view_module_version": "1.5.0",
            "orientation": "horizontal",
            "min": 0,
            "description_tooltip": null,
            "_model_module": "@jupyter-widgets/controls",
            "layout": "IPY_MODEL_d00931b081d34c42887310a8edd2528e"
          }
        },
        "1ba9caae5dcf416d99e6ae7ad83a8bdd": {
          "model_module": "@jupyter-widgets/controls",
          "model_name": "HTMLModel",
          "state": {
            "_view_name": "HTMLView",
            "style": "IPY_MODEL_4a07178d76a6491aa35cae8f2cac9d5d",
            "_dom_classes": [],
            "description": "",
            "_model_name": "HTMLModel",
            "placeholder": "​",
            "_view_module": "@jupyter-widgets/controls",
            "_model_module_version": "1.5.0",
            "value": " 9920512/? [00:03&lt;00:00, 2843851.34it/s]",
            "_view_count": null,
            "_view_module_version": "1.5.0",
            "description_tooltip": null,
            "_model_module": "@jupyter-widgets/controls",
            "layout": "IPY_MODEL_4294edbccd774b998b1d48a401606b1c"
          }
        },
        "4232c056ccd344ff8b073120cef59261": {
          "model_module": "@jupyter-widgets/controls",
          "model_name": "ProgressStyleModel",
          "state": {
            "_view_name": "StyleView",
            "_model_name": "ProgressStyleModel",
            "description_width": "initial",
            "_view_module": "@jupyter-widgets/base",
            "_model_module_version": "1.5.0",
            "_view_count": null,
            "_view_module_version": "1.2.0",
            "bar_color": null,
            "_model_module": "@jupyter-widgets/controls"
          }
        },
        "d00931b081d34c42887310a8edd2528e": {
          "model_module": "@jupyter-widgets/base",
          "model_name": "LayoutModel",
          "state": {
            "_view_name": "LayoutView",
            "grid_template_rows": null,
            "right": null,
            "justify_content": null,
            "_view_module": "@jupyter-widgets/base",
            "overflow": null,
            "_model_module_version": "1.2.0",
            "_view_count": null,
            "flex_flow": null,
            "width": null,
            "min_width": null,
            "border": null,
            "align_items": null,
            "bottom": null,
            "_model_module": "@jupyter-widgets/base",
            "top": null,
            "grid_column": null,
            "overflow_y": null,
            "overflow_x": null,
            "grid_auto_flow": null,
            "grid_area": null,
            "grid_template_columns": null,
            "flex": null,
            "_model_name": "LayoutModel",
            "justify_items": null,
            "grid_row": null,
            "max_height": null,
            "align_content": null,
            "visibility": null,
            "align_self": null,
            "height": null,
            "min_height": null,
            "padding": null,
            "grid_auto_rows": null,
            "grid_gap": null,
            "max_width": null,
            "order": null,
            "_view_module_version": "1.2.0",
            "grid_template_areas": null,
            "object_position": null,
            "object_fit": null,
            "grid_auto_columns": null,
            "margin": null,
            "display": null,
            "left": null
          }
        },
        "4a07178d76a6491aa35cae8f2cac9d5d": {
          "model_module": "@jupyter-widgets/controls",
          "model_name": "DescriptionStyleModel",
          "state": {
            "_view_name": "StyleView",
            "_model_name": "DescriptionStyleModel",
            "description_width": "",
            "_view_module": "@jupyter-widgets/base",
            "_model_module_version": "1.5.0",
            "_view_count": null,
            "_view_module_version": "1.2.0",
            "_model_module": "@jupyter-widgets/controls"
          }
        },
        "4294edbccd774b998b1d48a401606b1c": {
          "model_module": "@jupyter-widgets/base",
          "model_name": "LayoutModel",
          "state": {
            "_view_name": "LayoutView",
            "grid_template_rows": null,
            "right": null,
            "justify_content": null,
            "_view_module": "@jupyter-widgets/base",
            "overflow": null,
            "_model_module_version": "1.2.0",
            "_view_count": null,
            "flex_flow": null,
            "width": null,
            "min_width": null,
            "border": null,
            "align_items": null,
            "bottom": null,
            "_model_module": "@jupyter-widgets/base",
            "top": null,
            "grid_column": null,
            "overflow_y": null,
            "overflow_x": null,
            "grid_auto_flow": null,
            "grid_area": null,
            "grid_template_columns": null,
            "flex": null,
            "_model_name": "LayoutModel",
            "justify_items": null,
            "grid_row": null,
            "max_height": null,
            "align_content": null,
            "visibility": null,
            "align_self": null,
            "height": null,
            "min_height": null,
            "padding": null,
            "grid_auto_rows": null,
            "grid_gap": null,
            "max_width": null,
            "order": null,
            "_view_module_version": "1.2.0",
            "grid_template_areas": null,
            "object_position": null,
            "object_fit": null,
            "grid_auto_columns": null,
            "margin": null,
            "display": null,
            "left": null
          }
        },
        "f351cc1864244acd94cd658ceeacfef1": {
          "model_module": "@jupyter-widgets/controls",
          "model_name": "HBoxModel",
          "state": {
            "_view_name": "HBoxView",
            "_dom_classes": [],
            "_model_name": "HBoxModel",
            "_view_module": "@jupyter-widgets/controls",
            "_model_module_version": "1.5.0",
            "_view_count": null,
            "_view_module_version": "1.5.0",
            "box_style": "",
            "layout": "IPY_MODEL_eccf3fe06ee04ec2bdce4184f33d7084",
            "_model_module": "@jupyter-widgets/controls",
            "children": [
              "IPY_MODEL_13dae3562df148f985fe2ba5307bedd2",
              "IPY_MODEL_2c1744bd100a410ca73fd092f0b1f011"
            ]
          }
        },
        "eccf3fe06ee04ec2bdce4184f33d7084": {
          "model_module": "@jupyter-widgets/base",
          "model_name": "LayoutModel",
          "state": {
            "_view_name": "LayoutView",
            "grid_template_rows": null,
            "right": null,
            "justify_content": null,
            "_view_module": "@jupyter-widgets/base",
            "overflow": null,
            "_model_module_version": "1.2.0",
            "_view_count": null,
            "flex_flow": null,
            "width": null,
            "min_width": null,
            "border": null,
            "align_items": null,
            "bottom": null,
            "_model_module": "@jupyter-widgets/base",
            "top": null,
            "grid_column": null,
            "overflow_y": null,
            "overflow_x": null,
            "grid_auto_flow": null,
            "grid_area": null,
            "grid_template_columns": null,
            "flex": null,
            "_model_name": "LayoutModel",
            "justify_items": null,
            "grid_row": null,
            "max_height": null,
            "align_content": null,
            "visibility": null,
            "align_self": null,
            "height": null,
            "min_height": null,
            "padding": null,
            "grid_auto_rows": null,
            "grid_gap": null,
            "max_width": null,
            "order": null,
            "_view_module_version": "1.2.0",
            "grid_template_areas": null,
            "object_position": null,
            "object_fit": null,
            "grid_auto_columns": null,
            "margin": null,
            "display": null,
            "left": null
          }
        },
        "13dae3562df148f985fe2ba5307bedd2": {
          "model_module": "@jupyter-widgets/controls",
          "model_name": "FloatProgressModel",
          "state": {
            "_view_name": "ProgressView",
            "style": "IPY_MODEL_bcaebde3d17049dfbdcaa24bf5831fed",
            "_dom_classes": [],
            "description": "",
            "_model_name": "FloatProgressModel",
            "bar_style": "success",
            "max": 1,
            "_view_module": "@jupyter-widgets/controls",
            "_model_module_version": "1.5.0",
            "value": 1,
            "_view_count": null,
            "_view_module_version": "1.5.0",
            "orientation": "horizontal",
            "min": 0,
            "description_tooltip": null,
            "_model_module": "@jupyter-widgets/controls",
            "layout": "IPY_MODEL_d200ba65e1e5456184d3be40c4fac430"
          }
        },
        "2c1744bd100a410ca73fd092f0b1f011": {
          "model_module": "@jupyter-widgets/controls",
          "model_name": "HTMLModel",
          "state": {
            "_view_name": "HTMLView",
            "style": "IPY_MODEL_05829464783446eaa27f03151d20acfc",
            "_dom_classes": [],
            "description": "",
            "_model_name": "HTMLModel",
            "placeholder": "​",
            "_view_module": "@jupyter-widgets/controls",
            "_model_module_version": "1.5.0",
            "value": " 32768/? [00:02&lt;00:00, 15169.32it/s]",
            "_view_count": null,
            "_view_module_version": "1.5.0",
            "description_tooltip": null,
            "_model_module": "@jupyter-widgets/controls",
            "layout": "IPY_MODEL_d6f0694d7a2943f2a5c210d4666f83a2"
          }
        },
        "bcaebde3d17049dfbdcaa24bf5831fed": {
          "model_module": "@jupyter-widgets/controls",
          "model_name": "ProgressStyleModel",
          "state": {
            "_view_name": "StyleView",
            "_model_name": "ProgressStyleModel",
            "description_width": "initial",
            "_view_module": "@jupyter-widgets/base",
            "_model_module_version": "1.5.0",
            "_view_count": null,
            "_view_module_version": "1.2.0",
            "bar_color": null,
            "_model_module": "@jupyter-widgets/controls"
          }
        },
        "d200ba65e1e5456184d3be40c4fac430": {
          "model_module": "@jupyter-widgets/base",
          "model_name": "LayoutModel",
          "state": {
            "_view_name": "LayoutView",
            "grid_template_rows": null,
            "right": null,
            "justify_content": null,
            "_view_module": "@jupyter-widgets/base",
            "overflow": null,
            "_model_module_version": "1.2.0",
            "_view_count": null,
            "flex_flow": null,
            "width": null,
            "min_width": null,
            "border": null,
            "align_items": null,
            "bottom": null,
            "_model_module": "@jupyter-widgets/base",
            "top": null,
            "grid_column": null,
            "overflow_y": null,
            "overflow_x": null,
            "grid_auto_flow": null,
            "grid_area": null,
            "grid_template_columns": null,
            "flex": null,
            "_model_name": "LayoutModel",
            "justify_items": null,
            "grid_row": null,
            "max_height": null,
            "align_content": null,
            "visibility": null,
            "align_self": null,
            "height": null,
            "min_height": null,
            "padding": null,
            "grid_auto_rows": null,
            "grid_gap": null,
            "max_width": null,
            "order": null,
            "_view_module_version": "1.2.0",
            "grid_template_areas": null,
            "object_position": null,
            "object_fit": null,
            "grid_auto_columns": null,
            "margin": null,
            "display": null,
            "left": null
          }
        },
        "05829464783446eaa27f03151d20acfc": {
          "model_module": "@jupyter-widgets/controls",
          "model_name": "DescriptionStyleModel",
          "state": {
            "_view_name": "StyleView",
            "_model_name": "DescriptionStyleModel",
            "description_width": "",
            "_view_module": "@jupyter-widgets/base",
            "_model_module_version": "1.5.0",
            "_view_count": null,
            "_view_module_version": "1.2.0",
            "_model_module": "@jupyter-widgets/controls"
          }
        },
        "d6f0694d7a2943f2a5c210d4666f83a2": {
          "model_module": "@jupyter-widgets/base",
          "model_name": "LayoutModel",
          "state": {
            "_view_name": "LayoutView",
            "grid_template_rows": null,
            "right": null,
            "justify_content": null,
            "_view_module": "@jupyter-widgets/base",
            "overflow": null,
            "_model_module_version": "1.2.0",
            "_view_count": null,
            "flex_flow": null,
            "width": null,
            "min_width": null,
            "border": null,
            "align_items": null,
            "bottom": null,
            "_model_module": "@jupyter-widgets/base",
            "top": null,
            "grid_column": null,
            "overflow_y": null,
            "overflow_x": null,
            "grid_auto_flow": null,
            "grid_area": null,
            "grid_template_columns": null,
            "flex": null,
            "_model_name": "LayoutModel",
            "justify_items": null,
            "grid_row": null,
            "max_height": null,
            "align_content": null,
            "visibility": null,
            "align_self": null,
            "height": null,
            "min_height": null,
            "padding": null,
            "grid_auto_rows": null,
            "grid_gap": null,
            "max_width": null,
            "order": null,
            "_view_module_version": "1.2.0",
            "grid_template_areas": null,
            "object_position": null,
            "object_fit": null,
            "grid_auto_columns": null,
            "margin": null,
            "display": null,
            "left": null
          }
        },
        "33245d44405f4d15b5403d66d50321d5": {
          "model_module": "@jupyter-widgets/controls",
          "model_name": "HBoxModel",
          "state": {
            "_view_name": "HBoxView",
            "_dom_classes": [],
            "_model_name": "HBoxModel",
            "_view_module": "@jupyter-widgets/controls",
            "_model_module_version": "1.5.0",
            "_view_count": null,
            "_view_module_version": "1.5.0",
            "box_style": "",
            "layout": "IPY_MODEL_b8ef797cd0804965b5691496df6c8a4f",
            "_model_module": "@jupyter-widgets/controls",
            "children": [
              "IPY_MODEL_66780c20314b45daa6b55b59178ec375",
              "IPY_MODEL_7f61da95963a4af9bd1113725f778d2b"
            ]
          }
        },
        "b8ef797cd0804965b5691496df6c8a4f": {
          "model_module": "@jupyter-widgets/base",
          "model_name": "LayoutModel",
          "state": {
            "_view_name": "LayoutView",
            "grid_template_rows": null,
            "right": null,
            "justify_content": null,
            "_view_module": "@jupyter-widgets/base",
            "overflow": null,
            "_model_module_version": "1.2.0",
            "_view_count": null,
            "flex_flow": null,
            "width": null,
            "min_width": null,
            "border": null,
            "align_items": null,
            "bottom": null,
            "_model_module": "@jupyter-widgets/base",
            "top": null,
            "grid_column": null,
            "overflow_y": null,
            "overflow_x": null,
            "grid_auto_flow": null,
            "grid_area": null,
            "grid_template_columns": null,
            "flex": null,
            "_model_name": "LayoutModel",
            "justify_items": null,
            "grid_row": null,
            "max_height": null,
            "align_content": null,
            "visibility": null,
            "align_self": null,
            "height": null,
            "min_height": null,
            "padding": null,
            "grid_auto_rows": null,
            "grid_gap": null,
            "max_width": null,
            "order": null,
            "_view_module_version": "1.2.0",
            "grid_template_areas": null,
            "object_position": null,
            "object_fit": null,
            "grid_auto_columns": null,
            "margin": null,
            "display": null,
            "left": null
          }
        },
        "66780c20314b45daa6b55b59178ec375": {
          "model_module": "@jupyter-widgets/controls",
          "model_name": "FloatProgressModel",
          "state": {
            "_view_name": "ProgressView",
            "style": "IPY_MODEL_357fbb79ad42416fbb1938775ec9228c",
            "_dom_classes": [],
            "description": "",
            "_model_name": "FloatProgressModel",
            "bar_style": "success",
            "max": 1,
            "_view_module": "@jupyter-widgets/controls",
            "_model_module_version": "1.5.0",
            "value": 1,
            "_view_count": null,
            "_view_module_version": "1.5.0",
            "orientation": "horizontal",
            "min": 0,
            "description_tooltip": null,
            "_model_module": "@jupyter-widgets/controls",
            "layout": "IPY_MODEL_0e61a66f5e72482c9ca6217e6da210c6"
          }
        },
        "7f61da95963a4af9bd1113725f778d2b": {
          "model_module": "@jupyter-widgets/controls",
          "model_name": "HTMLModel",
          "state": {
            "_view_name": "HTMLView",
            "style": "IPY_MODEL_dc35b62e9f5644218c1ea6a2ca7595f0",
            "_dom_classes": [],
            "description": "",
            "_model_name": "HTMLModel",
            "placeholder": "​",
            "_view_module": "@jupyter-widgets/controls",
            "_model_module_version": "1.5.0",
            "value": " 1654784/? [00:01&lt;00:00, 875284.14it/s]",
            "_view_count": null,
            "_view_module_version": "1.5.0",
            "description_tooltip": null,
            "_model_module": "@jupyter-widgets/controls",
            "layout": "IPY_MODEL_ee897ac91d2a48a2882fdbae9723ef92"
          }
        },
        "357fbb79ad42416fbb1938775ec9228c": {
          "model_module": "@jupyter-widgets/controls",
          "model_name": "ProgressStyleModel",
          "state": {
            "_view_name": "StyleView",
            "_model_name": "ProgressStyleModel",
            "description_width": "initial",
            "_view_module": "@jupyter-widgets/base",
            "_model_module_version": "1.5.0",
            "_view_count": null,
            "_view_module_version": "1.2.0",
            "bar_color": null,
            "_model_module": "@jupyter-widgets/controls"
          }
        },
        "0e61a66f5e72482c9ca6217e6da210c6": {
          "model_module": "@jupyter-widgets/base",
          "model_name": "LayoutModel",
          "state": {
            "_view_name": "LayoutView",
            "grid_template_rows": null,
            "right": null,
            "justify_content": null,
            "_view_module": "@jupyter-widgets/base",
            "overflow": null,
            "_model_module_version": "1.2.0",
            "_view_count": null,
            "flex_flow": null,
            "width": null,
            "min_width": null,
            "border": null,
            "align_items": null,
            "bottom": null,
            "_model_module": "@jupyter-widgets/base",
            "top": null,
            "grid_column": null,
            "overflow_y": null,
            "overflow_x": null,
            "grid_auto_flow": null,
            "grid_area": null,
            "grid_template_columns": null,
            "flex": null,
            "_model_name": "LayoutModel",
            "justify_items": null,
            "grid_row": null,
            "max_height": null,
            "align_content": null,
            "visibility": null,
            "align_self": null,
            "height": null,
            "min_height": null,
            "padding": null,
            "grid_auto_rows": null,
            "grid_gap": null,
            "max_width": null,
            "order": null,
            "_view_module_version": "1.2.0",
            "grid_template_areas": null,
            "object_position": null,
            "object_fit": null,
            "grid_auto_columns": null,
            "margin": null,
            "display": null,
            "left": null
          }
        },
        "dc35b62e9f5644218c1ea6a2ca7595f0": {
          "model_module": "@jupyter-widgets/controls",
          "model_name": "DescriptionStyleModel",
          "state": {
            "_view_name": "StyleView",
            "_model_name": "DescriptionStyleModel",
            "description_width": "",
            "_view_module": "@jupyter-widgets/base",
            "_model_module_version": "1.5.0",
            "_view_count": null,
            "_view_module_version": "1.2.0",
            "_model_module": "@jupyter-widgets/controls"
          }
        },
        "ee897ac91d2a48a2882fdbae9723ef92": {
          "model_module": "@jupyter-widgets/base",
          "model_name": "LayoutModel",
          "state": {
            "_view_name": "LayoutView",
            "grid_template_rows": null,
            "right": null,
            "justify_content": null,
            "_view_module": "@jupyter-widgets/base",
            "overflow": null,
            "_model_module_version": "1.2.0",
            "_view_count": null,
            "flex_flow": null,
            "width": null,
            "min_width": null,
            "border": null,
            "align_items": null,
            "bottom": null,
            "_model_module": "@jupyter-widgets/base",
            "top": null,
            "grid_column": null,
            "overflow_y": null,
            "overflow_x": null,
            "grid_auto_flow": null,
            "grid_area": null,
            "grid_template_columns": null,
            "flex": null,
            "_model_name": "LayoutModel",
            "justify_items": null,
            "grid_row": null,
            "max_height": null,
            "align_content": null,
            "visibility": null,
            "align_self": null,
            "height": null,
            "min_height": null,
            "padding": null,
            "grid_auto_rows": null,
            "grid_gap": null,
            "max_width": null,
            "order": null,
            "_view_module_version": "1.2.0",
            "grid_template_areas": null,
            "object_position": null,
            "object_fit": null,
            "grid_auto_columns": null,
            "margin": null,
            "display": null,
            "left": null
          }
        },
        "e4128e0e6d4f480ab36e025247daa3c1": {
          "model_module": "@jupyter-widgets/controls",
          "model_name": "HBoxModel",
          "state": {
            "_view_name": "HBoxView",
            "_dom_classes": [],
            "_model_name": "HBoxModel",
            "_view_module": "@jupyter-widgets/controls",
            "_model_module_version": "1.5.0",
            "_view_count": null,
            "_view_module_version": "1.5.0",
            "box_style": "",
            "layout": "IPY_MODEL_dbb7968142554492b5f049d84912c6c0",
            "_model_module": "@jupyter-widgets/controls",
            "children": [
              "IPY_MODEL_337926a20ce84c9f998271685a260070",
              "IPY_MODEL_fc5080501e6b42689cea589a7d82c088"
            ]
          }
        },
        "dbb7968142554492b5f049d84912c6c0": {
          "model_module": "@jupyter-widgets/base",
          "model_name": "LayoutModel",
          "state": {
            "_view_name": "LayoutView",
            "grid_template_rows": null,
            "right": null,
            "justify_content": null,
            "_view_module": "@jupyter-widgets/base",
            "overflow": null,
            "_model_module_version": "1.2.0",
            "_view_count": null,
            "flex_flow": null,
            "width": null,
            "min_width": null,
            "border": null,
            "align_items": null,
            "bottom": null,
            "_model_module": "@jupyter-widgets/base",
            "top": null,
            "grid_column": null,
            "overflow_y": null,
            "overflow_x": null,
            "grid_auto_flow": null,
            "grid_area": null,
            "grid_template_columns": null,
            "flex": null,
            "_model_name": "LayoutModel",
            "justify_items": null,
            "grid_row": null,
            "max_height": null,
            "align_content": null,
            "visibility": null,
            "align_self": null,
            "height": null,
            "min_height": null,
            "padding": null,
            "grid_auto_rows": null,
            "grid_gap": null,
            "max_width": null,
            "order": null,
            "_view_module_version": "1.2.0",
            "grid_template_areas": null,
            "object_position": null,
            "object_fit": null,
            "grid_auto_columns": null,
            "margin": null,
            "display": null,
            "left": null
          }
        },
        "337926a20ce84c9f998271685a260070": {
          "model_module": "@jupyter-widgets/controls",
          "model_name": "FloatProgressModel",
          "state": {
            "_view_name": "ProgressView",
            "style": "IPY_MODEL_ab4a4900258242b9a89db3bc4102a240",
            "_dom_classes": [],
            "description": "",
            "_model_name": "FloatProgressModel",
            "bar_style": "success",
            "max": 1,
            "_view_module": "@jupyter-widgets/controls",
            "_model_module_version": "1.5.0",
            "value": 1,
            "_view_count": null,
            "_view_module_version": "1.5.0",
            "orientation": "horizontal",
            "min": 0,
            "description_tooltip": null,
            "_model_module": "@jupyter-widgets/controls",
            "layout": "IPY_MODEL_fd1fdcf11b3845ae8ba2b9b4886a736b"
          }
        },
        "fc5080501e6b42689cea589a7d82c088": {
          "model_module": "@jupyter-widgets/controls",
          "model_name": "HTMLModel",
          "state": {
            "_view_name": "HTMLView",
            "style": "IPY_MODEL_6ef5bb1a44cf46e690f130058f9e8edd",
            "_dom_classes": [],
            "description": "",
            "_model_name": "HTMLModel",
            "placeholder": "​",
            "_view_module": "@jupyter-widgets/controls",
            "_model_module_version": "1.5.0",
            "value": " 8192/? [00:01&lt;00:00, 6903.97it/s]",
            "_view_count": null,
            "_view_module_version": "1.5.0",
            "description_tooltip": null,
            "_model_module": "@jupyter-widgets/controls",
            "layout": "IPY_MODEL_ff91f038a73a471999b1fba245800f50"
          }
        },
        "ab4a4900258242b9a89db3bc4102a240": {
          "model_module": "@jupyter-widgets/controls",
          "model_name": "ProgressStyleModel",
          "state": {
            "_view_name": "StyleView",
            "_model_name": "ProgressStyleModel",
            "description_width": "initial",
            "_view_module": "@jupyter-widgets/base",
            "_model_module_version": "1.5.0",
            "_view_count": null,
            "_view_module_version": "1.2.0",
            "bar_color": null,
            "_model_module": "@jupyter-widgets/controls"
          }
        },
        "fd1fdcf11b3845ae8ba2b9b4886a736b": {
          "model_module": "@jupyter-widgets/base",
          "model_name": "LayoutModel",
          "state": {
            "_view_name": "LayoutView",
            "grid_template_rows": null,
            "right": null,
            "justify_content": null,
            "_view_module": "@jupyter-widgets/base",
            "overflow": null,
            "_model_module_version": "1.2.0",
            "_view_count": null,
            "flex_flow": null,
            "width": null,
            "min_width": null,
            "border": null,
            "align_items": null,
            "bottom": null,
            "_model_module": "@jupyter-widgets/base",
            "top": null,
            "grid_column": null,
            "overflow_y": null,
            "overflow_x": null,
            "grid_auto_flow": null,
            "grid_area": null,
            "grid_template_columns": null,
            "flex": null,
            "_model_name": "LayoutModel",
            "justify_items": null,
            "grid_row": null,
            "max_height": null,
            "align_content": null,
            "visibility": null,
            "align_self": null,
            "height": null,
            "min_height": null,
            "padding": null,
            "grid_auto_rows": null,
            "grid_gap": null,
            "max_width": null,
            "order": null,
            "_view_module_version": "1.2.0",
            "grid_template_areas": null,
            "object_position": null,
            "object_fit": null,
            "grid_auto_columns": null,
            "margin": null,
            "display": null,
            "left": null
          }
        },
        "6ef5bb1a44cf46e690f130058f9e8edd": {
          "model_module": "@jupyter-widgets/controls",
          "model_name": "DescriptionStyleModel",
          "state": {
            "_view_name": "StyleView",
            "_model_name": "DescriptionStyleModel",
            "description_width": "",
            "_view_module": "@jupyter-widgets/base",
            "_model_module_version": "1.5.0",
            "_view_count": null,
            "_view_module_version": "1.2.0",
            "_model_module": "@jupyter-widgets/controls"
          }
        },
        "ff91f038a73a471999b1fba245800f50": {
          "model_module": "@jupyter-widgets/base",
          "model_name": "LayoutModel",
          "state": {
            "_view_name": "LayoutView",
            "grid_template_rows": null,
            "right": null,
            "justify_content": null,
            "_view_module": "@jupyter-widgets/base",
            "overflow": null,
            "_model_module_version": "1.2.0",
            "_view_count": null,
            "flex_flow": null,
            "width": null,
            "min_width": null,
            "border": null,
            "align_items": null,
            "bottom": null,
            "_model_module": "@jupyter-widgets/base",
            "top": null,
            "grid_column": null,
            "overflow_y": null,
            "overflow_x": null,
            "grid_auto_flow": null,
            "grid_area": null,
            "grid_template_columns": null,
            "flex": null,
            "_model_name": "LayoutModel",
            "justify_items": null,
            "grid_row": null,
            "max_height": null,
            "align_content": null,
            "visibility": null,
            "align_self": null,
            "height": null,
            "min_height": null,
            "padding": null,
            "grid_auto_rows": null,
            "grid_gap": null,
            "max_width": null,
            "order": null,
            "_view_module_version": "1.2.0",
            "grid_template_areas": null,
            "object_position": null,
            "object_fit": null,
            "grid_auto_columns": null,
            "margin": null,
            "display": null,
            "left": null
          }
        }
      }
    }
  },
  "cells": [
    {
      "cell_type": "code",
      "metadata": {
        "id": "NM0cww3XaFWn",
        "colab": {
          "base_uri": "https://localhost:8080/",
          "height": 838,
          "referenced_widgets": [
            "e07f943f3c9743988a7ec40b06617af8",
            "9b797d84ae5e4e45abb5194f8f35f884",
            "221424b4395547d48035af09f78ed751",
            "1ba9caae5dcf416d99e6ae7ad83a8bdd",
            "4232c056ccd344ff8b073120cef59261",
            "d00931b081d34c42887310a8edd2528e",
            "4a07178d76a6491aa35cae8f2cac9d5d",
            "4294edbccd774b998b1d48a401606b1c",
            "f351cc1864244acd94cd658ceeacfef1",
            "eccf3fe06ee04ec2bdce4184f33d7084",
            "13dae3562df148f985fe2ba5307bedd2",
            "2c1744bd100a410ca73fd092f0b1f011",
            "bcaebde3d17049dfbdcaa24bf5831fed",
            "d200ba65e1e5456184d3be40c4fac430",
            "05829464783446eaa27f03151d20acfc",
            "d6f0694d7a2943f2a5c210d4666f83a2",
            "33245d44405f4d15b5403d66d50321d5",
            "b8ef797cd0804965b5691496df6c8a4f",
            "66780c20314b45daa6b55b59178ec375",
            "7f61da95963a4af9bd1113725f778d2b",
            "357fbb79ad42416fbb1938775ec9228c",
            "0e61a66f5e72482c9ca6217e6da210c6",
            "dc35b62e9f5644218c1ea6a2ca7595f0",
            "ee897ac91d2a48a2882fdbae9723ef92",
            "e4128e0e6d4f480ab36e025247daa3c1",
            "dbb7968142554492b5f049d84912c6c0",
            "337926a20ce84c9f998271685a260070",
            "fc5080501e6b42689cea589a7d82c088",
            "ab4a4900258242b9a89db3bc4102a240",
            "fd1fdcf11b3845ae8ba2b9b4886a736b",
            "6ef5bb1a44cf46e690f130058f9e8edd",
            "ff91f038a73a471999b1fba245800f50"
          ]
        },
        "outputId": "c96d4eb6-e518-4313-8abf-a6945100dac6"
      },
      "source": [
        "import torch\r\n",
        "import torch.nn as nn\r\n",
        "import torch.nn.functional as F\r\n",
        "import torch.optim as optim\r\n",
        "import torch.nn.init as init\r\n",
        "from torchvision import datasets, transforms\r\n",
        "import numpy as np\r\n",
        "import matplotlib.pyplot as plt\r\n",
        "from torchvision import datasets, transforms\r\n",
        "from torch.utils.data import DataLoader\r\n",
        "\r\n",
        "class MnistDataSet(torch.utils.data.Dataset):\r\n",
        "    def __init__(self):\r\n",
        "        mnist_train = datasets.MNIST(root='./mnist_data/', train=True, download=True)\r\n",
        "        self.data = mnist_train.data.reshape(-1, 1, 28, 28).float() / 255.0\r\n",
        "        self.data = 1 * (self.data > 0.5)\r\n",
        "\r\n",
        "    def __len__(self):\r\n",
        "        return len(self.data)\r\n",
        "    \r\n",
        "    def __getitem__(self, idx):\r\n",
        "        return self.data[idx]\r\n",
        "\r\n",
        "dataset = MnistDataSet()\r\n",
        "\r\n",
        "device = 'cuda' if torch.cuda.is_available() else 'cpu'\r\n",
        "if device == 'cuda':\r\n",
        "    gpu_info = !nvidia-smi\r\n",
        "    gpu_info = '\\n'.join(gpu_info)\r\n",
        "    if gpu_info.find('failed') >= 0:\r\n",
        "        print('Select the Runtime > \"Change runtime type\" menu to enable a GPU accelerator, ')\r\n",
        "        print('and then re-execute this cell.')\r\n",
        "    else:\r\n",
        "        print(gpu_info)\r\n",
        "print('device :',device)\r\n",
        "print('torch.version :',torch.__version__)"
      ],
      "execution_count": 1,
      "outputs": [
        {
          "output_type": "stream",
          "text": [
            "Downloading http://yann.lecun.com/exdb/mnist/train-images-idx3-ubyte.gz to ./mnist_data/MNIST/raw/train-images-idx3-ubyte.gz\n"
          ],
          "name": "stdout"
        },
        {
          "output_type": "display_data",
          "data": {
            "application/vnd.jupyter.widget-view+json": {
              "model_id": "e07f943f3c9743988a7ec40b06617af8",
              "version_minor": 0,
              "version_major": 2
            },
            "text/plain": [
              "HBox(children=(FloatProgress(value=1.0, bar_style='info', max=1.0), HTML(value='')))"
            ]
          },
          "metadata": {
            "tags": []
          }
        },
        {
          "output_type": "stream",
          "text": [
            "Extracting ./mnist_data/MNIST/raw/train-images-idx3-ubyte.gz to ./mnist_data/MNIST/raw\n",
            "Downloading http://yann.lecun.com/exdb/mnist/train-labels-idx1-ubyte.gz to ./mnist_data/MNIST/raw/train-labels-idx1-ubyte.gz\n"
          ],
          "name": "stdout"
        },
        {
          "output_type": "display_data",
          "data": {
            "application/vnd.jupyter.widget-view+json": {
              "model_id": "f351cc1864244acd94cd658ceeacfef1",
              "version_minor": 0,
              "version_major": 2
            },
            "text/plain": [
              "HBox(children=(FloatProgress(value=1.0, bar_style='info', max=1.0), HTML(value='')))"
            ]
          },
          "metadata": {
            "tags": []
          }
        },
        {
          "output_type": "stream",
          "text": [
            "Extracting ./mnist_data/MNIST/raw/train-labels-idx1-ubyte.gz to ./mnist_data/MNIST/raw\n",
            "Downloading http://yann.lecun.com/exdb/mnist/t10k-images-idx3-ubyte.gz to ./mnist_data/MNIST/raw/t10k-images-idx3-ubyte.gz\n"
          ],
          "name": "stdout"
        },
        {
          "output_type": "display_data",
          "data": {
            "application/vnd.jupyter.widget-view+json": {
              "model_id": "33245d44405f4d15b5403d66d50321d5",
              "version_minor": 0,
              "version_major": 2
            },
            "text/plain": [
              "HBox(children=(FloatProgress(value=1.0, bar_style='info', max=1.0), HTML(value='')))"
            ]
          },
          "metadata": {
            "tags": []
          }
        },
        {
          "output_type": "stream",
          "text": [
            "Extracting ./mnist_data/MNIST/raw/t10k-images-idx3-ubyte.gz to ./mnist_data/MNIST/raw\n",
            "Downloading http://yann.lecun.com/exdb/mnist/t10k-labels-idx1-ubyte.gz to ./mnist_data/MNIST/raw/t10k-labels-idx1-ubyte.gz\n"
          ],
          "name": "stdout"
        },
        {
          "output_type": "display_data",
          "data": {
            "application/vnd.jupyter.widget-view+json": {
              "model_id": "e4128e0e6d4f480ab36e025247daa3c1",
              "version_minor": 0,
              "version_major": 2
            },
            "text/plain": [
              "HBox(children=(FloatProgress(value=1.0, bar_style='info', max=1.0), HTML(value='')))"
            ]
          },
          "metadata": {
            "tags": []
          }
        },
        {
          "output_type": "stream",
          "text": [
            "Extracting ./mnist_data/MNIST/raw/t10k-labels-idx1-ubyte.gz to ./mnist_data/MNIST/raw\n",
            "Processing...\n",
            "Done!\n"
          ],
          "name": "stdout"
        },
        {
          "output_type": "stream",
          "text": [
            "/usr/local/lib/python3.6/dist-packages/torchvision/datasets/mnist.py:480: UserWarning: The given NumPy array is not writeable, and PyTorch does not support non-writeable tensors. This means you can write to the underlying (supposedly non-writeable) NumPy array using the tensor. You may want to copy the array to protect its data or make it writeable before converting it to a tensor. This type of warning will be suppressed for the rest of this program. (Triggered internally at  /pytorch/torch/csrc/utils/tensor_numpy.cpp:141.)\n",
            "  return torch.from_numpy(parsed.astype(m[2], copy=False)).view(*s)\n"
          ],
          "name": "stderr"
        },
        {
          "output_type": "stream",
          "text": [
            "Thu Dec 31 04:28:59 2020       \n",
            "+-----------------------------------------------------------------------------+\n",
            "| NVIDIA-SMI 460.27.04    Driver Version: 418.67       CUDA Version: 10.1     |\n",
            "|-------------------------------+----------------------+----------------------+\n",
            "| GPU  Name        Persistence-M| Bus-Id        Disp.A | Volatile Uncorr. ECC |\n",
            "| Fan  Temp  Perf  Pwr:Usage/Cap|         Memory-Usage | GPU-Util  Compute M. |\n",
            "|                               |                      |               MIG M. |\n",
            "|===============================+======================+======================|\n",
            "|   0  Tesla T4            Off  | 00000000:00:04.0 Off |                    0 |\n",
            "| N/A   48C    P8    11W /  70W |     10MiB / 15079MiB |      0%      Default |\n",
            "|                               |                      |                 ERR! |\n",
            "+-------------------------------+----------------------+----------------------+\n",
            "                                                                               \n",
            "+-----------------------------------------------------------------------------+\n",
            "| Processes:                                                                  |\n",
            "|  GPU   GI   CI        PID   Type   Process name                  GPU Memory |\n",
            "|        ID   ID                                                   Usage      |\n",
            "|=============================================================================|\n",
            "|  No running processes found                                                 |\n",
            "+-----------------------------------------------------------------------------+\n",
            "device : cuda\n",
            "torch.version : 1.7.0+cu101\n",
            "\n",
            "\n",
            "\n",
            "\n"
          ],
          "name": "stdout"
        }
      ]
    },
    {
      "cell_type": "code",
      "metadata": {
        "id": "0hzTPP776nRy"
      },
      "source": [
        "class GatedBlock(nn.Module):\r\n",
        "    def __init__(self, channels, v_kernel_size=(3, 5), h_kernal_size=(1, 5), causal=False):\r\n",
        "        super().__init__()\r\n",
        "        self.channels = channels\r\n",
        "        self.causal = causal\r\n",
        "        self.v_init_padding = (v_kernel_size[1]//2, v_kernel_size[1]//2, v_kernel_size[0], 0)\r\n",
        "        self.h_init_padding = (h_kernal_size[1] - (self.causal==False), 0, 0, 0)\r\n",
        "        self.v_conv = nn.Conv2d(channels, 2 * channels, v_kernel_size, (1, 1), (0, 0))\r\n",
        "        self.h_conv = nn.Conv2d(channels, 2 * channels, h_kernal_size, (1, 1), (0, 0))\r\n",
        "        self.v2h = nn.Conv2d(2 * channels, 2 * channels, (1, 1), (1, 1), (0, 0))\r\n",
        "        self.hout = nn.Sequential(nn.Conv2d(channels, channels, (1, 1), (1, 1), (0, 0)), nn.LeakyReLU())\r\n",
        "\r\n",
        "    def forward(self, v, h):\r\n",
        "        v = self.v_conv(F.pad(v, self.v_init_padding)[:,:,:-1,:])\r\n",
        "        h = F.pad(h, self.h_init_padding)\r\n",
        "        if self.causal:\r\n",
        "            h = h[:, :, :, :-1]\r\n",
        "        h = self.h_conv(h) + self.v2h(v)\r\n",
        "        v = torch.sigmoid(v[:, :self.channels, :, :]) * torch.sigmoid(v[:, self.channels:, :, :])\r\n",
        "        h = torch.sigmoid(h[:, :self.channels, :, :]) * torch.sigmoid(h[:, self.channels:, :, :])\r\n",
        "        return v, self.hout(h)\r\n",
        "\r\n",
        "class Block(nn.Module):\r\n",
        "    def __init__(self, channels, num_gatedres, v_kernel_size=(3, 5), h_kernal_size=(1, 5)):\r\n",
        "        super().__init__()\r\n",
        "        self.gatedres = nn.ModuleList([GatedBlock(channels, v_kernel_size, h_kernal_size, causal=False) for _ in range(num_gatedres)])\r\n",
        "    \r\n",
        "    def forward(self, v, h):\r\n",
        "        for gr in self.gatedres:\r\n",
        "            v_new, h_new = gr(v, h)\r\n",
        "            v = v + v_new\r\n",
        "            h = h + h_new\r\n",
        "        return v, h\r\n",
        "\r\n",
        "class UpBlock(nn.Module):\r\n",
        "    def __init__(self, cin, cout, num_gatedres, v_kernel_size=(3, 5), h_kernal_size=(1, 5)):\r\n",
        "        super().__init__()\r\n",
        "        self.gatedres = nn.ModuleList([GatedBlock(cin, v_kernel_size, h_kernal_size, causal=False) for _ in range(num_gatedres)])\r\n",
        "        # self.v_up = nn.Sequential(nn.Conv2d(cin, cout, (2, 2), (2, 2), (0, 0)), nn.BatchNorm2d(cout), nn.LeakyReLU()) #2x2 up-downsampling not works (maybe causality breaks when upsampling) \r\n",
        "        # self.h_up = nn.Sequential(nn.Conv2d(cin, cout, (2, 2), (2, 2), (0, 0)), nn.BatchNorm2d(cout), nn.LeakyReLU())\r\n",
        "    \r\n",
        "        self.v_up = nn.Sequential(nn.Conv2d(cin, cout, (1, 1), (1, 1), (0, 0)), nn.BatchNorm2d(cout), nn.LeakyReLU())\r\n",
        "        self.h_up = nn.Sequential(nn.Conv2d(cin, cout, (1, 1), (1, 1), (0, 0)), nn.BatchNorm2d(cout), nn.LeakyReLU())\r\n",
        "    \r\n",
        "    def forward(self, v, h):\r\n",
        "        for gr in self.gatedres:\r\n",
        "            v_new, h_new = gr(v, h)\r\n",
        "            v = v + v_new\r\n",
        "            h = h + h_new\r\n",
        "        return self.v_up(v), self.h_up(h)\r\n",
        "\r\n",
        "\r\n",
        "\r\n",
        "class DownBlock(nn.Module):\r\n",
        "    def __init__(self, cin, cout, num_gatedres, v_kernel_size=(3, 5), h_kernal_size=(1, 5)):\r\n",
        "        super().__init__()\r\n",
        "        # self.v_down = nn.Sequential(nn.ConvTranspose2d(cin, cout, (2, 2), (2, 2), (0, 0)), nn.BatchNorm2d(cout), nn.LeakyReLU())\r\n",
        "        # self.h_down = nn.Sequential(nn.ConvTranspose2d(cin, cout, (2, 2), (2, 2), (0, 0)), nn.BatchNorm2d(cout), nn.LeakyReLU())\r\n",
        "        self.v_down = nn.Sequential(nn.ConvTranspose2d(cin, cout, (1, 1), (1, 1), (0, 0)), nn.BatchNorm2d(cout), nn.LeakyReLU())\r\n",
        "        self.h_down = nn.Sequential(nn.ConvTranspose2d(cin, cout, (1, 1), (1, 1), (0, 0)), nn.BatchNorm2d(cout), nn.LeakyReLU())\r\n",
        "        self.gatedres = nn.ModuleList([GatedBlock(cout, v_kernel_size, h_kernal_size, causal=False) for _ in range(num_gatedres)])\r\n",
        "    \r\n",
        "    def forward(self, v, h):\r\n",
        "        v = self.v_down(v)\r\n",
        "        h = self.h_down(h)\r\n",
        "        for gr in self.gatedres:\r\n",
        "            v_new, h_new = gr(v, h)\r\n",
        "            v = v + v_new\r\n",
        "            h = h + h_new\r\n",
        "        return v, h\r\n",
        "\r\n",
        "\r\n",
        "class pixelcnn_plusplus(nn.Module):\r\n",
        "    def __init__(self):\r\n",
        "        super().__init__()\r\n",
        "        self.fromRGB = nn.Sequential(nn.Conv2d(1, 32, (1, 1), (1, 1), (0, 0)), nn.ReLU())\r\n",
        "        self.causal_conv = GatedBlock(32, v_kernel_size=(3, 5), h_kernal_size=(1, 3), causal=True)\r\n",
        "        self.net = nn.ModuleList([\r\n",
        "            nn.Sequential(nn.Conv2d(64, 64, (3, 3), (1, 1), (0, 0)), nn.ReLU()),\r\n",
        "            nn.Sequential(nn.Conv2d(64, 64, (3, 3), (1, 1), (0, 0)), nn.ReLU()),\r\n",
        "            nn.Sequential(nn.Conv2d(64, 64, (3, 3), (1, 1), (0, 0)), nn.ReLU()),\r\n",
        "            nn.Sequential(nn.Conv2d(64, 64, (3, 3), (1, 1), (0, 0)), nn.ReLU()),\r\n",
        "            nn.Sequential(nn.Conv2d(64, 64, (3, 3), (1, 1), (0, 0)), nn.ReLU()),\r\n",
        "            nn.Sequential(nn.Conv2d(64, 64, (3, 3), (1, 1), (0, 0)), nn.ReLU()),\r\n",
        "            nn.Sequential(nn.Conv2d(64, 64, (3, 3), (1, 1), (0, 0)), nn.ReLU()),\r\n",
        "            nn.Sequential(nn.Conv2d(64, 64, (3, 3), (1, 1), (0, 0)), nn.ReLU()),\r\n",
        "            nn.Sequential(nn.Conv2d(64, 64, (3, 3), (1, 1), (0, 0)), nn.ReLU()),\r\n",
        "            nn.Sequential(nn.Conv2d(64, 64, (3, 3), (1, 1), (0, 0)), nn.ReLU()),\r\n",
        "            nn.Sequential(nn.Conv2d(64, 64, (3, 3), (1, 1), (0, 0)), nn.ReLU()),\r\n",
        "            nn.Sequential(nn.Conv2d(64, 64, (3, 3), (1, 1), (0, 0)), nn.ReLU())\r\n",
        "        ])\r\n",
        "        self.toRGB = nn.Sequential(nn.Conv2d(64, 1, (3, 3), (1, 1), (0, 0)), nn.Sigmoid())\r\n",
        "    \r\n",
        "    def forward(self, x):\r\n",
        "        x = self.fromRGB(x)\r\n",
        "        v, h = self.causal_conv(x, x)\r\n",
        "        x = torch.cat([v, h], dim=1)\r\n",
        "        for block in self.net:\r\n",
        "            x = x + block(F.pad(x, (2, 0, 2, 0)))\r\n",
        "        return self.toRGB(F.pad(x, (2, 0, 2, 0)))"
      ],
      "execution_count": 60,
      "outputs": []
    },
    {
      "cell_type": "code",
      "metadata": {
        "id": "UGfh7eSI7x1f"
      },
      "source": [
        "mbsz = 32\r\n",
        "model = pixelcnn_plusplus().to(device)\r\n",
        "solver = optim.Adam(model.parameters(), lr=1e-4)\r\n",
        "loader = DataLoader(dataset=dataset, batch_size=mbsz, shuffle=True, drop_last=True)"
      ],
      "execution_count": 61,
      "outputs": []
    },
    {
      "cell_type": "code",
      "metadata": {
        "colab": {
          "base_uri": "https://localhost:8080/"
        },
        "id": "MyKTzVJAIdlo",
        "outputId": "d25fc9bb-2861-4324-cced-ca25dceb07e4"
      },
      "source": [
        "num_epochs = 15\r\n",
        "NLL = []\r\n",
        "for epoch in range(num_epochs):\r\n",
        "    NLL.append(0.0)\r\n",
        "    for x_q in loader:\r\n",
        "        solver.zero_grad()\r\n",
        "        x_q = x_q.to(device).float()\r\n",
        "        x_p = model(x_q)\r\n",
        "        loss = F.binary_cross_entropy(x_p, x_q, reduction='mean') * 784.\r\n",
        "        loss.backward()\r\n",
        "        solver.step()\r\n",
        "        NLL[-1] += loss.item()\r\n",
        "    NLL[-1] /= len(loader)\r\n",
        "    print(epoch, NLL[-1]/784.)"
      ],
      "execution_count": 62,
      "outputs": [
        {
          "output_type": "stream",
          "text": [
            "0 0.13198674091157458\n",
            "1 0.0968536008199056\n",
            "2 0.09365986329422515\n",
            "3 0.09093229317178532\n",
            "4 0.08852368762736418\n",
            "5 0.08693873708296795\n",
            "6 0.08606693597910356\n",
            "7 0.08539246538123307\n",
            "8 0.08482939125891445\n",
            "9 0.08429916218348912\n",
            "10 0.08388201155370596\n",
            "11 0.08354051073813924\n",
            "12 0.0831304266923139\n",
            "13 0.08281036760239373\n",
            "14 0.08248490400249456\n"
          ],
          "name": "stdout"
        }
      ]
    },
    {
      "cell_type": "code",
      "metadata": {
        "id": "ptAUlwZCLDnr"
      },
      "source": [
        "testdataset = datasets.MNIST(root='./mnist_data/', train=False, download=True).data.float() / 255.0\r\n",
        "testdataset = 1 * (testdataset > 0.5)"
      ],
      "execution_count": 8,
      "outputs": []
    },
    {
      "cell_type": "code",
      "metadata": {
        "colab": {
          "base_uri": "https://localhost:8080/",
          "height": 216
        },
        "id": "GdgXGPJ2Hx1q",
        "outputId": "77bbee11-492c-4749-82ac-80c811320f9c"
      },
      "source": [
        "num_image = 30\r\n",
        "\r\n",
        "fig = plt.figure(figsize=(20, 2))\r\n",
        "\r\n",
        "n = 0\r\n",
        "for i in range(num_image):\r\n",
        "    _fig = fig.add_subplot(2, num_image, n + 1, xticks=[], yticks=[])\r\n",
        "    _fig.imshow(testdataset[n])\r\n",
        "    n += 1\r\n",
        "fig.suptitle('test data', y=1.01, fontsize=15)\r\n",
        "plt.subplots_adjust(hspace=0, wspace=0)\r\n",
        "plt.show()\r\n",
        "fig = plt.figure(figsize=(20, 2))\r\n",
        "\r\n",
        "model.eval()\r\n",
        "n = 0\r\n",
        "for i in range(num_image):\r\n",
        "    x_q = testdataset[n].reshape(1, 1, 28, 28).float().to(device)\r\n",
        "    x_p = model(x_q)\r\n",
        "    x_p = 1 * (x_p > 0.5)\r\n",
        "    _fig = fig.add_subplot(2, num_image, n + 1, xticks=[], yticks=[])\r\n",
        "    _fig.imshow(x_p.cpu().data.numpy().reshape(28, 28))\r\n",
        "    n += 1\r\n",
        "model.train()\r\n",
        "fig.suptitle('output', y=1.01, fontsize=15)\r\n",
        "plt.subplots_adjust(hspace=0, wspace=0)\r\n",
        "plt.show()\r\n",
        "fig = plt.figure(figsize=(20, 2))\r\n",
        "\r\n",
        "model.eval()\r\n",
        "print('_')"
      ],
      "execution_count": 63,
      "outputs": [
        {
          "output_type": "display_data",
          "data": {
            "image/png": "[encoded data removed]",
            "text/plain": [
              "<Figure size 1440x144 with 30 Axes>"
            ]
          },
          "metadata": {
            "tags": []
          }
        },
        {
          "output_type": "display_data",
          "data": {
            "image/png": "[encoded data removed]",
            "text/plain": [
              "<Figure size 1440x144 with 30 Axes>"
            ]
          },
          "metadata": {
            "tags": []
          }
        },
        {
          "output_type": "stream",
          "text": [
            "_\n"
          ],
          "name": "stdout"
        },
        {
          "output_type": "display_data",
          "data": {
            "text/plain": [
              "<Figure size 1440x144 with 0 Axes>"
            ]
          },
          "metadata": {
            "tags": []
          }
        }
      ]
    },
    {
      "cell_type": "code",
      "metadata": {
        "colab": {
          "base_uri": "https://localhost:8080/",
          "height": 182
        },
        "id": "Xae8T17efQBZ",
        "outputId": "44577571-89a6-4481-d90f-3da758f1d05f"
      },
      "source": [
        "f = plt.figure(figsize=(4,2))\r\n",
        "ax = f.add_subplot(1,2,1)\r\n",
        "\r\n",
        "\r\n",
        "input = testdataset[45].reshape(1, 1, 28, 28).float()\r\n",
        "input[0, 0, 14:28, :] = 0.0\r\n",
        "ax.imshow(input.reshape(28, 28))\r\n",
        "ax.set_title('source')\r\n",
        "\r\n",
        "model.eval()\r\n",
        "x_q = input.to(device)\r\n",
        "with torch.no_grad():\r\n",
        "    for h in range(14, 28):\r\n",
        "        for w in range(28):\r\n",
        "            x_p = model(x_q)\r\n",
        "            # x_q[0][0][h][w] = 1.0 * (x_p[0][0][h][w] > 0.5) \r\n",
        "            x_q[0][0][h][w] = x_p[0][0][h][w] \r\n",
        "\r\n",
        "\r\n",
        "\r\n",
        "model.train()\r\n",
        "\r\n",
        "\r\n",
        "ax = f.add_subplot(1,2,2)\r\n",
        "ax.imshow(x_q.cpu().data.numpy().reshape(28, 28))\r\n",
        "ax.set_title('output')\r\n",
        "plt.show()\r\n",
        "\r\n",
        "\r\n",
        "print('_')"
      ],
      "execution_count": 64,
      "outputs": [
        {
          "output_type": "display_data",
          "data": {
            "image/png": "[encoded data removed]",
            "text/plain": [
              "<Figure size 288x144 with 2 Axes>"
            ]
          },
          "metadata": {
            "tags": [],
            "needs_background": "light"
          }
        },
        {
          "output_type": "stream",
          "text": [
            "_\n"
          ],
          "name": "stdout"
        }
      ]
    },
    {
      "cell_type": "code",
      "metadata": {
        "colab": {
          "base_uri": "https://localhost:8080/",
          "height": 182
        },
        "id": "85qIqFSlOwsy",
        "outputId": "22ac67c0-7dd0-4f29-f1f0-ccab5bc154a5"
      },
      "source": [
        "f = plt.figure(figsize=(4,2))\r\n",
        "ax = f.add_subplot(1,2,1)\r\n",
        "\r\n",
        "\r\n",
        "input = testdataset[45].reshape(1, 1, 28, 28).float()\r\n",
        "input[0, 0, 17:28, :] = 0.0\r\n",
        "ax.imshow(input.reshape(28, 28))\r\n",
        "ax.set_title('source')\r\n",
        "\r\n",
        "model.eval()\r\n",
        "x_q = input.to(device)\r\n",
        "with torch.no_grad():\r\n",
        "    for h in range(17, 28):\r\n",
        "        for w in range(28):\r\n",
        "            x_p = model(x_q)\r\n",
        "            x_q[0][0][h][w] = x_p[0][0][h][w]\r\n",
        "\r\n",
        "\r\n",
        "model.train()\r\n",
        "\r\n",
        "\r\n",
        "ax = f.add_subplot(1,2,2)\r\n",
        "ax.imshow(x_q.cpu().data.numpy().reshape(28, 28))\r\n",
        "ax.set_title('output')\r\n",
        "plt.show()\r\n",
        "\r\n",
        "\r\n",
        "print('_')"
      ],
      "execution_count": 65,
      "outputs": [
        {
          "output_type": "display_data",
          "data": {
            "image/png": "[encoded data removed]",
            "text/plain": [
              "<Figure size 288x144 with 2 Axes>"
            ]
          },
          "metadata": {
            "tags": [],
            "needs_background": "light"
          }
        },
        {
          "output_type": "stream",
          "text": [
            "_\n"
          ],
          "name": "stdout"
        }
      ]
    },
    {
      "cell_type": "code",
      "metadata": {
        "colab": {
          "base_uri": "https://localhost:8080/",
          "height": 182
        },
        "id": "5QTXfEiMg0SU",
        "outputId": "602c57c6-59e5-44d9-c733-17224cfe5ae7"
      },
      "source": [
        "f = plt.figure(figsize=(4,2))\r\n",
        "ax = f.add_subplot(1,2,1)\r\n",
        "\r\n",
        "\r\n",
        "input = testdataset[45].reshape(1, 1, 28, 28).float()\r\n",
        "input[0, 0, 20:28, :] = 0.0\r\n",
        "ax.imshow(input.reshape(28, 28))\r\n",
        "ax.set_title('source')\r\n",
        "\r\n",
        "model.eval()\r\n",
        "x_q = input.to(device)\r\n",
        "with torch.no_grad():\r\n",
        "    for h in range(20, 28):\r\n",
        "        for w in range(28):\r\n",
        "            x_p = model(x_q)\r\n",
        "            x_q[0][0][h][w] = x_p[0][0][h][w]\r\n",
        "\r\n",
        "\r\n",
        "model.train()\r\n",
        "\r\n",
        "\r\n",
        "ax = f.add_subplot(1,2,2)\r\n",
        "ax.imshow(x_q.cpu().data.numpy().reshape(28, 28))\r\n",
        "ax.set_title('output')\r\n",
        "plt.show()\r\n",
        "\r\n",
        "\r\n",
        "print('_')"
      ],
      "execution_count": 66,
      "outputs": [
        {
          "output_type": "display_data",
          "data": {
            "image/png": "[encoded data removed]",
            "text/plain": [
              "<Figure size 288x144 with 2 Axes>"
            ]
          },
          "metadata": {
            "tags": [],
            "needs_background": "light"
          }
        },
        {
          "output_type": "stream",
          "text": [
            "_\n"
          ],
          "name": "stdout"
        }
      ]
    }
  ]
}