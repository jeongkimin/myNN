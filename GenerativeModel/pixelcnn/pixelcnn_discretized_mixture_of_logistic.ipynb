{
  "nbformat": 4,
  "nbformat_minor": 0,
  "metadata": {
    "colab": {
      "name": "mol.ipynb",
      "provenance": []
    },
    "kernelspec": {
      "name": "python3",
      "display_name": "Python 3"
    },
    "accelerator": "GPU",
    "widgets": {
      "application/vnd.jupyter.widget-state+json": {
        "74fd58afbdab43ba932b430c107bca3b": {
          "model_module": "@jupyter-widgets/controls",
          "model_name": "HBoxModel",
          "state": {
            "_view_name": "HBoxView",
            "_dom_classes": [],
            "_model_name": "HBoxModel",
            "_view_module": "@jupyter-widgets/controls",
            "_model_module_version": "1.5.0",
            "_view_count": null,
            "_view_module_version": "1.5.0",
            "box_style": "",
            "layout": "IPY_MODEL_c9404aaaa7284a52975fc231a430972e",
            "_model_module": "@jupyter-widgets/controls",
            "children": [
              "IPY_MODEL_c6eeff358ddb4770838fef75a777ffae",
              "IPY_MODEL_724a4e960d934629b4ed1903c5b492f1"
            ]
          }
        },
        "c9404aaaa7284a52975fc231a430972e": {
          "model_module": "@jupyter-widgets/base",
          "model_name": "LayoutModel",
          "state": {
            "_view_name": "LayoutView",
            "grid_template_rows": null,
            "right": null,
            "justify_content": null,
            "_view_module": "@jupyter-widgets/base",
            "overflow": null,
            "_model_module_version": "1.2.0",
            "_view_count": null,
            "flex_flow": null,
            "width": null,
            "min_width": null,
            "border": null,
            "align_items": null,
            "bottom": null,
            "_model_module": "@jupyter-widgets/base",
            "top": null,
            "grid_column": null,
            "overflow_y": null,
            "overflow_x": null,
            "grid_auto_flow": null,
            "grid_area": null,
            "grid_template_columns": null,
            "flex": null,
            "_model_name": "LayoutModel",
            "justify_items": null,
            "grid_row": null,
            "max_height": null,
            "align_content": null,
            "visibility": null,
            "align_self": null,
            "height": null,
            "min_height": null,
            "padding": null,
            "grid_auto_rows": null,
            "grid_gap": null,
            "max_width": null,
            "order": null,
            "_view_module_version": "1.2.0",
            "grid_template_areas": null,
            "object_position": null,
            "object_fit": null,
            "grid_auto_columns": null,
            "margin": null,
            "display": null,
            "left": null
          }
        },
        "c6eeff358ddb4770838fef75a777ffae": {
          "model_module": "@jupyter-widgets/controls",
          "model_name": "FloatProgressModel",
          "state": {
            "_view_name": "ProgressView",
            "style": "IPY_MODEL_e320a02e427d4d60938722d3f7088c67",
            "_dom_classes": [],
            "description": "",
            "_model_name": "FloatProgressModel",
            "bar_style": "success",
            "max": 1,
            "_view_module": "@jupyter-widgets/controls",
            "_model_module_version": "1.5.0",
            "value": 1,
            "_view_count": null,
            "_view_module_version": "1.5.0",
            "orientation": "horizontal",
            "min": 0,
            "description_tooltip": null,
            "_model_module": "@jupyter-widgets/controls",
            "layout": "IPY_MODEL_b9516a91f67c4439a0faabbaa92853c3"
          }
        },
        "724a4e960d934629b4ed1903c5b492f1": {
          "model_module": "@jupyter-widgets/controls",
          "model_name": "HTMLModel",
          "state": {
            "_view_name": "HTMLView",
            "style": "IPY_MODEL_2deef62f8a414cbb84d4c18efff2f963",
            "_dom_classes": [],
            "description": "",
            "_model_name": "HTMLModel",
            "placeholder": "​",
            "_view_module": "@jupyter-widgets/controls",
            "_model_module_version": "1.5.0",
            "value": " 9920512/? [00:01&lt;00:00, 6090977.70it/s]",
            "_view_count": null,
            "_view_module_version": "1.5.0",
            "description_tooltip": null,
            "_model_module": "@jupyter-widgets/controls",
            "layout": "IPY_MODEL_403fc092beca415da656302b21492aaf"
          }
        },
        "e320a02e427d4d60938722d3f7088c67": {
          "model_module": "@jupyter-widgets/controls",
          "model_name": "ProgressStyleModel",
          "state": {
            "_view_name": "StyleView",
            "_model_name": "ProgressStyleModel",
            "description_width": "initial",
            "_view_module": "@jupyter-widgets/base",
            "_model_module_version": "1.5.0",
            "_view_count": null,
            "_view_module_version": "1.2.0",
            "bar_color": null,
            "_model_module": "@jupyter-widgets/controls"
          }
        },
        "b9516a91f67c4439a0faabbaa92853c3": {
          "model_module": "@jupyter-widgets/base",
          "model_name": "LayoutModel",
          "state": {
            "_view_name": "LayoutView",
            "grid_template_rows": null,
            "right": null,
            "justify_content": null,
            "_view_module": "@jupyter-widgets/base",
            "overflow": null,
            "_model_module_version": "1.2.0",
            "_view_count": null,
            "flex_flow": null,
            "width": null,
            "min_width": null,
            "border": null,
            "align_items": null,
            "bottom": null,
            "_model_module": "@jupyter-widgets/base",
            "top": null,
            "grid_column": null,
            "overflow_y": null,
            "overflow_x": null,
            "grid_auto_flow": null,
            "grid_area": null,
            "grid_template_columns": null,
            "flex": null,
            "_model_name": "LayoutModel",
            "justify_items": null,
            "grid_row": null,
            "max_height": null,
            "align_content": null,
            "visibility": null,
            "align_self": null,
            "height": null,
            "min_height": null,
            "padding": null,
            "grid_auto_rows": null,
            "grid_gap": null,
            "max_width": null,
            "order": null,
            "_view_module_version": "1.2.0",
            "grid_template_areas": null,
            "object_position": null,
            "object_fit": null,
            "grid_auto_columns": null,
            "margin": null,
            "display": null,
            "left": null
          }
        },
        "2deef62f8a414cbb84d4c18efff2f963": {
          "model_module": "@jupyter-widgets/controls",
          "model_name": "DescriptionStyleModel",
          "state": {
            "_view_name": "StyleView",
            "_model_name": "DescriptionStyleModel",
            "description_width": "",
            "_view_module": "@jupyter-widgets/base",
            "_model_module_version": "1.5.0",
            "_view_count": null,
            "_view_module_version": "1.2.0",
            "_model_module": "@jupyter-widgets/controls"
          }
        },
        "403fc092beca415da656302b21492aaf": {
          "model_module": "@jupyter-widgets/base",
          "model_name": "LayoutModel",
          "state": {
            "_view_name": "LayoutView",
            "grid_template_rows": null,
            "right": null,
            "justify_content": null,
            "_view_module": "@jupyter-widgets/base",
            "overflow": null,
            "_model_module_version": "1.2.0",
            "_view_count": null,
            "flex_flow": null,
            "width": null,
            "min_width": null,
            "border": null,
            "align_items": null,
            "bottom": null,
            "_model_module": "@jupyter-widgets/base",
            "top": null,
            "grid_column": null,
            "overflow_y": null,
            "overflow_x": null,
            "grid_auto_flow": null,
            "grid_area": null,
            "grid_template_columns": null,
            "flex": null,
            "_model_name": "LayoutModel",
            "justify_items": null,
            "grid_row": null,
            "max_height": null,
            "align_content": null,
            "visibility": null,
            "align_self": null,
            "height": null,
            "min_height": null,
            "padding": null,
            "grid_auto_rows": null,
            "grid_gap": null,
            "max_width": null,
            "order": null,
            "_view_module_version": "1.2.0",
            "grid_template_areas": null,
            "object_position": null,
            "object_fit": null,
            "grid_auto_columns": null,
            "margin": null,
            "display": null,
            "left": null
          }
        },
        "63daf5dae58343458f450d686a52c21b": {
          "model_module": "@jupyter-widgets/controls",
          "model_name": "HBoxModel",
          "state": {
            "_view_name": "HBoxView",
            "_dom_classes": [],
            "_model_name": "HBoxModel",
            "_view_module": "@jupyter-widgets/controls",
            "_model_module_version": "1.5.0",
            "_view_count": null,
            "_view_module_version": "1.5.0",
            "box_style": "",
            "layout": "IPY_MODEL_7ce7ac147b4042ac8fc895f738fa8855",
            "_model_module": "@jupyter-widgets/controls",
            "children": [
              "IPY_MODEL_5438d4a5c3ed45df9ccb0da7a4817dce",
              "IPY_MODEL_fdaf85f79fbf49a09f570e47a984ecbd"
            ]
          }
        },
        "7ce7ac147b4042ac8fc895f738fa8855": {
          "model_module": "@jupyter-widgets/base",
          "model_name": "LayoutModel",
          "state": {
            "_view_name": "LayoutView",
            "grid_template_rows": null,
            "right": null,
            "justify_content": null,
            "_view_module": "@jupyter-widgets/base",
            "overflow": null,
            "_model_module_version": "1.2.0",
            "_view_count": null,
            "flex_flow": null,
            "width": null,
            "min_width": null,
            "border": null,
            "align_items": null,
            "bottom": null,
            "_model_module": "@jupyter-widgets/base",
            "top": null,
            "grid_column": null,
            "overflow_y": null,
            "overflow_x": null,
            "grid_auto_flow": null,
            "grid_area": null,
            "grid_template_columns": null,
            "flex": null,
            "_model_name": "LayoutModel",
            "justify_items": null,
            "grid_row": null,
            "max_height": null,
            "align_content": null,
            "visibility": null,
            "align_self": null,
            "height": null,
            "min_height": null,
            "padding": null,
            "grid_auto_rows": null,
            "grid_gap": null,
            "max_width": null,
            "order": null,
            "_view_module_version": "1.2.0",
            "grid_template_areas": null,
            "object_position": null,
            "object_fit": null,
            "grid_auto_columns": null,
            "margin": null,
            "display": null,
            "left": null
          }
        },
        "5438d4a5c3ed45df9ccb0da7a4817dce": {
          "model_module": "@jupyter-widgets/controls",
          "model_name": "FloatProgressModel",
          "state": {
            "_view_name": "ProgressView",
            "style": "IPY_MODEL_32a43a51aa8544d9a4f71ff627613bdf",
            "_dom_classes": [],
            "description": "",
            "_model_name": "FloatProgressModel",
            "bar_style": "success",
            "max": 1,
            "_view_module": "@jupyter-widgets/controls",
            "_model_module_version": "1.5.0",
            "value": 1,
            "_view_count": null,
            "_view_module_version": "1.5.0",
            "orientation": "horizontal",
            "min": 0,
            "description_tooltip": null,
            "_model_module": "@jupyter-widgets/controls",
            "layout": "IPY_MODEL_75c269062cc04e59836878b3c92f51a9"
          }
        },
        "fdaf85f79fbf49a09f570e47a984ecbd": {
          "model_module": "@jupyter-widgets/controls",
          "model_name": "HTMLModel",
          "state": {
            "_view_name": "HTMLView",
            "style": "IPY_MODEL_b232aad0a9694cdf88e10e9ecd5a0ca4",
            "_dom_classes": [],
            "description": "",
            "_model_name": "HTMLModel",
            "placeholder": "​",
            "_view_module": "@jupyter-widgets/controls",
            "_model_module_version": "1.5.0",
            "value": " 32768/? [00:00&lt;00:00, 34496.84it/s]",
            "_view_count": null,
            "_view_module_version": "1.5.0",
            "description_tooltip": null,
            "_model_module": "@jupyter-widgets/controls",
            "layout": "IPY_MODEL_eb2fe4d4e5634bfcb3c2fd76094b104e"
          }
        },
        "32a43a51aa8544d9a4f71ff627613bdf": {
          "model_module": "@jupyter-widgets/controls",
          "model_name": "ProgressStyleModel",
          "state": {
            "_view_name": "StyleView",
            "_model_name": "ProgressStyleModel",
            "description_width": "initial",
            "_view_module": "@jupyter-widgets/base",
            "_model_module_version": "1.5.0",
            "_view_count": null,
            "_view_module_version": "1.2.0",
            "bar_color": null,
            "_model_module": "@jupyter-widgets/controls"
          }
        },
        "75c269062cc04e59836878b3c92f51a9": {
          "model_module": "@jupyter-widgets/base",
          "model_name": "LayoutModel",
          "state": {
            "_view_name": "LayoutView",
            "grid_template_rows": null,
            "right": null,
            "justify_content": null,
            "_view_module": "@jupyter-widgets/base",
            "overflow": null,
            "_model_module_version": "1.2.0",
            "_view_count": null,
            "flex_flow": null,
            "width": null,
            "min_width": null,
            "border": null,
            "align_items": null,
            "bottom": null,
            "_model_module": "@jupyter-widgets/base",
            "top": null,
            "grid_column": null,
            "overflow_y": null,
            "overflow_x": null,
            "grid_auto_flow": null,
            "grid_area": null,
            "grid_template_columns": null,
            "flex": null,
            "_model_name": "LayoutModel",
            "justify_items": null,
            "grid_row": null,
            "max_height": null,
            "align_content": null,
            "visibility": null,
            "align_self": null,
            "height": null,
            "min_height": null,
            "padding": null,
            "grid_auto_rows": null,
            "grid_gap": null,
            "max_width": null,
            "order": null,
            "_view_module_version": "1.2.0",
            "grid_template_areas": null,
            "object_position": null,
            "object_fit": null,
            "grid_auto_columns": null,
            "margin": null,
            "display": null,
            "left": null
          }
        },
        "b232aad0a9694cdf88e10e9ecd5a0ca4": {
          "model_module": "@jupyter-widgets/controls",
          "model_name": "DescriptionStyleModel",
          "state": {
            "_view_name": "StyleView",
            "_model_name": "DescriptionStyleModel",
            "description_width": "",
            "_view_module": "@jupyter-widgets/base",
            "_model_module_version": "1.5.0",
            "_view_count": null,
            "_view_module_version": "1.2.0",
            "_model_module": "@jupyter-widgets/controls"
          }
        },
        "eb2fe4d4e5634bfcb3c2fd76094b104e": {
          "model_module": "@jupyter-widgets/base",
          "model_name": "LayoutModel",
          "state": {
            "_view_name": "LayoutView",
            "grid_template_rows": null,
            "right": null,
            "justify_content": null,
            "_view_module": "@jupyter-widgets/base",
            "overflow": null,
            "_model_module_version": "1.2.0",
            "_view_count": null,
            "flex_flow": null,
            "width": null,
            "min_width": null,
            "border": null,
            "align_items": null,
            "bottom": null,
            "_model_module": "@jupyter-widgets/base",
            "top": null,
            "grid_column": null,
            "overflow_y": null,
            "overflow_x": null,
            "grid_auto_flow": null,
            "grid_area": null,
            "grid_template_columns": null,
            "flex": null,
            "_model_name": "LayoutModel",
            "justify_items": null,
            "grid_row": null,
            "max_height": null,
            "align_content": null,
            "visibility": null,
            "align_self": null,
            "height": null,
            "min_height": null,
            "padding": null,
            "grid_auto_rows": null,
            "grid_gap": null,
            "max_width": null,
            "order": null,
            "_view_module_version": "1.2.0",
            "grid_template_areas": null,
            "object_position": null,
            "object_fit": null,
            "grid_auto_columns": null,
            "margin": null,
            "display": null,
            "left": null
          }
        },
        "d5738f66f0f64fe0a71f52cc18fbee52": {
          "model_module": "@jupyter-widgets/controls",
          "model_name": "HBoxModel",
          "state": {
            "_view_name": "HBoxView",
            "_dom_classes": [],
            "_model_name": "HBoxModel",
            "_view_module": "@jupyter-widgets/controls",
            "_model_module_version": "1.5.0",
            "_view_count": null,
            "_view_module_version": "1.5.0",
            "box_style": "",
            "layout": "IPY_MODEL_02d67e7815194c799256a57e1b1f81bb",
            "_model_module": "@jupyter-widgets/controls",
            "children": [
              "IPY_MODEL_df9a6ef38615444a9067925bbd4f5269",
              "IPY_MODEL_ab70a08b21634d63b196a6744c248a29"
            ]
          }
        },
        "02d67e7815194c799256a57e1b1f81bb": {
          "model_module": "@jupyter-widgets/base",
          "model_name": "LayoutModel",
          "state": {
            "_view_name": "LayoutView",
            "grid_template_rows": null,
            "right": null,
            "justify_content": null,
            "_view_module": "@jupyter-widgets/base",
            "overflow": null,
            "_model_module_version": "1.2.0",
            "_view_count": null,
            "flex_flow": null,
            "width": null,
            "min_width": null,
            "border": null,
            "align_items": null,
            "bottom": null,
            "_model_module": "@jupyter-widgets/base",
            "top": null,
            "grid_column": null,
            "overflow_y": null,
            "overflow_x": null,
            "grid_auto_flow": null,
            "grid_area": null,
            "grid_template_columns": null,
            "flex": null,
            "_model_name": "LayoutModel",
            "justify_items": null,
            "grid_row": null,
            "max_height": null,
            "align_content": null,
            "visibility": null,
            "align_self": null,
            "height": null,
            "min_height": null,
            "padding": null,
            "grid_auto_rows": null,
            "grid_gap": null,
            "max_width": null,
            "order": null,
            "_view_module_version": "1.2.0",
            "grid_template_areas": null,
            "object_position": null,
            "object_fit": null,
            "grid_auto_columns": null,
            "margin": null,
            "display": null,
            "left": null
          }
        },
        "df9a6ef38615444a9067925bbd4f5269": {
          "model_module": "@jupyter-widgets/controls",
          "model_name": "FloatProgressModel",
          "state": {
            "_view_name": "ProgressView",
            "style": "IPY_MODEL_ab519f604e784c89b8891c2cd59294c0",
            "_dom_classes": [],
            "description": "",
            "_model_name": "FloatProgressModel",
            "bar_style": "success",
            "max": 1,
            "_view_module": "@jupyter-widgets/controls",
            "_model_module_version": "1.5.0",
            "value": 1,
            "_view_count": null,
            "_view_module_version": "1.5.0",
            "orientation": "horizontal",
            "min": 0,
            "description_tooltip": null,
            "_model_module": "@jupyter-widgets/controls",
            "layout": "IPY_MODEL_80e2a238eff543cb885ea0bf33c9404f"
          }
        },
        "ab70a08b21634d63b196a6744c248a29": {
          "model_module": "@jupyter-widgets/controls",
          "model_name": "HTMLModel",
          "state": {
            "_view_name": "HTMLView",
            "style": "IPY_MODEL_d14ece1d2fb04e158c31d026c3159be7",
            "_dom_classes": [],
            "description": "",
            "_model_name": "HTMLModel",
            "placeholder": "​",
            "_view_module": "@jupyter-widgets/controls",
            "_model_module_version": "1.5.0",
            "value": " 1654784/? [00:00&lt;00:00, 1902375.10it/s]",
            "_view_count": null,
            "_view_module_version": "1.5.0",
            "description_tooltip": null,
            "_model_module": "@jupyter-widgets/controls",
            "layout": "IPY_MODEL_c9fc6164277f42eea1d651bce09ccd8c"
          }
        },
        "ab519f604e784c89b8891c2cd59294c0": {
          "model_module": "@jupyter-widgets/controls",
          "model_name": "ProgressStyleModel",
          "state": {
            "_view_name": "StyleView",
            "_model_name": "ProgressStyleModel",
            "description_width": "initial",
            "_view_module": "@jupyter-widgets/base",
            "_model_module_version": "1.5.0",
            "_view_count": null,
            "_view_module_version": "1.2.0",
            "bar_color": null,
            "_model_module": "@jupyter-widgets/controls"
          }
        },
        "80e2a238eff543cb885ea0bf33c9404f": {
          "model_module": "@jupyter-widgets/base",
          "model_name": "LayoutModel",
          "state": {
            "_view_name": "LayoutView",
            "grid_template_rows": null,
            "right": null,
            "justify_content": null,
            "_view_module": "@jupyter-widgets/base",
            "overflow": null,
            "_model_module_version": "1.2.0",
            "_view_count": null,
            "flex_flow": null,
            "width": null,
            "min_width": null,
            "border": null,
            "align_items": null,
            "bottom": null,
            "_model_module": "@jupyter-widgets/base",
            "top": null,
            "grid_column": null,
            "overflow_y": null,
            "overflow_x": null,
            "grid_auto_flow": null,
            "grid_area": null,
            "grid_template_columns": null,
            "flex": null,
            "_model_name": "LayoutModel",
            "justify_items": null,
            "grid_row": null,
            "max_height": null,
            "align_content": null,
            "visibility": null,
            "align_self": null,
            "height": null,
            "min_height": null,
            "padding": null,
            "grid_auto_rows": null,
            "grid_gap": null,
            "max_width": null,
            "order": null,
            "_view_module_version": "1.2.0",
            "grid_template_areas": null,
            "object_position": null,
            "object_fit": null,
            "grid_auto_columns": null,
            "margin": null,
            "display": null,
            "left": null
          }
        },
        "d14ece1d2fb04e158c31d026c3159be7": {
          "model_module": "@jupyter-widgets/controls",
          "model_name": "DescriptionStyleModel",
          "state": {
            "_view_name": "StyleView",
            "_model_name": "DescriptionStyleModel",
            "description_width": "",
            "_view_module": "@jupyter-widgets/base",
            "_model_module_version": "1.5.0",
            "_view_count": null,
            "_view_module_version": "1.2.0",
            "_model_module": "@jupyter-widgets/controls"
          }
        },
        "c9fc6164277f42eea1d651bce09ccd8c": {
          "model_module": "@jupyter-widgets/base",
          "model_name": "LayoutModel",
          "state": {
            "_view_name": "LayoutView",
            "grid_template_rows": null,
            "right": null,
            "justify_content": null,
            "_view_module": "@jupyter-widgets/base",
            "overflow": null,
            "_model_module_version": "1.2.0",
            "_view_count": null,
            "flex_flow": null,
            "width": null,
            "min_width": null,
            "border": null,
            "align_items": null,
            "bottom": null,
            "_model_module": "@jupyter-widgets/base",
            "top": null,
            "grid_column": null,
            "overflow_y": null,
            "overflow_x": null,
            "grid_auto_flow": null,
            "grid_area": null,
            "grid_template_columns": null,
            "flex": null,
            "_model_name": "LayoutModel",
            "justify_items": null,
            "grid_row": null,
            "max_height": null,
            "align_content": null,
            "visibility": null,
            "align_self": null,
            "height": null,
            "min_height": null,
            "padding": null,
            "grid_auto_rows": null,
            "grid_gap": null,
            "max_width": null,
            "order": null,
            "_view_module_version": "1.2.0",
            "grid_template_areas": null,
            "object_position": null,
            "object_fit": null,
            "grid_auto_columns": null,
            "margin": null,
            "display": null,
            "left": null
          }
        },
        "98fb8335109b4d9d82e4f60de2fd55ad": {
          "model_module": "@jupyter-widgets/controls",
          "model_name": "HBoxModel",
          "state": {
            "_view_name": "HBoxView",
            "_dom_classes": [],
            "_model_name": "HBoxModel",
            "_view_module": "@jupyter-widgets/controls",
            "_model_module_version": "1.5.0",
            "_view_count": null,
            "_view_module_version": "1.5.0",
            "box_style": "",
            "layout": "IPY_MODEL_94f3161bc2044af6a723842299602e8b",
            "_model_module": "@jupyter-widgets/controls",
            "children": [
              "IPY_MODEL_745bd27cefd74fdf95301e0f74b557d7",
              "IPY_MODEL_17cc371eba0e4fe1850cf270777f21d2"
            ]
          }
        },
        "94f3161bc2044af6a723842299602e8b": {
          "model_module": "@jupyter-widgets/base",
          "model_name": "LayoutModel",
          "state": {
            "_view_name": "LayoutView",
            "grid_template_rows": null,
            "right": null,
            "justify_content": null,
            "_view_module": "@jupyter-widgets/base",
            "overflow": null,
            "_model_module_version": "1.2.0",
            "_view_count": null,
            "flex_flow": null,
            "width": null,
            "min_width": null,
            "border": null,
            "align_items": null,
            "bottom": null,
            "_model_module": "@jupyter-widgets/base",
            "top": null,
            "grid_column": null,
            "overflow_y": null,
            "overflow_x": null,
            "grid_auto_flow": null,
            "grid_area": null,
            "grid_template_columns": null,
            "flex": null,
            "_model_name": "LayoutModel",
            "justify_items": null,
            "grid_row": null,
            "max_height": null,
            "align_content": null,
            "visibility": null,
            "align_self": null,
            "height": null,
            "min_height": null,
            "padding": null,
            "grid_auto_rows": null,
            "grid_gap": null,
            "max_width": null,
            "order": null,
            "_view_module_version": "1.2.0",
            "grid_template_areas": null,
            "object_position": null,
            "object_fit": null,
            "grid_auto_columns": null,
            "margin": null,
            "display": null,
            "left": null
          }
        },
        "745bd27cefd74fdf95301e0f74b557d7": {
          "model_module": "@jupyter-widgets/controls",
          "model_name": "FloatProgressModel",
          "state": {
            "_view_name": "ProgressView",
            "style": "IPY_MODEL_b3d6ed17152f48978950a9cf9a1f3ad6",
            "_dom_classes": [],
            "description": "",
            "_model_name": "FloatProgressModel",
            "bar_style": "success",
            "max": 1,
            "_view_module": "@jupyter-widgets/controls",
            "_model_module_version": "1.5.0",
            "value": 1,
            "_view_count": null,
            "_view_module_version": "1.5.0",
            "orientation": "horizontal",
            "min": 0,
            "description_tooltip": null,
            "_model_module": "@jupyter-widgets/controls",
            "layout": "IPY_MODEL_34173f886be844ddb7f413828a403285"
          }
        },
        "17cc371eba0e4fe1850cf270777f21d2": {
          "model_module": "@jupyter-widgets/controls",
          "model_name": "HTMLModel",
          "state": {
            "_view_name": "HTMLView",
            "style": "IPY_MODEL_bb7a2730f1d64c36ba4101d407d6b043",
            "_dom_classes": [],
            "description": "",
            "_model_name": "HTMLModel",
            "placeholder": "​",
            "_view_module": "@jupyter-widgets/controls",
            "_model_module_version": "1.5.0",
            "value": " 8192/? [00:00&lt;00:00, 12803.97it/s]",
            "_view_count": null,
            "_view_module_version": "1.5.0",
            "description_tooltip": null,
            "_model_module": "@jupyter-widgets/controls",
            "layout": "IPY_MODEL_e2c2b67835f944d1943d0b4529cd00a5"
          }
        },
        "b3d6ed17152f48978950a9cf9a1f3ad6": {
          "model_module": "@jupyter-widgets/controls",
          "model_name": "ProgressStyleModel",
          "state": {
            "_view_name": "StyleView",
            "_model_name": "ProgressStyleModel",
            "description_width": "initial",
            "_view_module": "@jupyter-widgets/base",
            "_model_module_version": "1.5.0",
            "_view_count": null,
            "_view_module_version": "1.2.0",
            "bar_color": null,
            "_model_module": "@jupyter-widgets/controls"
          }
        },
        "34173f886be844ddb7f413828a403285": {
          "model_module": "@jupyter-widgets/base",
          "model_name": "LayoutModel",
          "state": {
            "_view_name": "LayoutView",
            "grid_template_rows": null,
            "right": null,
            "justify_content": null,
            "_view_module": "@jupyter-widgets/base",
            "overflow": null,
            "_model_module_version": "1.2.0",
            "_view_count": null,
            "flex_flow": null,
            "width": null,
            "min_width": null,
            "border": null,
            "align_items": null,
            "bottom": null,
            "_model_module": "@jupyter-widgets/base",
            "top": null,
            "grid_column": null,
            "overflow_y": null,
            "overflow_x": null,
            "grid_auto_flow": null,
            "grid_area": null,
            "grid_template_columns": null,
            "flex": null,
            "_model_name": "LayoutModel",
            "justify_items": null,
            "grid_row": null,
            "max_height": null,
            "align_content": null,
            "visibility": null,
            "align_self": null,
            "height": null,
            "min_height": null,
            "padding": null,
            "grid_auto_rows": null,
            "grid_gap": null,
            "max_width": null,
            "order": null,
            "_view_module_version": "1.2.0",
            "grid_template_areas": null,
            "object_position": null,
            "object_fit": null,
            "grid_auto_columns": null,
            "margin": null,
            "display": null,
            "left": null
          }
        },
        "bb7a2730f1d64c36ba4101d407d6b043": {
          "model_module": "@jupyter-widgets/controls",
          "model_name": "DescriptionStyleModel",
          "state": {
            "_view_name": "StyleView",
            "_model_name": "DescriptionStyleModel",
            "description_width": "",
            "_view_module": "@jupyter-widgets/base",
            "_model_module_version": "1.5.0",
            "_view_count": null,
            "_view_module_version": "1.2.0",
            "_model_module": "@jupyter-widgets/controls"
          }
        },
        "e2c2b67835f944d1943d0b4529cd00a5": {
          "model_module": "@jupyter-widgets/base",
          "model_name": "LayoutModel",
          "state": {
            "_view_name": "LayoutView",
            "grid_template_rows": null,
            "right": null,
            "justify_content": null,
            "_view_module": "@jupyter-widgets/base",
            "overflow": null,
            "_model_module_version": "1.2.0",
            "_view_count": null,
            "flex_flow": null,
            "width": null,
            "min_width": null,
            "border": null,
            "align_items": null,
            "bottom": null,
            "_model_module": "@jupyter-widgets/base",
            "top": null,
            "grid_column": null,
            "overflow_y": null,
            "overflow_x": null,
            "grid_auto_flow": null,
            "grid_area": null,
            "grid_template_columns": null,
            "flex": null,
            "_model_name": "LayoutModel",
            "justify_items": null,
            "grid_row": null,
            "max_height": null,
            "align_content": null,
            "visibility": null,
            "align_self": null,
            "height": null,
            "min_height": null,
            "padding": null,
            "grid_auto_rows": null,
            "grid_gap": null,
            "max_width": null,
            "order": null,
            "_view_module_version": "1.2.0",
            "grid_template_areas": null,
            "object_position": null,
            "object_fit": null,
            "grid_auto_columns": null,
            "margin": null,
            "display": null,
            "left": null
          }
        }
      }
    }
  },
  "cells": [
    {
      "cell_type": "code",
      "metadata": {
        "colab": {
          "base_uri": "https://localhost:8080/",
          "height": 838,
          "referenced_widgets": [
            "74fd58afbdab43ba932b430c107bca3b",
            "c9404aaaa7284a52975fc231a430972e",
            "c6eeff358ddb4770838fef75a777ffae",
            "724a4e960d934629b4ed1903c5b492f1",
            "e320a02e427d4d60938722d3f7088c67",
            "b9516a91f67c4439a0faabbaa92853c3",
            "2deef62f8a414cbb84d4c18efff2f963",
            "403fc092beca415da656302b21492aaf",
            "63daf5dae58343458f450d686a52c21b",
            "7ce7ac147b4042ac8fc895f738fa8855",
            "5438d4a5c3ed45df9ccb0da7a4817dce",
            "fdaf85f79fbf49a09f570e47a984ecbd",
            "32a43a51aa8544d9a4f71ff627613bdf",
            "75c269062cc04e59836878b3c92f51a9",
            "b232aad0a9694cdf88e10e9ecd5a0ca4",
            "eb2fe4d4e5634bfcb3c2fd76094b104e",
            "d5738f66f0f64fe0a71f52cc18fbee52",
            "02d67e7815194c799256a57e1b1f81bb",
            "df9a6ef38615444a9067925bbd4f5269",
            "ab70a08b21634d63b196a6744c248a29",
            "ab519f604e784c89b8891c2cd59294c0",
            "80e2a238eff543cb885ea0bf33c9404f",
            "d14ece1d2fb04e158c31d026c3159be7",
            "c9fc6164277f42eea1d651bce09ccd8c",
            "98fb8335109b4d9d82e4f60de2fd55ad",
            "94f3161bc2044af6a723842299602e8b",
            "745bd27cefd74fdf95301e0f74b557d7",
            "17cc371eba0e4fe1850cf270777f21d2",
            "b3d6ed17152f48978950a9cf9a1f3ad6",
            "34173f886be844ddb7f413828a403285",
            "bb7a2730f1d64c36ba4101d407d6b043",
            "e2c2b67835f944d1943d0b4529cd00a5"
          ]
        },
        "id": "pol1_SzKO8Pl",
        "outputId": "0c71a344-1107-48d5-9cdd-9c26c37a740a"
      },
      "source": [
        "import torch\r\n",
        "import torch.nn as nn\r\n",
        "import torch.nn.functional as F\r\n",
        "import torch.optim as optim\r\n",
        "import torch.nn.init as init\r\n",
        "from torchvision import datasets, transforms\r\n",
        "import numpy as np\r\n",
        "import matplotlib.pyplot as plt\r\n",
        "from torchvision import datasets, transforms\r\n",
        "from torch.utils.data import DataLoader\r\n",
        "\r\n",
        "class MnistDataSet(torch.utils.data.Dataset):\r\n",
        "    def __init__(self):\r\n",
        "        mnist_train = datasets.MNIST(root='./mnist_data/', train=True, download=True)\r\n",
        "        self.data = mnist_train.data.reshape(-1, 1, 28, 28).float() / 255.0\r\n",
        "\r\n",
        "    def __len__(self):\r\n",
        "        return len(self.data)\r\n",
        "    \r\n",
        "    def __getitem__(self, idx):\r\n",
        "        return self.data[idx]\r\n",
        "\r\n",
        "dataset = MnistDataSet()\r\n",
        "\r\n",
        "device = 'cuda' if torch.cuda.is_available() else 'cpu'\r\n",
        "if device == 'cuda':\r\n",
        "    gpu_info = !nvidia-smi\r\n",
        "    gpu_info = '\\n'.join(gpu_info)\r\n",
        "    if gpu_info.find('failed') >= 0:\r\n",
        "        print('Select the Runtime > \"Change runtime type\" menu to enable a GPU accelerator, ')\r\n",
        "        print('and then re-execute this cell.')\r\n",
        "    else:\r\n",
        "        print(gpu_info)\r\n",
        "print('device :',device)\r\n",
        "print('torch.version :',torch.__version__)"
      ],
      "execution_count": 1,
      "outputs": [
        {
          "output_type": "stream",
          "text": [
            "Downloading http://yann.lecun.com/exdb/mnist/train-images-idx3-ubyte.gz to ./mnist_data/MNIST/raw/train-images-idx3-ubyte.gz\n"
          ],
          "name": "stdout"
        },
        {
          "output_type": "display_data",
          "data": {
            "application/vnd.jupyter.widget-view+json": {
              "model_id": "74fd58afbdab43ba932b430c107bca3b",
              "version_minor": 0,
              "version_major": 2
            },
            "text/plain": [
              "HBox(children=(FloatProgress(value=1.0, bar_style='info', max=1.0), HTML(value='')))"
            ]
          },
          "metadata": {
            "tags": []
          }
        },
        {
          "output_type": "stream",
          "text": [
            "Extracting ./mnist_data/MNIST/raw/train-images-idx3-ubyte.gz to ./mnist_data/MNIST/raw\n",
            "Downloading http://yann.lecun.com/exdb/mnist/train-labels-idx1-ubyte.gz to ./mnist_data/MNIST/raw/train-labels-idx1-ubyte.gz\n"
          ],
          "name": "stdout"
        },
        {
          "output_type": "display_data",
          "data": {
            "application/vnd.jupyter.widget-view+json": {
              "model_id": "63daf5dae58343458f450d686a52c21b",
              "version_minor": 0,
              "version_major": 2
            },
            "text/plain": [
              "HBox(children=(FloatProgress(value=1.0, bar_style='info', max=1.0), HTML(value='')))"
            ]
          },
          "metadata": {
            "tags": []
          }
        },
        {
          "output_type": "stream",
          "text": [
            "Extracting ./mnist_data/MNIST/raw/train-labels-idx1-ubyte.gz to ./mnist_data/MNIST/raw\n",
            "Downloading http://yann.lecun.com/exdb/mnist/t10k-images-idx3-ubyte.gz to ./mnist_data/MNIST/raw/t10k-images-idx3-ubyte.gz\n"
          ],
          "name": "stdout"
        },
        {
          "output_type": "display_data",
          "data": {
            "application/vnd.jupyter.widget-view+json": {
              "model_id": "d5738f66f0f64fe0a71f52cc18fbee52",
              "version_minor": 0,
              "version_major": 2
            },
            "text/plain": [
              "HBox(children=(FloatProgress(value=1.0, bar_style='info', max=1.0), HTML(value='')))"
            ]
          },
          "metadata": {
            "tags": []
          }
        },
        {
          "output_type": "stream",
          "text": [
            "Extracting ./mnist_data/MNIST/raw/t10k-images-idx3-ubyte.gz to ./mnist_data/MNIST/raw\n",
            "Downloading http://yann.lecun.com/exdb/mnist/t10k-labels-idx1-ubyte.gz to ./mnist_data/MNIST/raw/t10k-labels-idx1-ubyte.gz\n"
          ],
          "name": "stdout"
        },
        {
          "output_type": "display_data",
          "data": {
            "application/vnd.jupyter.widget-view+json": {
              "model_id": "98fb8335109b4d9d82e4f60de2fd55ad",
              "version_minor": 0,
              "version_major": 2
            },
            "text/plain": [
              "HBox(children=(FloatProgress(value=1.0, bar_style='info', max=1.0), HTML(value='')))"
            ]
          },
          "metadata": {
            "tags": []
          }
        },
        {
          "output_type": "stream",
          "text": [
            "Extracting ./mnist_data/MNIST/raw/t10k-labels-idx1-ubyte.gz to ./mnist_data/MNIST/raw\n",
            "Processing...\n",
            "Done!\n"
          ],
          "name": "stdout"
        },
        {
          "output_type": "stream",
          "text": [
            "/usr/local/lib/python3.6/dist-packages/torchvision/datasets/mnist.py:480: UserWarning: The given NumPy array is not writeable, and PyTorch does not support non-writeable tensors. This means you can write to the underlying (supposedly non-writeable) NumPy array using the tensor. You may want to copy the array to protect its data or make it writeable before converting it to a tensor. This type of warning will be suppressed for the rest of this program. (Triggered internally at  /pytorch/torch/csrc/utils/tensor_numpy.cpp:141.)\n",
            "  return torch.from_numpy(parsed.astype(m[2], copy=False)).view(*s)\n"
          ],
          "name": "stderr"
        },
        {
          "output_type": "stream",
          "text": [
            "Fri Jan  1 11:15:36 2021       \n",
            "+-----------------------------------------------------------------------------+\n",
            "| NVIDIA-SMI 460.27.04    Driver Version: 418.67       CUDA Version: 10.1     |\n",
            "|-------------------------------+----------------------+----------------------+\n",
            "| GPU  Name        Persistence-M| Bus-Id        Disp.A | Volatile Uncorr. ECC |\n",
            "| Fan  Temp  Perf  Pwr:Usage/Cap|         Memory-Usage | GPU-Util  Compute M. |\n",
            "|                               |                      |               MIG M. |\n",
            "|===============================+======================+======================|\n",
            "|   0  Tesla T4            Off  | 00000000:00:04.0 Off |                    0 |\n",
            "| N/A   44C    P8    13W /  70W |     10MiB / 15079MiB |      0%      Default |\n",
            "|                               |                      |                 ERR! |\n",
            "+-------------------------------+----------------------+----------------------+\n",
            "                                                                               \n",
            "+-----------------------------------------------------------------------------+\n",
            "| Processes:                                                                  |\n",
            "|  GPU   GI   CI        PID   Type   Process name                  GPU Memory |\n",
            "|        ID   ID                                                   Usage      |\n",
            "|=============================================================================|\n",
            "|  No running processes found                                                 |\n",
            "+-----------------------------------------------------------------------------+\n",
            "device : cuda\n",
            "torch.version : 1.7.0+cu101\n",
            "\n",
            "\n",
            "\n",
            "\n"
          ],
          "name": "stdout"
        }
      ]
    },
    {
      "cell_type": "code",
      "metadata": {
        "id": "tuY22FZQO_74"
      },
      "source": [
        "class GatedBlock(nn.Module):\r\n",
        "    def __init__(self, channels, v_kernel_size=(3, 5), h_kernal_size=(1, 5), causal=False):\r\n",
        "        super().__init__()\r\n",
        "        self.channels = channels\r\n",
        "        self.causal = causal\r\n",
        "        self.v_init_padding = (v_kernel_size[1]//2, v_kernel_size[1]//2, v_kernel_size[0], 0)\r\n",
        "        self.h_init_padding = (h_kernal_size[1] - (self.causal==False), 0, 0, 0)\r\n",
        "        self.v_conv = nn.Conv2d(channels, 2 * channels, v_kernel_size, (1, 1), (0, 0))\r\n",
        "        self.h_conv = nn.Conv2d(channels, 2 * channels, h_kernal_size, (1, 1), (0, 0))\r\n",
        "        self.v2h = nn.Conv2d(2 * channels, 2 * channels, (1, 1), (1, 1), (0, 0))\r\n",
        "        self.hout = nn.Sequential(nn.Conv2d(channels, channels, (1, 1), (1, 1), (0, 0)), nn.LeakyReLU())\r\n",
        "\r\n",
        "    def forward(self, v, h):\r\n",
        "        v = self.v_conv(F.pad(v, self.v_init_padding)[:,:,:-1,:])\r\n",
        "        h = F.pad(h, self.h_init_padding)\r\n",
        "        if self.causal:\r\n",
        "            h = h[:, :, :, :-1]\r\n",
        "        h = self.h_conv(h) + self.v2h(v)\r\n",
        "        v = torch.sigmoid(v[:, :self.channels, :, :]) * torch.tanh(v[:, self.channels:, :, :])\r\n",
        "        h = torch.sigmoid(h[:, :self.channels, :, :]) * torch.tanh(h[:, self.channels:, :, :])\r\n",
        "        return v, self.hout(h)\r\n",
        "\r\n",
        "class pixelcnn_plusplus(nn.Module):\r\n",
        "    def __init__(self):\r\n",
        "        super().__init__()\r\n",
        "        self.fromRGB = nn.Sequential(nn.Conv2d(1, 32, (1, 1), (1, 1), (0, 0)), nn.ReLU())\r\n",
        "        self.causal_conv = GatedBlock(32, v_kernel_size=(3, 5), h_kernal_size=(1, 3), causal=True)\r\n",
        "        self.net = nn.ModuleList([\r\n",
        "            nn.Sequential(nn.Conv2d(64, 64, (3, 3), (1, 1), (0, 0)), nn.ReLU()),\r\n",
        "            nn.Sequential(nn.Conv2d(64, 64, (3, 3), (1, 1), (0, 0)), nn.ReLU()),\r\n",
        "            nn.Sequential(nn.Conv2d(64, 64, (3, 3), (1, 1), (0, 0)), nn.ReLU()),\r\n",
        "            nn.Sequential(nn.Conv2d(64, 64, (3, 3), (1, 1), (0, 0)), nn.ReLU()),\r\n",
        "            nn.Sequential(nn.Conv2d(64, 64, (3, 3), (1, 1), (0, 0)), nn.ReLU()),\r\n",
        "            nn.Sequential(nn.Conv2d(64, 64, (3, 3), (1, 1), (0, 0)), nn.ReLU()),\r\n",
        "            nn.Sequential(nn.Conv2d(64, 64, (3, 3), (1, 1), (0, 0)), nn.ReLU()),\r\n",
        "            nn.Sequential(nn.Conv2d(64, 64, (3, 3), (1, 1), (0, 0)), nn.ReLU()),\r\n",
        "            nn.Sequential(nn.Conv2d(64, 64, (3, 3), (1, 1), (0, 0)), nn.ReLU()),\r\n",
        "            nn.Sequential(nn.Conv2d(64, 64, (3, 3), (1, 1), (0, 0)), nn.ReLU()),\r\n",
        "            nn.Sequential(nn.Conv2d(64, 64, (3, 3), (1, 1), (0, 0)), nn.ReLU()),\r\n",
        "            nn.Sequential(nn.Conv2d(64, 64, (3, 3), (1, 1), (0, 0)), nn.ReLU())\r\n",
        "        ])\r\n",
        "        self.to_params = nn.Conv2d(64, 3*10, (3, 3), (1, 1), (0, 0)) # 10-mixture distribution\r\n",
        "    \r\n",
        "    def forward(self, x):\r\n",
        "        x = self.fromRGB(x)\r\n",
        "        v, h = self.causal_conv(x, x)\r\n",
        "        x = torch.cat([v, h], dim=1)\r\n",
        "        for block in self.net:\r\n",
        "            x = x + block(F.pad(x, (2, 0, 2, 0))) # padding=(left=kerenl_width -1 ,right=0 ,top=kernel_height-1, bottom=0) \r\n",
        "        params = self.to_params(F.pad(x, (2, 0, 2, 0))) \r\n",
        "\r\n",
        "        # 10-mixture distribution\r\n",
        "        logits = params[:, :10, :, :]\r\n",
        "        mu = torch.sigmoid(params[:, 10:20, :, :])\r\n",
        "        logscale = params[:, 20:30, :, :]\r\n",
        "        return logits, mu, logscale\r\n",
        "\r\n",
        "\r\n",
        "\r\n",
        "\r\n",
        "def discretized_mol_loss(target, logits, mu, logscale): \r\n",
        "    # i refered to https://github.com/kamenbliznashki/pixel_models/blob/master/pixelcnnpp.py \r\n",
        "    # 0<=x<=1\r\n",
        "    \r\n",
        "    log_pi = F.log_softmax(logits, dim=1)\r\n",
        "    half_border = (1.0/255) * 0.5 # maybe border = [x.max - x.min]/(num_class - 1)\r\n",
        "\r\n",
        "    logscale = torch.clamp(logscale, min=-7.)\r\n",
        "    inv_stdv = torch.exp(-logscale)\r\n",
        "\r\n",
        "\r\n",
        "    right_border = target + half_border - mu\r\n",
        "    left_border = target - half_border - mu\r\n",
        "\r\n",
        "    right_cdf = torch.sigmoid(inv_stdv * right_border)\r\n",
        "\r\n",
        "    right_cdf = torch.where(target + half_border <= 1, right_cdf, torch.ones(1).to(device))\r\n",
        "\r\n",
        "    left_cdf = torch.sigmoid(inv_stdv * left_border)\r\n",
        "    left_cdf = torch.where(0 <= target - half_border, left_cdf, torch.zeros(1).to(device))\r\n",
        "    \r\n",
        "    log_cdf_delta = torch.log(right_cdf -  left_cdf + 1e-10)\r\n",
        "    log_prob = log_pi + log_cdf_delta\r\n",
        "\r\n",
        "    return -log_prob.logsumexp(dim=1)"
      ],
      "execution_count": 2,
      "outputs": []
    },
    {
      "cell_type": "code",
      "metadata": {
        "id": "y7RUXFSyO_9q"
      },
      "source": [
        "mbsz = 32\r\n",
        "model = pixelcnn_plusplus().to(device)\r\n",
        "solver = optim.Adam(model.parameters(), lr=1e-4)\r\n",
        "loader = DataLoader(dataset=dataset, batch_size=mbsz, shuffle=True, drop_last=True)"
      ],
      "execution_count": 3,
      "outputs": []
    },
    {
      "cell_type": "code",
      "metadata": {
        "colab": {
          "base_uri": "https://localhost:8080/"
        },
        "id": "UICcCgUhPAAO",
        "outputId": "a15e84e7-c749-4a28-c183-164c60376579"
      },
      "source": [
        "num_epochs = 30\r\n",
        "NLL = []\r\n",
        "for epoch in range(num_epochs):\r\n",
        "    NLL.append(0.0)\r\n",
        "    for x_q in loader:\r\n",
        "        solver.zero_grad()\r\n",
        "        x_q = x_q.to(device).float()\r\n",
        "        logits, mu, logscale = model(x_q)\r\n",
        "        loss = discretized_mol_loss(x_q, logits, mu, logscale).mean() * 784.\r\n",
        "        loss.backward()\r\n",
        "        solver.step()\r\n",
        "        NLL[-1] += loss.item()\r\n",
        "    NLL[-1] /= len(loader)\r\n",
        "    print(epoch, NLL[-1]/784.)"
      ],
      "execution_count": 4,
      "outputs": [
        {
          "output_type": "stream",
          "text": [
            "0 1.4206043078779365\n",
            "1 1.1161691048343165\n",
            "2 0.897011838121479\n",
            "3 0.887229269845145\n",
            "4 0.8811259771437872\n",
            "5 0.876415165450946\n",
            "6 0.871394175087027\n",
            "7 0.8668790099267246\n",
            "8 0.8626458430076132\n",
            "9 0.8588078445123167\n",
            "10 0.8555263570564945\n",
            "11 0.8519040238360969\n",
            "12 0.8477991634861952\n",
            "13 0.8443327373478687\n",
            "14 0.8395707722566566\n",
            "15 0.8344783297791774\n",
            "16 0.8296737942027397\n",
            "17 0.8249246646388046\n",
            "18 0.8210920155220292\n",
            "19 0.8174654030313298\n",
            "20 0.8131964893574618\n",
            "21 0.8104896297532685\n",
            "22 0.8070499056238707\n",
            "23 0.8048567589169456\n",
            "24 0.8021269941472683\n",
            "25 0.7999720571089763\n",
            "26 0.7972993326407711\n",
            "27 0.7960562640754545\n",
            "28 0.7939714238380899\n",
            "29 0.792174448275404\n"
          ],
          "name": "stdout"
        }
      ]
    },
    {
      "cell_type": "code",
      "metadata": {
        "id": "65EiEu17PADF"
      },
      "source": [
        "def randg_like(tensor):\r\n",
        "    return -torch.log(-torch.log(torch.rand_like(tensor) + 1e-10) + 1e-10)\r\n",
        "\r\n",
        "\r\n",
        "def discretized_mol_sampling(logits, mu, logscale):\r\n",
        "    nb, nc, nh, nw  = logits.size(0), logits.size(1), logits.size(2), logits.size(3)\r\n",
        "    logits = logits.permute(0, 2, 3, 1).reshape(-1, nc)\r\n",
        "    mu = mu.permute(0, 2, 3, 1).reshape(-1, nc)\r\n",
        "    logscale = logscale.permute(0, 2, 3, 1).reshape(-1, nc)\r\n",
        "\r\n",
        "    #gumbel-max sampling for selecting distribution\r\n",
        "    y = F.log_softmax(logits, dim=-1) + randg_like(logits)\r\n",
        "    index = y.argmax(dim=-1, keepdim=True)\r\n",
        "\r\n",
        "    mu_selected = torch.gather(mu, 1, index)\r\n",
        "    logscale_selected = torch.gather(logscale, 1, index)\r\n",
        "    u = torch.rand_like(mu_selected)\r\n",
        "    logscale_selected = logscale_selected.clamp(-7, 10)\r\n",
        "\r\n",
        "    # inverse-cdf sampling from the selected logistic distribution \r\n",
        "    x = mu_selected + torch.exp(logscale_selected) * torch.log((u/(1-u)) + 1e-10)\r\n",
        "    x = x.reshape(nb, nh, nw, 1).permute(0, 3, 1, 2)\r\n",
        "    \r\n",
        "    # discretize\r\n",
        "    x = x.clamp(0, 1) \r\n",
        "    x = (x * 255).int().float() / 255.0\r\n",
        "    return x\r\n",
        "\r\n"
      ],
      "execution_count": 5,
      "outputs": []
    },
    {
      "cell_type": "code",
      "metadata": {
        "colab": {
          "base_uri": "https://localhost:8080/",
          "height": 264
        },
        "id": "FvtKXx_IUrT7",
        "outputId": "4392dc0c-dd20-42bd-e376-377a779e9caa"
      },
      "source": [
        "logits, mu, logscale = model(dataset.data[0].reshape(1, 1, 28, 28).to(device).float())\r\n",
        "sample = discretized_mol_sampling(logits, mu, logscale).reshape(28, 28).cpu().detach()\r\n",
        "plt.imshow(sample)\r\n",
        "plt.show()"
      ],
      "execution_count": 6,
      "outputs": [
        {
          "output_type": "display_data",
          "data": {
            "image/png": "[encoded data removed]",
            "text/plain": [
              "<Figure size 432x288 with 1 Axes>"
            ]
          },
          "metadata": {
            "tags": [],
            "needs_background": "light"
          }
        }
      ]
    },
    {
      "cell_type": "code",
      "metadata": {
        "id": "AvWO_pbbhI0Y"
      },
      "source": [
        "testdataset = datasets.MNIST(root='./mnist_data/', train=False, download=True).data.float() / 255.0"
      ],
      "execution_count": 7,
      "outputs": []
    },
    {
      "cell_type": "code",
      "metadata": {
        "colab": {
          "base_uri": "https://localhost:8080/",
          "height": 216
        },
        "id": "_U5T50ZSn_Hr",
        "outputId": "26b14323-51f9-46d8-d7f8-375297ac22da"
      },
      "source": [
        "num_image = 30\r\n",
        "\r\n",
        "fig = plt.figure(figsize=(20, 2))\r\n",
        "\r\n",
        "n = 0\r\n",
        "for i in range(num_image):\r\n",
        "    _fig = fig.add_subplot(2, num_image, n + 1, xticks=[], yticks=[])\r\n",
        "    _fig.imshow(testdataset[n])\r\n",
        "    n += 1\r\n",
        "fig.suptitle('test data', y=1.01, fontsize=15)\r\n",
        "plt.subplots_adjust(hspace=0, wspace=0)\r\n",
        "plt.show()\r\n",
        "fig = plt.figure(figsize=(20, 2))\r\n",
        "\r\n",
        "model.eval()\r\n",
        "n = 0\r\n",
        "for i in range(num_image):\r\n",
        "    x_q = testdataset[n].reshape(1, 1, 28, 28).float().to(device)\r\n",
        "    logits, mu, logscale = model(x_q)\r\n",
        "    x_p = discretized_mol_sampling(logits, mu, logscale).reshape(28, 28).cpu().detach()\r\n",
        "    _fig = fig.add_subplot(2, num_image, n + 1, xticks=[], yticks=[])\r\n",
        "    _fig.imshow(x_p.cpu().data.numpy().reshape(28, 28))\r\n",
        "    n += 1\r\n",
        "model.train()\r\n",
        "fig.suptitle('output', y=1.01, fontsize=15)\r\n",
        "plt.subplots_adjust(hspace=0, wspace=0)\r\n",
        "plt.show()\r\n",
        "fig = plt.figure(figsize=(20, 2))\r\n",
        "\r\n",
        "model.eval()\r\n",
        "print('_')"
      ],
      "execution_count": 8,
      "outputs": [
        {
          "output_type": "display_data",
          "data": {
            "image/png": "[encoded data removed]",
            "text/plain": [
              "<Figure size 1440x144 with 30 Axes>"
            ]
          },
          "metadata": {
            "tags": []
          }
        },
        {
          "output_type": "display_data",
          "data": {
            "image/png": "[encoded data removed]",
            "text/plain": [
              "<Figure size 1440x144 with 30 Axes>"
            ]
          },
          "metadata": {
            "tags": []
          }
        },
        {
          "output_type": "stream",
          "text": [
            "_\n"
          ],
          "name": "stdout"
        },
        {
          "output_type": "display_data",
          "data": {
            "text/plain": [
              "<Figure size 1440x144 with 0 Axes>"
            ]
          },
          "metadata": {
            "tags": []
          }
        }
      ]
    },
    {
      "cell_type": "code",
      "metadata": {
        "colab": {
          "base_uri": "https://localhost:8080/",
          "height": 182
        },
        "id": "fca3FCCXgEg4",
        "outputId": "fc9f64ba-6ac6-4473-f731-c9c5ed584081"
      },
      "source": [
        "f = plt.figure(figsize=(4,2))\r\n",
        "ax = f.add_subplot(1,2,1)\r\n",
        "\r\n",
        "\r\n",
        "input = testdataset[45].reshape(1, 1, 28, 28).float().clone()\r\n",
        "input[0, 0, 15:28, :] = 0.0\r\n",
        "ax.imshow(input.reshape(28, 28))\r\n",
        "ax.set_title('source')\r\n",
        "\r\n",
        "model.eval()\r\n",
        "x_q = input.to(device)\r\n",
        "with torch.no_grad():\r\n",
        "    for h in range(15, 28):\r\n",
        "        for w in range(28):\r\n",
        "            logits, mu, logscale = model(x_q)\r\n",
        "            x_p = discretized_mol_sampling(logits, mu, logscale).cpu().detach()  \r\n",
        "            x_q[0][0][h][w] = x_p[0][0][h][w]\r\n",
        "\r\n",
        "\r\n",
        "model.train()\r\n",
        "\r\n",
        "\r\n",
        "ax = f.add_subplot(1,2,2)\r\n",
        "ax.imshow(x_q.cpu().data.numpy().reshape(28, 28))\r\n",
        "ax.set_title('output')\r\n",
        "plt.show()\r\n",
        "\r\n",
        "\r\n",
        "print('_')"
      ],
      "execution_count": 9,
      "outputs": [
        {
          "output_type": "display_data",
          "data": {
            "image/png": "[encoded data removed]",
            "text/plain": [
              "<Figure size 288x144 with 2 Axes>"
            ]
          },
          "metadata": {
            "tags": [],
            "needs_background": "light"
          }
        },
        {
          "output_type": "stream",
          "text": [
            "_\n"
          ],
          "name": "stdout"
        }
      ]
    },
    {
      "cell_type": "code",
      "metadata": {
        "colab": {
          "base_uri": "https://localhost:8080/",
          "height": 182
        },
        "id": "RnFvHmKjoR4q",
        "outputId": "c5759f15-4c24-42e0-970b-a980969ba608"
      },
      "source": [
        "f = plt.figure(figsize=(4,2))\r\n",
        "ax = f.add_subplot(1,2,1)\r\n",
        "\r\n",
        "\r\n",
        "input = testdataset[100].reshape(1, 1, 28, 28).float().clone()\r\n",
        "input[0, 0, 17:28, :] = 0.0\r\n",
        "ax.imshow(input.reshape(28, 28))\r\n",
        "ax.set_title('source')\r\n",
        "\r\n",
        "model.eval()\r\n",
        "x_q = input.to(device)\r\n",
        "with torch.no_grad():\r\n",
        "    for h in range(17, 28):\r\n",
        "        for w in range(28):\r\n",
        "            logits, mu, logscale = model(x_q)\r\n",
        "            x_p = discretized_mol_sampling(logits, mu, logscale).cpu().detach()  \r\n",
        "            x_q[0][0][h][w] = x_p[0][0][h][w]\r\n",
        "\r\n",
        "\r\n",
        "model.train()\r\n",
        "\r\n",
        "\r\n",
        "ax = f.add_subplot(1,2,2)\r\n",
        "ax.imshow(x_q.cpu().data.numpy().reshape(28, 28))\r\n",
        "ax.set_title('output')\r\n",
        "plt.show()\r\n",
        "\r\n",
        "\r\n",
        "print('_')"
      ],
      "execution_count": 15,
      "outputs": [
        {
          "output_type": "display_data",
          "data": {
            "image/png": "[encoded data removed]",
            "text/plain": [
              "<Figure size 288x144 with 2 Axes>"
            ]
          },
          "metadata": {
            "tags": [],
            "needs_background": "light"
          }
        },
        {
          "output_type": "stream",
          "text": [
            "_\n"
          ],
          "name": "stdout"
        }
      ]
    }
  ]
}